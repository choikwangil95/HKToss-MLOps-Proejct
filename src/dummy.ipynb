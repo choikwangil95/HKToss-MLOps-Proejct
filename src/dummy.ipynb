{
 "cells": [
  {
   "cell_type": "code",
   "execution_count": 55,
   "metadata": {},
   "outputs": [],
   "source": [
    "import pandas as pd\n",
    "import numpy as np\n",
    "\n",
    "from sklearn.impute import SimpleImputer\n",
    "from sklearn.preprocessing import LabelEncoder\n",
    "from sklearn.ensemble import RandomForestRegressor\n",
    "\n",
    "import joblib"
   ]
  },
  {
   "cell_type": "markdown",
   "metadata": {},
   "source": [
    "1. 불필요한 컬럼 제거 (특별공급 이런거 어떻게 할지 고민)\n",
    "    - 각 데이터 셋 별로 합칠거 고려해서 따로 함수 구현해야됨\n",
    "\n",
    "2. 실수형 데이터 파이프 라인\n",
    "    - imputer\n",
    "    - 추가 특성 생성\n",
    "    - 스케일러\n",
    "\n",
    "3. 범주형 데이터 변환 후 합치기 \n",
    "    - 범주형 데이터 변환 뭐로 할거야?"
   ]
  },
  {
   "cell_type": "code",
   "execution_count": 161,
   "metadata": {},
   "outputs": [],
   "source": [
    "df = pd.read_csv(\"./src/datasets/병합_청약매물_목록_정보.csv\", encoding='cp949')"
   ]
  },
  {
   "cell_type": "code",
   "execution_count": 142,
   "metadata": {},
   "outputs": [],
   "source": [
    "# 당첨자 d\n",
    "df_prize = pd.read_csv(\"./src/datasets/한국부동산원_지역별 청약 당첨자 정보_20250131.csv\", encoding='cp949')\n",
    "\n",
    "# 신청자 d\n",
    "df_app = pd.read_csv(\"./src/datasets/한국부동산원_지역별 청약 신청자 정보_20250131.csv\", encoding='cp949')\n",
    "\n",
    "# 가점정보 d nan값 있음\n",
    "df_plus = pd.read_csv(\"./src/datasets/한국부동산원_청약홈_APT 가점정보_20250225.csv\", encoding='cp949')\n",
    "\n",
    "# 경쟁률 d nan값 있음 -> 0으로 채울거\n",
    "df_fight = pd.read_csv(\"./src/datasets/한국부동산원_청약홈_APT 경쟁률_20250225.csv\", encoding='cp949')\n",
    "\n",
    "# 분양정보 d\n",
    "df_info = pd.read_csv(\"./src/datasets/한국부동산원_청약홈_APT 분양정보_20250225.csv\", encoding='cp949')\n",
    "\n",
    "# 청약통장 d\n",
    "df_account = pd.read_csv(\"./src/datasets/한국부동산원_청약홈_청약통장_전체 가입현황_20231231.csv\", encoding='cp949')\n"
   ]
  },
  {
   "cell_type": "code",
   "execution_count": 144,
   "metadata": {},
   "outputs": [
    {
     "name": "stdout",
     "output_type": "stream",
     "text": [
      "주택구분코드와 주택상세구분코드가 다른 행의 개수: 293\n"
     ]
    }
   ],
   "source": [
    "# 주택구분코드와 주택상세구분코드가 다른 행을 찾기\n",
    "different_rows = df_info[df_info['주택구분코드'] != df_info['주택상세구분코드']]\n",
    "\n",
    "# 해당 행의 개수 계산\n",
    "count_different_rows = len(different_rows)\n",
    "\n",
    "print(\"주택구분코드와 주택상세구분코드가 다른 행의 개수:\", count_different_rows)\n"
   ]
  },
  {
   "cell_type": "markdown",
   "metadata": {},
   "source": [
    "### 불필요 컬럼 제거"
   ]
  },
  {
   "cell_type": "markdown",
   "metadata": {},
   "source": [
    "분양정보"
   ]
  },
  {
   "cell_type": "code",
   "execution_count": 145,
   "metadata": {},
   "outputs": [
    {
     "name": "stdout",
     "output_type": "stream",
     "text": [
      "['홈페이지주소', '문의처', '모집공고홈페이지주소', '특별공급접수시작일', '특별공급접수종료일', '청약접수시작일', '특별공급접수시작일', '특별공급접수종료일', '해당지역1순위접수시작일', '해당지역1순위접수종료일', '경기지역1순위접수시작일', '경기지역1순위접수종료일', '기타지역1순위접수시작일', '기타지역1순위접수종료일', '해당지역2순위접수시작일', '해당지역2순위접수종료일', '경기지역2순위접수시작일', '경기지역2순위접수종료일', '기타지역2순위접수시작일', '기타지역2순위접수종료일', '계약시작일', '계약종료일', '주택관리번호', '공급위치우편번호', '모집공고일', '당첨자발표일', '입주예정월', '건설업체명_시공사', '사업주체명_시행사']\n"
     ]
    }
   ],
   "source": [
    "# 민간주택만 필터링 (공공주택은 가점제 없음)\n",
    "df_info = df_info[df_info['주택상세구분코드명'] != '국민']\n",
    "\n",
    "# 불필요 칼럼 확인\n",
    "\n",
    "unnessary_columns = []\n",
    "\n",
    "# # Case 1) 칼럼 값이 하나라면 불필요 칼럼\n",
    "# for column in df_info.columns:\n",
    "#     print(f\"{column}: {len(df_info[column].unique())}\")\n",
    "\n",
    "#     if len(df_info[column].unique()) == 1:\n",
    "#         unnessary_columns.append(column)\n",
    "\n",
    "# Case 2) 홈페이지 주소, 문의처 칼럼\n",
    "for column in df_info.columns:\n",
    "    if column in ['홈페이지주소', '모집공고홈페이지주소', '문의처']:\n",
    "        unnessary_columns.append(column)\n",
    "\n",
    "# Case 3) 특별공급 관련 칼럼\n",
    "for column in df_info.columns:\n",
    "    if '특별공급' in column:\n",
    "        unnessary_columns.append(column)\n",
    "\n",
    "# Case 4) 청약접수종료일을 제외한 나머지 일자 칼럼\n",
    "for column in df_info.columns:\n",
    "    if column != '청약접수종료일':\n",
    "        if ('시작일' in column or '종료일' in column):\n",
    "            unnessary_columns.append(column)\n",
    "\n",
    "# Case 5) 그 외 기타 칼럼\n",
    "unnessary_columns.extend(['주택관리번호', '공급위치우편번호', '모집공고일', '당첨자발표일', '입주예정월'])\n",
    "\n",
    "# 시공사랑 시행사는 불필요할것같아서 추가로 제거할게요\n",
    "unnessary_columns.extend(['건설업체명_시공사', '사업주체명_시행사'])\n",
    "\n",
    "print(unnessary_columns)\n",
    "\n",
    "df_info = df_info.drop(columns=unnessary_columns)\n",
    "\n"
   ]
  },
  {
   "cell_type": "markdown",
   "metadata": {},
   "source": [
    "가점정보, 경쟁률"
   ]
  },
  {
   "cell_type": "code",
   "execution_count": 146,
   "metadata": {},
   "outputs": [],
   "source": [
    "# 주택관리번호, 모델번호\n",
    "\n",
    "df_plus = df_plus.drop([\"주택관리번호\", \"모델번호\"], axis=1)\n",
    "df_fight = df_fight.drop([\"주택관리번호\", \"모델번호\"], axis=1)"
   ]
  },
  {
   "cell_type": "markdown",
   "metadata": {},
   "source": [
    "### 전처리"
   ]
  },
  {
   "cell_type": "markdown",
   "metadata": {},
   "source": [
    "주택형 컬럼 분리 :경쟁률, 가점정보"
   ]
  },
  {
   "cell_type": "code",
   "execution_count": 147,
   "metadata": {},
   "outputs": [],
   "source": [
    "def split_housing_type(df):\n",
    "    if '주택형' in df.columns:\n",
    "        # Extract the '전용면적' (before the '.') and remove leading zeros\n",
    "        df['전용면적'] = df['주택형'].apply(lambda x: int(x.split('.')[0].lstrip('0')))\n",
    "        \n",
    "        # Extract the '평면유형' (last character)\n",
    "        df['평면유형'] = df['주택형'].apply(lambda x: x[-1])\n",
    "        \n",
    "        # Drop the original '주택형' column\n",
    "        df = df.drop(columns=['주택형'])\n",
    "    \n",
    "    return df"
   ]
  },
  {
   "cell_type": "code",
   "execution_count": 148,
   "metadata": {},
   "outputs": [
    {
     "data": {
      "text/html": [
       "<div>\n",
       "<style scoped>\n",
       "    .dataframe tbody tr th:only-of-type {\n",
       "        vertical-align: middle;\n",
       "    }\n",
       "\n",
       "    .dataframe tbody tr th {\n",
       "        vertical-align: top;\n",
       "    }\n",
       "\n",
       "    .dataframe thead th {\n",
       "        text-align: right;\n",
       "    }\n",
       "</style>\n",
       "<table border=\"1\" class=\"dataframe\">\n",
       "  <thead>\n",
       "    <tr style=\"text-align: right;\">\n",
       "      <th></th>\n",
       "      <th>공고번호</th>\n",
       "      <th>거주코드</th>\n",
       "      <th>거주지역</th>\n",
       "      <th>최저당첨가점</th>\n",
       "      <th>최고당첨가점</th>\n",
       "      <th>평균당첨가점</th>\n",
       "      <th>전용면적</th>\n",
       "      <th>평면유형</th>\n",
       "    </tr>\n",
       "  </thead>\n",
       "  <tbody>\n",
       "    <tr>\n",
       "      <th>0</th>\n",
       "      <td>2025000004</td>\n",
       "      <td>1</td>\n",
       "      <td>해당지역</td>\n",
       "      <td>NaN</td>\n",
       "      <td>NaN</td>\n",
       "      <td>NaN</td>\n",
       "      <td>59</td>\n",
       "      <td>A</td>\n",
       "    </tr>\n",
       "    <tr>\n",
       "      <th>1</th>\n",
       "      <td>2025000004</td>\n",
       "      <td>2</td>\n",
       "      <td>기타지역</td>\n",
       "      <td>NaN</td>\n",
       "      <td>NaN</td>\n",
       "      <td>NaN</td>\n",
       "      <td>59</td>\n",
       "      <td>A</td>\n",
       "    </tr>\n",
       "    <tr>\n",
       "      <th>2</th>\n",
       "      <td>2025000004</td>\n",
       "      <td>1</td>\n",
       "      <td>해당지역</td>\n",
       "      <td>NaN</td>\n",
       "      <td>NaN</td>\n",
       "      <td>NaN</td>\n",
       "      <td>59</td>\n",
       "      <td>B</td>\n",
       "    </tr>\n",
       "    <tr>\n",
       "      <th>3</th>\n",
       "      <td>2025000004</td>\n",
       "      <td>2</td>\n",
       "      <td>기타지역</td>\n",
       "      <td>NaN</td>\n",
       "      <td>NaN</td>\n",
       "      <td>NaN</td>\n",
       "      <td>59</td>\n",
       "      <td>B</td>\n",
       "    </tr>\n",
       "    <tr>\n",
       "      <th>4</th>\n",
       "      <td>2025000004</td>\n",
       "      <td>1</td>\n",
       "      <td>해당지역</td>\n",
       "      <td>NaN</td>\n",
       "      <td>NaN</td>\n",
       "      <td>NaN</td>\n",
       "      <td>75</td>\n",
       "      <td>A</td>\n",
       "    </tr>\n",
       "    <tr>\n",
       "      <th>...</th>\n",
       "      <td>...</td>\n",
       "      <td>...</td>\n",
       "      <td>...</td>\n",
       "      <td>...</td>\n",
       "      <td>...</td>\n",
       "      <td>...</td>\n",
       "      <td>...</td>\n",
       "      <td>...</td>\n",
       "    </tr>\n",
       "    <tr>\n",
       "      <th>23090</th>\n",
       "      <td>2020000001</td>\n",
       "      <td>2</td>\n",
       "      <td>기타지역</td>\n",
       "      <td>NaN</td>\n",
       "      <td>NaN</td>\n",
       "      <td>NaN</td>\n",
       "      <td>59</td>\n",
       "      <td>H</td>\n",
       "    </tr>\n",
       "    <tr>\n",
       "      <th>23091</th>\n",
       "      <td>2020000001</td>\n",
       "      <td>1</td>\n",
       "      <td>해당지역</td>\n",
       "      <td>NaN</td>\n",
       "      <td>NaN</td>\n",
       "      <td>NaN</td>\n",
       "      <td>84</td>\n",
       "      <td>H</td>\n",
       "    </tr>\n",
       "    <tr>\n",
       "      <th>23092</th>\n",
       "      <td>2020000001</td>\n",
       "      <td>2</td>\n",
       "      <td>기타지역</td>\n",
       "      <td>NaN</td>\n",
       "      <td>NaN</td>\n",
       "      <td>NaN</td>\n",
       "      <td>84</td>\n",
       "      <td>H</td>\n",
       "    </tr>\n",
       "    <tr>\n",
       "      <th>23093</th>\n",
       "      <td>2020000001</td>\n",
       "      <td>1</td>\n",
       "      <td>해당지역</td>\n",
       "      <td>NaN</td>\n",
       "      <td>NaN</td>\n",
       "      <td>NaN</td>\n",
       "      <td>84</td>\n",
       "      <td>N</td>\n",
       "    </tr>\n",
       "    <tr>\n",
       "      <th>23094</th>\n",
       "      <td>2020000001</td>\n",
       "      <td>2</td>\n",
       "      <td>기타지역</td>\n",
       "      <td>NaN</td>\n",
       "      <td>NaN</td>\n",
       "      <td>NaN</td>\n",
       "      <td>84</td>\n",
       "      <td>N</td>\n",
       "    </tr>\n",
       "  </tbody>\n",
       "</table>\n",
       "<p>23095 rows × 8 columns</p>\n",
       "</div>"
      ],
      "text/plain": [
       "             공고번호  거주코드  거주지역  최저당첨가점  최고당첨가점  평균당첨가점  전용면적 평면유형\n",
       "0      2025000004     1  해당지역     NaN     NaN     NaN    59    A\n",
       "1      2025000004     2  기타지역     NaN     NaN     NaN    59    A\n",
       "2      2025000004     1  해당지역     NaN     NaN     NaN    59    B\n",
       "3      2025000004     2  기타지역     NaN     NaN     NaN    59    B\n",
       "4      2025000004     1  해당지역     NaN     NaN     NaN    75    A\n",
       "...           ...   ...   ...     ...     ...     ...   ...  ...\n",
       "23090  2020000001     2  기타지역     NaN     NaN     NaN    59    H\n",
       "23091  2020000001     1  해당지역     NaN     NaN     NaN    84    H\n",
       "23092  2020000001     2  기타지역     NaN     NaN     NaN    84    H\n",
       "23093  2020000001     1  해당지역     NaN     NaN     NaN    84    N\n",
       "23094  2020000001     2  기타지역     NaN     NaN     NaN    84    N\n",
       "\n",
       "[23095 rows x 8 columns]"
      ]
     },
     "execution_count": 148,
     "metadata": {},
     "output_type": "execute_result"
    }
   ],
   "source": [
    "split_housing_type(df_plus)"
   ]
  },
  {
   "cell_type": "markdown",
   "metadata": {},
   "source": [
    "경쟁률 미달 처리, NaN값 처리  \n",
    "    - 근데 NaN값 처리는.. 걍 함수로 만드는게 낫지않나.."
   ]
  },
  {
   "cell_type": "code",
   "execution_count": 149,
   "metadata": {},
   "outputs": [],
   "source": [
    "import re\n",
    "\n",
    "def preprocessing_applicant_rate(row):\n",
    "    # 미달인 경우 경쟁률 처리 (접수건수 - 미달수) / 접수건수\n",
    "    if '△' in str(row['경쟁률']):\n",
    "        pattern = '[^0-9]'\n",
    "        shortage = int(re.sub(pattern, '', row['경쟁률']))\n",
    "\n",
    "        if row['접수건수'] == 0:\n",
    "            return 0\n",
    "\n",
    "        rate = round((row['접수건수'] - shortage) / row['접수건수'], 2)\n",
    "        return rate\n",
    "\n",
    "    # 쉼표 제거 후 float으로 변환\n",
    "    else:\n",
    "        return float(str(row['경쟁률']).replace(',', ''))\n"
   ]
  },
  {
   "cell_type": "code",
   "execution_count": 150,
   "metadata": {},
   "outputs": [],
   "source": [
    "df_fight['경쟁률'] = df_fight.apply(preprocessing_applicant_rate, axis=1)\n",
    "\n",
    "# '미달여부' 열을 생성\n",
    "df_fight['미달여부'] = df_fight.apply(lambda x: 'Y' if float(x['경쟁률']) < 1 else 'N', axis=1)\n",
    "\n",
    "# df_fight['경쟁률'] = df_fight['경쟁률'].fillna(0)\n"
   ]
  },
  {
   "cell_type": "code",
   "execution_count": 151,
   "metadata": {},
   "outputs": [
    {
     "name": "stdout",
     "output_type": "stream",
     "text": [
      "<class 'pandas.core.frame.DataFrame'>\n",
      "RangeIndex: 23095 entries, 0 to 23094\n",
      "Data columns (total 9 columns):\n",
      " #   Column  Non-Null Count  Dtype  \n",
      "---  ------  --------------  -----  \n",
      " 0   공고번호    23095 non-null  int64  \n",
      " 1   주택형     23095 non-null  object \n",
      " 2   거주코드    23095 non-null  int64  \n",
      " 3   거주지역    23095 non-null  object \n",
      " 4   최저당첨가점  12678 non-null  float64\n",
      " 5   최고당첨가점  12678 non-null  float64\n",
      " 6   평균당첨가점  12678 non-null  float64\n",
      " 7   전용면적    23095 non-null  int64  \n",
      " 8   평면유형    23095 non-null  object \n",
      "dtypes: float64(3), int64(3), object(3)\n",
      "memory usage: 1.6+ MB\n"
     ]
    }
   ],
   "source": [
    "df_plus.info()"
   ]
  },
  {
   "cell_type": "markdown",
   "metadata": {},
   "source": [
    "NaN값 처리"
   ]
  },
  {
   "cell_type": "code",
   "execution_count": 156,
   "metadata": {},
   "outputs": [],
   "source": [
    "# 경쟁률 nan값에만 쓸것...\n",
    "\n",
    "def fill_nan_with_zero(df):\n",
    "    return df.fillna(0)"
   ]
  },
  {
   "cell_type": "code",
   "execution_count": 157,
   "metadata": {},
   "outputs": [
    {
     "name": "stdout",
     "output_type": "stream",
     "text": [
      "<class 'pandas.core.frame.DataFrame'>\n",
      "RangeIndex: 44228 entries, 0 to 44227\n",
      "Data columns (total 9 columns):\n",
      " #   Column  Non-Null Count  Dtype  \n",
      "---  ------  --------------  -----  \n",
      " 0   공고번호    44228 non-null  int64  \n",
      " 1   주택형     44228 non-null  object \n",
      " 2   공급세대수   44228 non-null  int64  \n",
      " 3   순위      44228 non-null  int64  \n",
      " 4   거주코드    44228 non-null  int64  \n",
      " 5   거주지역    44228 non-null  object \n",
      " 6   접수건수    44228 non-null  int64  \n",
      " 7   경쟁률     21928 non-null  float64\n",
      " 8   미달여부    44228 non-null  object \n",
      "dtypes: float64(1), int64(5), object(3)\n",
      "memory usage: 3.0+ MB\n"
     ]
    }
   ],
   "source": [
    "df_fight.info()"
   ]
  },
  {
   "cell_type": "markdown",
   "metadata": {},
   "source": [
    "### 데이터 파이프 라인 준비"
   ]
  },
  {
   "cell_type": "markdown",
   "metadata": {},
   "source": [
    "실수형"
   ]
  },
  {
   "cell_type": "code",
   "execution_count": 158,
   "metadata": {},
   "outputs": [],
   "source": [
    "from sklearn.pipeline import Pipeline\n",
    "from sklearn.preprocessing import FunctionTransformer, StandardScaler\n",
    "\n",
    "# FunctionTransformer로 함수를 변환\n",
    "nan_transformer = FunctionTransformer(fill_nan_with_zero)\n",
    "\n",
    "# 파이프라인 구성\n",
    "num_pipeline = Pipeline([\n",
    "    (\"nan\", nan_transformer),\n",
    "    (\"std_scaler\", StandardScaler())\n",
    "])"
   ]
  },
  {
   "cell_type": "markdown",
   "metadata": {},
   "source": [
    "범주형"
   ]
  }
 ],
 "metadata": {
  "kernelspec": {
   "display_name": "project-env",
   "language": "python",
   "name": "python3"
  },
  "language_info": {
   "codemirror_mode": {
    "name": "ipython",
    "version": 3
   },
   "file_extension": ".py",
   "mimetype": "text/x-python",
   "name": "python",
   "nbconvert_exporter": "python",
   "pygments_lexer": "ipython3",
   "version": "3.11.11"
  }
 },
 "nbformat": 4,
 "nbformat_minor": 2
}
