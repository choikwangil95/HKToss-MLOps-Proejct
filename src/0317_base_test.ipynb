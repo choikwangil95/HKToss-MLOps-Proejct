{
 "cells": [
  {
   "cell_type": "code",
   "execution_count": null,
   "metadata": {},
   "outputs": [],
   "source": [
    "import pandas as pd\n",
    "import numpy as np\n",
    "import matplotlib.pyplot as plt\n",
    "from sklearn.preprocessing import MinMaxScaler, StandardScaler, LabelEncoder\n",
    "import seaborn as sns"
   ]
  },
  {
   "cell_type": "code",
   "execution_count": 162,
   "metadata": {},
   "outputs": [],
   "source": [
    "import matplotlib.pyplot as plt\n",
    "plt.rcParams['font.family'] ='Malgun Gothic'\n",
    "plt.rcParams['axes.unicode_minus'] =False"
   ]
  },
  {
   "cell_type": "code",
   "execution_count": 164,
   "metadata": {},
   "outputs": [],
   "source": [
    "drop_cols = [\"공고번호\", \"주택명\", '공급지역명', '공급위치우편번호', '공급위치', '모집공고일', '청약접수시작일', '청약접수종료일', '당첨자발표일', '주택형', '최저당첨가점', '최고당첨가점', '위도', '경도', '행정동코드', '시도', '시군구', '읍면동1', '읍면동2', '전용면적당 공급금액(최고가기준)']\n",
    "train.drop(drop_cols, axis=1, inplace=True)"
   ]
  },
  {
   "cell_type": "code",
   "execution_count": 165,
   "metadata": {},
   "outputs": [
    {
     "name": "stdout",
     "output_type": "stream",
     "text": [
      "<class 'pandas.core.frame.DataFrame'>\n",
      "RangeIndex: 19824 entries, 0 to 19823\n",
      "Data columns (total 20 columns):\n",
      " #   Column        Non-Null Count  Dtype  \n",
      "---  ------        --------------  -----  \n",
      " 0   공급지역코드        19824 non-null  int64  \n",
      " 1   공급규모          19824 non-null  int64  \n",
      " 2   투기과열지구        19824 non-null  object \n",
      " 3   조정대상지역        19824 non-null  object \n",
      " 4   분양가상한제        19824 non-null  object \n",
      " 5   정비사업          19824 non-null  object \n",
      " 6   공공주택지구        19824 non-null  object \n",
      " 7   대규모택지개발지구     19824 non-null  object \n",
      " 8   수도권내민영공공주택지구  19824 non-null  object \n",
      " 9   공급세대수         19824 non-null  int64  \n",
      " 10  순위            19824 non-null  object \n",
      " 11  거주지역          19824 non-null  object \n",
      " 12  접수건수          19824 non-null  int64  \n",
      " 13  경쟁률           19824 non-null  float64\n",
      " 14  평균당첨가점        19780 non-null  object \n",
      " 15  전용면적          19824 non-null  int64  \n",
      " 16  평면유형          19824 non-null  object \n",
      " 17  미달여부          19824 non-null  object \n",
      " 18  공급금액(최고가 기준)  19824 non-null  float64\n",
      " 19  법정동코드         18752 non-null  float64\n",
      "dtypes: float64(3), int64(5), object(12)\n",
      "memory usage: 3.0+ MB\n"
     ]
    }
   ],
   "source": [
    "train.info()"
   ]
  },
  {
   "cell_type": "code",
   "execution_count": 166,
   "metadata": {},
   "outputs": [],
   "source": [
    "train.평균당첨가점 = train.평균당첨가점.str.replace(\"-\", \"0\")"
   ]
  },
  {
   "cell_type": "code",
   "execution_count": 167,
   "metadata": {},
   "outputs": [
    {
     "name": "stderr",
     "output_type": "stream",
     "text": [
      "C:\\Users\\user\\AppData\\Local\\Temp\\ipykernel_11916\\121979348.py:1: FutureWarning: A value is trying to be set on a copy of a DataFrame or Series through chained assignment using an inplace method.\n",
      "The behavior will change in pandas 3.0. This inplace method will never work because the intermediate object on which we are setting values always behaves as a copy.\n",
      "\n",
      "For example, when doing 'df[col].method(value, inplace=True)', try using 'df.method({col: value}, inplace=True)' or df[col] = df[col].method(value) instead, to perform the operation inplace on the original object.\n",
      "\n",
      "\n",
      "  train.평균당첨가점.fillna(0, inplace=True)\n"
     ]
    }
   ],
   "source": [
    "train.평균당첨가점.fillna(0, inplace=True)"
   ]
  },
  {
   "cell_type": "code",
   "execution_count": 168,
   "metadata": {},
   "outputs": [],
   "source": [
    "train.평균당첨가점 = train.평균당첨가점.astype(float)\n"
   ]
  },
  {
   "cell_type": "code",
   "execution_count": 169,
   "metadata": {},
   "outputs": [
    {
     "name": "stdout",
     "output_type": "stream",
     "text": [
      "<class 'pandas.core.frame.DataFrame'>\n",
      "RangeIndex: 19824 entries, 0 to 19823\n",
      "Data columns (total 20 columns):\n",
      " #   Column        Non-Null Count  Dtype  \n",
      "---  ------        --------------  -----  \n",
      " 0   공급지역코드        19824 non-null  int64  \n",
      " 1   공급규모          19824 non-null  int64  \n",
      " 2   투기과열지구        19824 non-null  object \n",
      " 3   조정대상지역        19824 non-null  object \n",
      " 4   분양가상한제        19824 non-null  object \n",
      " 5   정비사업          19824 non-null  object \n",
      " 6   공공주택지구        19824 non-null  object \n",
      " 7   대규모택지개발지구     19824 non-null  object \n",
      " 8   수도권내민영공공주택지구  19824 non-null  object \n",
      " 9   공급세대수         19824 non-null  int64  \n",
      " 10  순위            19824 non-null  object \n",
      " 11  거주지역          19824 non-null  object \n",
      " 12  접수건수          19824 non-null  int64  \n",
      " 13  경쟁률           19824 non-null  float64\n",
      " 14  평균당첨가점        19824 non-null  float64\n",
      " 15  전용면적          19824 non-null  int64  \n",
      " 16  평면유형          19824 non-null  object \n",
      " 17  미달여부          19824 non-null  object \n",
      " 18  공급금액(최고가 기준)  19824 non-null  float64\n",
      " 19  법정동코드         18752 non-null  float64\n",
      "dtypes: float64(4), int64(5), object(11)\n",
      "memory usage: 3.0+ MB\n"
     ]
    }
   ],
   "source": [
    "train.info()"
   ]
  },
  {
   "cell_type": "markdown",
   "metadata": {},
   "source": [
    "### NaN값 처리"
   ]
  },
  {
   "cell_type": "code",
   "execution_count": 170,
   "metadata": {},
   "outputs": [
    {
     "data": {
      "text/plain": [
       "공급지역코드             0\n",
       "공급규모               0\n",
       "투기과열지구             0\n",
       "조정대상지역             0\n",
       "분양가상한제             0\n",
       "정비사업               0\n",
       "공공주택지구             0\n",
       "대규모택지개발지구          0\n",
       "수도권내민영공공주택지구       0\n",
       "공급세대수              0\n",
       "순위                 0\n",
       "거주지역               0\n",
       "접수건수               0\n",
       "경쟁률                0\n",
       "평균당첨가점             0\n",
       "전용면적               0\n",
       "평면유형               0\n",
       "미달여부               0\n",
       "공급금액(최고가 기준)       0\n",
       "법정동코드           1072\n",
       "dtype: int64"
      ]
     },
     "execution_count": 170,
     "metadata": {},
     "output_type": "execute_result"
    }
   ],
   "source": [
    "train.isnull().sum()"
   ]
  },
  {
   "cell_type": "code",
   "execution_count": 171,
   "metadata": {},
   "outputs": [],
   "source": [
    "# 새로 들어올 train은 법정동 코드 null 값 없음 여기서는 일단 열 드랍하고 시작하기\n",
    "\n",
    "train.drop(\"법정동코드\", axis=1, inplace=True)"
   ]
  },
  {
   "cell_type": "markdown",
   "metadata": {},
   "source": [
    "### train, test set 분리"
   ]
  },
  {
   "cell_type": "markdown",
   "metadata": {},
   "source": [
    "stratify 기준 설정을 위해 분포확인"
   ]
  },
  {
   "cell_type": "code",
   "execution_count": null,
   "metadata": {},
   "outputs": [
    {
     "name": "stdout",
     "output_type": "stream",
     "text": [
      "컬럼: 투기과열지구\n",
      "분포:\n",
      "투기과열지구\n",
      "N    14964\n",
      "Y     4860\n",
      "Name: count, dtype: int64\n",
      "\n",
      "비율(%)\n",
      "투기과열지구\n",
      "N    75.484262\n",
      "Y    24.515738\n",
      "Name: proportion, dtype: float64\n",
      "\n",
      "---\n",
      "\n",
      "컬럼: 조정대상지역\n",
      "분포:\n",
      "조정대상지역\n",
      "N    10178\n",
      "Y     9646\n",
      "Name: count, dtype: int64\n",
      "\n",
      "비율(%)\n",
      "조정대상지역\n",
      "N    51.341808\n",
      "Y    48.658192\n",
      "Name: proportion, dtype: float64\n",
      "\n",
      "---\n",
      "\n",
      "컬럼: 분양가상한제\n",
      "분포:\n",
      "분양가상한제\n",
      "N    13702\n",
      "Y     6122\n",
      "Name: count, dtype: int64\n",
      "\n",
      "비율(%)\n",
      "분양가상한제\n",
      "N    69.118241\n",
      "Y    30.881759\n",
      "Name: proportion, dtype: float64\n",
      "\n",
      "---\n",
      "\n",
      "컬럼: 정비사업\n",
      "분포:\n",
      "정비사업\n",
      "N    14536\n",
      "Y     5288\n",
      "Name: count, dtype: int64\n",
      "\n",
      "비율(%)\n",
      "정비사업\n",
      "N    73.325262\n",
      "Y    26.674738\n",
      "Name: proportion, dtype: float64\n",
      "\n",
      "---\n",
      "\n",
      "컬럼: 공공주택지구\n",
      "분포:\n",
      "공공주택지구\n",
      "N    18948\n",
      "Y      876\n",
      "Name: count, dtype: int64\n",
      "\n",
      "비율(%)\n",
      "공공주택지구\n",
      "N    95.581114\n",
      "Y     4.418886\n",
      "Name: proportion, dtype: float64\n",
      "\n",
      "---\n",
      "\n",
      "컬럼: 대규모택지개발지구\n",
      "분포:\n",
      "대규모택지개발지구\n",
      "N    14228\n",
      "Y     5596\n",
      "Name: count, dtype: int64\n",
      "\n",
      "비율(%)\n",
      "대규모택지개발지구\n",
      "N    71.77159\n",
      "Y    28.22841\n",
      "Name: proportion, dtype: float64\n",
      "\n",
      "---\n",
      "\n",
      "컬럼: 수도권내민영공공주택지구\n",
      "분포:\n",
      "수도권내민영공공주택지구\n",
      "N    19114\n",
      "Y      710\n",
      "Name: count, dtype: int64\n",
      "\n",
      "비율(%)\n",
      "수도권내민영공공주택지구\n",
      "N    96.418483\n",
      "Y     3.581517\n",
      "Name: proportion, dtype: float64\n",
      "\n",
      "---\n",
      "\n",
      "컬럼: 순위\n",
      "분포:\n",
      "순위\n",
      "1순위    9912\n",
      "2순위    9912\n",
      "Name: count, dtype: int64\n",
      "\n",
      "비율(%)\n",
      "순위\n",
      "1순위    50.0\n",
      "2순위    50.0\n",
      "Name: proportion, dtype: float64\n",
      "\n",
      "---\n",
      "\n",
      "컬럼: 거주지역\n",
      "분포:\n",
      "거주지역\n",
      "해당지역    9286\n",
      "기타지역    9286\n",
      "기타경기    1252\n",
      "Name: count, dtype: int64\n",
      "\n",
      "비율(%)\n",
      "거주지역\n",
      "해당지역    46.842211\n",
      "기타지역    46.842211\n",
      "기타경기     6.315577\n",
      "Name: proportion, dtype: float64\n",
      "\n",
      "---\n",
      "\n",
      "컬럼: 평면유형\n",
      "분포:\n",
      "평면유형\n",
      "A    5862\n",
      "B    5284\n",
      "C    2426\n",
      "0    1328\n",
      "D    1002\n",
      "E     400\n",
      "2     296\n",
      "P     280\n",
      "T     278\n",
      "5     268\n",
      "8     268\n",
      "1     264\n",
      "7     242\n",
      "3     238\n",
      "F     232\n",
      "9     222\n",
      "4     222\n",
      "6     218\n",
      "G     136\n",
      "H      94\n",
      "I      44\n",
      "K      40\n",
      "J      32\n",
      "S      24\n",
      "R      24\n",
      "L      24\n",
      "M      16\n",
      "N      16\n",
      "O      16\n",
      "Q      12\n",
      "W       8\n",
      "U       4\n",
      "V       4\n",
      "Name: count, dtype: int64\n",
      "\n",
      "비율(%)\n",
      "평면유형\n",
      "A    29.570218\n",
      "B    26.654560\n",
      "C    12.237692\n",
      "0     6.698951\n",
      "D     5.054479\n",
      "E     2.017756\n",
      "2     1.493140\n",
      "P     1.412429\n",
      "T     1.402341\n",
      "5     1.351897\n",
      "8     1.351897\n",
      "1     1.331719\n",
      "7     1.220743\n",
      "3     1.200565\n",
      "F     1.170299\n",
      "9     1.119855\n",
      "4     1.119855\n",
      "6     1.099677\n",
      "G     0.686037\n",
      "H     0.474173\n",
      "I     0.221953\n",
      "K     0.201776\n",
      "J     0.161421\n",
      "S     0.121065\n",
      "R     0.121065\n",
      "L     0.121065\n",
      "M     0.080710\n",
      "N     0.080710\n",
      "O     0.080710\n",
      "Q     0.060533\n",
      "W     0.040355\n",
      "U     0.020178\n",
      "V     0.020178\n",
      "Name: proportion, dtype: float64\n",
      "\n",
      "---\n",
      "\n",
      "컬럼: 미달여부\n",
      "분포:\n",
      "미달여부\n",
      "Y    14223\n",
      "N     5601\n",
      "Name: count, dtype: int64\n",
      "\n",
      "비율(%)\n",
      "미달여부\n",
      "Y    71.746368\n",
      "N    28.253632\n",
      "Name: proportion, dtype: float64\n",
      "\n",
      "---\n",
      "\n"
     ]
    }
   ],
   "source": [
    "categorical_columns = [\n",
    "    '투기과열지구',\n",
    "    '조정대상지역',\n",
    "    '분양가상한제',\n",
    "    '정비사업',\n",
    "    '공공주택지구',\n",
    "    '대규모택지개발지구',\n",
    "    '수도권내민영공공주택지구',\n",
    "    '순위',\n",
    "    '거주지역',\n",
    "    '평면유형',\n",
    "    '미달여부'\n",
    "]\n",
    "\n",
    "# 각 컬럼의 분포 분석\n",
    "for column in categorical_columns:\n",
    "    distribution = train[column].value_counts()\n",
    "    distribution_percentage = train[column].value_counts(normalize=True) * 100\n",
    "    \n",
    "    print(f\"컬럼: {column}\")\n",
    "    print(\"분포:\")\n",
    "    print(distribution)\n",
    "    print(\"\\n비율(%)\")\n",
    "    print(distribution_percentage)\n",
    "    print(\"\\n---\\n\")\n"
   ]
  },
  {
   "cell_type": "code",
   "execution_count": null,
   "metadata": {},
   "outputs": [
    {
     "data": {
      "image/png": "[encoded data removed]",
      "text/plain": [
       "<Figure size 600x400 with 1 Axes>"
      ]
     },
     "metadata": {},
     "output_type": "display_data"
    },
    {
     "data": {
      "image/png": "[encoded data removed]",
      "text/plain": [
       "<Figure size 600x400 with 1 Axes>"
      ]
     },
     "metadata": {},
     "output_type": "display_data"
    },
    {
     "data": {
      "image/png": "[encoded data removed]",
      "text/plain": [
       "<Figure size 600x400 with 1 Axes>"
      ]
     },
     "metadata": {},
     "output_type": "display_data"
    },
    {
     "data": {
      "image/png": "[encoded data removed]",
      "text/plain": [
       "<Figure size 600x400 with 1 Axes>"
      ]
     },
     "metadata": {},
     "output_type": "display_data"
    },
    {
     "data": {
      "image/png": "[encoded data removed]",
      "text/plain": [
       "<Figure size 600x400 with 1 Axes>"
      ]
     },
     "metadata": {},
     "output_type": "display_data"
    },
    {
     "data": {
      "image/png": "[encoded data removed]",
      "text/plain": [
       "<Figure size 600x400 with 1 Axes>"
      ]
     },
     "metadata": {},
     "output_type": "display_data"
    }
   ],
   "source": [
    "columns_to_check = ['공급규모', '공급세대수', '접수건수', '경쟁률', '공급금액(최고가 기준)', '전용면적']\n",
    "\n",
    "for column in columns_to_check:\n",
    "    plt.figure(figsize=(6, 4))\n",
    "    sns.boxplot(data=train[column])\n",
    "    plt.title(f'Boxplot of {column}')\n",
    "    plt.show()\n"
   ]
  },
  {
   "cell_type": "code",
   "execution_count": null,
   "metadata": {},
   "outputs": [],
   "source": [
    "from sklearn.model_selection import train_test_split\n",
    "\n",
    "X_train, X_test, y_train, y_test = train_test_split(\n",
    "    train.drop(columns=[\"평균당첨가점\"]),  # 타겟(평균당첨가점) 제외\n",
    "    train[\"평균당첨가점\"],  # 타겟\n",
    "    test_size=0.2,\n",
    "    random_state=42,\n",
    "    stratify=train[\"미달여부\"]  # 분포 맞추기 위해 미달여부로 stratify\n",
    ")"
   ]
  },
  {
   "cell_type": "code",
   "execution_count": 176,
   "metadata": {},
   "outputs": [
    {
     "data": {
      "text/plain": [
       "Index(['공급지역코드', '공급규모', '투기과열지구', '조정대상지역', '분양가상한제', '정비사업', '공공주택지구',\n",
       "       '대규모택지개발지구', '수도권내민영공공주택지구', '공급세대수', '순위', '거주지역', '접수건수', '경쟁률',\n",
       "       '전용면적', '평면유형', '미달여부', '공급금액(최고가 기준)'],\n",
       "      dtype='object')"
      ]
     },
     "execution_count": 176,
     "metadata": {},
     "output_type": "execute_result"
    }
   ],
   "source": [
    "X_train.columns"
   ]
  },
  {
   "cell_type": "markdown",
   "metadata": {},
   "source": [
    "### 로그변환"
   ]
  },
  {
   "cell_type": "markdown",
   "metadata": {},
   "source": [
    "'공급규모', '공급세대수', '접수건수' -> 데이터가 너무 비대칭적이고 값의 범위가 너무 큼 -> 로그변환 쎄리기"
   ]
  },
  {
   "cell_type": "code",
   "execution_count": 177,
   "metadata": {},
   "outputs": [],
   "source": [
    "# 정규화 필요 컬럼\n",
    "columns_to_transform = ['공급규모', '공급세대수', '접수건수']\n",
    "\n",
    "# 로그 변환 (0 이상의 값만 가능하므로 음수나 0이 있다면 처리 필요)\n",
    "for column in columns_to_transform:\n",
    "    X_train[column] = np.log1p(X_train[column])  # log(1 + x) 변환\n",
    "    X_test[column] = np.log1p(X_test[column])   # log(1 + x) 변환\n"
   ]
  },
  {
   "cell_type": "code",
   "execution_count": 178,
   "metadata": {},
   "outputs": [
    {
     "data": {
      "text/html": [
       "<div>\n",
       "<style scoped>\n",
       "    .dataframe tbody tr th:only-of-type {\n",
       "        vertical-align: middle;\n",
       "    }\n",
       "\n",
       "    .dataframe tbody tr th {\n",
       "        vertical-align: top;\n",
       "    }\n",
       "\n",
       "    .dataframe thead th {\n",
       "        text-align: right;\n",
       "    }\n",
       "</style>\n",
       "<table border=\"1\" class=\"dataframe\">\n",
       "  <thead>\n",
       "    <tr style=\"text-align: right;\">\n",
       "      <th></th>\n",
       "      <th>공급규모</th>\n",
       "      <th>공급세대수</th>\n",
       "      <th>접수건수</th>\n",
       "    </tr>\n",
       "  </thead>\n",
       "  <tbody>\n",
       "    <tr>\n",
       "      <th>10881</th>\n",
       "      <td>7.016610</td>\n",
       "      <td>4.488636</td>\n",
       "      <td>0.000000</td>\n",
       "    </tr>\n",
       "    <tr>\n",
       "      <th>8741</th>\n",
       "      <td>4.553877</td>\n",
       "      <td>2.833213</td>\n",
       "      <td>2.197225</td>\n",
       "    </tr>\n",
       "    <tr>\n",
       "      <th>1500</th>\n",
       "      <td>5.662960</td>\n",
       "      <td>1.609438</td>\n",
       "      <td>0.000000</td>\n",
       "    </tr>\n",
       "    <tr>\n",
       "      <th>9104</th>\n",
       "      <td>6.821107</td>\n",
       "      <td>5.225747</td>\n",
       "      <td>3.526361</td>\n",
       "    </tr>\n",
       "    <tr>\n",
       "      <th>9923</th>\n",
       "      <td>5.093750</td>\n",
       "      <td>3.761200</td>\n",
       "      <td>0.000000</td>\n",
       "    </tr>\n",
       "    <tr>\n",
       "      <th>...</th>\n",
       "      <td>...</td>\n",
       "      <td>...</td>\n",
       "      <td>...</td>\n",
       "    </tr>\n",
       "    <tr>\n",
       "      <th>14651</th>\n",
       "      <td>6.885510</td>\n",
       "      <td>4.770685</td>\n",
       "      <td>0.000000</td>\n",
       "    </tr>\n",
       "    <tr>\n",
       "      <th>5529</th>\n",
       "      <td>5.117994</td>\n",
       "      <td>3.433987</td>\n",
       "      <td>0.000000</td>\n",
       "    </tr>\n",
       "    <tr>\n",
       "      <th>6716</th>\n",
       "      <td>5.860786</td>\n",
       "      <td>1.098612</td>\n",
       "      <td>4.262680</td>\n",
       "    </tr>\n",
       "    <tr>\n",
       "      <th>7377</th>\n",
       "      <td>6.386879</td>\n",
       "      <td>3.784190</td>\n",
       "      <td>2.197225</td>\n",
       "    </tr>\n",
       "    <tr>\n",
       "      <th>7152</th>\n",
       "      <td>6.082219</td>\n",
       "      <td>2.564949</td>\n",
       "      <td>1.386294</td>\n",
       "    </tr>\n",
       "  </tbody>\n",
       "</table>\n",
       "<p>15859 rows × 3 columns</p>\n",
       "</div>"
      ],
      "text/plain": [
       "           공급규모     공급세대수      접수건수\n",
       "10881  7.016610  4.488636  0.000000\n",
       "8741   4.553877  2.833213  2.197225\n",
       "1500   5.662960  1.609438  0.000000\n",
       "9104   6.821107  5.225747  3.526361\n",
       "9923   5.093750  3.761200  0.000000\n",
       "...         ...       ...       ...\n",
       "14651  6.885510  4.770685  0.000000\n",
       "5529   5.117994  3.433987  0.000000\n",
       "6716   5.860786  1.098612  4.262680\n",
       "7377   6.386879  3.784190  2.197225\n",
       "7152   6.082219  2.564949  1.386294\n",
       "\n",
       "[15859 rows x 3 columns]"
      ]
     },
     "execution_count": 178,
     "metadata": {},
     "output_type": "execute_result"
    }
   ],
   "source": [
    "X_train[columns_to_transform]"
   ]
  },
  {
   "cell_type": "markdown",
   "metadata": {},
   "source": [
    "### 수치형 정규화"
   ]
  },
  {
   "cell_type": "code",
   "execution_count": 179,
   "metadata": {},
   "outputs": [
    {
     "data": {
      "text/html": [
       "<div>\n",
       "<style scoped>\n",
       "    .dataframe tbody tr th:only-of-type {\n",
       "        vertical-align: middle;\n",
       "    }\n",
       "\n",
       "    .dataframe tbody tr th {\n",
       "        vertical-align: top;\n",
       "    }\n",
       "\n",
       "    .dataframe thead th {\n",
       "        text-align: right;\n",
       "    }\n",
       "</style>\n",
       "<table border=\"1\" class=\"dataframe\">\n",
       "  <thead>\n",
       "    <tr style=\"text-align: right;\">\n",
       "      <th></th>\n",
       "      <th>공급지역코드</th>\n",
       "      <th>공급규모</th>\n",
       "      <th>공급세대수</th>\n",
       "      <th>접수건수</th>\n",
       "      <th>경쟁률</th>\n",
       "      <th>전용면적</th>\n",
       "      <th>공급금액(최고가 기준)</th>\n",
       "    </tr>\n",
       "  </thead>\n",
       "  <tbody>\n",
       "    <tr>\n",
       "      <th>count</th>\n",
       "      <td>15859.000000</td>\n",
       "      <td>15859.000000</td>\n",
       "      <td>15859.000000</td>\n",
       "      <td>15859.000000</td>\n",
       "      <td>15859.000000</td>\n",
       "      <td>15859.000000</td>\n",
       "      <td>1.585900e+04</td>\n",
       "    </tr>\n",
       "    <tr>\n",
       "      <th>mean</th>\n",
       "      <td>344.418311</td>\n",
       "      <td>5.903365</td>\n",
       "      <td>3.239830</td>\n",
       "      <td>1.920293</td>\n",
       "      <td>24.107726</td>\n",
       "      <td>78.304054</td>\n",
       "      <td>7.028741e+08</td>\n",
       "    </tr>\n",
       "    <tr>\n",
       "      <th>std</th>\n",
       "      <td>124.555638</td>\n",
       "      <td>1.135143</td>\n",
       "      <td>1.414977</td>\n",
       "      <td>2.171493</td>\n",
       "      <td>310.068201</td>\n",
       "      <td>23.445474</td>\n",
       "      <td>6.061992e+08</td>\n",
       "    </tr>\n",
       "    <tr>\n",
       "      <th>min</th>\n",
       "      <td>100.000000</td>\n",
       "      <td>0.693147</td>\n",
       "      <td>0.000000</td>\n",
       "      <td>0.000000</td>\n",
       "      <td>0.000000</td>\n",
       "      <td>13.000000</td>\n",
       "      <td>1.377000e+08</td>\n",
       "    </tr>\n",
       "    <tr>\n",
       "      <th>25%</th>\n",
       "      <td>400.000000</td>\n",
       "      <td>5.147494</td>\n",
       "      <td>2.079442</td>\n",
       "      <td>0.000000</td>\n",
       "      <td>0.000000</td>\n",
       "      <td>59.000000</td>\n",
       "      <td>4.315000e+08</td>\n",
       "    </tr>\n",
       "    <tr>\n",
       "      <th>50%</th>\n",
       "      <td>410.000000</td>\n",
       "      <td>6.165418</td>\n",
       "      <td>3.332205</td>\n",
       "      <td>1.098612</td>\n",
       "      <td>0.000000</td>\n",
       "      <td>84.000000</td>\n",
       "      <td>5.552500e+08</td>\n",
       "    </tr>\n",
       "    <tr>\n",
       "      <th>75%</th>\n",
       "      <td>410.000000</td>\n",
       "      <td>6.697034</td>\n",
       "      <td>4.369448</td>\n",
       "      <td>3.688879</td>\n",
       "      <td>1.750000</td>\n",
       "      <td>84.000000</td>\n",
       "      <td>7.921000e+08</td>\n",
       "    </tr>\n",
       "    <tr>\n",
       "      <th>max</th>\n",
       "      <td>410.000000</td>\n",
       "      <td>8.473659</td>\n",
       "      <td>6.842683</td>\n",
       "      <td>6.907755</td>\n",
       "      <td>35076.000000</td>\n",
       "      <td>244.000000</td>\n",
       "      <td>1.600000e+10</td>\n",
       "    </tr>\n",
       "  </tbody>\n",
       "</table>\n",
       "</div>"
      ],
      "text/plain": [
       "             공급지역코드          공급규모         공급세대수          접수건수           경쟁률  \\\n",
       "count  15859.000000  15859.000000  15859.000000  15859.000000  15859.000000   \n",
       "mean     344.418311      5.903365      3.239830      1.920293     24.107726   \n",
       "std      124.555638      1.135143      1.414977      2.171493    310.068201   \n",
       "min      100.000000      0.693147      0.000000      0.000000      0.000000   \n",
       "25%      400.000000      5.147494      2.079442      0.000000      0.000000   \n",
       "50%      410.000000      6.165418      3.332205      1.098612      0.000000   \n",
       "75%      410.000000      6.697034      4.369448      3.688879      1.750000   \n",
       "max      410.000000      8.473659      6.842683      6.907755  35076.000000   \n",
       "\n",
       "               전용면적  공급금액(최고가 기준)  \n",
       "count  15859.000000  1.585900e+04  \n",
       "mean      78.304054  7.028741e+08  \n",
       "std       23.445474  6.061992e+08  \n",
       "min       13.000000  1.377000e+08  \n",
       "25%       59.000000  4.315000e+08  \n",
       "50%       84.000000  5.552500e+08  \n",
       "75%       84.000000  7.921000e+08  \n",
       "max      244.000000  1.600000e+10  "
      ]
     },
     "execution_count": 179,
     "metadata": {},
     "output_type": "execute_result"
    }
   ],
   "source": [
    "X_train.describe()"
   ]
  },
  {
   "cell_type": "markdown",
   "metadata": {},
   "source": [
    "Standard : 공급규모, 공급세대수, 접수건수, 공급금액 [이상치가 많음]  \n",
    "minmax : 전용면적, 경쟁률 [상대적으로 이상치 영향이 적음]  "
   ]
  },
  {
   "cell_type": "code",
   "execution_count": null,
   "metadata": {},
   "outputs": [],
   "source": [
    "columns_to_normalize = ['공급규모', '공급세대수', '접수건수', '공급금액(최고가 기준)']\n",
    "\n",
    "# Min-Max Scaling\n",
    "MM_scaler = MinMaxScaler()\n",
    "X_train[columns_to_normalize] = MM_scaler.fit_transform(X_train[columns_to_normalize])\n",
    "X_test[columns_to_normalize] = MM_scaler.transform(X_test[columns_to_normalize])"
   ]
  },
  {
   "cell_type": "code",
   "execution_count": null,
   "metadata": {},
   "outputs": [],
   "source": [
    "columns_to_normalize = ['전용면적', '경쟁률']\n",
    "\n",
    "# Standardization\n",
    "SD_scaler = StandardScaler()\n",
    "X_train[columns_to_normalize] = SD_scaler.fit_transform(X_train[columns_to_normalize])\n",
    "X_test[columns_to_normalize] = SD_scaler.transform(X_test[columns_to_normalize])\n"
   ]
  },
  {
   "cell_type": "code",
   "execution_count": 182,
   "metadata": {},
   "outputs": [],
   "source": [
    "# 정규화된 컬럼 확인\n",
    "columns_to_normalize = ['전용면적']\n",
    "\n",
    "normalized_train_X = X_train[columns_to_normalize].head()\n",
    "normalized_test_X = X_test[columns_to_normalize].head()"
   ]
  },
  {
   "cell_type": "code",
   "execution_count": 183,
   "metadata": {},
   "outputs": [
    {
     "data": {
      "text/html": [
       "<div>\n",
       "<style scoped>\n",
       "    .dataframe tbody tr th:only-of-type {\n",
       "        vertical-align: middle;\n",
       "    }\n",
       "\n",
       "    .dataframe tbody tr th {\n",
       "        vertical-align: top;\n",
       "    }\n",
       "\n",
       "    .dataframe thead th {\n",
       "        text-align: right;\n",
       "    }\n",
       "</style>\n",
       "<table border=\"1\" class=\"dataframe\">\n",
       "  <thead>\n",
       "    <tr style=\"text-align: right;\">\n",
       "      <th></th>\n",
       "      <th>전용면적</th>\n",
       "    </tr>\n",
       "  </thead>\n",
       "  <tbody>\n",
       "    <tr>\n",
       "      <th>10881</th>\n",
       "      <td>2.205013</td>\n",
       "    </tr>\n",
       "    <tr>\n",
       "      <th>8741</th>\n",
       "      <td>-0.354197</td>\n",
       "    </tr>\n",
       "    <tr>\n",
       "      <th>1500</th>\n",
       "      <td>-0.183583</td>\n",
       "    </tr>\n",
       "    <tr>\n",
       "      <th>9104</th>\n",
       "      <td>-0.183583</td>\n",
       "    </tr>\n",
       "    <tr>\n",
       "      <th>9923</th>\n",
       "      <td>-0.823385</td>\n",
       "    </tr>\n",
       "  </tbody>\n",
       "</table>\n",
       "</div>"
      ],
      "text/plain": [
       "           전용면적\n",
       "10881  2.205013\n",
       "8741  -0.354197\n",
       "1500  -0.183583\n",
       "9104  -0.183583\n",
       "9923  -0.823385"
      ]
     },
     "execution_count": 183,
     "metadata": {},
     "output_type": "execute_result"
    }
   ],
   "source": [
    "normalized_train_X"
   ]
  },
  {
   "cell_type": "markdown",
   "metadata": {},
   "source": [
    "### 범주형 인코딩"
   ]
  },
  {
   "cell_type": "code",
   "execution_count": 184,
   "metadata": {},
   "outputs": [
    {
     "name": "stdout",
     "output_type": "stream",
     "text": [
      "<class 'pandas.core.frame.DataFrame'>\n",
      "Index: 15859 entries, 10881 to 7152\n",
      "Data columns (total 18 columns):\n",
      " #   Column        Non-Null Count  Dtype  \n",
      "---  ------        --------------  -----  \n",
      " 0   공급지역코드        15859 non-null  int64  \n",
      " 1   공급규모          15859 non-null  float64\n",
      " 2   투기과열지구        15859 non-null  object \n",
      " 3   조정대상지역        15859 non-null  object \n",
      " 4   분양가상한제        15859 non-null  object \n",
      " 5   정비사업          15859 non-null  object \n",
      " 6   공공주택지구        15859 non-null  object \n",
      " 7   대규모택지개발지구     15859 non-null  object \n",
      " 8   수도권내민영공공주택지구  15859 non-null  object \n",
      " 9   공급세대수         15859 non-null  float64\n",
      " 10  순위            15859 non-null  object \n",
      " 11  거주지역          15859 non-null  object \n",
      " 12  접수건수          15859 non-null  float64\n",
      " 13  경쟁률           15859 non-null  float64\n",
      " 14  전용면적          15859 non-null  float64\n",
      " 15  평면유형          15859 non-null  object \n",
      " 16  미달여부          15859 non-null  object \n",
      " 17  공급금액(최고가 기준)  15859 non-null  float64\n",
      "dtypes: float64(6), int64(1), object(11)\n",
      "memory usage: 2.3+ MB\n"
     ]
    }
   ],
   "source": [
    "X_train.info()"
   ]
  },
  {
   "cell_type": "code",
   "execution_count": 185,
   "metadata": {},
   "outputs": [
    {
     "data": {
      "text/html": [
       "<div>\n",
       "<style scoped>\n",
       "    .dataframe tbody tr th:only-of-type {\n",
       "        vertical-align: middle;\n",
       "    }\n",
       "\n",
       "    .dataframe tbody tr th {\n",
       "        vertical-align: top;\n",
       "    }\n",
       "\n",
       "    .dataframe thead th {\n",
       "        text-align: right;\n",
       "    }\n",
       "</style>\n",
       "<table border=\"1\" class=\"dataframe\">\n",
       "  <thead>\n",
       "    <tr style=\"text-align: right;\">\n",
       "      <th></th>\n",
       "      <th>공급지역코드</th>\n",
       "      <th>공급규모</th>\n",
       "      <th>투기과열지구</th>\n",
       "      <th>조정대상지역</th>\n",
       "      <th>분양가상한제</th>\n",
       "      <th>정비사업</th>\n",
       "      <th>공공주택지구</th>\n",
       "      <th>대규모택지개발지구</th>\n",
       "      <th>수도권내민영공공주택지구</th>\n",
       "      <th>공급세대수</th>\n",
       "      <th>순위</th>\n",
       "      <th>거주지역</th>\n",
       "      <th>접수건수</th>\n",
       "      <th>경쟁률</th>\n",
       "      <th>전용면적</th>\n",
       "      <th>평면유형</th>\n",
       "      <th>미달여부</th>\n",
       "      <th>공급금액(최고가 기준)</th>\n",
       "    </tr>\n",
       "  </thead>\n",
       "  <tbody>\n",
       "    <tr>\n",
       "      <th>10881</th>\n",
       "      <td>400</td>\n",
       "      <td>0.812731</td>\n",
       "      <td>Y</td>\n",
       "      <td>Y</td>\n",
       "      <td>N</td>\n",
       "      <td>N</td>\n",
       "      <td>N</td>\n",
       "      <td>Y</td>\n",
       "      <td>N</td>\n",
       "      <td>0.655976</td>\n",
       "      <td>2순위</td>\n",
       "      <td>기타지역</td>\n",
       "      <td>0.0</td>\n",
       "      <td>-0.077752</td>\n",
       "      <td>2.205013</td>\n",
       "      <td>3</td>\n",
       "      <td>Y</td>\n",
       "      <td>0.078507</td>\n",
       "    </tr>\n",
       "  </tbody>\n",
       "</table>\n",
       "</div>"
      ],
      "text/plain": [
       "       공급지역코드      공급규모 투기과열지구 조정대상지역 분양가상한제 정비사업 공공주택지구 대규모택지개발지구  \\\n",
       "10881     400  0.812731      Y      Y      N    N      N         Y   \n",
       "\n",
       "      수도권내민영공공주택지구     공급세대수   순위  거주지역  접수건수       경쟁률      전용면적 평면유형 미달여부  \\\n",
       "10881            N  0.655976  2순위  기타지역   0.0 -0.077752  2.205013    3    Y   \n",
       "\n",
       "       공급금액(최고가 기준)  \n",
       "10881      0.078507  "
      ]
     },
     "execution_count": 185,
     "metadata": {},
     "output_type": "execute_result"
    }
   ],
   "source": [
    "X_train.head(1)"
   ]
  },
  {
   "cell_type": "code",
   "execution_count": 186,
   "metadata": {},
   "outputs": [],
   "source": [
    "# 투기과열지구\t조정대상지역\t분양가상한제\t정비사업\t공공주택지구\t대규모택지개발지구\t수도권내민영공공주택지구 미달여부\t이새끼들은 Y랑 N으로만 값이 있어서 원핫인코딩 하고\n",
    "# 순위도 1순위 2순위만, 거주지역도 2개만만 있음 원핫 갈기자\n",
    "\n",
    "# 평면유형 얘는 좀 유니크값이 많아..30개정도였던것 같아 "
   ]
  },
  {
   "cell_type": "code",
   "execution_count": null,
   "metadata": {},
   "outputs": [],
   "source": [
    "# 원핫 인코딩 - Y / N 값만 있는 컬럼 , 고윳값이 3개 이하\n",
    "X_train = pd.get_dummies(X_train, columns=['투기과열지구', '조정대상지역', '분양가상한제', '정비사업','공공주택지구','대규모택지개발지구','수도권내민영공공주택지구','미달여부', '순위', '거주지역'])\n",
    "X_test = pd.get_dummies(X_test, columns=['투기과열지구', '조정대상지역', '분양가상한제', '정비사업','공공주택지구','대규모택지개발지구','수도권내민영공공주택지구','미달여부', '순위', '거주지역'])"
   ]
  },
  {
   "cell_type": "code",
   "execution_count": 188,
   "metadata": {},
   "outputs": [],
   "source": [
    "# Train 데이터 기준으로 Test 데이터의 컬럼을 맞춤\n",
    "# X_test = X_test.reindex(columns=X_train.columns, fill_value=0)\n",
    "\n",
    "# 나중에 인덱스 관련해서 안맞으면 여기 실행해보기"
   ]
  },
  {
   "cell_type": "code",
   "execution_count": 190,
   "metadata": {},
   "outputs": [],
   "source": [
    "# 레이블 인코더 객체 생성\n",
    "label_encoder = LabelEncoder()\n",
    "\n",
    "# Train 데이터 레이블 인코딩\n",
    "X_train['평면유형_encoded'] = label_encoder.fit_transform(X_train['평면유형'])\n",
    "X_test['평면유형_encoded'] = label_encoder.transform(X_test['평면유형'])"
   ]
  },
  {
   "cell_type": "code",
   "execution_count": null,
   "metadata": {},
   "outputs": [
    {
     "name": "stdout",
     "output_type": "stream",
     "text": [
      "\n",
      "레이블 매핑:\n",
      "{'0': 0, '1': 1, '2': 2, '3': 3, '4': 4, '5': 5, '6': 6, '7': 7, '8': 8, '9': 9, 'A': 10, 'B': 11, 'C': 12, 'D': 13, 'E': 14, 'F': 15, 'G': 16, 'H': 17, 'I': 18, 'J': 19, 'K': 20, 'L': 21, 'M': 22, 'N': 23, 'O': 24, 'P': 25, 'Q': 26, 'R': 27, 'S': 28, 'T': 29, 'U': 30, 'V': 31, 'W': 32}\n"
     ]
    }
   ],
   "source": [
    "# 고유값과 인코딩된 값 매핑 확인\n",
    "mapping = dict(zip(label_encoder.classes_, range(len(label_encoder.classes_))))\n",
    "print(\"\\n레이블 매핑:\")\n",
    "print(mapping)\n",
    "\n",
    "# 평면유형 관련해서는 data_preprocessing 내부에서 코드 고치기 필요함 일단 진행"
   ]
  },
  {
   "cell_type": "code",
   "execution_count": 194,
   "metadata": {},
   "outputs": [],
   "source": [
    "# 평면유형 컬럼 삭제\n",
    "X_train = X_train.drop('평면유형', axis=1, errors='ignore')\n",
    "X_test = X_test.drop('평면유형', axis=1, errors='ignore')\n"
   ]
  },
  {
   "cell_type": "code",
   "execution_count": 195,
   "metadata": {},
   "outputs": [
    {
     "name": "stdout",
     "output_type": "stream",
     "text": [
      "<class 'pandas.core.frame.DataFrame'>\n",
      "Index: 15859 entries, 10881 to 7152\n",
      "Data columns (total 29 columns):\n",
      " #   Column          Non-Null Count  Dtype  \n",
      "---  ------          --------------  -----  \n",
      " 0   공급지역코드          15859 non-null  int64  \n",
      " 1   공급규모            15859 non-null  float64\n",
      " 2   공급세대수           15859 non-null  float64\n",
      " 3   접수건수            15859 non-null  float64\n",
      " 4   경쟁률             15859 non-null  float64\n",
      " 5   전용면적            15859 non-null  float64\n",
      " 6   공급금액(최고가 기준)    15859 non-null  float64\n",
      " 7   투기과열지구_N        15859 non-null  bool   \n",
      " 8   투기과열지구_Y        15859 non-null  bool   \n",
      " 9   조정대상지역_N        15859 non-null  bool   \n",
      " 10  조정대상지역_Y        15859 non-null  bool   \n",
      " 11  분양가상한제_N        15859 non-null  bool   \n",
      " 12  분양가상한제_Y        15859 non-null  bool   \n",
      " 13  정비사업_N          15859 non-null  bool   \n",
      " 14  정비사업_Y          15859 non-null  bool   \n",
      " 15  공공주택지구_N        15859 non-null  bool   \n",
      " 16  공공주택지구_Y        15859 non-null  bool   \n",
      " 17  대규모택지개발지구_N     15859 non-null  bool   \n",
      " 18  대규모택지개발지구_Y     15859 non-null  bool   \n",
      " 19  수도권내민영공공주택지구_N  15859 non-null  bool   \n",
      " 20  수도권내민영공공주택지구_Y  15859 non-null  bool   \n",
      " 21  미달여부_N          15859 non-null  bool   \n",
      " 22  미달여부_Y          15859 non-null  bool   \n",
      " 23  순위_1순위          15859 non-null  bool   \n",
      " 24  순위_2순위          15859 non-null  bool   \n",
      " 25  거주지역_기타경기       15859 non-null  bool   \n",
      " 26  거주지역_기타지역       15859 non-null  bool   \n",
      " 27  거주지역_해당지역       15859 non-null  bool   \n",
      " 28  평면유형_encoded    15859 non-null  int32  \n",
      "dtypes: bool(21), float64(6), int32(1), int64(1)\n",
      "memory usage: 1.3 MB\n"
     ]
    }
   ],
   "source": [
    "X_train.info()"
   ]
  },
  {
   "cell_type": "code",
   "execution_count": null,
   "metadata": {},
   "outputs": [
    {
     "name": "stdout",
     "output_type": "stream",
     "text": [
      "RMSE: 6.882581212006973\n",
      "R^2 Score: 0.9109470119509193\n"
     ]
    }
   ],
   "source": [
    "from sklearn.ensemble import RandomForestRegressor\n",
    "from sklearn.metrics import mean_squared_error, r2_score\n",
    "\n",
    "# 모델 초기화\n",
    "model = RandomForestRegressor(random_state=42)\n",
    "\n",
    "# 모델 학습\n",
    "model.fit(X_train, y_train)\n",
    "\n",
    "# 예측\n",
    "y_pred = model.predict(X_test)\n",
    "\n",
    "# 평가 (RMSE와 R^2 계산)\n",
    "rmse = np.sqrt(mean_squared_error(y_test, y_pred))\n",
    "r2 = r2_score(y_test, y_pred)\n",
    "\n",
    "print(\"RMSE:\", rmse) # 낮을수록 좋음\n",
    "print(\"R^2 Score:\", r2) # 1에 가까울수록 좋음\n"
   ]
  },
  {
   "cell_type": "markdown",
   "metadata": {},
   "source": [
    "RMSE 약 8.2% 오차"
   ]
  },
  {
   "cell_type": "code",
   "execution_count": null,
   "metadata": {},
   "outputs": [],
   "source": []
  }
 ],
 "metadata": {
  "kernelspec": {
   "display_name": "project-env",
   "language": "python",
   "name": "python3"
  },
  "language_info": {
   "codemirror_mode": {
    "name": "ipython",
    "version": 3
   },
   "file_extension": ".py",
   "mimetype": "text/x-python",
   "name": "python",
   "nbconvert_exporter": "python",
   "pygments_lexer": "ipython3",
   "version": "3.11.11"
  }
 },
 "nbformat": 4,
 "nbformat_minor": 2
}
