{
 "cells": [
  {
   "cell_type": "code",
   "execution_count": 115,
   "metadata": {},
   "outputs": [
    {
     "name": "stdout",
     "output_type": "stream",
     "text": [
      "<class 'pandas.core.frame.DataFrame'>\n",
      "RangeIndex: 17250 entries, 0 to 17249\n",
      "Data columns (total 49 columns):\n",
      " #   Column             Non-Null Count  Dtype  \n",
      "---  ------             --------------  -----  \n",
      " 0   공고번호               17250 non-null  int64  \n",
      " 1   주택명                17250 non-null  object \n",
      " 2   공급지역코드             17250 non-null  int64  \n",
      " 3   공급지역명              17250 non-null  object \n",
      " 4   공급위치우편번호           17250 non-null  int64  \n",
      " 5   공급위치               17250 non-null  object \n",
      " 6   공급규모               17250 non-null  int64  \n",
      " 7   모집공고일              17250 non-null  object \n",
      " 8   청약접수시작일            17250 non-null  object \n",
      " 9   청약접수종료일            17250 non-null  object \n",
      " 10  당첨자발표일             17250 non-null  object \n",
      " 11  투기과열지구             17250 non-null  object \n",
      " 12  조정대상지역             17250 non-null  object \n",
      " 13  분양가상한제             17250 non-null  object \n",
      " 14  정비사업               17250 non-null  object \n",
      " 15  공공주택지구             17250 non-null  object \n",
      " 16  대규모택지개발지구          17250 non-null  object \n",
      " 17  수도권내민영공공주택지구       17250 non-null  object \n",
      " 18  주택형                17250 non-null  object \n",
      " 19  공급세대수              17250 non-null  int64  \n",
      " 20  순위                 17250 non-null  object \n",
      " 21  거주지역               17250 non-null  object \n",
      " 22  접수건수               17250 non-null  int64  \n",
      " 23  경쟁률                17250 non-null  float64\n",
      " 24  최저당첨가점             17250 non-null  float64\n",
      " 25  최고당첨가점             17206 non-null  object \n",
      " 26  평균당첨가점             17206 non-null  object \n",
      " 27  전용면적               17250 non-null  float64\n",
      " 28  미달여부               17250 non-null  object \n",
      " 29  공급금액(최고가 기준)       17250 non-null  float64\n",
      " 30  위도                 17250 non-null  float64\n",
      " 31  경도                 17250 non-null  float64\n",
      " 32  행정동코드              15960 non-null  float64\n",
      " 33  법정동코드              17250 non-null  float64\n",
      " 34  시도                 17250 non-null  object \n",
      " 35  시군구                17250 non-null  object \n",
      " 36  읍면동1               15960 non-null  object \n",
      " 37  읍면동2               17250 non-null  object \n",
      " 38  전용면적당 공급금액(최고가기준)  17250 non-null  float64\n",
      " 39  전용면적당 시세차익         14578 non-null  float64\n",
      " 40  기사 번호              17250 non-null  int64  \n",
      " 41  토픽 1               17250 non-null  float64\n",
      " 42  토픽 2               17250 non-null  float64\n",
      " 43  토픽 3               17250 non-null  float64\n",
      " 44  토픽 4               17250 non-null  float64\n",
      " 45  토픽 5               17250 non-null  float64\n",
      " 46  토픽 6               17250 non-null  float64\n",
      " 47  토픽 7               17250 non-null  float64\n",
      " 48  주요 토픽              17250 non-null  object \n",
      "dtypes: float64(17), int64(7), object(25)\n",
      "memory usage: 6.4+ MB\n"
     ]
    }
   ],
   "source": [
    "import pandas as pd\n",
    "import numpy as np\n",
    "import matplotlib.pyplot as plt\n",
    "import plotly.express as px\n",
    "import seaborn as sns\n",
    "\n",
    "data = pd.read_csv(\"../../storage/train_data/train250318-01_topic_merged_컬럼삭제안됨.csv\")\n",
    "data.info()"
   ]
  },
  {
   "cell_type": "code",
   "execution_count": 79,
   "metadata": {},
   "outputs": [
    {
     "data": {
      "text/plain": [
       "Index(['공고번호', '주택명', '공급지역코드', '공급지역명', '공급위치우편번호', '공급위치', '공급규모', '모집공고일',\n",
       "       '청약접수시작일', '청약접수종료일', '당첨자발표일', '투기과열지구', '조정대상지역', '분양가상한제', '정비사업',\n",
       "       '공공주택지구', '대규모택지개발지구', '수도권내민영공공주택지구', '주택형', '공급세대수', '순위', '거주지역',\n",
       "       '접수건수', '경쟁률', '최저당첨가점', '최고당첨가점', '평균당첨가점', '전용면적', '미달여부',\n",
       "       '공급금액(최고가 기준)', '위도', '경도', '행정동코드', '법정동코드', '시도', '시군구', '읍면동1',\n",
       "       '읍면동2', '전용면적당 공급금액(최고가기준)', '전용면적당 시세차익', '기사 번호', '토픽 1', '토픽 2',\n",
       "       '토픽 3', '토픽 4', '토픽 5', '토픽 6', '토픽 7', '주요 토픽'],\n",
       "      dtype='object')"
      ]
     },
     "execution_count": 79,
     "metadata": {},
     "output_type": "execute_result"
    }
   ],
   "source": [
    "data.columns"
   ]
  },
  {
   "cell_type": "code",
   "execution_count": 119,
   "metadata": {},
   "outputs": [
    {
     "data": {
      "text/plain": [
       "0         0\n",
       "1         0\n",
       "2         0\n",
       "3         0\n",
       "4         0\n",
       "         ..\n",
       "17245     0\n",
       "17246    74\n",
       "17247     0\n",
       "17248    73\n",
       "17249     0\n",
       "Name: 최고당첨가점, Length: 17250, dtype: int64"
      ]
     },
     "execution_count": 119,
     "metadata": {},
     "output_type": "execute_result"
    }
   ],
   "source": [
    "# '최고당첨가점' 컬럼에 NaN 값과 '-'를 0으로 변경\n",
    "data['최고당첨가점'] = data['최고당첨가점'].replace({np.nan: 0, '-': 0})\n",
    "\n",
    "# '최고당첨가점' 컬럼을 수치형으로 변경\n",
    "data['최고당첨가점'] = pd.to_numeric(data['최고당첨가점'])\n",
    "\n",
    "data['최고당첨가점']"
   ]
  },
  {
   "cell_type": "code",
   "execution_count": null,
   "metadata": {},
   "outputs": [],
   "source": [
    "data_1 = data.copy()"
   ]
  },
  {
   "cell_type": "code",
   "execution_count": 95,
   "metadata": {},
   "outputs": [],
   "source": [
    "from sklearn.preprocessing import MinMaxScaler\n",
    "\n",
    "# 0이 아닌 최저당첨가점 선택\n",
    "low_filtered_data = data_1[data_1['최저당첨가점'] != 0]['최저당첨가점'].values.reshape(-1, 1)\n",
    "high_filtered_data = data_1[data_1['최고당첨가점'] != 0]['최고당첨가점'].values.reshape(-1, 1)\n",
    "\n",
    "\n",
    "# 정규화된 값을 원본 DataFrame에 적용\n",
    "data_1.loc[data_1['최저당첨가점'] != 0, '최저당첨가점'] = low_filtered_data\n",
    "data_1.loc[data_1['최고당첨가점'] != 0, '최고당첨가점'] = high_filtered_data\n",
    "\n",
    "# 확인\n",
    "data_1 = data_1[data_1['최저당첨가점'] != 0]\n",
    "data_1 = data_1[data_1['최고당첨가점'] != 0]"
   ]
  },
  {
   "cell_type": "markdown",
   "metadata": {},
   "source": [
    "# 규제지역_2와 최저/최고당첨가점 간 상관관계 (드롭해요!)\n",
    "- 규제지역_2 : 정비사업/공공주택지구/대규모택지개발지구/수도권내민영공공주택지구\n",
    "- 히트맵 그려서 봤을 때 당첨가점과 상관관계 없음"
   ]
  },
  {
   "cell_type": "code",
   "execution_count": 96,
   "metadata": {},
   "outputs": [
    {
     "data": {
      "text/html": [
       "<div>\n",
       "<style scoped>\n",
       "    .dataframe tbody tr th:only-of-type {\n",
       "        vertical-align: middle;\n",
       "    }\n",
       "\n",
       "    .dataframe tbody tr th {\n",
       "        vertical-align: top;\n",
       "    }\n",
       "\n",
       "    .dataframe thead th {\n",
       "        text-align: right;\n",
       "    }\n",
       "</style>\n",
       "<table border=\"1\" class=\"dataframe\">\n",
       "  <thead>\n",
       "    <tr style=\"text-align: right;\">\n",
       "      <th></th>\n",
       "      <th>공고번호</th>\n",
       "      <th>주택명</th>\n",
       "      <th>경쟁률</th>\n",
       "      <th>정비사업</th>\n",
       "      <th>공공주택지구</th>\n",
       "      <th>대규모택지개발지구</th>\n",
       "      <th>수도권내민영공공주택지구</th>\n",
       "      <th>최저당첨가점</th>\n",
       "      <th>최고당첨가점</th>\n",
       "    </tr>\n",
       "  </thead>\n",
       "  <tbody>\n",
       "    <tr>\n",
       "      <th>44</th>\n",
       "      <td>2025000020</td>\n",
       "      <td>e편한세상 제물포역 파크메종(조합원 취소분)</td>\n",
       "      <td>2.60</td>\n",
       "      <td>Y</td>\n",
       "      <td>N</td>\n",
       "      <td>N</td>\n",
       "      <td>N</td>\n",
       "      <td>34.0</td>\n",
       "      <td>49</td>\n",
       "    </tr>\n",
       "    <tr>\n",
       "      <th>48</th>\n",
       "      <td>2025000020</td>\n",
       "      <td>e편한세상 제물포역 파크메종(조합원 취소분)</td>\n",
       "      <td>2.00</td>\n",
       "      <td>Y</td>\n",
       "      <td>N</td>\n",
       "      <td>N</td>\n",
       "      <td>N</td>\n",
       "      <td>24.0</td>\n",
       "      <td>25</td>\n",
       "    </tr>\n",
       "    <tr>\n",
       "      <th>54</th>\n",
       "      <td>2025000020</td>\n",
       "      <td>e편한세상 제물포역 파크메종(조합원 취소분)</td>\n",
       "      <td>0.00</td>\n",
       "      <td>Y</td>\n",
       "      <td>N</td>\n",
       "      <td>N</td>\n",
       "      <td>N</td>\n",
       "      <td>33.0</td>\n",
       "      <td>33</td>\n",
       "    </tr>\n",
       "    <tr>\n",
       "      <th>60</th>\n",
       "      <td>2025000001</td>\n",
       "      <td>래미안 원페를라</td>\n",
       "      <td>305.14</td>\n",
       "      <td>Y</td>\n",
       "      <td>N</td>\n",
       "      <td>N</td>\n",
       "      <td>N</td>\n",
       "      <td>69.0</td>\n",
       "      <td>74</td>\n",
       "    </tr>\n",
       "    <tr>\n",
       "      <th>64</th>\n",
       "      <td>2025000001</td>\n",
       "      <td>래미안 원페를라</td>\n",
       "      <td>307.43</td>\n",
       "      <td>Y</td>\n",
       "      <td>N</td>\n",
       "      <td>N</td>\n",
       "      <td>N</td>\n",
       "      <td>69.0</td>\n",
       "      <td>77</td>\n",
       "    </tr>\n",
       "    <tr>\n",
       "      <th>...</th>\n",
       "      <td>...</td>\n",
       "      <td>...</td>\n",
       "      <td>...</td>\n",
       "      <td>...</td>\n",
       "      <td>...</td>\n",
       "      <td>...</td>\n",
       "      <td>...</td>\n",
       "      <td>...</td>\n",
       "      <td>...</td>\n",
       "    </tr>\n",
       "    <tr>\n",
       "      <th>17240</th>\n",
       "      <td>2020000298</td>\n",
       "      <td>시흥장현 영무예다음</td>\n",
       "      <td>126.76</td>\n",
       "      <td>N</td>\n",
       "      <td>Y</td>\n",
       "      <td>Y</td>\n",
       "      <td>Y</td>\n",
       "      <td>61.0</td>\n",
       "      <td>70</td>\n",
       "    </tr>\n",
       "    <tr>\n",
       "      <th>17242</th>\n",
       "      <td>2020000298</td>\n",
       "      <td>시흥장현 영무예다음</td>\n",
       "      <td>0.00</td>\n",
       "      <td>N</td>\n",
       "      <td>Y</td>\n",
       "      <td>Y</td>\n",
       "      <td>Y</td>\n",
       "      <td>59.0</td>\n",
       "      <td>79</td>\n",
       "    </tr>\n",
       "    <tr>\n",
       "      <th>17244</th>\n",
       "      <td>2020000298</td>\n",
       "      <td>시흥장현 영무예다음</td>\n",
       "      <td>45.00</td>\n",
       "      <td>N</td>\n",
       "      <td>Y</td>\n",
       "      <td>Y</td>\n",
       "      <td>Y</td>\n",
       "      <td>63.0</td>\n",
       "      <td>74</td>\n",
       "    </tr>\n",
       "    <tr>\n",
       "      <th>17246</th>\n",
       "      <td>2020000298</td>\n",
       "      <td>시흥장현 영무예다음</td>\n",
       "      <td>106.42</td>\n",
       "      <td>N</td>\n",
       "      <td>Y</td>\n",
       "      <td>Y</td>\n",
       "      <td>Y</td>\n",
       "      <td>66.0</td>\n",
       "      <td>74</td>\n",
       "    </tr>\n",
       "    <tr>\n",
       "      <th>17248</th>\n",
       "      <td>2020000298</td>\n",
       "      <td>시흥장현 영무예다음</td>\n",
       "      <td>0.00</td>\n",
       "      <td>N</td>\n",
       "      <td>Y</td>\n",
       "      <td>Y</td>\n",
       "      <td>Y</td>\n",
       "      <td>63.0</td>\n",
       "      <td>73</td>\n",
       "    </tr>\n",
       "  </tbody>\n",
       "</table>\n",
       "<p>3833 rows × 9 columns</p>\n",
       "</div>"
      ],
      "text/plain": [
       "             공고번호                       주택명     경쟁률 정비사업 공공주택지구 대규모택지개발지구  \\\n",
       "44     2025000020  e편한세상 제물포역 파크메종(조합원 취소분)    2.60    Y      N         N   \n",
       "48     2025000020  e편한세상 제물포역 파크메종(조합원 취소분)    2.00    Y      N         N   \n",
       "54     2025000020  e편한세상 제물포역 파크메종(조합원 취소분)    0.00    Y      N         N   \n",
       "60     2025000001                  래미안 원페를라  305.14    Y      N         N   \n",
       "64     2025000001                  래미안 원페를라  307.43    Y      N         N   \n",
       "...           ...                       ...     ...  ...    ...       ...   \n",
       "17240  2020000298                시흥장현 영무예다음  126.76    N      Y         Y   \n",
       "17242  2020000298                시흥장현 영무예다음    0.00    N      Y         Y   \n",
       "17244  2020000298                시흥장현 영무예다음   45.00    N      Y         Y   \n",
       "17246  2020000298                시흥장현 영무예다음  106.42    N      Y         Y   \n",
       "17248  2020000298                시흥장현 영무예다음    0.00    N      Y         Y   \n",
       "\n",
       "      수도권내민영공공주택지구  최저당첨가점  최고당첨가점  \n",
       "44               N    34.0      49  \n",
       "48               N    24.0      25  \n",
       "54               N    33.0      33  \n",
       "60               N    69.0      74  \n",
       "64               N    69.0      77  \n",
       "...            ...     ...     ...  \n",
       "17240            Y    61.0      70  \n",
       "17242            Y    59.0      79  \n",
       "17244            Y    63.0      74  \n",
       "17246            Y    66.0      74  \n",
       "17248            Y    63.0      73  \n",
       "\n",
       "[3833 rows x 9 columns]"
      ]
     },
     "execution_count": 96,
     "metadata": {},
     "output_type": "execute_result"
    }
   ],
   "source": [
    "data_1 = data_1[['공고번호', '주택명','경쟁률', '정비사업', '공공주택지구', '대규모택지개발지구', '수도권내민영공공주택지구', '최저당첨가점', '최고당첨가점']]\n",
    "data_1"
   ]
  },
  {
   "cell_type": "code",
   "execution_count": 170,
   "metadata": {},
   "outputs": [
    {
     "data": {
      "image/png": "[encoded data removed]",
      "text/plain": [
       "<Figure size 1200x1000 with 8 Axes>"
      ]
     },
     "metadata": {},
     "output_type": "display_data"
    }
   ],
   "source": [
    "data_1['정비사업_numeric'] = data_1['정비사업'].map({'N': 0, 'Y': 1})\n",
    "data_1['공공주택지구_numeric'] = data_1['공공주택지구'].map({'N': 0, 'Y': 1})\n",
    "data_1['대규모택지개발지구_numeric'] = data_1['대규모택지개발지구'].map({'N': 0, 'Y': 1})\n",
    "data_1['수도권내민영공공주택지구_numeric'] = data_1['수도권내민영공공주택지구'].map({'N': 0, 'Y': 1})\n",
    "\n",
    "# 상관계수 행렬 생성\n",
    "cols = ['정비사업_numeric', '공공주택지구_numeric', '대규모택지개발지구_numeric', '수도권내민영공공주택지구_numeric', '경쟁률']\n",
    "correlation_matrix = data_1[cols].corr()\n",
    "\n",
    "# 히트맵 시각화 (4개 subplot으로 구성)\n",
    "fig, axes = plt.subplots(2, 2, figsize=(12, 10))\n",
    "\n",
    "titles = ['정비사업 vs 최저당첨가점', '공공주택지구 vs 최저당첨가점', \n",
    "          '대규모택지개발지구 vs 최저당첨가점', '수도권내민영공공주택지구 vs 최저당첨가점']\n",
    "\n",
    "for ax, col, title in zip(axes.flat, cols[:-1], titles):  \n",
    "    sns.heatmap(data_1[[col, '경쟁률']].corr(), annot=True, cmap='coolwarm', cbar=True, fmt='.2f', ax=ax)\n",
    "    ax.set_title(title)\n",
    "\n",
    "plt.tight_layout()\n",
    "plt.show()"
   ]
  },
  {
   "cell_type": "markdown",
   "metadata": {},
   "source": [
    "### 최저당첨가점"
   ]
  },
  {
   "cell_type": "code",
   "execution_count": 101,
   "metadata": {},
   "outputs": [
    {
     "data": {
      "image/png": "[encoded data removed]",
      "text/plain": [
       "<Figure size 1200x1000 with 8 Axes>"
      ]
     },
     "metadata": {},
     "output_type": "display_data"
    }
   ],
   "source": [
    "data_1['정비사업_numeric'] = data_1['정비사업'].map({'N': 0, 'Y': 1})\n",
    "data_1['공공주택지구_numeric'] = data_1['공공주택지구'].map({'N': 0, 'Y': 1})\n",
    "data_1['대규모택지개발지구_numeric'] = data_1['대규모택지개발지구'].map({'N': 0, 'Y': 1})\n",
    "data_1['수도권내민영공공주택지구_numeric'] = data_1['수도권내민영공공주택지구'].map({'N': 0, 'Y': 1})\n",
    "\n",
    "# 상관계수 행렬 생성\n",
    "cols = ['정비사업_numeric', '공공주택지구_numeric', '대규모택지개발지구_numeric', '수도권내민영공공주택지구_numeric', '최저당첨가점']\n",
    "correlation_matrix = data_1[cols].corr()\n",
    "\n",
    "# 히트맵 시각화 (4개 subplot으로 구성)\n",
    "fig, axes = plt.subplots(2, 2, figsize=(12, 10))\n",
    "\n",
    "titles = ['정비사업 vs 최저당첨가점', '공공주택지구 vs 최저당첨가점', \n",
    "          '대규모택지개발지구 vs 최저당첨가점', '수도권내민영공공주택지구 vs 최저당첨가점']\n",
    "\n",
    "for ax, col, title in zip(axes.flat, cols[:-1], titles):  \n",
    "    sns.heatmap(data_1[[col, '최저당첨가점']].corr(), annot=True, cmap='coolwarm', cbar=True, fmt='.2f', ax=ax)\n",
    "    ax.set_title(title)\n",
    "\n",
    "plt.tight_layout()\n",
    "plt.show()"
   ]
  },
  {
   "cell_type": "markdown",
   "metadata": {},
   "source": [
    "### 최고당첨가점"
   ]
  },
  {
   "cell_type": "code",
   "execution_count": 102,
   "metadata": {},
   "outputs": [
    {
     "data": {
      "image/png": "[encoded data removed]",
      "text/plain": [
       "<Figure size 1200x1000 with 8 Axes>"
      ]
     },
     "metadata": {},
     "output_type": "display_data"
    }
   ],
   "source": [
    "data_1['정비사업_numeric'] = data_1['정비사업'].map({'N': 0, 'Y': 1})\n",
    "data_1['공공주택지구_numeric'] = data_1['공공주택지구'].map({'N': 0, 'Y': 1})\n",
    "data_1['대규모택지개발지구_numeric'] = data_1['대규모택지개발지구'].map({'N': 0, 'Y': 1})\n",
    "data_1['수도권내민영공공주택지구_numeric'] = data_1['수도권내민영공공주택지구'].map({'N': 0, 'Y': 1})\n",
    "\n",
    "# 상관계수 행렬 생성\n",
    "cols = ['정비사업_numeric', '공공주택지구_numeric', '대규모택지개발지구_numeric', '수도권내민영공공주택지구_numeric', '최고당첨가점']\n",
    "correlation_matrix = data_1[cols].corr()\n",
    "\n",
    "# 히트맵 시각화 (4개 subplot으로 구성)\n",
    "fig, axes = plt.subplots(2, 2, figsize=(12, 10))\n",
    "\n",
    "titles = ['정비사업 vs 최고당첨가점', '공공주택지구 vs 최고당첨가점', \n",
    "          '대규모택지개발지구 vs 최고당첨가점', '수도권내민영공공주택지구 vs 최고당첨가점']\n",
    "\n",
    "for ax, col, title in zip(axes.flat, cols[:-1], titles):  \n",
    "    sns.heatmap(data_1[[col, '최고당첨가점']].corr(), annot=True, cmap='coolwarm', cbar=True, fmt='.2f', ax=ax)\n",
    "    ax.set_title(title)\n",
    "\n",
    "plt.tight_layout()\n",
    "plt.show()"
   ]
  },
  {
   "cell_type": "code",
   "execution_count": 111,
   "metadata": {},
   "outputs": [
    {
     "data": {
      "text/plain": [
       "Index(['공고번호', '주택명', '공급지역코드', '공급지역명', '공급위치우편번호', '공급위치', '공급규모', '모집공고일',\n",
       "       '청약접수시작일', '청약접수종료일', '당첨자발표일', '투기과열지구', '조정대상지역', '분양가상한제', '정비사업',\n",
       "       '공공주택지구', '대규모택지개발지구', '수도권내민영공공주택지구', '주택형', '공급세대수', '순위', '거주지역',\n",
       "       '접수건수', '경쟁률', '최저당첨가점', '최고당첨가점', '평균당첨가점', '전용면적', '미달여부',\n",
       "       '공급금액(최고가 기준)', '위도', '경도', '행정동코드', '법정동코드', '시도', '시군구', '읍면동1',\n",
       "       '읍면동2', '전용면적당 공급금액(최고가기준)', '전용면적당 시세차익', '기사 번호', '토픽 1', '토픽 2',\n",
       "       '토픽 3', '토픽 4', '토픽 5', '토픽 6', '토픽 7', '주요 토픽'],\n",
       "      dtype='object')"
      ]
     },
     "execution_count": 111,
     "metadata": {},
     "output_type": "execute_result"
    }
   ],
   "source": [
    "data.columns"
   ]
  },
  {
   "cell_type": "code",
   "execution_count": 116,
   "metadata": {},
   "outputs": [
    {
     "data": {
      "text/plain": [
       "Index(['공고번호', '주택명', '공급지역코드', '공급지역명', '공급위치우편번호', '공급위치', '공급규모', '모집공고일',\n",
       "       '청약접수시작일', '청약접수종료일', '당첨자발표일', '투기과열지구', '조정대상지역', '분양가상한제', '주택형',\n",
       "       '공급세대수', '순위', '거주지역', '접수건수', '경쟁률', '최저당첨가점', '최고당첨가점', '평균당첨가점',\n",
       "       '전용면적', '미달여부', '공급금액(최고가 기준)', '위도', '경도', '행정동코드', '법정동코드', '시도',\n",
       "       '시군구', '읍면동1', '읍면동2', '전용면적당 공급금액(최고가기준)', '전용면적당 시세차익', '기사 번호',\n",
       "       '토픽 1', '토픽 2', '토픽 3', '토픽 4', '토픽 5', '토픽 6', '토픽 7', '주요 토픽'],\n",
       "      dtype='object')"
      ]
     },
     "execution_count": 116,
     "metadata": {},
     "output_type": "execute_result"
    }
   ],
   "source": [
    "data.drop(['정비사업', '공공주택지구', '대규모택지개발지구', '수도권내민영공공주택지구'], axis=1, inplace=True)\n",
    "data.columns"
   ]
  },
  {
   "cell_type": "markdown",
   "metadata": {},
   "source": [
    "# 공급세대수/규모/접수건수/경쟁률 칼럼 분석"
   ]
  },
  {
   "cell_type": "code",
   "execution_count": 183,
   "metadata": {},
   "outputs": [],
   "source": [
    "data_2 = data.copy()"
   ]
  },
  {
   "cell_type": "code",
   "execution_count": 184,
   "metadata": {},
   "outputs": [
    {
     "data": {
      "text/html": [
       "<div>\n",
       "<style scoped>\n",
       "    .dataframe tbody tr th:only-of-type {\n",
       "        vertical-align: middle;\n",
       "    }\n",
       "\n",
       "    .dataframe tbody tr th {\n",
       "        vertical-align: top;\n",
       "    }\n",
       "\n",
       "    .dataframe thead th {\n",
       "        text-align: right;\n",
       "    }\n",
       "</style>\n",
       "<table border=\"1\" class=\"dataframe\">\n",
       "  <thead>\n",
       "    <tr style=\"text-align: right;\">\n",
       "      <th></th>\n",
       "      <th>공고번호</th>\n",
       "      <th>주택명</th>\n",
       "      <th>공급규모</th>\n",
       "      <th>공급세대수</th>\n",
       "      <th>접수건수</th>\n",
       "      <th>경쟁률</th>\n",
       "      <th>최저당첨가점</th>\n",
       "      <th>최고당첨가점</th>\n",
       "      <th>위도</th>\n",
       "      <th>경도</th>\n",
       "    </tr>\n",
       "  </thead>\n",
       "  <tbody>\n",
       "    <tr>\n",
       "      <th>0</th>\n",
       "      <td>2025000043</td>\n",
       "      <td>부천 JY 포에시아</td>\n",
       "      <td>55</td>\n",
       "      <td>5</td>\n",
       "      <td>0</td>\n",
       "      <td>0.00</td>\n",
       "      <td>0.0</td>\n",
       "      <td>0</td>\n",
       "      <td>37.485377</td>\n",
       "      <td>126.776922</td>\n",
       "    </tr>\n",
       "    <tr>\n",
       "      <th>1</th>\n",
       "      <td>2025000043</td>\n",
       "      <td>부천 JY 포에시아</td>\n",
       "      <td>55</td>\n",
       "      <td>5</td>\n",
       "      <td>15</td>\n",
       "      <td>3.00</td>\n",
       "      <td>0.0</td>\n",
       "      <td>0</td>\n",
       "      <td>37.485377</td>\n",
       "      <td>126.776922</td>\n",
       "    </tr>\n",
       "    <tr>\n",
       "      <th>2</th>\n",
       "      <td>2025000043</td>\n",
       "      <td>부천 JY 포에시아</td>\n",
       "      <td>55</td>\n",
       "      <td>5</td>\n",
       "      <td>3</td>\n",
       "      <td>0.00</td>\n",
       "      <td>0.0</td>\n",
       "      <td>0</td>\n",
       "      <td>37.485377</td>\n",
       "      <td>126.776922</td>\n",
       "    </tr>\n",
       "    <tr>\n",
       "      <th>3</th>\n",
       "      <td>2025000043</td>\n",
       "      <td>부천 JY 포에시아</td>\n",
       "      <td>55</td>\n",
       "      <td>5</td>\n",
       "      <td>10</td>\n",
       "      <td>0.00</td>\n",
       "      <td>0.0</td>\n",
       "      <td>0</td>\n",
       "      <td>37.485377</td>\n",
       "      <td>126.776922</td>\n",
       "    </tr>\n",
       "    <tr>\n",
       "      <th>4</th>\n",
       "      <td>2025000043</td>\n",
       "      <td>부천 JY 포에시아</td>\n",
       "      <td>55</td>\n",
       "      <td>5</td>\n",
       "      <td>1</td>\n",
       "      <td>0.20</td>\n",
       "      <td>0.0</td>\n",
       "      <td>0</td>\n",
       "      <td>37.485377</td>\n",
       "      <td>126.776922</td>\n",
       "    </tr>\n",
       "    <tr>\n",
       "      <th>...</th>\n",
       "      <td>...</td>\n",
       "      <td>...</td>\n",
       "      <td>...</td>\n",
       "      <td>...</td>\n",
       "      <td>...</td>\n",
       "      <td>...</td>\n",
       "      <td>...</td>\n",
       "      <td>...</td>\n",
       "      <td>...</td>\n",
       "      <td>...</td>\n",
       "    </tr>\n",
       "    <tr>\n",
       "      <th>17245</th>\n",
       "      <td>2020000298</td>\n",
       "      <td>시흥장현 영무예다음</td>\n",
       "      <td>747</td>\n",
       "      <td>216</td>\n",
       "      <td>0</td>\n",
       "      <td>188.23</td>\n",
       "      <td>0.0</td>\n",
       "      <td>0</td>\n",
       "      <td>37.380161</td>\n",
       "      <td>126.790527</td>\n",
       "    </tr>\n",
       "    <tr>\n",
       "      <th>17246</th>\n",
       "      <td>2020000298</td>\n",
       "      <td>시흥장현 영무예다음</td>\n",
       "      <td>747</td>\n",
       "      <td>216</td>\n",
       "      <td>0</td>\n",
       "      <td>106.42</td>\n",
       "      <td>66.0</td>\n",
       "      <td>74</td>\n",
       "      <td>37.380161</td>\n",
       "      <td>126.790527</td>\n",
       "    </tr>\n",
       "    <tr>\n",
       "      <th>17247</th>\n",
       "      <td>2020000298</td>\n",
       "      <td>시흥장현 영무예다음</td>\n",
       "      <td>747</td>\n",
       "      <td>216</td>\n",
       "      <td>0</td>\n",
       "      <td>0.00</td>\n",
       "      <td>0.0</td>\n",
       "      <td>0</td>\n",
       "      <td>37.380161</td>\n",
       "      <td>126.790527</td>\n",
       "    </tr>\n",
       "    <tr>\n",
       "      <th>17248</th>\n",
       "      <td>2020000298</td>\n",
       "      <td>시흥장현 영무예다음</td>\n",
       "      <td>747</td>\n",
       "      <td>216</td>\n",
       "      <td>0</td>\n",
       "      <td>0.00</td>\n",
       "      <td>63.0</td>\n",
       "      <td>73</td>\n",
       "      <td>37.380161</td>\n",
       "      <td>126.790527</td>\n",
       "    </tr>\n",
       "    <tr>\n",
       "      <th>17249</th>\n",
       "      <td>2020000298</td>\n",
       "      <td>시흥장현 영무예다음</td>\n",
       "      <td>747</td>\n",
       "      <td>216</td>\n",
       "      <td>0</td>\n",
       "      <td>0.00</td>\n",
       "      <td>0.0</td>\n",
       "      <td>0</td>\n",
       "      <td>37.380161</td>\n",
       "      <td>126.790527</td>\n",
       "    </tr>\n",
       "  </tbody>\n",
       "</table>\n",
       "<p>17250 rows × 10 columns</p>\n",
       "</div>"
      ],
      "text/plain": [
       "             공고번호         주택명  공급규모  공급세대수  접수건수     경쟁률  최저당첨가점  최고당첨가점  \\\n",
       "0      2025000043  부천 JY 포에시아    55      5     0    0.00     0.0       0   \n",
       "1      2025000043  부천 JY 포에시아    55      5    15    3.00     0.0       0   \n",
       "2      2025000043  부천 JY 포에시아    55      5     3    0.00     0.0       0   \n",
       "3      2025000043  부천 JY 포에시아    55      5    10    0.00     0.0       0   \n",
       "4      2025000043  부천 JY 포에시아    55      5     1    0.20     0.0       0   \n",
       "...           ...         ...   ...    ...   ...     ...     ...     ...   \n",
       "17245  2020000298  시흥장현 영무예다음   747    216     0  188.23     0.0       0   \n",
       "17246  2020000298  시흥장현 영무예다음   747    216     0  106.42    66.0      74   \n",
       "17247  2020000298  시흥장현 영무예다음   747    216     0    0.00     0.0       0   \n",
       "17248  2020000298  시흥장현 영무예다음   747    216     0    0.00    63.0      73   \n",
       "17249  2020000298  시흥장현 영무예다음   747    216     0    0.00     0.0       0   \n",
       "\n",
       "              위도          경도  \n",
       "0      37.485377  126.776922  \n",
       "1      37.485377  126.776922  \n",
       "2      37.485377  126.776922  \n",
       "3      37.485377  126.776922  \n",
       "4      37.485377  126.776922  \n",
       "...          ...         ...  \n",
       "17245  37.380161  126.790527  \n",
       "17246  37.380161  126.790527  \n",
       "17247  37.380161  126.790527  \n",
       "17248  37.380161  126.790527  \n",
       "17249  37.380161  126.790527  \n",
       "\n",
       "[17250 rows x 10 columns]"
      ]
     },
     "execution_count": 184,
     "metadata": {},
     "output_type": "execute_result"
    }
   ],
   "source": [
    "data_2 = data_2[['공고번호', '주택명', '공급규모', '공급세대수', '접수건수', '경쟁률', '최저당첨가점', '최고당첨가점', '위도', '경도']]\n",
    "data_2"
   ]
  },
  {
   "cell_type": "code",
   "execution_count": 185,
   "metadata": {},
   "outputs": [
    {
     "data": {
      "text/plain": [
       "0         0\n",
       "1         0\n",
       "2         0\n",
       "3         0\n",
       "4         0\n",
       "         ..\n",
       "17245     0\n",
       "17246    74\n",
       "17247     0\n",
       "17248    73\n",
       "17249     0\n",
       "Name: 최고당첨가점, Length: 17250, dtype: int64"
      ]
     },
     "execution_count": 185,
     "metadata": {},
     "output_type": "execute_result"
    }
   ],
   "source": [
    "# '최고당첨가점' 컬럼에 NaN 값과 '-'를 0으로 변경\n",
    "data_2['최고당첨가점'] = data_2['최고당첨가점'].replace({np.nan: 0, '-': 0})\n",
    "\n",
    "# '최고당첨가점' 컬럼을 수치형으로 변경\n",
    "data_2['최고당첨가점'] = pd.to_numeric(data['최고당첨가점'])\n",
    "\n",
    "data_2['최고당첨가점']"
   ]
  },
  {
   "cell_type": "code",
   "execution_count": 186,
   "metadata": {},
   "outputs": [],
   "source": [
    "from sklearn.preprocessing import MinMaxScaler\n",
    "\n",
    "# 0이 아닌 최저당첨가점 선택\n",
    "low_filtered_data = data_2[data_2['최저당첨가점'] != 0]['최저당첨가점'].values.reshape(-1, 1)\n",
    "high_filtered_data = data_2[data_2['최고당첨가점'] != 0]['최고당첨가점'].values.reshape(-1, 1)\n",
    "\n",
    "\n",
    "# 정규화된 값을 원본 DataFrame에 적용\n",
    "data_2.loc[data_2['최저당첨가점'] != 0, '최저당첨가점'] = low_filtered_data\n",
    "data_2.loc[data_2['최고당첨가점'] != 0, '최고당첨가점'] = high_filtered_data\n",
    "\n",
    "# 확인\n",
    "data_2 = data_2[data_2['최저당첨가점'] != 0]\n",
    "data_2 = data_2[data_2['최고당첨가점'] != 0]"
   ]
  },
  {
   "cell_type": "code",
   "execution_count": 187,
   "metadata": {},
   "outputs": [
    {
     "data": {
      "text/html": [
       "<div>\n",
       "<style scoped>\n",
       "    .dataframe tbody tr th:only-of-type {\n",
       "        vertical-align: middle;\n",
       "    }\n",
       "\n",
       "    .dataframe tbody tr th {\n",
       "        vertical-align: top;\n",
       "    }\n",
       "\n",
       "    .dataframe thead th {\n",
       "        text-align: right;\n",
       "    }\n",
       "</style>\n",
       "<table border=\"1\" class=\"dataframe\">\n",
       "  <thead>\n",
       "    <tr style=\"text-align: right;\">\n",
       "      <th></th>\n",
       "      <th>공고번호</th>\n",
       "      <th>주택명</th>\n",
       "      <th>공급규모</th>\n",
       "      <th>공급세대수</th>\n",
       "      <th>접수건수</th>\n",
       "      <th>경쟁률</th>\n",
       "      <th>최저당첨가점</th>\n",
       "      <th>최고당첨가점</th>\n",
       "      <th>위도</th>\n",
       "      <th>경도</th>\n",
       "    </tr>\n",
       "  </thead>\n",
       "  <tbody>\n",
       "    <tr>\n",
       "      <th>44</th>\n",
       "      <td>2025000020</td>\n",
       "      <td>e편한세상 제물포역 파크메종(조합원 취소분)</td>\n",
       "      <td>29</td>\n",
       "      <td>5</td>\n",
       "      <td>13</td>\n",
       "      <td>2.60</td>\n",
       "      <td>34.0</td>\n",
       "      <td>49</td>\n",
       "      <td>37.461024</td>\n",
       "      <td>126.657793</td>\n",
       "    </tr>\n",
       "    <tr>\n",
       "      <th>48</th>\n",
       "      <td>2025000020</td>\n",
       "      <td>e편한세상 제물포역 파크메종(조합원 취소분)</td>\n",
       "      <td>29</td>\n",
       "      <td>4</td>\n",
       "      <td>8</td>\n",
       "      <td>2.00</td>\n",
       "      <td>24.0</td>\n",
       "      <td>25</td>\n",
       "      <td>37.461024</td>\n",
       "      <td>126.657793</td>\n",
       "    </tr>\n",
       "    <tr>\n",
       "      <th>54</th>\n",
       "      <td>2025000020</td>\n",
       "      <td>e편한세상 제물포역 파크메종(조합원 취소분)</td>\n",
       "      <td>29</td>\n",
       "      <td>3</td>\n",
       "      <td>1</td>\n",
       "      <td>0.00</td>\n",
       "      <td>33.0</td>\n",
       "      <td>33</td>\n",
       "      <td>37.461024</td>\n",
       "      <td>126.657793</td>\n",
       "    </tr>\n",
       "    <tr>\n",
       "      <th>60</th>\n",
       "      <td>2025000001</td>\n",
       "      <td>래미안 원페를라</td>\n",
       "      <td>482</td>\n",
       "      <td>35</td>\n",
       "      <td>0</td>\n",
       "      <td>305.14</td>\n",
       "      <td>69.0</td>\n",
       "      <td>74</td>\n",
       "      <td>37.491279</td>\n",
       "      <td>126.987523</td>\n",
       "    </tr>\n",
       "    <tr>\n",
       "      <th>64</th>\n",
       "      <td>2025000001</td>\n",
       "      <td>래미안 원페를라</td>\n",
       "      <td>482</td>\n",
       "      <td>30</td>\n",
       "      <td>0</td>\n",
       "      <td>307.43</td>\n",
       "      <td>69.0</td>\n",
       "      <td>77</td>\n",
       "      <td>37.491279</td>\n",
       "      <td>126.987523</td>\n",
       "    </tr>\n",
       "    <tr>\n",
       "      <th>...</th>\n",
       "      <td>...</td>\n",
       "      <td>...</td>\n",
       "      <td>...</td>\n",
       "      <td>...</td>\n",
       "      <td>...</td>\n",
       "      <td>...</td>\n",
       "      <td>...</td>\n",
       "      <td>...</td>\n",
       "      <td>...</td>\n",
       "      <td>...</td>\n",
       "    </tr>\n",
       "    <tr>\n",
       "      <th>17240</th>\n",
       "      <td>2020000298</td>\n",
       "      <td>시흥장현 영무예다음</td>\n",
       "      <td>747</td>\n",
       "      <td>57</td>\n",
       "      <td>0</td>\n",
       "      <td>126.76</td>\n",
       "      <td>61.0</td>\n",
       "      <td>70</td>\n",
       "      <td>37.380161</td>\n",
       "      <td>126.790527</td>\n",
       "    </tr>\n",
       "    <tr>\n",
       "      <th>17242</th>\n",
       "      <td>2020000298</td>\n",
       "      <td>시흥장현 영무예다음</td>\n",
       "      <td>747</td>\n",
       "      <td>57</td>\n",
       "      <td>0</td>\n",
       "      <td>0.00</td>\n",
       "      <td>59.0</td>\n",
       "      <td>79</td>\n",
       "      <td>37.380161</td>\n",
       "      <td>126.790527</td>\n",
       "    </tr>\n",
       "    <tr>\n",
       "      <th>17244</th>\n",
       "      <td>2020000298</td>\n",
       "      <td>시흥장현 영무예다음</td>\n",
       "      <td>747</td>\n",
       "      <td>216</td>\n",
       "      <td>0</td>\n",
       "      <td>45.00</td>\n",
       "      <td>63.0</td>\n",
       "      <td>74</td>\n",
       "      <td>37.380161</td>\n",
       "      <td>126.790527</td>\n",
       "    </tr>\n",
       "    <tr>\n",
       "      <th>17246</th>\n",
       "      <td>2020000298</td>\n",
       "      <td>시흥장현 영무예다음</td>\n",
       "      <td>747</td>\n",
       "      <td>216</td>\n",
       "      <td>0</td>\n",
       "      <td>106.42</td>\n",
       "      <td>66.0</td>\n",
       "      <td>74</td>\n",
       "      <td>37.380161</td>\n",
       "      <td>126.790527</td>\n",
       "    </tr>\n",
       "    <tr>\n",
       "      <th>17248</th>\n",
       "      <td>2020000298</td>\n",
       "      <td>시흥장현 영무예다음</td>\n",
       "      <td>747</td>\n",
       "      <td>216</td>\n",
       "      <td>0</td>\n",
       "      <td>0.00</td>\n",
       "      <td>63.0</td>\n",
       "      <td>73</td>\n",
       "      <td>37.380161</td>\n",
       "      <td>126.790527</td>\n",
       "    </tr>\n",
       "  </tbody>\n",
       "</table>\n",
       "<p>3833 rows × 10 columns</p>\n",
       "</div>"
      ],
      "text/plain": [
       "             공고번호                       주택명  공급규모  공급세대수  접수건수     경쟁률  \\\n",
       "44     2025000020  e편한세상 제물포역 파크메종(조합원 취소분)    29      5    13    2.60   \n",
       "48     2025000020  e편한세상 제물포역 파크메종(조합원 취소분)    29      4     8    2.00   \n",
       "54     2025000020  e편한세상 제물포역 파크메종(조합원 취소분)    29      3     1    0.00   \n",
       "60     2025000001                  래미안 원페를라   482     35     0  305.14   \n",
       "64     2025000001                  래미안 원페를라   482     30     0  307.43   \n",
       "...           ...                       ...   ...    ...   ...     ...   \n",
       "17240  2020000298                시흥장현 영무예다음   747     57     0  126.76   \n",
       "17242  2020000298                시흥장현 영무예다음   747     57     0    0.00   \n",
       "17244  2020000298                시흥장현 영무예다음   747    216     0   45.00   \n",
       "17246  2020000298                시흥장현 영무예다음   747    216     0  106.42   \n",
       "17248  2020000298                시흥장현 영무예다음   747    216     0    0.00   \n",
       "\n",
       "       최저당첨가점  최고당첨가점         위도          경도  \n",
       "44       34.0      49  37.461024  126.657793  \n",
       "48       24.0      25  37.461024  126.657793  \n",
       "54       33.0      33  37.461024  126.657793  \n",
       "60       69.0      74  37.491279  126.987523  \n",
       "64       69.0      77  37.491279  126.987523  \n",
       "...       ...     ...        ...         ...  \n",
       "17240    61.0      70  37.380161  126.790527  \n",
       "17242    59.0      79  37.380161  126.790527  \n",
       "17244    63.0      74  37.380161  126.790527  \n",
       "17246    66.0      74  37.380161  126.790527  \n",
       "17248    63.0      73  37.380161  126.790527  \n",
       "\n",
       "[3833 rows x 10 columns]"
      ]
     },
     "execution_count": 187,
     "metadata": {},
     "output_type": "execute_result"
    }
   ],
   "source": [
    "data_2"
   ]
  },
  {
   "cell_type": "code",
   "execution_count": 161,
   "metadata": {},
   "outputs": [
    {
     "data": {
      "text/html": [
       "<div style=\"width:100%;\"><div style=\"position:relative;width:100%;height:0;padding-bottom:60%;\"><span style=\"color:#565656\">Make this Notebook Trusted to load map: File -> Trust Notebook</span><iframe srcdoc=\"&lt;!DOCTYPE html&gt;\n",
       "&lt;html&gt;\n",
       "&lt;head&gt;\n",
       "    \n",
       "    &lt;meta http-equiv=&quot;content-type&quot; content=&quot;text/html; charset=UTF-8&quot; /&gt;\n",
       "    \n",
       "        &lt;script&gt;\n",
       "            L_NO_TOUCH = false;\n",
       "            L_DISABLE_3D = false;\n",
       "        &lt;/script&gt;\n",
       "    \n",
       "    &lt;style&gt;html, body {width: 100%;height: 100%;margin: 0;padding: 0;}&lt;/style&gt;\n",
       "    &lt;style&gt;#map {position:absolute;top:0;bottom:0;right:0;left:0;}&lt;/style&gt;\n",
       "    &lt;script src=&quot;https://cdn.jsdelivr.net/npm/leaflet@1.9.3/dist/leaflet.js&quot;&gt;&lt;/script&gt;\n",
       "    &lt;script src=&quot;https://code.jquery.com/jquery-1.12.4.min.js&quot;&gt;&lt;/script&gt;\n",
       "    &lt;script src=&quot;https://cdn.jsdelivr.net/npm/bootstrap@5.2.2/dist/js/bootstrap.bundle.min.js&quot;&gt;&lt;/script&gt;\n",
       "    &lt;script src=&quot;https://cdnjs.cloudflare.com/ajax/libs/Leaflet.awesome-markers/2.0.2/leaflet.awesome-markers.js&quot;&gt;&lt;/script&gt;\n",
       "    &lt;link rel=&quot;stylesheet&quot; href=&quot;https://cdn.jsdelivr.net/npm/leaflet@1.9.3/dist/leaflet.css&quot;/&gt;\n",
       "    &lt;link rel=&quot;stylesheet&quot; href=&quot;https://cdn.jsdelivr.net/npm/bootstrap@5.2.2/dist/css/bootstrap.min.css&quot;/&gt;\n",
       "    &lt;link rel=&quot;stylesheet&quot; href=&quot;https://netdna.bootstrapcdn.com/bootstrap/3.0.0/css/bootstrap.min.css&quot;/&gt;\n",
       "    &lt;link rel=&quot;stylesheet&quot; href=&quot;https://cdn.jsdelivr.net/npm/@fortawesome/fontawesome-free@6.2.0/css/all.min.css&quot;/&gt;\n",
       "    &lt;link rel=&quot;stylesheet&quot; href=&quot;https://cdnjs.cloudflare.com/ajax/libs/Leaflet.awesome-markers/2.0.2/leaflet.awesome-markers.css&quot;/&gt;\n",
       "    &lt;link rel=&quot;stylesheet&quot; href=&quot;https://cdn.jsdelivr.net/gh/python-visualization/folium/folium/templates/leaflet.awesome.rotate.min.css&quot;/&gt;\n",
       "    \n",
       "            &lt;meta name=&quot;viewport&quot; content=&quot;width=device-width,\n",
       "                initial-scale=1.0, maximum-scale=1.0, user-scalable=no&quot; /&gt;\n",
       "            &lt;style&gt;\n",
       "                #map_50ff473c82862390934aab9b11022e21 {\n",
       "                    position: relative;\n",
       "                    width: 100.0%;\n",
       "                    height: 100.0%;\n",
       "                    left: 0.0%;\n",
       "                    top: 0.0%;\n",
       "                }\n",
       "                .leaflet-container { font-size: 1rem; }\n",
       "            &lt;/style&gt;\n",
       "        \n",
       "    &lt;script src=&quot;https://cdnjs.cloudflare.com/ajax/libs/d3/3.5.5/d3.min.js&quot;&gt;&lt;/script&gt;\n",
       "&lt;/head&gt;\n",
       "&lt;body&gt;\n",
       "    \n",
       "    \n",
       "            &lt;div class=&quot;folium-map&quot; id=&quot;map_50ff473c82862390934aab9b11022e21&quot; &gt;&lt;/div&gt;\n",
       "        \n",
       "&lt;/body&gt;\n",
       "&lt;script&gt;\n",
       "    \n",
       "    \n",
       "            var map_50ff473c82862390934aab9b11022e21 = L.map(\n",
       "                &quot;map_50ff473c82862390934aab9b11022e21&quot;,\n",
       "                {\n",
       "                    center: [37.541, 126.986],\n",
       "                    crs: L.CRS.EPSG3857,\n",
       "                    zoom: 12,\n",
       "                    zoomControl: true,\n",
       "                    preferCanvas: false,\n",
       "                }\n",
       "            );\n",
       "\n",
       "            \n",
       "\n",
       "        \n",
       "    \n",
       "            var tile_layer_e493bc9098900f9dee8a80186cbb2b9d = L.tileLayer(\n",
       "                &quot;https://{s}.tile.openstreetmap.org/{z}/{x}/{y}.png&quot;,\n",
       "                {&quot;attribution&quot;: &quot;Data by \\u0026copy; \\u003ca target=\\&quot;_blank\\&quot; href=\\&quot;http://openstreetmap.org\\&quot;\\u003eOpenStreetMap\\u003c/a\\u003e, under \\u003ca target=\\&quot;_blank\\&quot; href=\\&quot;http://www.openstreetmap.org/copyright\\&quot;\\u003eODbL\\u003c/a\\u003e.&quot;, &quot;detectRetina&quot;: false, &quot;maxNativeZoom&quot;: 18, &quot;maxZoom&quot;: 18, &quot;minZoom&quot;: 0, &quot;noWrap&quot;: false, &quot;opacity&quot;: 1, &quot;subdomains&quot;: &quot;abc&quot;, &quot;tms&quot;: false}\n",
       "            ).addTo(map_50ff473c82862390934aab9b11022e21);\n",
       "        \n",
       "    \n",
       "            var circle_marker_8a6f8e1c627f8555da6e97e193bca123 = L.circleMarker(\n",
       "                [37.2208797975323, 127.20174058203],\n",
       "                {&quot;bubblingMouseEvents&quot;: true, &quot;color&quot;: &quot;#f6acb7ff&quot;, &quot;dashArray&quot;: null, &quot;dashOffset&quot;: null, &quot;fill&quot;: true, &quot;fillColor&quot;: &quot;#f6acb7ff&quot;, &quot;fillOpacity&quot;: 0.6000000000000001, &quot;fillRule&quot;: &quot;evenodd&quot;, &quot;lineCap&quot;: &quot;round&quot;, &quot;lineJoin&quot;: &quot;round&quot;, &quot;opacity&quot;: 1.0, &quot;radius&quot;: 37.13869420266447, &quot;stroke&quot;: true, &quot;weight&quot;: 3}\n",
       "            ).addTo(map_50ff473c82862390934aab9b11022e21);\n",
       "        \n",
       "    \n",
       "        var popup_41d4fb10d20fdf28eb2a880bbc222bcf = L.popup({&quot;maxWidth&quot;: &quot;100%&quot;});\n",
       "\n",
       "        \n",
       "            \n",
       "                var html_7f68c144b377e6cdfc406c2e7841784f = $(`&lt;div id=&quot;html_7f68c144b377e6cdfc406c2e7841784f&quot; style=&quot;width: 100.0%; height: 100.0%;&quot;&gt;공급세대수: 400&lt;br&gt;접수건수: 59&lt;br&gt;경쟁률: 0.0&lt;/div&gt;`)[0];\n",
       "                popup_41d4fb10d20fdf28eb2a880bbc222bcf.setContent(html_7f68c144b377e6cdfc406c2e7841784f);\n",
       "            \n",
       "        \n",
       "\n",
       "        circle_marker_8a6f8e1c627f8555da6e97e193bca123.bindPopup(popup_41d4fb10d20fdf28eb2a880bbc222bcf)\n",
       "        ;\n",
       "\n",
       "        \n",
       "    \n",
       "    \n",
       "            var marker_a72b63abf81c858298f0c7a540b26f5f = L.marker(\n",
       "                [37.2208797975323, 127.20174058203],\n",
       "                {}\n",
       "            ).addTo(map_50ff473c82862390934aab9b11022e21);\n",
       "        \n",
       "    \n",
       "            var div_icon_3fd1d5bd80f00962c2866757584b5181 = L.divIcon({&quot;className&quot;: &quot;empty&quot;, &quot;html&quot;: &quot;\\u003cdiv style=\\&quot;font-size: 8pt; color: black; font-weight: medium; text-align: center;\\&quot;\\u003e400\\u003c/div\\u003e&quot;, &quot;iconAnchor&quot;: [0, 0], &quot;iconSize&quot;: [10, 10]});\n",
       "            marker_a72b63abf81c858298f0c7a540b26f5f.setIcon(div_icon_3fd1d5bd80f00962c2866757584b5181);\n",
       "        \n",
       "    \n",
       "            var circle_marker_da0a715e84b3df7accb771fbe0bf3b70 = L.circleMarker(\n",
       "                [37.4174355314411, 126.98888036807],\n",
       "                {&quot;bubblingMouseEvents&quot;: true, &quot;color&quot;: &quot;#f6a3b7ff&quot;, &quot;dashArray&quot;: null, &quot;dashOffset&quot;: null, &quot;fill&quot;: true, &quot;fillColor&quot;: &quot;#f6a3b7ff&quot;, &quot;fillOpacity&quot;: 0.653, &quot;fillRule&quot;: &quot;evenodd&quot;, &quot;lineCap&quot;: &quot;round&quot;, &quot;lineJoin&quot;: &quot;round&quot;, &quot;opacity&quot;: 1.0, &quot;radius&quot;: 33.040003126480435, &quot;stroke&quot;: true, &quot;weight&quot;: 3}\n",
       "            ).addTo(map_50ff473c82862390934aab9b11022e21);\n",
       "        \n",
       "    \n",
       "        var popup_513ba52d1339d8e002d73a730ae47646 = L.popup({&quot;maxWidth&quot;: &quot;100%&quot;});\n",
       "\n",
       "        \n",
       "            \n",
       "                var html_96141c3f0567dcc4ae73a0680238fec6 = $(`&lt;div id=&quot;html_96141c3f0567dcc4ae73a0680238fec6&quot; style=&quot;width: 100.0%; height: 100.0%;&quot;&gt;공급세대수: 453&lt;br&gt;접수건수: 0&lt;br&gt;경쟁률: 53.69&lt;/div&gt;`)[0];\n",
       "                popup_513ba52d1339d8e002d73a730ae47646.setContent(html_96141c3f0567dcc4ae73a0680238fec6);\n",
       "            \n",
       "        \n",
       "\n",
       "        circle_marker_da0a715e84b3df7accb771fbe0bf3b70.bindPopup(popup_513ba52d1339d8e002d73a730ae47646)\n",
       "        ;\n",
       "\n",
       "        \n",
       "    \n",
       "    \n",
       "            var marker_3239cec35b26f7aaaf0c7910de3460b4 = L.marker(\n",
       "                [37.4174355314411, 126.98888036807],\n",
       "                {}\n",
       "            ).addTo(map_50ff473c82862390934aab9b11022e21);\n",
       "        \n",
       "    \n",
       "            var div_icon_a5ae1c8e47559e3374619a535332b732 = L.divIcon({&quot;className&quot;: &quot;empty&quot;, &quot;html&quot;: &quot;\\u003cdiv style=\\&quot;font-size: 8pt; color: black; font-weight: medium; text-align: center;\\&quot;\\u003e453\\u003c/div\\u003e&quot;, &quot;iconAnchor&quot;: [0, 0], &quot;iconSize&quot;: [10, 10]});\n",
       "            marker_3239cec35b26f7aaaf0c7910de3460b4.setIcon(div_icon_a5ae1c8e47559e3374619a535332b732);\n",
       "        \n",
       "    \n",
       "            var circle_marker_68d4e1b0dbfa47f3c62b293aaebb16d3 = L.circleMarker(\n",
       "                [37.4174355314411, 126.98888036807],\n",
       "                {&quot;bubblingMouseEvents&quot;: true, &quot;color&quot;: &quot;#f6a3b7ff&quot;, &quot;dashArray&quot;: null, &quot;dashOffset&quot;: null, &quot;fill&quot;: true, &quot;fillColor&quot;: &quot;#f6a3b7ff&quot;, &quot;fillOpacity&quot;: 0.653, &quot;fillRule&quot;: &quot;evenodd&quot;, &quot;lineCap&quot;: &quot;round&quot;, &quot;lineJoin&quot;: &quot;round&quot;, &quot;opacity&quot;: 1.0, &quot;radius&quot;: 33.040003126480435, &quot;stroke&quot;: true, &quot;weight&quot;: 3}\n",
       "            ).addTo(map_50ff473c82862390934aab9b11022e21);\n",
       "        \n",
       "    \n",
       "        var popup_c5986b55455462d65f12f7be4d0c3e0a = L.popup({&quot;maxWidth&quot;: &quot;100%&quot;});\n",
       "\n",
       "        \n",
       "            \n",
       "                var html_084d50ecb83d48c764414fae8d5dff97 = $(`&lt;div id=&quot;html_084d50ecb83d48c764414fae8d5dff97&quot; style=&quot;width: 100.0%; height: 100.0%;&quot;&gt;공급세대수: 453&lt;br&gt;접수건수: 0&lt;br&gt;경쟁률: 457.02&lt;/div&gt;`)[0];\n",
       "                popup_c5986b55455462d65f12f7be4d0c3e0a.setContent(html_084d50ecb83d48c764414fae8d5dff97);\n",
       "            \n",
       "        \n",
       "\n",
       "        circle_marker_68d4e1b0dbfa47f3c62b293aaebb16d3.bindPopup(popup_c5986b55455462d65f12f7be4d0c3e0a)\n",
       "        ;\n",
       "\n",
       "        \n",
       "    \n",
       "    \n",
       "            var marker_e17c98d736162b5b4d4986a9a57b3551 = L.marker(\n",
       "                [37.4174355314411, 126.98888036807],\n",
       "                {}\n",
       "            ).addTo(map_50ff473c82862390934aab9b11022e21);\n",
       "        \n",
       "    \n",
       "            var div_icon_ede053848a0a7717909c2dfd97140704 = L.divIcon({&quot;className&quot;: &quot;empty&quot;, &quot;html&quot;: &quot;\\u003cdiv style=\\&quot;font-size: 8pt; color: black; font-weight: medium; text-align: center;\\&quot;\\u003e453\\u003c/div\\u003e&quot;, &quot;iconAnchor&quot;: [0, 0], &quot;iconSize&quot;: [10, 10]});\n",
       "            marker_e17c98d736162b5b4d4986a9a57b3551.setIcon(div_icon_ede053848a0a7717909c2dfd97140704);\n",
       "        \n",
       "    \n",
       "            var circle_marker_100bbb93149ba8c67aad1cf2fc601dc4 = L.circleMarker(\n",
       "                [37.4174355314411, 126.98888036807],\n",
       "                {&quot;bubblingMouseEvents&quot;: true, &quot;color&quot;: &quot;#f6a3b7ff&quot;, &quot;dashArray&quot;: null, &quot;dashOffset&quot;: null, &quot;fill&quot;: true, &quot;fillColor&quot;: &quot;#f6a3b7ff&quot;, &quot;fillOpacity&quot;: 0.653, &quot;fillRule&quot;: &quot;evenodd&quot;, &quot;lineCap&quot;: &quot;round&quot;, &quot;lineJoin&quot;: &quot;round&quot;, &quot;opacity&quot;: 1.0, &quot;radius&quot;: 33.040003126480435, &quot;stroke&quot;: true, &quot;weight&quot;: 3}\n",
       "            ).addTo(map_50ff473c82862390934aab9b11022e21);\n",
       "        \n",
       "    \n",
       "        var popup_4d1671d574c7e67fd4a6f993673ff797 = L.popup({&quot;maxWidth&quot;: &quot;100%&quot;});\n",
       "\n",
       "        \n",
       "            \n",
       "                var html_5ce5ce6711dc2db392704c6bae76b2a3 = $(`&lt;div id=&quot;html_5ce5ce6711dc2db392704c6bae76b2a3&quot; style=&quot;width: 100.0%; height: 100.0%;&quot;&gt;공급세대수: 453&lt;br&gt;접수건수: 0&lt;br&gt;경쟁률: 0.0&lt;/div&gt;`)[0];\n",
       "                popup_4d1671d574c7e67fd4a6f993673ff797.setContent(html_5ce5ce6711dc2db392704c6bae76b2a3);\n",
       "            \n",
       "        \n",
       "\n",
       "        circle_marker_100bbb93149ba8c67aad1cf2fc601dc4.bindPopup(popup_4d1671d574c7e67fd4a6f993673ff797)\n",
       "        ;\n",
       "\n",
       "        \n",
       "    \n",
       "    \n",
       "            var marker_51b52e4c8532b4894b339fbb792409a4 = L.marker(\n",
       "                [37.4174355314411, 126.98888036807],\n",
       "                {}\n",
       "            ).addTo(map_50ff473c82862390934aab9b11022e21);\n",
       "        \n",
       "    \n",
       "            var div_icon_b241cb4ad23ef9d6edadd762db45fa60 = L.divIcon({&quot;className&quot;: &quot;empty&quot;, &quot;html&quot;: &quot;\\u003cdiv style=\\&quot;font-size: 8pt; color: black; font-weight: medium; text-align: center;\\&quot;\\u003e453\\u003c/div\\u003e&quot;, &quot;iconAnchor&quot;: [0, 0], &quot;iconSize&quot;: [10, 10]});\n",
       "            marker_51b52e4c8532b4894b339fbb792409a4.setIcon(div_icon_b241cb4ad23ef9d6edadd762db45fa60);\n",
       "        \n",
       "    \n",
       "            var circle_marker_71c3293041f8567e8ef02e9b9fd600fd = L.circleMarker(\n",
       "                [37.2624274491017, 127.018978785569],\n",
       "                {&quot;bubblingMouseEvents&quot;: true, &quot;color&quot;: &quot;#f48fabff&quot;, &quot;dashArray&quot;: null, &quot;dashOffset&quot;: null, &quot;fill&quot;: true, &quot;fillColor&quot;: &quot;#f48fabff&quot;, &quot;fillOpacity&quot;: 0.7250000000000001, &quot;fillRule&quot;: &quot;evenodd&quot;, &quot;lineCap&quot;: &quot;round&quot;, &quot;lineJoin&quot;: &quot;round&quot;, &quot;opacity&quot;: 1.0, &quot;radius&quot;: 35.59413124531039, &quot;stroke&quot;: true, &quot;weight&quot;: 3}\n",
       "            ).addTo(map_50ff473c82862390934aab9b11022e21);\n",
       "        \n",
       "    \n",
       "        var popup_e1ba2b37f42db453d3bfa37b59d36ebc = L.popup({&quot;maxWidth&quot;: &quot;100%&quot;});\n",
       "\n",
       "        \n",
       "            \n",
       "                var html_3a7b97fb27cb6cb68107bf5815523b4c = $(`&lt;div id=&quot;html_3a7b97fb27cb6cb68107bf5815523b4c&quot; style=&quot;width: 100.0%; height: 100.0%;&quot;&gt;공급세대수: 525&lt;br&gt;접수건수: 903&lt;br&gt;경쟁률: 1.72&lt;/div&gt;`)[0];\n",
       "                popup_e1ba2b37f42db453d3bfa37b59d36ebc.setContent(html_3a7b97fb27cb6cb68107bf5815523b4c);\n",
       "            \n",
       "        \n",
       "\n",
       "        circle_marker_71c3293041f8567e8ef02e9b9fd600fd.bindPopup(popup_e1ba2b37f42db453d3bfa37b59d36ebc)\n",
       "        ;\n",
       "\n",
       "        \n",
       "    \n",
       "    \n",
       "            var marker_3f1e7a6925cc8e5edc944e70af9f6101 = L.marker(\n",
       "                [37.2624274491017, 127.018978785569],\n",
       "                {}\n",
       "            ).addTo(map_50ff473c82862390934aab9b11022e21);\n",
       "        \n",
       "    \n",
       "            var div_icon_1871b520614919c397a124a50e147430 = L.divIcon({&quot;className&quot;: &quot;empty&quot;, &quot;html&quot;: &quot;\\u003cdiv style=\\&quot;font-size: 8pt; color: black; font-weight: medium; text-align: center;\\&quot;\\u003e525\\u003c/div\\u003e&quot;, &quot;iconAnchor&quot;: [0, 0], &quot;iconSize&quot;: [10, 10]});\n",
       "            marker_3f1e7a6925cc8e5edc944e70af9f6101.setIcon(div_icon_1871b520614919c397a124a50e147430);\n",
       "        \n",
       "    \n",
       "            var circle_marker_bd7170dc0f76085f5a9352acbd3e9a9c = L.circleMarker(\n",
       "                [37.61215063367, 126.688288338704],\n",
       "                {&quot;bubblingMouseEvents&quot;: true, &quot;color&quot;: &quot;#f6b4b7ff&quot;, &quot;dashArray&quot;: null, &quot;dashOffset&quot;: null, &quot;fill&quot;: true, &quot;fillColor&quot;: &quot;#f6b4b7ff&quot;, &quot;fillOpacity&quot;: 0.5529999999999999, &quot;fillRule&quot;: &quot;evenodd&quot;, &quot;lineCap&quot;: &quot;round&quot;, &quot;lineJoin&quot;: &quot;round&quot;, &quot;opacity&quot;: 1.0, &quot;radius&quot;: 34.77796304198149, &quot;stroke&quot;: true, &quot;weight&quot;: 3}\n",
       "            ).addTo(map_50ff473c82862390934aab9b11022e21);\n",
       "        \n",
       "    \n",
       "        var popup_b3c3c03e6c72ce855aab94faf4cdc2c5 = L.popup({&quot;maxWidth&quot;: &quot;100%&quot;});\n",
       "\n",
       "        \n",
       "            \n",
       "                var html_ec2863e1d41a5c8bd9b38ccbaf82f455 = $(`&lt;div id=&quot;html_ec2863e1d41a5c8bd9b38ccbaf82f455&quot; style=&quot;width: 100.0%; height: 100.0%;&quot;&gt;공급세대수: 353&lt;br&gt;접수건수: 465&lt;br&gt;경쟁률: 2.63&lt;/div&gt;`)[0];\n",
       "                popup_b3c3c03e6c72ce855aab94faf4cdc2c5.setContent(html_ec2863e1d41a5c8bd9b38ccbaf82f455);\n",
       "            \n",
       "        \n",
       "\n",
       "        circle_marker_bd7170dc0f76085f5a9352acbd3e9a9c.bindPopup(popup_b3c3c03e6c72ce855aab94faf4cdc2c5)\n",
       "        ;\n",
       "\n",
       "        \n",
       "    \n",
       "    \n",
       "            var marker_e55cf82ee4f881444db86259a02d9322 = L.marker(\n",
       "                [37.61215063367, 126.688288338704],\n",
       "                {}\n",
       "            ).addTo(map_50ff473c82862390934aab9b11022e21);\n",
       "        \n",
       "    \n",
       "            var div_icon_6cad898b33b778cb70cfb7f7906637a2 = L.divIcon({&quot;className&quot;: &quot;empty&quot;, &quot;html&quot;: &quot;\\u003cdiv style=\\&quot;font-size: 8pt; color: black; font-weight: medium; text-align: center;\\&quot;\\u003e353\\u003c/div\\u003e&quot;, &quot;iconAnchor&quot;: [0, 0], &quot;iconSize&quot;: [10, 10]});\n",
       "            marker_e55cf82ee4f881444db86259a02d9322.setIcon(div_icon_6cad898b33b778cb70cfb7f7906637a2);\n",
       "        \n",
       "    \n",
       "            var circle_marker_90817d92e07c5499cc43a79f1a0c2eb2 = L.circleMarker(\n",
       "                [37.61215063367, 126.688288338704],\n",
       "                {&quot;bubblingMouseEvents&quot;: true, &quot;color&quot;: &quot;#f6b4b7ff&quot;, &quot;dashArray&quot;: null, &quot;dashOffset&quot;: null, &quot;fill&quot;: true, &quot;fillColor&quot;: &quot;#f6b4b7ff&quot;, &quot;fillOpacity&quot;: 0.5529999999999999, &quot;fillRule&quot;: &quot;evenodd&quot;, &quot;lineCap&quot;: &quot;round&quot;, &quot;lineJoin&quot;: &quot;round&quot;, &quot;opacity&quot;: 1.0, &quot;radius&quot;: 34.77796304198149, &quot;stroke&quot;: true, &quot;weight&quot;: 3}\n",
       "            ).addTo(map_50ff473c82862390934aab9b11022e21);\n",
       "        \n",
       "    \n",
       "        var popup_3640b91631b607c6cfdbff5e63ca73e4 = L.popup({&quot;maxWidth&quot;: &quot;100%&quot;});\n",
       "\n",
       "        \n",
       "            \n",
       "                var html_e85f021e4fa23fec3bc5968d913847ce = $(`&lt;div id=&quot;html_e85f021e4fa23fec3bc5968d913847ce&quot; style=&quot;width: 100.0%; height: 100.0%;&quot;&gt;공급세대수: 353&lt;br&gt;접수건수: 82&lt;br&gt;경쟁률: 0.0&lt;/div&gt;`)[0];\n",
       "                popup_3640b91631b607c6cfdbff5e63ca73e4.setContent(html_e85f021e4fa23fec3bc5968d913847ce);\n",
       "            \n",
       "        \n",
       "\n",
       "        circle_marker_90817d92e07c5499cc43a79f1a0c2eb2.bindPopup(popup_3640b91631b607c6cfdbff5e63ca73e4)\n",
       "        ;\n",
       "\n",
       "        \n",
       "    \n",
       "    \n",
       "            var marker_3e84f394980e4f0df2c4c554500951a3 = L.marker(\n",
       "                [37.61215063367, 126.688288338704],\n",
       "                {}\n",
       "            ).addTo(map_50ff473c82862390934aab9b11022e21);\n",
       "        \n",
       "    \n",
       "            var div_icon_911e11a2c4fa7596d5a8402812da8506 = L.divIcon({&quot;className&quot;: &quot;empty&quot;, &quot;html&quot;: &quot;\\u003cdiv style=\\&quot;font-size: 8pt; color: black; font-weight: medium; text-align: center;\\&quot;\\u003e353\\u003c/div\\u003e&quot;, &quot;iconAnchor&quot;: [0, 0], &quot;iconSize&quot;: [10, 10]});\n",
       "            marker_3e84f394980e4f0df2c4c554500951a3.setIcon(div_icon_911e11a2c4fa7596d5a8402812da8506);\n",
       "        \n",
       "    \n",
       "            var circle_marker_d95a6b516185fb8d15b1430e793b60d6 = L.circleMarker(\n",
       "                [37.6012926180798, 126.774017410323],\n",
       "                {&quot;bubblingMouseEvents&quot;: true, &quot;color&quot;: &quot;#f6afb7ff&quot;, &quot;dashArray&quot;: null, &quot;dashOffset&quot;: null, &quot;fill&quot;: true, &quot;fillColor&quot;: &quot;#f6afb7ff&quot;, &quot;fillOpacity&quot;: 0.583, &quot;fillRule&quot;: &quot;evenodd&quot;, &quot;lineCap&quot;: &quot;round&quot;, &quot;lineJoin&quot;: &quot;round&quot;, &quot;opacity&quot;: 1.0, &quot;radius&quot;: 35.84289948632018, &quot;stroke&quot;: true, &quot;weight&quot;: 3}\n",
       "            ).addTo(map_50ff473c82862390934aab9b11022e21);\n",
       "        \n",
       "    \n",
       "        var popup_f5fc7c193505e895cf101d21ed5205d8 = L.popup({&quot;maxWidth&quot;: &quot;100%&quot;});\n",
       "\n",
       "        \n",
       "            \n",
       "                var html_640242945266ef31ac709b556bc63a5e = $(`&lt;div id=&quot;html_640242945266ef31ac709b556bc63a5e&quot; style=&quot;width: 100.0%; height: 100.0%;&quot;&gt;공급세대수: 383&lt;br&gt;접수건수: 483&lt;br&gt;경쟁률: 1.26&lt;/div&gt;`)[0];\n",
       "                popup_f5fc7c193505e895cf101d21ed5205d8.setContent(html_640242945266ef31ac709b556bc63a5e);\n",
       "            \n",
       "        \n",
       "\n",
       "        circle_marker_d95a6b516185fb8d15b1430e793b60d6.bindPopup(popup_f5fc7c193505e895cf101d21ed5205d8)\n",
       "        ;\n",
       "\n",
       "        \n",
       "    \n",
       "    \n",
       "            var marker_da5fbc0de7fc2f9f6ac47d4d7f72a655 = L.marker(\n",
       "                [37.6012926180798, 126.774017410323],\n",
       "                {}\n",
       "            ).addTo(map_50ff473c82862390934aab9b11022e21);\n",
       "        \n",
       "    \n",
       "            var div_icon_2bfcffe4c0e5125b86393cf73144ec44 = L.divIcon({&quot;className&quot;: &quot;empty&quot;, &quot;html&quot;: &quot;\\u003cdiv style=\\&quot;font-size: 8pt; color: black; font-weight: medium; text-align: center;\\&quot;\\u003e383\\u003c/div\\u003e&quot;, &quot;iconAnchor&quot;: [0, 0], &quot;iconSize&quot;: [10, 10]});\n",
       "            marker_da5fbc0de7fc2f9f6ac47d4d7f72a655.setIcon(div_icon_2bfcffe4c0e5125b86393cf73144ec44);\n",
       "        \n",
       "    \n",
       "            var circle_marker_652055c75276c0f4548d4ee7f4a0571b = L.circleMarker(\n",
       "                [37.0424556929163, 127.07125815852],\n",
       "                {&quot;bubblingMouseEvents&quot;: true, &quot;color&quot;: &quot;#ee5781ff&quot;, &quot;dashArray&quot;: null, &quot;dashOffset&quot;: null, &quot;fill&quot;: true, &quot;fillColor&quot;: &quot;#ee5781ff&quot;, &quot;fillOpacity&quot;: 0.9, &quot;fillRule&quot;: &quot;evenodd&quot;, &quot;lineCap&quot;: &quot;round&quot;, &quot;lineJoin&quot;: &quot;round&quot;, &quot;opacity&quot;: 1.0, &quot;radius&quot;: 35.250612601345296, &quot;stroke&quot;: true, &quot;weight&quot;: 3}\n",
       "            ).addTo(map_50ff473c82862390934aab9b11022e21);\n",
       "        \n",
       "    \n",
       "        var popup_af90d64b560367e85f57c199fd677088 = L.popup({&quot;maxWidth&quot;: &quot;100%&quot;});\n",
       "\n",
       "        \n",
       "            \n",
       "                var html_8d3af07c7d7d76d79e5e13153e3613b4 = $(`&lt;div id=&quot;html_8d3af07c7d7d76d79e5e13153e3613b4&quot; style=&quot;width: 100.0%; height: 100.0%;&quot;&gt;공급세대수: 721&lt;br&gt;접수건수: 114&lt;br&gt;경쟁률: 0.0&lt;/div&gt;`)[0];\n",
       "                popup_af90d64b560367e85f57c199fd677088.setContent(html_8d3af07c7d7d76d79e5e13153e3613b4);\n",
       "            \n",
       "        \n",
       "\n",
       "        circle_marker_652055c75276c0f4548d4ee7f4a0571b.bindPopup(popup_af90d64b560367e85f57c199fd677088)\n",
       "        ;\n",
       "\n",
       "        \n",
       "    \n",
       "    \n",
       "            var marker_29585d149523e6b18cc4888a553740ea = L.marker(\n",
       "                [37.0424556929163, 127.07125815852],\n",
       "                {}\n",
       "            ).addTo(map_50ff473c82862390934aab9b11022e21);\n",
       "        \n",
       "    \n",
       "            var div_icon_98b1694d6a8117b683d12c7e62ce21c2 = L.divIcon({&quot;className&quot;: &quot;empty&quot;, &quot;html&quot;: &quot;\\u003cdiv style=\\&quot;font-size: 8pt; color: black; font-weight: medium; text-align: center;\\&quot;\\u003e721\\u003c/div\\u003e&quot;, &quot;iconAnchor&quot;: [0, 0], &quot;iconSize&quot;: [10, 10]});\n",
       "            marker_29585d149523e6b18cc4888a553740ea.setIcon(div_icon_98b1694d6a8117b683d12c7e62ce21c2);\n",
       "        \n",
       "    \n",
       "            var circle_marker_b50209168f863170fa443df6d61214c2 = L.circleMarker(\n",
       "                [37.2962976350129, 127.11129969971],\n",
       "                {&quot;bubblingMouseEvents&quot;: true, &quot;color&quot;: &quot;#f6afb7ff&quot;, &quot;dashArray&quot;: null, &quot;dashOffset&quot;: null, &quot;fill&quot;: true, &quot;fillColor&quot;: &quot;#f6afb7ff&quot;, &quot;fillOpacity&quot;: 0.581, &quot;fillRule&quot;: &quot;evenodd&quot;, &quot;lineCap&quot;: &quot;round&quot;, &quot;lineJoin&quot;: &quot;round&quot;, &quot;opacity&quot;: 1.0, &quot;radius&quot;: 34.538776394910684, &quot;stroke&quot;: true, &quot;weight&quot;: 3}\n",
       "            ).addTo(map_50ff473c82862390934aab9b11022e21);\n",
       "        \n",
       "    \n",
       "        var popup_7f1c3674012485521f885a2277dade59 = L.popup({&quot;maxWidth&quot;: &quot;100%&quot;});\n",
       "\n",
       "        \n",
       "            \n",
       "                var html_c8ed71e79e4e4d4e35a8ee47b5e35132 = $(`&lt;div id=&quot;html_c8ed71e79e4e4d4e35a8ee47b5e35132&quot; style=&quot;width: 100.0%; height: 100.0%;&quot;&gt;공급세대수: 381&lt;br&gt;접수건수: 653&lt;br&gt;경쟁률: 1.71&lt;/div&gt;`)[0];\n",
       "                popup_7f1c3674012485521f885a2277dade59.setContent(html_c8ed71e79e4e4d4e35a8ee47b5e35132);\n",
       "            \n",
       "        \n",
       "\n",
       "        circle_marker_b50209168f863170fa443df6d61214c2.bindPopup(popup_7f1c3674012485521f885a2277dade59)\n",
       "        ;\n",
       "\n",
       "        \n",
       "    \n",
       "    \n",
       "            var marker_799cef30996e56e1b4b74fd9e442e8df = L.marker(\n",
       "                [37.2962976350129, 127.11129969971],\n",
       "                {}\n",
       "            ).addTo(map_50ff473c82862390934aab9b11022e21);\n",
       "        \n",
       "    \n",
       "            var div_icon_ad5ffed4cac1cf158edc1e5e719c885c = L.divIcon({&quot;className&quot;: &quot;empty&quot;, &quot;html&quot;: &quot;\\u003cdiv style=\\&quot;font-size: 8pt; color: black; font-weight: medium; text-align: center;\\&quot;\\u003e381\\u003c/div\\u003e&quot;, &quot;iconAnchor&quot;: [0, 0], &quot;iconSize&quot;: [10, 10]});\n",
       "            marker_799cef30996e56e1b4b74fd9e442e8df.setIcon(div_icon_ad5ffed4cac1cf158edc1e5e719c885c);\n",
       "        \n",
       "    \n",
       "            var circle_marker_01de297a05adf006149a8621d9ce4540 = L.circleMarker(\n",
       "                [37.5268477108188, 127.138949568286],\n",
       "                {&quot;bubblingMouseEvents&quot;: true, &quot;color&quot;: &quot;#f38ba7ff&quot;, &quot;dashArray&quot;: null, &quot;dashOffset&quot;: null, &quot;fill&quot;: true, &quot;fillColor&quot;: &quot;#f38ba7ff&quot;, &quot;fillOpacity&quot;: 0.7410000000000001, &quot;fillRule&quot;: &quot;evenodd&quot;, &quot;lineCap&quot;: &quot;round&quot;, &quot;lineJoin&quot;: &quot;round&quot;, &quot;opacity&quot;: 1.0, &quot;radius&quot;: 42.36829594696254, &quot;stroke&quot;: true, &quot;weight&quot;: 3}\n",
       "            ).addTo(map_50ff473c82862390934aab9b11022e21);\n",
       "        \n",
       "    \n",
       "        var popup_0c8b99fa44b22c417fa70d90a1cf737f = L.popup({&quot;maxWidth&quot;: &quot;100%&quot;});\n",
       "\n",
       "        \n",
       "            \n",
       "                var html_ab4c88d427013e66abbe9ae14372f429 = $(`&lt;div id=&quot;html_ab4c88d427013e66abbe9ae14372f429&quot; style=&quot;width: 100.0%; height: 100.0%;&quot;&gt;공급세대수: 541&lt;br&gt;접수건수: 154&lt;br&gt;경쟁률: 0.0&lt;/div&gt;`)[0];\n",
       "                popup_0c8b99fa44b22c417fa70d90a1cf737f.setContent(html_ab4c88d427013e66abbe9ae14372f429);\n",
       "            \n",
       "        \n",
       "\n",
       "        circle_marker_01de297a05adf006149a8621d9ce4540.bindPopup(popup_0c8b99fa44b22c417fa70d90a1cf737f)\n",
       "        ;\n",
       "\n",
       "        \n",
       "    \n",
       "    \n",
       "            var marker_c0186a7225d66fd0cae1ccc2546100f5 = L.marker(\n",
       "                [37.5268477108188, 127.138949568286],\n",
       "                {}\n",
       "            ).addTo(map_50ff473c82862390934aab9b11022e21);\n",
       "        \n",
       "    \n",
       "            var div_icon_5038caa4b6a41cea02577faf68b36986 = L.divIcon({&quot;className&quot;: &quot;empty&quot;, &quot;html&quot;: &quot;\\u003cdiv style=\\&quot;font-size: 8pt; color: black; font-weight: medium; text-align: center;\\&quot;\\u003e541\\u003c/div\\u003e&quot;, &quot;iconAnchor&quot;: [0, 0], &quot;iconSize&quot;: [10, 10]});\n",
       "            marker_c0186a7225d66fd0cae1ccc2546100f5.setIcon(div_icon_5038caa4b6a41cea02577faf68b36986);\n",
       "        \n",
       "    \n",
       "            var circle_marker_5b8a186173f5855df8b54aa3d2dccb2c = L.circleMarker(\n",
       "                [37.5268477108188, 127.138949568286],\n",
       "                {&quot;bubblingMouseEvents&quot;: true, &quot;color&quot;: &quot;#f6a8b7ff&quot;, &quot;dashArray&quot;: null, &quot;dashOffset&quot;: null, &quot;fill&quot;: true, &quot;fillColor&quot;: &quot;#f6a8b7ff&quot;, &quot;fillOpacity&quot;: 0.624, &quot;fillRule&quot;: &quot;evenodd&quot;, &quot;lineCap&quot;: &quot;round&quot;, &quot;lineJoin&quot;: &quot;round&quot;, &quot;opacity&quot;: 1.0, &quot;radius&quot;: 42.36829594696254, &quot;stroke&quot;: true, &quot;weight&quot;: 3}\n",
       "            ).addTo(map_50ff473c82862390934aab9b11022e21);\n",
       "        \n",
       "    \n",
       "        var popup_963c43bdff729fe1d708985c1dc00d54 = L.popup({&quot;maxWidth&quot;: &quot;100%&quot;});\n",
       "\n",
       "        \n",
       "            \n",
       "                var html_53a6cd6d2800111d6fc9b4f5df947f92 = $(`&lt;div id=&quot;html_53a6cd6d2800111d6fc9b4f5df947f92&quot; style=&quot;width: 100.0%; height: 100.0%;&quot;&gt;공급세대수: 424&lt;br&gt;접수건수: 656&lt;br&gt;경쟁률: 1.55&lt;/div&gt;`)[0];\n",
       "                popup_963c43bdff729fe1d708985c1dc00d54.setContent(html_53a6cd6d2800111d6fc9b4f5df947f92);\n",
       "            \n",
       "        \n",
       "\n",
       "        circle_marker_5b8a186173f5855df8b54aa3d2dccb2c.bindPopup(popup_963c43bdff729fe1d708985c1dc00d54)\n",
       "        ;\n",
       "\n",
       "        \n",
       "    \n",
       "    \n",
       "            var marker_8e9ac53d3b76b09e89efe845f80fe377 = L.marker(\n",
       "                [37.5268477108188, 127.138949568286],\n",
       "                {}\n",
       "            ).addTo(map_50ff473c82862390934aab9b11022e21);\n",
       "        \n",
       "    \n",
       "            var div_icon_3da4c0af1b2eb1828a0b897a19bcff7b = L.divIcon({&quot;className&quot;: &quot;empty&quot;, &quot;html&quot;: &quot;\\u003cdiv style=\\&quot;font-size: 8pt; color: black; font-weight: medium; text-align: center;\\&quot;\\u003e424\\u003c/div\\u003e&quot;, &quot;iconAnchor&quot;: [0, 0], &quot;iconSize&quot;: [10, 10]});\n",
       "            marker_8e9ac53d3b76b09e89efe845f80fe377.setIcon(div_icon_3da4c0af1b2eb1828a0b897a19bcff7b);\n",
       "        \n",
       "    \n",
       "            var circle_marker_bf57e866687f728413630d03edf495c8 = L.circleMarker(\n",
       "                [37.5268477108188, 127.138949568286],\n",
       "                {&quot;bubblingMouseEvents&quot;: true, &quot;color&quot;: &quot;#e31c68ff&quot;, &quot;dashArray&quot;: null, &quot;dashOffset&quot;: null, &quot;fill&quot;: true, &quot;fillColor&quot;: &quot;#e31c68ff&quot;, &quot;fillOpacity&quot;: 0.9, &quot;fillRule&quot;: &quot;evenodd&quot;, &quot;lineCap&quot;: &quot;round&quot;, &quot;lineJoin&quot;: &quot;round&quot;, &quot;opacity&quot;: 1.0, &quot;radius&quot;: 42.36829594696254, &quot;stroke&quot;: true, &quot;weight&quot;: 3}\n",
       "            ).addTo(map_50ff473c82862390934aab9b11022e21);\n",
       "        \n",
       "    \n",
       "        var popup_2bb707731e5d2f4f6a1773900a8053be = L.popup({&quot;maxWidth&quot;: &quot;100%&quot;});\n",
       "\n",
       "        \n",
       "            \n",
       "                var html_db00216363a0dcd10addac31436aa9d8 = $(`&lt;div id=&quot;html_db00216363a0dcd10addac31436aa9d8&quot; style=&quot;width: 100.0%; height: 100.0%;&quot;&gt;공급세대수: 936&lt;br&gt;접수건수: 0&lt;br&gt;경쟁률: 5.21&lt;/div&gt;`)[0];\n",
       "                popup_2bb707731e5d2f4f6a1773900a8053be.setContent(html_db00216363a0dcd10addac31436aa9d8);\n",
       "            \n",
       "        \n",
       "\n",
       "        circle_marker_bf57e866687f728413630d03edf495c8.bindPopup(popup_2bb707731e5d2f4f6a1773900a8053be)\n",
       "        ;\n",
       "\n",
       "        \n",
       "    \n",
       "    \n",
       "            var marker_3fd3fe33dfc6f1f6629315f296f2808d = L.marker(\n",
       "                [37.5268477108188, 127.138949568286],\n",
       "                {}\n",
       "            ).addTo(map_50ff473c82862390934aab9b11022e21);\n",
       "        \n",
       "    \n",
       "            var div_icon_34a22e84e4da02dcfa36f03885340d96 = L.divIcon({&quot;className&quot;: &quot;empty&quot;, &quot;html&quot;: &quot;\\u003cdiv style=\\&quot;font-size: 8pt; color: black; font-weight: medium; text-align: center;\\&quot;\\u003e936\\u003c/div\\u003e&quot;, &quot;iconAnchor&quot;: [0, 0], &quot;iconSize&quot;: [10, 10]});\n",
       "            marker_3fd3fe33dfc6f1f6629315f296f2808d.setIcon(div_icon_34a22e84e4da02dcfa36f03885340d96);\n",
       "        \n",
       "    \n",
       "            var circle_marker_cf82039740419006af67a1ad595f0fc4 = L.circleMarker(\n",
       "                [37.5268477108188, 127.138949568286],\n",
       "                {&quot;bubblingMouseEvents&quot;: true, &quot;color&quot;: &quot;#f384a2ff&quot;, &quot;dashArray&quot;: null, &quot;dashOffset&quot;: null, &quot;fill&quot;: true, &quot;fillColor&quot;: &quot;#f384a2ff&quot;, &quot;fillOpacity&quot;: 0.7629999999999999, &quot;fillRule&quot;: &quot;evenodd&quot;, &quot;lineCap&quot;: &quot;round&quot;, &quot;lineJoin&quot;: &quot;round&quot;, &quot;opacity&quot;: 1.0, &quot;radius&quot;: 42.36829594696254, &quot;stroke&quot;: true, &quot;weight&quot;: 3}\n",
       "            ).addTo(map_50ff473c82862390934aab9b11022e21);\n",
       "        \n",
       "    \n",
       "        var popup_3aafce58ad16bd028bdaeea32e45c919 = L.popup({&quot;maxWidth&quot;: &quot;100%&quot;});\n",
       "\n",
       "        \n",
       "            \n",
       "                var html_bf854751b380a2a3fe940478aee230be = $(`&lt;div id=&quot;html_bf854751b380a2a3fe940478aee230be&quot; style=&quot;width: 100.0%; height: 100.0%;&quot;&gt;공급세대수: 563&lt;br&gt;접수건수: 0&lt;br&gt;경쟁률: 2.69&lt;/div&gt;`)[0];\n",
       "                popup_3aafce58ad16bd028bdaeea32e45c919.setContent(html_bf854751b380a2a3fe940478aee230be);\n",
       "            \n",
       "        \n",
       "\n",
       "        circle_marker_cf82039740419006af67a1ad595f0fc4.bindPopup(popup_3aafce58ad16bd028bdaeea32e45c919)\n",
       "        ;\n",
       "\n",
       "        \n",
       "    \n",
       "    \n",
       "            var marker_2d90d55b0f4cc4342a5925ba07b15cfb = L.marker(\n",
       "                [37.5268477108188, 127.138949568286],\n",
       "                {}\n",
       "            ).addTo(map_50ff473c82862390934aab9b11022e21);\n",
       "        \n",
       "    \n",
       "            var div_icon_a2991189cb63b6ed7bbcf9898d9d2be4 = L.divIcon({&quot;className&quot;: &quot;empty&quot;, &quot;html&quot;: &quot;\\u003cdiv style=\\&quot;font-size: 8pt; color: black; font-weight: medium; text-align: center;\\&quot;\\u003e563\\u003c/div\\u003e&quot;, &quot;iconAnchor&quot;: [0, 0], &quot;iconSize&quot;: [10, 10]});\n",
       "            marker_2d90d55b0f4cc4342a5925ba07b15cfb.setIcon(div_icon_a2991189cb63b6ed7bbcf9898d9d2be4);\n",
       "        \n",
       "    \n",
       "            var circle_marker_5ced6087bfd6f5a227e1505bf6e25b9b = L.circleMarker(\n",
       "                [37.3893947278871, 126.61551092234],\n",
       "                {&quot;bubblingMouseEvents&quot;: true, &quot;color&quot;: &quot;#f6b4b7ff&quot;, &quot;dashArray&quot;: null, &quot;dashOffset&quot;: null, &quot;fill&quot;: true, &quot;fillColor&quot;: &quot;#f6b4b7ff&quot;, &quot;fillOpacity&quot;: 0.55, &quot;fillRule&quot;: &quot;evenodd&quot;, &quot;lineCap&quot;: &quot;round&quot;, &quot;lineJoin&quot;: &quot;round&quot;, &quot;opacity&quot;: 1.0, &quot;radius&quot;: 35.92693507790208, &quot;stroke&quot;: true, &quot;weight&quot;: 3}\n",
       "            ).addTo(map_50ff473c82862390934aab9b11022e21);\n",
       "        \n",
       "    \n",
       "        var popup_8969173acc850d55a24ef7b99b89ef9d = L.popup({&quot;maxWidth&quot;: &quot;100%&quot;});\n",
       "\n",
       "        \n",
       "            \n",
       "                var html_676ca09adb9de766f609e22eb6560861 = $(`&lt;div id=&quot;html_676ca09adb9de766f609e22eb6560861&quot; style=&quot;width: 100.0%; height: 100.0%;&quot;&gt;공급세대수: 350&lt;br&gt;접수건수: 121&lt;br&gt;경쟁률: 0.0&lt;/div&gt;`)[0];\n",
       "                popup_8969173acc850d55a24ef7b99b89ef9d.setContent(html_676ca09adb9de766f609e22eb6560861);\n",
       "            \n",
       "        \n",
       "\n",
       "        circle_marker_5ced6087bfd6f5a227e1505bf6e25b9b.bindPopup(popup_8969173acc850d55a24ef7b99b89ef9d)\n",
       "        ;\n",
       "\n",
       "        \n",
       "    \n",
       "    \n",
       "            var marker_78410c008b52bde2f565c51a8fd4ebb8 = L.marker(\n",
       "                [37.3893947278871, 126.61551092234],\n",
       "                {}\n",
       "            ).addTo(map_50ff473c82862390934aab9b11022e21);\n",
       "        \n",
       "    \n",
       "            var div_icon_ac548a9989a8380b3b6014ccea2d514d = L.divIcon({&quot;className&quot;: &quot;empty&quot;, &quot;html&quot;: &quot;\\u003cdiv style=\\&quot;font-size: 8pt; color: black; font-weight: medium; text-align: center;\\&quot;\\u003e350\\u003c/div\\u003e&quot;, &quot;iconAnchor&quot;: [0, 0], &quot;iconSize&quot;: [10, 10]});\n",
       "            marker_78410c008b52bde2f565c51a8fd4ebb8.setIcon(div_icon_ac548a9989a8380b3b6014ccea2d514d);\n",
       "        \n",
       "    \n",
       "            var circle_marker_6444e5336dea1162d38bd1d7404a68a3 = L.circleMarker(\n",
       "                [37.3842341688898, 126.614991443658],\n",
       "                {&quot;bubblingMouseEvents&quot;: true, &quot;color&quot;: &quot;#ec507eff&quot;, &quot;dashArray&quot;: null, &quot;dashOffset&quot;: null, &quot;fill&quot;: true, &quot;fillColor&quot;: &quot;#ec507eff&quot;, &quot;fillOpacity&quot;: 0.9, &quot;fillRule&quot;: &quot;evenodd&quot;, &quot;lineCap&quot;: &quot;round&quot;, &quot;lineJoin&quot;: &quot;round&quot;, &quot;opacity&quot;: 1.0, &quot;radius&quot;: 36.678169909636004, &quot;stroke&quot;: true, &quot;weight&quot;: 3}\n",
       "            ).addTo(map_50ff473c82862390934aab9b11022e21);\n",
       "        \n",
       "    \n",
       "        var popup_b058ec8a22a0ec25a9789b597a04aea7 = L.popup({&quot;maxWidth&quot;: &quot;100%&quot;});\n",
       "\n",
       "        \n",
       "            \n",
       "                var html_5f2f8c34dbcc611ae6f318c7a557efd6 = $(`&lt;div id=&quot;html_5f2f8c34dbcc611ae6f318c7a557efd6&quot; style=&quot;width: 100.0%; height: 100.0%;&quot;&gt;공급세대수: 744&lt;br&gt;접수건수: 0&lt;br&gt;경쟁률: 4.4&lt;/div&gt;`)[0];\n",
       "                popup_b058ec8a22a0ec25a9789b597a04aea7.setContent(html_5f2f8c34dbcc611ae6f318c7a557efd6);\n",
       "            \n",
       "        \n",
       "\n",
       "        circle_marker_6444e5336dea1162d38bd1d7404a68a3.bindPopup(popup_b058ec8a22a0ec25a9789b597a04aea7)\n",
       "        ;\n",
       "\n",
       "        \n",
       "    \n",
       "    \n",
       "            var marker_47edb8d02c3a115e3e9ffefb5fce7f64 = L.marker(\n",
       "                [37.3842341688898, 126.614991443658],\n",
       "                {}\n",
       "            ).addTo(map_50ff473c82862390934aab9b11022e21);\n",
       "        \n",
       "    \n",
       "            var div_icon_1ea777b87824e16a199a3fe5f083e651 = L.divIcon({&quot;className&quot;: &quot;empty&quot;, &quot;html&quot;: &quot;\\u003cdiv style=\\&quot;font-size: 8pt; color: black; font-weight: medium; text-align: center;\\&quot;\\u003e744\\u003c/div\\u003e&quot;, &quot;iconAnchor&quot;: [0, 0], &quot;iconSize&quot;: [10, 10]});\n",
       "            marker_47edb8d02c3a115e3e9ffefb5fce7f64.setIcon(div_icon_1ea777b87824e16a199a3fe5f083e651);\n",
       "        \n",
       "    \n",
       "            var circle_marker_ed32561b1168980525409095a048c208 = L.circleMarker(\n",
       "                [37.3842341688898, 126.614991443658],\n",
       "                {&quot;bubblingMouseEvents&quot;: true, &quot;color&quot;: &quot;#ec507eff&quot;, &quot;dashArray&quot;: null, &quot;dashOffset&quot;: null, &quot;fill&quot;: true, &quot;fillColor&quot;: &quot;#ec507eff&quot;, &quot;fillOpacity&quot;: 0.9, &quot;fillRule&quot;: &quot;evenodd&quot;, &quot;lineCap&quot;: &quot;round&quot;, &quot;lineJoin&quot;: &quot;round&quot;, &quot;opacity&quot;: 1.0, &quot;radius&quot;: 36.678169909636004, &quot;stroke&quot;: true, &quot;weight&quot;: 3}\n",
       "            ).addTo(map_50ff473c82862390934aab9b11022e21);\n",
       "        \n",
       "    \n",
       "        var popup_243924b566fbafa01ee292a29ce991f6 = L.popup({&quot;maxWidth&quot;: &quot;100%&quot;});\n",
       "\n",
       "        \n",
       "            \n",
       "                var html_7a8aebb6585f3f5021533886424a1b3e = $(`&lt;div id=&quot;html_7a8aebb6585f3f5021533886424a1b3e&quot; style=&quot;width: 100.0%; height: 100.0%;&quot;&gt;공급세대수: 744&lt;br&gt;접수건수: 827&lt;br&gt;경쟁률: 0.0&lt;/div&gt;`)[0];\n",
       "                popup_243924b566fbafa01ee292a29ce991f6.setContent(html_7a8aebb6585f3f5021533886424a1b3e);\n",
       "            \n",
       "        \n",
       "\n",
       "        circle_marker_ed32561b1168980525409095a048c208.bindPopup(popup_243924b566fbafa01ee292a29ce991f6)\n",
       "        ;\n",
       "\n",
       "        \n",
       "    \n",
       "    \n",
       "            var marker_182bbd9d5c8655c7ffbb9268bbeec336 = L.marker(\n",
       "                [37.3842341688898, 126.614991443658],\n",
       "                {}\n",
       "            ).addTo(map_50ff473c82862390934aab9b11022e21);\n",
       "        \n",
       "    \n",
       "            var div_icon_3599bc5ccdf2d4b803125e9fca4481df = L.divIcon({&quot;className&quot;: &quot;empty&quot;, &quot;html&quot;: &quot;\\u003cdiv style=\\&quot;font-size: 8pt; color: black; font-weight: medium; text-align: center;\\&quot;\\u003e744\\u003c/div\\u003e&quot;, &quot;iconAnchor&quot;: [0, 0], &quot;iconSize&quot;: [10, 10]});\n",
       "            marker_182bbd9d5c8655c7ffbb9268bbeec336.setIcon(div_icon_3599bc5ccdf2d4b803125e9fca4481df);\n",
       "        \n",
       "    \n",
       "            var circle_marker_8a00402f4012ae878fd0cf2de86da5a4 = L.circleMarker(\n",
       "                [37.820012508486, 127.088271333497],\n",
       "                {&quot;bubblingMouseEvents&quot;: true, &quot;color&quot;: &quot;#f495afff&quot;, &quot;dashArray&quot;: null, &quot;dashOffset&quot;: null, &quot;fill&quot;: true, &quot;fillColor&quot;: &quot;#f495afff&quot;, &quot;fillOpacity&quot;: 0.7070000000000001, &quot;fillRule&quot;: &quot;evenodd&quot;, &quot;lineCap&quot;: &quot;round&quot;, &quot;lineJoin&quot;: &quot;round&quot;, &quot;opacity&quot;: 1.0, &quot;radius&quot;: 34.181296386385334, &quot;stroke&quot;: true, &quot;weight&quot;: 3}\n",
       "            ).addTo(map_50ff473c82862390934aab9b11022e21);\n",
       "        \n",
       "    \n",
       "        var popup_873103fccbfc2da68d633a8e98f456bf = L.popup({&quot;maxWidth&quot;: &quot;100%&quot;});\n",
       "\n",
       "        \n",
       "            \n",
       "                var html_e0d35a74a3639cda6e2f7e498d821879 = $(`&lt;div id=&quot;html_e0d35a74a3639cda6e2f7e498d821879&quot; style=&quot;width: 100.0%; height: 100.0%;&quot;&gt;공급세대수: 507&lt;br&gt;접수건수: 474&lt;br&gt;경쟁률: 3.38&lt;/div&gt;`)[0];\n",
       "                popup_873103fccbfc2da68d633a8e98f456bf.setContent(html_e0d35a74a3639cda6e2f7e498d821879);\n",
       "            \n",
       "        \n",
       "\n",
       "        circle_marker_8a00402f4012ae878fd0cf2de86da5a4.bindPopup(popup_873103fccbfc2da68d633a8e98f456bf)\n",
       "        ;\n",
       "\n",
       "        \n",
       "    \n",
       "    \n",
       "            var marker_b3f2c1a0cd29cfbb59cdb8bca8df0732 = L.marker(\n",
       "                [37.820012508486, 127.088271333497],\n",
       "                {}\n",
       "            ).addTo(map_50ff473c82862390934aab9b11022e21);\n",
       "        \n",
       "    \n",
       "            var div_icon_36fe4a9bb67c10beee092547f7cebbae = L.divIcon({&quot;className&quot;: &quot;empty&quot;, &quot;html&quot;: &quot;\\u003cdiv style=\\&quot;font-size: 8pt; color: black; font-weight: medium; text-align: center;\\&quot;\\u003e507\\u003c/div\\u003e&quot;, &quot;iconAnchor&quot;: [0, 0], &quot;iconSize&quot;: [10, 10]});\n",
       "            marker_b3f2c1a0cd29cfbb59cdb8bca8df0732.setIcon(div_icon_36fe4a9bb67c10beee092547f7cebbae);\n",
       "        \n",
       "    \n",
       "            var circle_marker_5c26cb289a1c21c98afc811cbaf65e5a = L.circleMarker(\n",
       "                [37.820012508486, 127.088271333497],\n",
       "                {&quot;bubblingMouseEvents&quot;: true, &quot;color&quot;: &quot;#f495afff&quot;, &quot;dashArray&quot;: null, &quot;dashOffset&quot;: null, &quot;fill&quot;: true, &quot;fillColor&quot;: &quot;#f495afff&quot;, &quot;fillOpacity&quot;: 0.7070000000000001, &quot;fillRule&quot;: &quot;evenodd&quot;, &quot;lineCap&quot;: &quot;round&quot;, &quot;lineJoin&quot;: &quot;round&quot;, &quot;opacity&quot;: 1.0, &quot;radius&quot;: 34.181296386385334, &quot;stroke&quot;: true, &quot;weight&quot;: 3}\n",
       "            ).addTo(map_50ff473c82862390934aab9b11022e21);\n",
       "        \n",
       "    \n",
       "        var popup_0f49ead2b5ec80a1e33c34a24d5beb4a = L.popup({&quot;maxWidth&quot;: &quot;100%&quot;});\n",
       "\n",
       "        \n",
       "            \n",
       "                var html_e84bfbc2ebea819a959f75f4582886d4 = $(`&lt;div id=&quot;html_e84bfbc2ebea819a959f75f4582886d4&quot; style=&quot;width: 100.0%; height: 100.0%;&quot;&gt;공급세대수: 507&lt;br&gt;접수건수: 254&lt;br&gt;경쟁률: 0.0&lt;/div&gt;`)[0];\n",
       "                popup_0f49ead2b5ec80a1e33c34a24d5beb4a.setContent(html_e84bfbc2ebea819a959f75f4582886d4);\n",
       "            \n",
       "        \n",
       "\n",
       "        circle_marker_5c26cb289a1c21c98afc811cbaf65e5a.bindPopup(popup_0f49ead2b5ec80a1e33c34a24d5beb4a)\n",
       "        ;\n",
       "\n",
       "        \n",
       "    \n",
       "    \n",
       "            var marker_354fe3f14c165cc25f124d81705e8ea4 = L.marker(\n",
       "                [37.820012508486, 127.088271333497],\n",
       "                {}\n",
       "            ).addTo(map_50ff473c82862390934aab9b11022e21);\n",
       "        \n",
       "    \n",
       "            var div_icon_695d4b46edfd6bfd21a54b68feb94b42 = L.divIcon({&quot;className&quot;: &quot;empty&quot;, &quot;html&quot;: &quot;\\u003cdiv style=\\&quot;font-size: 8pt; color: black; font-weight: medium; text-align: center;\\&quot;\\u003e507\\u003c/div\\u003e&quot;, &quot;iconAnchor&quot;: [0, 0], &quot;iconSize&quot;: [10, 10]});\n",
       "            marker_354fe3f14c165cc25f124d81705e8ea4.setIcon(div_icon_695d4b46edfd6bfd21a54b68feb94b42);\n",
       "        \n",
       "    \n",
       "            var circle_marker_9e765d1ee863fde27ba73615191ac087 = L.circleMarker(\n",
       "                [37.5200098676308, 126.70213370794],\n",
       "                {&quot;bubblingMouseEvents&quot;: true, &quot;color&quot;: &quot;#f494aeff&quot;, &quot;dashArray&quot;: null, &quot;dashOffset&quot;: null, &quot;fill&quot;: true, &quot;fillColor&quot;: &quot;#f494aeff&quot;, &quot;fillOpacity&quot;: 0.708, &quot;fillRule&quot;: &quot;evenodd&quot;, &quot;lineCap&quot;: &quot;round&quot;, &quot;lineJoin&quot;: &quot;round&quot;, &quot;opacity&quot;: 1.0, &quot;radius&quot;: 39.86749982012315, &quot;stroke&quot;: true, &quot;weight&quot;: 3}\n",
       "            ).addTo(map_50ff473c82862390934aab9b11022e21);\n",
       "        \n",
       "    \n",
       "        var popup_05dffc19b92cc9e5fe2bdf3d1927cfc1 = L.popup({&quot;maxWidth&quot;: &quot;100%&quot;});\n",
       "\n",
       "        \n",
       "            \n",
       "                var html_9b4d82de0928c89f95dd24e4b0ace074 = $(`&lt;div id=&quot;html_9b4d82de0928c89f95dd24e4b0ace074&quot; style=&quot;width: 100.0%; height: 100.0%;&quot;&gt;공급세대수: 508&lt;br&gt;접수건수: 0&lt;br&gt;경쟁률: 4.99&lt;/div&gt;`)[0];\n",
       "                popup_05dffc19b92cc9e5fe2bdf3d1927cfc1.setContent(html_9b4d82de0928c89f95dd24e4b0ace074);\n",
       "            \n",
       "        \n",
       "\n",
       "        circle_marker_9e765d1ee863fde27ba73615191ac087.bindPopup(popup_05dffc19b92cc9e5fe2bdf3d1927cfc1)\n",
       "        ;\n",
       "\n",
       "        \n",
       "    \n",
       "    \n",
       "            var marker_a51f6f3a339889a1bd410cd3fba1e8f5 = L.marker(\n",
       "                [37.5200098676308, 126.70213370794],\n",
       "                {}\n",
       "            ).addTo(map_50ff473c82862390934aab9b11022e21);\n",
       "        \n",
       "    \n",
       "            var div_icon_1ca32f54f439a6c11b291b154e9ca45a = L.divIcon({&quot;className&quot;: &quot;empty&quot;, &quot;html&quot;: &quot;\\u003cdiv style=\\&quot;font-size: 8pt; color: black; font-weight: medium; text-align: center;\\&quot;\\u003e508\\u003c/div\\u003e&quot;, &quot;iconAnchor&quot;: [0, 0], &quot;iconSize&quot;: [10, 10]});\n",
       "            marker_a51f6f3a339889a1bd410cd3fba1e8f5.setIcon(div_icon_1ca32f54f439a6c11b291b154e9ca45a);\n",
       "        \n",
       "    \n",
       "            var circle_marker_9ab0a750ecca3c911619309a0a10a41b = L.circleMarker(\n",
       "                [37.5200098676308, 126.70213370794],\n",
       "                {&quot;bubblingMouseEvents&quot;: true, &quot;color&quot;: &quot;#f59cb4ff&quot;, &quot;dashArray&quot;: null, &quot;dashOffset&quot;: null, &quot;fill&quot;: true, &quot;fillColor&quot;: &quot;#f59cb4ff&quot;, &quot;fillOpacity&quot;: 0.6819999999999999, &quot;fillRule&quot;: &quot;evenodd&quot;, &quot;lineCap&quot;: &quot;round&quot;, &quot;lineJoin&quot;: &quot;round&quot;, &quot;opacity&quot;: 1.0, &quot;radius&quot;: 39.86749982012315, &quot;stroke&quot;: true, &quot;weight&quot;: 3}\n",
       "            ).addTo(map_50ff473c82862390934aab9b11022e21);\n",
       "        \n",
       "    \n",
       "        var popup_c7516f851b4beb31d78afdd872eb7ff2 = L.popup({&quot;maxWidth&quot;: &quot;100%&quot;});\n",
       "\n",
       "        \n",
       "            \n",
       "                var html_484d647f3809e5a7eec85708604d21df = $(`&lt;div id=&quot;html_484d647f3809e5a7eec85708604d21df&quot; style=&quot;width: 100.0%; height: 100.0%;&quot;&gt;공급세대수: 482&lt;br&gt;접수건수: 0&lt;br&gt;경쟁률: 3.62&lt;/div&gt;`)[0];\n",
       "                popup_c7516f851b4beb31d78afdd872eb7ff2.setContent(html_484d647f3809e5a7eec85708604d21df);\n",
       "            \n",
       "        \n",
       "\n",
       "        circle_marker_9ab0a750ecca3c911619309a0a10a41b.bindPopup(popup_c7516f851b4beb31d78afdd872eb7ff2)\n",
       "        ;\n",
       "\n",
       "        \n",
       "    \n",
       "    \n",
       "            var marker_47d568b80ac40230573b33e93f6ff677 = L.marker(\n",
       "                [37.5200098676308, 126.70213370794],\n",
       "                {}\n",
       "            ).addTo(map_50ff473c82862390934aab9b11022e21);\n",
       "        \n",
       "    \n",
       "            var div_icon_4dd89704d71a13fb118fc1118e0d6daf = L.divIcon({&quot;className&quot;: &quot;empty&quot;, &quot;html&quot;: &quot;\\u003cdiv style=\\&quot;font-size: 8pt; color: black; font-weight: medium; text-align: center;\\&quot;\\u003e482\\u003c/div\\u003e&quot;, &quot;iconAnchor&quot;: [0, 0], &quot;iconSize&quot;: [10, 10]});\n",
       "            marker_47d568b80ac40230573b33e93f6ff677.setIcon(div_icon_4dd89704d71a13fb118fc1118e0d6daf);\n",
       "        \n",
       "    \n",
       "            var circle_marker_e95b2f8c31368453f9938797e33b8a98 = L.circleMarker(\n",
       "                [37.5159751714943, 126.702878081796],\n",
       "                {&quot;bubblingMouseEvents&quot;: true, &quot;color&quot;: &quot;#f6b1b7ff&quot;, &quot;dashArray&quot;: null, &quot;dashOffset&quot;: null, &quot;fill&quot;: true, &quot;fillColor&quot;: &quot;#f6b1b7ff&quot;, &quot;fillOpacity&quot;: 0.5700000000000001, &quot;fillRule&quot;: &quot;evenodd&quot;, &quot;lineCap&quot;: &quot;round&quot;, &quot;lineJoin&quot;: &quot;round&quot;, &quot;opacity&quot;: 1.0, &quot;radius&quot;: 35.19830174931038, &quot;stroke&quot;: true, &quot;weight&quot;: 3}\n",
       "            ).addTo(map_50ff473c82862390934aab9b11022e21);\n",
       "        \n",
       "    \n",
       "        var popup_93c36a59d6ba7c624761fddaf09a5e0a = L.popup({&quot;maxWidth&quot;: &quot;100%&quot;});\n",
       "\n",
       "        \n",
       "            \n",
       "                var html_95f97d6857b059958232fe681b109b8a = $(`&lt;div id=&quot;html_95f97d6857b059958232fe681b109b8a&quot; style=&quot;width: 100.0%; height: 100.0%;&quot;&gt;공급세대수: 370&lt;br&gt;접수건수: 0&lt;br&gt;경쟁률: 12.91&lt;/div&gt;`)[0];\n",
       "                popup_93c36a59d6ba7c624761fddaf09a5e0a.setContent(html_95f97d6857b059958232fe681b109b8a);\n",
       "            \n",
       "        \n",
       "\n",
       "        circle_marker_e95b2f8c31368453f9938797e33b8a98.bindPopup(popup_93c36a59d6ba7c624761fddaf09a5e0a)\n",
       "        ;\n",
       "\n",
       "        \n",
       "    \n",
       "    \n",
       "            var marker_a30ad0106a215500bc9eec252c5e3e77 = L.marker(\n",
       "                [37.5159751714943, 126.702878081796],\n",
       "                {}\n",
       "            ).addTo(map_50ff473c82862390934aab9b11022e21);\n",
       "        \n",
       "    \n",
       "            var div_icon_8c00b734d929bacbb642dcd8079ee5a1 = L.divIcon({&quot;className&quot;: &quot;empty&quot;, &quot;html&quot;: &quot;\\u003cdiv style=\\&quot;font-size: 8pt; color: black; font-weight: medium; text-align: center;\\&quot;\\u003e370\\u003c/div\\u003e&quot;, &quot;iconAnchor&quot;: [0, 0], &quot;iconSize&quot;: [10, 10]});\n",
       "            marker_a30ad0106a215500bc9eec252c5e3e77.setIcon(div_icon_8c00b734d929bacbb642dcd8079ee5a1);\n",
       "        \n",
       "    \n",
       "            var circle_marker_435c023d616e7c7156bbcd96a9357c7d = L.circleMarker(\n",
       "                [37.1405818852279, 127.097200437339],\n",
       "                {&quot;bubblingMouseEvents&quot;: true, &quot;color&quot;: &quot;#f6b2b7ff&quot;, &quot;dashArray&quot;: null, &quot;dashOffset&quot;: null, &quot;fill&quot;: true, &quot;fillColor&quot;: &quot;#f6b2b7ff&quot;, &quot;fillOpacity&quot;: 0.565, &quot;fillRule&quot;: &quot;evenodd&quot;, &quot;lineCap&quot;: &quot;round&quot;, &quot;lineJoin&quot;: &quot;round&quot;, &quot;opacity&quot;: 1.0, &quot;radius&quot;: 38.789531041758735, &quot;stroke&quot;: true, &quot;weight&quot;: 3}\n",
       "            ).addTo(map_50ff473c82862390934aab9b11022e21);\n",
       "        \n",
       "    \n",
       "        var popup_c988d6b75b3f972e0ad83b3106a66d15 = L.popup({&quot;maxWidth&quot;: &quot;100%&quot;});\n",
       "\n",
       "        \n",
       "            \n",
       "                var html_b535941e37f31eaad2ba06ea46268d5c = $(`&lt;div id=&quot;html_b535941e37f31eaad2ba06ea46268d5c&quot; style=&quot;width: 100.0%; height: 100.0%;&quot;&gt;공급세대수: 365&lt;br&gt;접수건수: 111&lt;br&gt;경쟁률: 0.0&lt;/div&gt;`)[0];\n",
       "                popup_c988d6b75b3f972e0ad83b3106a66d15.setContent(html_b535941e37f31eaad2ba06ea46268d5c);\n",
       "            \n",
       "        \n",
       "\n",
       "        circle_marker_435c023d616e7c7156bbcd96a9357c7d.bindPopup(popup_c988d6b75b3f972e0ad83b3106a66d15)\n",
       "        ;\n",
       "\n",
       "        \n",
       "    \n",
       "    \n",
       "            var marker_caecddde7bfbb2f145f40a3d2083ce99 = L.marker(\n",
       "                [37.1405818852279, 127.097200437339],\n",
       "                {}\n",
       "            ).addTo(map_50ff473c82862390934aab9b11022e21);\n",
       "        \n",
       "    \n",
       "            var div_icon_586bdf55113fe9fcf5596bc2998ee609 = L.divIcon({&quot;className&quot;: &quot;empty&quot;, &quot;html&quot;: &quot;\\u003cdiv style=\\&quot;font-size: 8pt; color: black; font-weight: medium; text-align: center;\\&quot;\\u003e365\\u003c/div\\u003e&quot;, &quot;iconAnchor&quot;: [0, 0], &quot;iconSize&quot;: [10, 10]});\n",
       "            marker_caecddde7bfbb2f145f40a3d2083ce99.setIcon(div_icon_586bdf55113fe9fcf5596bc2998ee609);\n",
       "        \n",
       "    \n",
       "            var circle_marker_eb2acf78ac15c4476e59aa46fb259eb4 = L.circleMarker(\n",
       "                [37.7471980111957, 126.749623150678],\n",
       "                {&quot;bubblingMouseEvents&quot;: true, &quot;color&quot;: &quot;#f17697ff&quot;, &quot;dashArray&quot;: null, &quot;dashOffset&quot;: null, &quot;fill&quot;: true, &quot;fillColor&quot;: &quot;#f17697ff&quot;, &quot;fillOpacity&quot;: 0.8140000000000001, &quot;fillRule&quot;: &quot;evenodd&quot;, &quot;lineCap&quot;: &quot;round&quot;, &quot;lineJoin&quot;: &quot;round&quot;, &quot;opacity&quot;: 1.0, &quot;radius&quot;: 37.81859834207183, &quot;stroke&quot;: true, &quot;weight&quot;: 3}\n",
       "            ).addTo(map_50ff473c82862390934aab9b11022e21);\n",
       "        \n",
       "    \n",
       "        var popup_495576145066ea24bf311168da9bcc96 = L.popup({&quot;maxWidth&quot;: &quot;100%&quot;});\n",
       "\n",
       "        \n",
       "            \n",
       "                var html_8c67b6acf826b531913f679e2dfd93d7 = $(`&lt;div id=&quot;html_8c67b6acf826b531913f679e2dfd93d7&quot; style=&quot;width: 100.0%; height: 100.0%;&quot;&gt;공급세대수: 614&lt;br&gt;접수건수: 728&lt;br&gt;경쟁률: 3.96&lt;/div&gt;`)[0];\n",
       "                popup_495576145066ea24bf311168da9bcc96.setContent(html_8c67b6acf826b531913f679e2dfd93d7);\n",
       "            \n",
       "        \n",
       "\n",
       "        circle_marker_eb2acf78ac15c4476e59aa46fb259eb4.bindPopup(popup_495576145066ea24bf311168da9bcc96)\n",
       "        ;\n",
       "\n",
       "        \n",
       "    \n",
       "    \n",
       "            var marker_4d2dadc2ba2f62d13db32b25033c0c99 = L.marker(\n",
       "                [37.7471980111957, 126.749623150678],\n",
       "                {}\n",
       "            ).addTo(map_50ff473c82862390934aab9b11022e21);\n",
       "        \n",
       "    \n",
       "            var div_icon_f91eaa93b86d356c8e570721b718dfa9 = L.divIcon({&quot;className&quot;: &quot;empty&quot;, &quot;html&quot;: &quot;\\u003cdiv style=\\&quot;font-size: 8pt; color: black; font-weight: medium; text-align: center;\\&quot;\\u003e614\\u003c/div\\u003e&quot;, &quot;iconAnchor&quot;: [0, 0], &quot;iconSize&quot;: [10, 10]});\n",
       "            marker_4d2dadc2ba2f62d13db32b25033c0c99.setIcon(div_icon_f91eaa93b86d356c8e570721b718dfa9);\n",
       "        \n",
       "    \n",
       "            var circle_marker_134dea7642fe07140f840fe6502d8ca7 = L.circleMarker(\n",
       "                [37.7471980111957, 126.749623150678],\n",
       "                {&quot;bubblingMouseEvents&quot;: true, &quot;color&quot;: &quot;#f17697ff&quot;, &quot;dashArray&quot;: null, &quot;dashOffset&quot;: null, &quot;fill&quot;: true, &quot;fillColor&quot;: &quot;#f17697ff&quot;, &quot;fillOpacity&quot;: 0.8140000000000001, &quot;fillRule&quot;: &quot;evenodd&quot;, &quot;lineCap&quot;: &quot;round&quot;, &quot;lineJoin&quot;: &quot;round&quot;, &quot;opacity&quot;: 1.0, &quot;radius&quot;: 37.81859834207183, &quot;stroke&quot;: true, &quot;weight&quot;: 3}\n",
       "            ).addTo(map_50ff473c82862390934aab9b11022e21);\n",
       "        \n",
       "    \n",
       "        var popup_174efd4fa417982f9d32e2d41a3e74fe = L.popup({&quot;maxWidth&quot;: &quot;100%&quot;});\n",
       "\n",
       "        \n",
       "            \n",
       "                var html_2889e83936e0a95fd0c10f46ff7c1f60 = $(`&lt;div id=&quot;html_2889e83936e0a95fd0c10f46ff7c1f60&quot; style=&quot;width: 100.0%; height: 100.0%;&quot;&gt;공급세대수: 614&lt;br&gt;접수건수: 545&lt;br&gt;경쟁률: 5.49&lt;/div&gt;`)[0];\n",
       "                popup_174efd4fa417982f9d32e2d41a3e74fe.setContent(html_2889e83936e0a95fd0c10f46ff7c1f60);\n",
       "            \n",
       "        \n",
       "\n",
       "        circle_marker_134dea7642fe07140f840fe6502d8ca7.bindPopup(popup_174efd4fa417982f9d32e2d41a3e74fe)\n",
       "        ;\n",
       "\n",
       "        \n",
       "    \n",
       "    \n",
       "            var marker_db52dbfd51a1261b98344fc1a74da10a = L.marker(\n",
       "                [37.7471980111957, 126.749623150678],\n",
       "                {}\n",
       "            ).addTo(map_50ff473c82862390934aab9b11022e21);\n",
       "        \n",
       "    \n",
       "            var div_icon_886ebbccd27aa0fc952762986999dbb7 = L.divIcon({&quot;className&quot;: &quot;empty&quot;, &quot;html&quot;: &quot;\\u003cdiv style=\\&quot;font-size: 8pt; color: black; font-weight: medium; text-align: center;\\&quot;\\u003e614\\u003c/div\\u003e&quot;, &quot;iconAnchor&quot;: [0, 0], &quot;iconSize&quot;: [10, 10]});\n",
       "            marker_db52dbfd51a1261b98344fc1a74da10a.setIcon(div_icon_886ebbccd27aa0fc952762986999dbb7);\n",
       "        \n",
       "    \n",
       "            var circle_marker_b120523349b8426a0ffbe555a0eae75e = L.circleMarker(\n",
       "                [37.7471980111957, 126.749623150678],\n",
       "                {&quot;bubblingMouseEvents&quot;: true, &quot;color&quot;: &quot;#f17697ff&quot;, &quot;dashArray&quot;: null, &quot;dashOffset&quot;: null, &quot;fill&quot;: true, &quot;fillColor&quot;: &quot;#f17697ff&quot;, &quot;fillOpacity&quot;: 0.8140000000000001, &quot;fillRule&quot;: &quot;evenodd&quot;, &quot;lineCap&quot;: &quot;round&quot;, &quot;lineJoin&quot;: &quot;round&quot;, &quot;opacity&quot;: 1.0, &quot;radius&quot;: 37.81859834207183, &quot;stroke&quot;: true, &quot;weight&quot;: 3}\n",
       "            ).addTo(map_50ff473c82862390934aab9b11022e21);\n",
       "        \n",
       "    \n",
       "        var popup_77ea47811f4cb4f09c62f7bf9bcbb0f8 = L.popup({&quot;maxWidth&quot;: &quot;100%&quot;});\n",
       "\n",
       "        \n",
       "            \n",
       "                var html_7c22174690f8d9d77cdc27a0bda2c627 = $(`&lt;div id=&quot;html_7c22174690f8d9d77cdc27a0bda2c627&quot; style=&quot;width: 100.0%; height: 100.0%;&quot;&gt;공급세대수: 614&lt;br&gt;접수건수: 246&lt;br&gt;경쟁률: 0.0&lt;/div&gt;`)[0];\n",
       "                popup_77ea47811f4cb4f09c62f7bf9bcbb0f8.setContent(html_7c22174690f8d9d77cdc27a0bda2c627);\n",
       "            \n",
       "        \n",
       "\n",
       "        circle_marker_b120523349b8426a0ffbe555a0eae75e.bindPopup(popup_77ea47811f4cb4f09c62f7bf9bcbb0f8)\n",
       "        ;\n",
       "\n",
       "        \n",
       "    \n",
       "    \n",
       "            var marker_93d7f307f899fee6f6d06fb4db3e2913 = L.marker(\n",
       "                [37.7471980111957, 126.749623150678],\n",
       "                {}\n",
       "            ).addTo(map_50ff473c82862390934aab9b11022e21);\n",
       "        \n",
       "    \n",
       "            var div_icon_ed9fdc5b4b5f36e73269421676cba9c3 = L.divIcon({&quot;className&quot;: &quot;empty&quot;, &quot;html&quot;: &quot;\\u003cdiv style=\\&quot;font-size: 8pt; color: black; font-weight: medium; text-align: center;\\&quot;\\u003e614\\u003c/div\\u003e&quot;, &quot;iconAnchor&quot;: [0, 0], &quot;iconSize&quot;: [10, 10]});\n",
       "            marker_93d7f307f899fee6f6d06fb4db3e2913.setIcon(div_icon_ed9fdc5b4b5f36e73269421676cba9c3);\n",
       "        \n",
       "    \n",
       "            var circle_marker_0ed01ef0d0db1502bd1c37aa13570d0e = L.circleMarker(\n",
       "                [37.0155692265602, 127.088306869417],\n",
       "                {&quot;bubblingMouseEvents&quot;: true, &quot;color&quot;: &quot;#f6b4b7ff&quot;, &quot;dashArray&quot;: null, &quot;dashOffset&quot;: null, &quot;fill&quot;: true, &quot;fillColor&quot;: &quot;#f6b4b7ff&quot;, &quot;fillOpacity&quot;: 0.5549999999999999, &quot;fillRule&quot;: &quot;evenodd&quot;, &quot;lineCap&quot;: &quot;round&quot;, &quot;lineJoin&quot;: &quot;round&quot;, &quot;opacity&quot;: 1.0, &quot;radius&quot;: 36.62244989674266, &quot;stroke&quot;: true, &quot;weight&quot;: 3}\n",
       "            ).addTo(map_50ff473c82862390934aab9b11022e21);\n",
       "        \n",
       "    \n",
       "        var popup_1dc69ee614c77aaca9e4479dfe42c43d = L.popup({&quot;maxWidth&quot;: &quot;100%&quot;});\n",
       "\n",
       "        \n",
       "            \n",
       "                var html_eb569cee8a481296451bef1e28c6ed5f = $(`&lt;div id=&quot;html_eb569cee8a481296451bef1e28c6ed5f&quot; style=&quot;width: 100.0%; height: 100.0%;&quot;&gt;공급세대수: 355&lt;br&gt;접수건수: 77&lt;br&gt;경쟁률: 0.0&lt;/div&gt;`)[0];\n",
       "                popup_1dc69ee614c77aaca9e4479dfe42c43d.setContent(html_eb569cee8a481296451bef1e28c6ed5f);\n",
       "            \n",
       "        \n",
       "\n",
       "        circle_marker_0ed01ef0d0db1502bd1c37aa13570d0e.bindPopup(popup_1dc69ee614c77aaca9e4479dfe42c43d)\n",
       "        ;\n",
       "\n",
       "        \n",
       "    \n",
       "    \n",
       "            var marker_e338ce443a95d4f03cd848b3dff4d168 = L.marker(\n",
       "                [37.0155692265602, 127.088306869417],\n",
       "                {}\n",
       "            ).addTo(map_50ff473c82862390934aab9b11022e21);\n",
       "        \n",
       "    \n",
       "            var div_icon_0a95c2fc4aaed653e0d3f2fe19b1bdc2 = L.divIcon({&quot;className&quot;: &quot;empty&quot;, &quot;html&quot;: &quot;\\u003cdiv style=\\&quot;font-size: 8pt; color: black; font-weight: medium; text-align: center;\\&quot;\\u003e355\\u003c/div\\u003e&quot;, &quot;iconAnchor&quot;: [0, 0], &quot;iconSize&quot;: [10, 10]});\n",
       "            marker_e338ce443a95d4f03cd848b3dff4d168.setIcon(div_icon_0a95c2fc4aaed653e0d3f2fe19b1bdc2);\n",
       "        \n",
       "    \n",
       "            var circle_marker_5c6e8b87dcbe96d943095193a6846347 = L.circleMarker(\n",
       "                [37.4807226485656, 127.05835055356],\n",
       "                {&quot;bubblingMouseEvents&quot;: true, &quot;color&quot;: &quot;#f598b1ff&quot;, &quot;dashArray&quot;: null, &quot;dashOffset&quot;: null, &quot;fill&quot;: true, &quot;fillColor&quot;: &quot;#f598b1ff&quot;, &quot;fillOpacity&quot;: 0.6950000000000001, &quot;fillRule&quot;: &quot;evenodd&quot;, &quot;lineCap&quot;: &quot;round&quot;, &quot;lineJoin&quot;: &quot;round&quot;, &quot;opacity&quot;: 1.0, &quot;radius&quot;: 35.59817819008818, &quot;stroke&quot;: true, &quot;weight&quot;: 3}\n",
       "            ).addTo(map_50ff473c82862390934aab9b11022e21);\n",
       "        \n",
       "    \n",
       "        var popup_8a9718bd8082efabd3fdbf02be6726da = L.popup({&quot;maxWidth&quot;: &quot;100%&quot;});\n",
       "\n",
       "        \n",
       "            \n",
       "                var html_117490782c83f83c7bdbafade18a811e = $(`&lt;div id=&quot;html_117490782c83f83c7bdbafade18a811e&quot; style=&quot;width: 100.0%; height: 100.0%;&quot;&gt;공급세대수: 495&lt;br&gt;접수건수: 0&lt;br&gt;경쟁률: 14.33&lt;/div&gt;`)[0];\n",
       "                popup_8a9718bd8082efabd3fdbf02be6726da.setContent(html_117490782c83f83c7bdbafade18a811e);\n",
       "            \n",
       "        \n",
       "\n",
       "        circle_marker_5c6e8b87dcbe96d943095193a6846347.bindPopup(popup_8a9718bd8082efabd3fdbf02be6726da)\n",
       "        ;\n",
       "\n",
       "        \n",
       "    \n",
       "    \n",
       "            var marker_110b4c2bb8c12547905947f661eeb35e = L.marker(\n",
       "                [37.4807226485656, 127.05835055356],\n",
       "                {}\n",
       "            ).addTo(map_50ff473c82862390934aab9b11022e21);\n",
       "        \n",
       "    \n",
       "            var div_icon_9ab6256eb41ecd71de5f764b03ab349c = L.divIcon({&quot;className&quot;: &quot;empty&quot;, &quot;html&quot;: &quot;\\u003cdiv style=\\&quot;font-size: 8pt; color: black; font-weight: medium; text-align: center;\\&quot;\\u003e495\\u003c/div\\u003e&quot;, &quot;iconAnchor&quot;: [0, 0], &quot;iconSize&quot;: [10, 10]});\n",
       "            marker_110b4c2bb8c12547905947f661eeb35e.setIcon(div_icon_9ab6256eb41ecd71de5f764b03ab349c);\n",
       "        \n",
       "    \n",
       "            var circle_marker_c1ae84f9d17330f392c7b57f785d75c7 = L.circleMarker(\n",
       "                [37.820012508486, 127.088271333497],\n",
       "                {&quot;bubblingMouseEvents&quot;: true, &quot;color&quot;: &quot;#f6afb7ff&quot;, &quot;dashArray&quot;: null, &quot;dashOffset&quot;: null, &quot;fill&quot;: true, &quot;fillColor&quot;: &quot;#f6afb7ff&quot;, &quot;fillOpacity&quot;: 0.5820000000000001, &quot;fillRule&quot;: &quot;evenodd&quot;, &quot;lineCap&quot;: &quot;round&quot;, &quot;lineJoin&quot;: &quot;round&quot;, &quot;opacity&quot;: 1.0, &quot;radius&quot;: 35.64247972840018, &quot;stroke&quot;: true, &quot;weight&quot;: 3}\n",
       "            ).addTo(map_50ff473c82862390934aab9b11022e21);\n",
       "        \n",
       "    \n",
       "        var popup_e79656787051feac25c3eda9cca4ef9d = L.popup({&quot;maxWidth&quot;: &quot;100%&quot;});\n",
       "\n",
       "        \n",
       "            \n",
       "                var html_61c824251bd5ef12dcc16e97041a190b = $(`&lt;div id=&quot;html_61c824251bd5ef12dcc16e97041a190b&quot; style=&quot;width: 100.0%; height: 100.0%;&quot;&gt;공급세대수: 382&lt;br&gt;접수건수: 168&lt;br&gt;경쟁률: 1.46&lt;/div&gt;`)[0];\n",
       "                popup_e79656787051feac25c3eda9cca4ef9d.setContent(html_61c824251bd5ef12dcc16e97041a190b);\n",
       "            \n",
       "        \n",
       "\n",
       "        circle_marker_c1ae84f9d17330f392c7b57f785d75c7.bindPopup(popup_e79656787051feac25c3eda9cca4ef9d)\n",
       "        ;\n",
       "\n",
       "        \n",
       "    \n",
       "    \n",
       "            var marker_8432ccfa8287d562fde3d86f013e6b09 = L.marker(\n",
       "                [37.820012508486, 127.088271333497],\n",
       "                {}\n",
       "            ).addTo(map_50ff473c82862390934aab9b11022e21);\n",
       "        \n",
       "    \n",
       "            var div_icon_890e32141a50a6cc2dfffe900811e5c5 = L.divIcon({&quot;className&quot;: &quot;empty&quot;, &quot;html&quot;: &quot;\\u003cdiv style=\\&quot;font-size: 8pt; color: black; font-weight: medium; text-align: center;\\&quot;\\u003e382\\u003c/div\\u003e&quot;, &quot;iconAnchor&quot;: [0, 0], &quot;iconSize&quot;: [10, 10]});\n",
       "            marker_8432ccfa8287d562fde3d86f013e6b09.setIcon(div_icon_890e32141a50a6cc2dfffe900811e5c5);\n",
       "        \n",
       "    \n",
       "            var circle_marker_a7edf423a650a882f95968cbdff69e28 = L.circleMarker(\n",
       "                [37.820012508486, 127.088271333497],\n",
       "                {&quot;bubblingMouseEvents&quot;: true, &quot;color&quot;: &quot;#f6afb7ff&quot;, &quot;dashArray&quot;: null, &quot;dashOffset&quot;: null, &quot;fill&quot;: true, &quot;fillColor&quot;: &quot;#f6afb7ff&quot;, &quot;fillOpacity&quot;: 0.5820000000000001, &quot;fillRule&quot;: &quot;evenodd&quot;, &quot;lineCap&quot;: &quot;round&quot;, &quot;lineJoin&quot;: &quot;round&quot;, &quot;opacity&quot;: 1.0, &quot;radius&quot;: 35.64247972840018, &quot;stroke&quot;: true, &quot;weight&quot;: 3}\n",
       "            ).addTo(map_50ff473c82862390934aab9b11022e21);\n",
       "        \n",
       "    \n",
       "        var popup_3307d46abb8c9535089e25cb957688fe = L.popup({&quot;maxWidth&quot;: &quot;100%&quot;});\n",
       "\n",
       "        \n",
       "            \n",
       "                var html_c25122566ccde40f74acc6f2f5be9a70 = $(`&lt;div id=&quot;html_c25122566ccde40f74acc6f2f5be9a70&quot; style=&quot;width: 100.0%; height: 100.0%;&quot;&gt;공급세대수: 382&lt;br&gt;접수건수: 219&lt;br&gt;경쟁률: 2.58&lt;/div&gt;`)[0];\n",
       "                popup_3307d46abb8c9535089e25cb957688fe.setContent(html_c25122566ccde40f74acc6f2f5be9a70);\n",
       "            \n",
       "        \n",
       "\n",
       "        circle_marker_a7edf423a650a882f95968cbdff69e28.bindPopup(popup_3307d46abb8c9535089e25cb957688fe)\n",
       "        ;\n",
       "\n",
       "        \n",
       "    \n",
       "    \n",
       "            var marker_44c5a6f2476bf00afbe38a05aaf8c3aa = L.marker(\n",
       "                [37.820012508486, 127.088271333497],\n",
       "                {}\n",
       "            ).addTo(map_50ff473c82862390934aab9b11022e21);\n",
       "        \n",
       "    \n",
       "            var div_icon_bc5346c9c9d4efcd538b7ca0d8382891 = L.divIcon({&quot;className&quot;: &quot;empty&quot;, &quot;html&quot;: &quot;\\u003cdiv style=\\&quot;font-size: 8pt; color: black; font-weight: medium; text-align: center;\\&quot;\\u003e382\\u003c/div\\u003e&quot;, &quot;iconAnchor&quot;: [0, 0], &quot;iconSize&quot;: [10, 10]});\n",
       "            marker_44c5a6f2476bf00afbe38a05aaf8c3aa.setIcon(div_icon_bc5346c9c9d4efcd538b7ca0d8382891);\n",
       "        \n",
       "    \n",
       "            var circle_marker_9e5bcc819a13726f5c768d12d93b39e6 = L.circleMarker(\n",
       "                [37.820012508486, 127.088271333497],\n",
       "                {&quot;bubblingMouseEvents&quot;: true, &quot;color&quot;: &quot;#f6afb7ff&quot;, &quot;dashArray&quot;: null, &quot;dashOffset&quot;: null, &quot;fill&quot;: true, &quot;fillColor&quot;: &quot;#f6afb7ff&quot;, &quot;fillOpacity&quot;: 0.5820000000000001, &quot;fillRule&quot;: &quot;evenodd&quot;, &quot;lineCap&quot;: &quot;round&quot;, &quot;lineJoin&quot;: &quot;round&quot;, &quot;opacity&quot;: 1.0, &quot;radius&quot;: 35.64247972840018, &quot;stroke&quot;: true, &quot;weight&quot;: 3}\n",
       "            ).addTo(map_50ff473c82862390934aab9b11022e21);\n",
       "        \n",
       "    \n",
       "        var popup_0a5874837c41d17eb966d0389418d625 = L.popup({&quot;maxWidth&quot;: &quot;100%&quot;});\n",
       "\n",
       "        \n",
       "            \n",
       "                var html_71d07b9ec60f718f6ba6be6a5c28597c = $(`&lt;div id=&quot;html_71d07b9ec60f718f6ba6be6a5c28597c&quot; style=&quot;width: 100.0%; height: 100.0%;&quot;&gt;공급세대수: 382&lt;br&gt;접수건수: 96&lt;br&gt;경쟁률: 0.0&lt;/div&gt;`)[0];\n",
       "                popup_0a5874837c41d17eb966d0389418d625.setContent(html_71d07b9ec60f718f6ba6be6a5c28597c);\n",
       "            \n",
       "        \n",
       "\n",
       "        circle_marker_9e5bcc819a13726f5c768d12d93b39e6.bindPopup(popup_0a5874837c41d17eb966d0389418d625)\n",
       "        ;\n",
       "\n",
       "        \n",
       "    \n",
       "    \n",
       "            var marker_b7d926a0a3a3775a289a0edf83cfae3b = L.marker(\n",
       "                [37.820012508486, 127.088271333497],\n",
       "                {}\n",
       "            ).addTo(map_50ff473c82862390934aab9b11022e21);\n",
       "        \n",
       "    \n",
       "            var div_icon_3f93c06d6097fbda1e80c29ab6d20544 = L.divIcon({&quot;className&quot;: &quot;empty&quot;, &quot;html&quot;: &quot;\\u003cdiv style=\\&quot;font-size: 8pt; color: black; font-weight: medium; text-align: center;\\&quot;\\u003e382\\u003c/div\\u003e&quot;, &quot;iconAnchor&quot;: [0, 0], &quot;iconSize&quot;: [10, 10]});\n",
       "            marker_b7d926a0a3a3775a289a0edf83cfae3b.setIcon(div_icon_3f93c06d6097fbda1e80c29ab6d20544);\n",
       "        \n",
       "    \n",
       "            var circle_marker_57a1ec286880a04654a75dd9e73268f1 = L.circleMarker(\n",
       "                [37.2703753379282, 127.0212229456],\n",
       "                {&quot;bubblingMouseEvents&quot;: true, &quot;color&quot;: &quot;#f6b1b7ff&quot;, &quot;dashArray&quot;: null, &quot;dashOffset&quot;: null, &quot;fill&quot;: true, &quot;fillColor&quot;: &quot;#f6b1b7ff&quot;, &quot;fillOpacity&quot;: 0.5680000000000001, &quot;fillRule&quot;: &quot;evenodd&quot;, &quot;lineCap&quot;: &quot;round&quot;, &quot;lineJoin&quot;: &quot;round&quot;, &quot;opacity&quot;: 1.0, &quot;radius&quot;: 38.40318713780468, &quot;stroke&quot;: true, &quot;weight&quot;: 3}\n",
       "            ).addTo(map_50ff473c82862390934aab9b11022e21);\n",
       "        \n",
       "    \n",
       "        var popup_2ec2e5d4d458cdf4fb41d92f44a354e5 = L.popup({&quot;maxWidth&quot;: &quot;100%&quot;});\n",
       "\n",
       "        \n",
       "            \n",
       "                var html_32089dfe1baea74187099b76b2511a22 = $(`&lt;div id=&quot;html_32089dfe1baea74187099b76b2511a22&quot; style=&quot;width: 100.0%; height: 100.0%;&quot;&gt;공급세대수: 368&lt;br&gt;접수건수: 0&lt;br&gt;경쟁률: 11.35&lt;/div&gt;`)[0];\n",
       "                popup_2ec2e5d4d458cdf4fb41d92f44a354e5.setContent(html_32089dfe1baea74187099b76b2511a22);\n",
       "            \n",
       "        \n",
       "\n",
       "        circle_marker_57a1ec286880a04654a75dd9e73268f1.bindPopup(popup_2ec2e5d4d458cdf4fb41d92f44a354e5)\n",
       "        ;\n",
       "\n",
       "        \n",
       "    \n",
       "    \n",
       "            var marker_f82af17cc5b97dc5fbad80918567a770 = L.marker(\n",
       "                [37.2703753379282, 127.0212229456],\n",
       "                {}\n",
       "            ).addTo(map_50ff473c82862390934aab9b11022e21);\n",
       "        \n",
       "    \n",
       "            var div_icon_617ac5974395ef913dae19e80ddc9174 = L.divIcon({&quot;className&quot;: &quot;empty&quot;, &quot;html&quot;: &quot;\\u003cdiv style=\\&quot;font-size: 8pt; color: black; font-weight: medium; text-align: center;\\&quot;\\u003e368\\u003c/div\\u003e&quot;, &quot;iconAnchor&quot;: [0, 0], &quot;iconSize&quot;: [10, 10]});\n",
       "            marker_f82af17cc5b97dc5fbad80918567a770.setIcon(div_icon_617ac5974395ef913dae19e80ddc9174);\n",
       "        \n",
       "    \n",
       "            var circle_marker_429869a8cd126994d8b6eabd41ba80a5 = L.circleMarker(\n",
       "                [37.2738123370048, 127.62788850756],\n",
       "                {&quot;bubblingMouseEvents&quot;: true, &quot;color&quot;: &quot;#f6b1b7ff&quot;, &quot;dashArray&quot;: null, &quot;dashOffset&quot;: null, &quot;fill&quot;: true, &quot;fillColor&quot;: &quot;#f6b1b7ff&quot;, &quot;fillOpacity&quot;: 0.5680000000000001, &quot;fillRule&quot;: &quot;evenodd&quot;, &quot;lineCap&quot;: &quot;round&quot;, &quot;lineJoin&quot;: &quot;round&quot;, &quot;opacity&quot;: 1.0, &quot;radius&quot;: 32.034399930346574, &quot;stroke&quot;: true, &quot;weight&quot;: 3}\n",
       "            ).addTo(map_50ff473c82862390934aab9b11022e21);\n",
       "        \n",
       "    \n",
       "        var popup_0fdc96038477a80dbe81599b8e25175a = L.popup({&quot;maxWidth&quot;: &quot;100%&quot;});\n",
       "\n",
       "        \n",
       "            \n",
       "                var html_b7b96a2a59f7b807c38f192d5f44c028 = $(`&lt;div id=&quot;html_b7b96a2a59f7b807c38f192d5f44c028&quot; style=&quot;width: 100.0%; height: 100.0%;&quot;&gt;공급세대수: 368&lt;br&gt;접수건수: 434&lt;br&gt;경쟁률: 1.18&lt;/div&gt;`)[0];\n",
       "                popup_0fdc96038477a80dbe81599b8e25175a.setContent(html_b7b96a2a59f7b807c38f192d5f44c028);\n",
       "            \n",
       "        \n",
       "\n",
       "        circle_marker_429869a8cd126994d8b6eabd41ba80a5.bindPopup(popup_0fdc96038477a80dbe81599b8e25175a)\n",
       "        ;\n",
       "\n",
       "        \n",
       "    \n",
       "    \n",
       "            var marker_78840731a523c53019437f03bcfead77 = L.marker(\n",
       "                [37.2738123370048, 127.62788850756],\n",
       "                {}\n",
       "            ).addTo(map_50ff473c82862390934aab9b11022e21);\n",
       "        \n",
       "    \n",
       "            var div_icon_16664ebebbd88d911918d8640daf2878 = L.divIcon({&quot;className&quot;: &quot;empty&quot;, &quot;html&quot;: &quot;\\u003cdiv style=\\&quot;font-size: 8pt; color: black; font-weight: medium; text-align: center;\\&quot;\\u003e368\\u003c/div\\u003e&quot;, &quot;iconAnchor&quot;: [0, 0], &quot;iconSize&quot;: [10, 10]});\n",
       "            marker_78840731a523c53019437f03bcfead77.setIcon(div_icon_16664ebebbd88d911918d8640daf2878);\n",
       "        \n",
       "    \n",
       "    var color_map_23e07b3bcdb8bba3558a67eaed984a59 = {};\n",
       "\n",
       "    \n",
       "    color_map_23e07b3bcdb8bba3558a67eaed984a59.color = d3.scale.threshold()\n",
       "              .domain([0.0, 1.8757515030060121, 3.7515030060120242, 5.627254509018036, 7.5030060120240485, 9.37875751503006, 11.254509018036073, 13.130260521042084, 15.006012024048097, 16.881763527054108, 18.75751503006012, 20.63326653306613, 22.509018036072145, 24.384769539078157, 26.260521042084168, 28.13627254509018, 30.012024048096194, 31.887775551102205, 33.763527054108216, 35.63927855711423, 37.51503006012024, 39.390781563126254, 41.26653306613226, 43.142284569138276, 45.01803607214429, 46.8937875751503, 48.76953907815631, 50.64529058116233, 52.521042084168336, 54.39679358717435, 56.27254509018036, 58.14829659318637, 60.02404809619239, 61.899799599198396, 63.77555110220441, 65.65130260521042, 67.52705410821643, 69.40280561122245, 71.27855711422846, 73.15430861723446, 75.03006012024048, 76.90581162324649, 78.78156312625251, 80.65731462925852, 82.53306613226452, 84.40881763527054, 86.28456913827655, 88.16032064128257, 90.03607214428858, 91.91182364729458, 93.7875751503006, 95.66332665330661, 97.53907815631263, 99.41482965931864, 101.29058116232466, 103.16633266533066, 105.04208416833667, 106.91783567134269, 108.7935871743487, 110.66933867735472, 112.54509018036072, 114.42084168336673, 116.29659318637275, 118.17234468937876, 120.04809619238478, 121.92384769539078, 123.79959919839679, 125.6753507014028, 127.55110220440882, 129.42685370741484, 131.30260521042084, 133.17835671342687, 135.05410821643287, 136.92985971943887, 138.8056112224449, 140.6813627254509, 142.55711422845692, 144.43286573146293, 146.30861723446893, 148.18436873747495, 150.06012024048096, 151.93587174348698, 153.81162324649299, 155.68737474949899, 157.56312625250501, 159.43887775551102, 161.31462925851704, 163.19038076152304, 165.06613226452905, 166.94188376753507, 168.81763527054107, 170.6933867735471, 172.5691382765531, 174.4448897795591, 176.32064128256513, 178.19639278557113, 180.07214428857716, 181.94789579158316, 183.82364729458916, 185.6993987975952, 187.5751503006012, 189.45090180360722, 191.32665330661322, 193.20240480961922, 195.07815631262525, 196.95390781563125, 198.82965931863728, 200.70541082164328, 202.5811623246493, 204.4569138276553, 206.3326653306613, 208.20841683366734, 210.08416833667334, 211.95991983967937, 213.83567134268537, 215.71142284569137, 217.5871743486974, 219.4629258517034, 221.33867735470943, 223.21442885771543, 225.09018036072143, 226.96593186372746, 228.84168336673346, 230.7174348697395, 232.5931863727455, 234.4689378757515, 236.34468937875752, 238.22044088176352, 240.09619238476955, 241.97194388777555, 243.84769539078155, 245.72344689378758, 247.59919839679358, 249.4749498997996, 251.3507014028056, 253.2264529058116, 255.10220440881764, 256.97795591182364, 258.85370741482967, 260.72945891783564, 262.6052104208417, 264.4809619238477, 266.35671342685373, 268.2324649298597, 270.10821643286573, 271.98396793587176, 273.85971943887773, 275.73547094188376, 277.6112224448898, 279.4869739478958, 281.3627254509018, 283.2384769539078, 285.11422845691385, 286.9899799599198, 288.86573146292585, 290.7414829659319, 292.61723446893785, 294.4929859719439, 296.3687374749499, 298.24448897795594, 300.1202404809619, 301.99599198396794, 303.87174348697397, 305.74749498997994, 307.62324649298597, 309.498997995992, 311.37474949899797, 313.250501002004, 315.12625250501003, 317.00200400801606, 318.87775551102203, 320.75350701402806, 322.6292585170341, 324.50501002004006, 326.3807615230461, 328.2565130260521, 330.1322645290581, 332.0080160320641, 333.88376753507015, 335.7595190380762, 337.63527054108215, 339.5110220440882, 341.3867735470942, 343.2625250501002, 345.1382765531062, 347.01402805611224, 348.8897795591182, 350.76553106212424, 352.64128256513027, 354.5170340681363, 356.39278557114227, 358.2685370741483, 360.1442885771543, 362.0200400801603, 363.89579158316633, 365.77154308617236, 367.64729458917833, 369.52304609218436, 371.3987975951904, 373.2745490981964, 375.1503006012024, 377.0260521042084, 378.90180360721445, 380.7775551102204, 382.65330661322645, 384.5290581162325, 386.40480961923845, 388.2805611222445, 390.1563126252505, 392.03206412825654, 393.9078156312625, 395.78356713426854, 397.65931863727457, 399.53507014028054, 401.41082164328657, 403.2865731462926, 405.1623246492986, 407.0380761523046, 408.9138276553106, 410.78957915831666, 412.6653306613226, 414.54108216432866, 416.4168336673347, 418.29258517034066, 420.1683366733467, 422.0440881763527, 423.91983967935874, 425.7955911823647, 427.67134268537075, 429.5470941883768, 431.42284569138275, 433.2985971943888, 435.1743486973948, 437.0501002004008, 438.9258517034068, 440.80160320641284, 442.67735470941886, 444.55310621242484, 446.42885771543087, 448.3046092184369, 450.18036072144287, 452.0561122244489, 453.9318637274549, 455.8076152304609, 457.6833667334669, 459.55911823647295, 461.434869739479, 463.31062124248496, 465.186372745491, 467.062124248497, 468.937875751503, 470.813627254509, 472.68937875751504, 474.565130260521, 476.44088176352705, 478.3166332665331, 480.1923847695391, 482.0681362725451, 483.9438877755511, 485.81963927855713, 487.6953907815631, 489.57114228456913, 491.44689378757516, 493.32264529058114, 495.19839679358716, 497.0741482965932, 498.9498997995992, 500.8256513026052, 502.7014028056112, 504.57715430861725, 506.4529058116232, 508.32865731462925, 510.2044088176353, 512.0801603206413, 513.9559118236473, 515.8316633266533, 517.7074148296593, 519.5831663326653, 521.4589178356713, 523.3346693386774, 525.2104208416833, 527.0861723446894, 528.9619238476954, 530.8376753507014, 532.7134268537075, 534.5891783567134, 536.4649298597194, 538.3406813627255, 540.2164328657315, 542.0921843687374, 543.9679358717435, 545.8436873747495, 547.7194388777555, 549.5951903807616, 551.4709418837675, 553.3466933867735, 555.2224448897796, 557.0981963927856, 558.9739478957916, 560.8496993987976, 562.7254509018036, 564.6012024048097, 566.4769539078156, 568.3527054108216, 570.2284569138277, 572.1042084168337, 573.9799599198396, 575.8557114228457, 577.7314629258517, 579.6072144288577, 581.4829659318638, 583.3587174348697, 585.2344689378757, 587.1102204408818, 588.9859719438878, 590.8617234468937, 592.7374749498998, 594.6132264529058, 596.4889779559119, 598.3647294589179, 600.2404809619238, 602.1162324649299, 603.9919839679359, 605.8677354709419, 607.7434869739479, 609.6192384769539, 611.4949899799599, 613.370741482966, 615.2464929859719, 617.1222444889779, 618.997995991984, 620.87374749499, 622.7494989979959, 624.625250501002, 626.501002004008, 628.376753507014, 630.2525050100201, 632.128256513026, 634.0040080160321, 635.8797595190381, 637.7555110220441, 639.6312625250501, 641.5070140280561, 643.3827655310621, 645.2585170340682, 647.1342685370741, 649.0100200400801, 650.8857715430862, 652.7615230460922, 654.6372745490982, 656.5130260521042, 658.3887775551102, 660.2645290581162, 662.1402805611223, 664.0160320641282, 665.8917835671342, 667.7675350701403, 669.6432865731463, 671.5190380761524, 673.3947895791583, 675.2705410821643, 677.1462925851704, 679.0220440881764, 680.8977955911823, 682.7735470941884, 684.6492985971944, 686.5250501002004, 688.4008016032064, 690.2765531062124, 692.1523046092184, 694.0280561122245, 695.9038076152304, 697.7795591182364, 699.6553106212425, 701.5310621242485, 703.4068136272546, 705.2825651302605, 707.1583166332665, 709.0340681362726, 710.9098196392786, 712.7855711422845, 714.6613226452906, 716.5370741482966, 718.4128256513026, 720.2885771543087, 722.1643286573146, 724.0400801603206, 725.9158316633267, 727.7915831663327, 729.6673346693386, 731.5430861723447, 733.4188376753507, 735.2945891783567, 737.1703406813627, 739.0460921843687, 740.9218436873748, 742.7975951903808, 744.6733466933867, 746.5490981963928, 748.4248496993988, 750.3006012024048, 752.1763527054109, 754.0521042084168, 755.9278557114228, 757.8036072144289, 759.6793587174349, 761.5551102204408, 763.4308617234469, 765.3066132264529, 767.1823647294589, 769.058116232465, 770.9338677354709, 772.8096192384769, 774.685370741483, 776.561122244489, 778.436873747495, 780.312625250501, 782.188376753507, 784.0641282565131, 785.939879759519, 787.815631262525, 789.6913827655311, 791.5671342685371, 793.442885771543, 795.3186372745491, 797.1943887775551, 799.0701402805611, 800.9458917835672, 802.8216432865731, 804.6973947895791, 806.5731462925852, 808.4488977955912, 810.3246492985973, 812.2004008016032, 814.0761523046092, 815.9519038076153, 817.8276553106213, 819.7034068136272, 821.5791583166333, 823.4549098196393, 825.3306613226453, 827.2064128256513, 829.0821643286573, 830.9579158316633, 832.8336673346694, 834.7094188376753, 836.5851703406813, 838.4609218436874, 840.3366733466934, 842.2124248496993, 844.0881763527054, 845.9639278557114, 847.8396793587175, 849.7154308617235, 851.5911823647294, 853.4669338677355, 855.3426853707415, 857.2184368737475, 859.0941883767536, 860.9699398797595, 862.8456913827655, 864.7214428857716, 866.5971943887776, 868.4729458917835, 870.3486973947896, 872.2244488977956, 874.1002004008016, 875.9759519038076, 877.8517034068136, 879.7274549098196, 881.6032064128257, 883.4789579158316, 885.3547094188377, 887.2304609218437, 889.1062124248497, 890.9819639278558, 892.8577154308617, 894.7334669338677, 896.6092184368738, 898.4849699398798, 900.3607214428857, 902.2364729458918, 904.1122244488978, 905.9879759519038, 907.8637274549098, 909.7394789579158, 911.6152304609218, 913.4909819639279, 915.3667334669339, 917.2424849699398, 919.1182364729459, 920.9939879759519, 922.869739478958, 924.7454909819639, 926.6212424849699, 928.496993987976, 930.372745490982, 932.2484969939879, 934.124248496994, 936.0])\n",
       "              .range([&#x27;#f0e5cfff&#x27;, &#x27;#f0e5cfff&#x27;, &#x27;#f1e5cfff&#x27;, &#x27;#f1e5cfff&#x27;, &#x27;#f1e4cfff&#x27;, &#x27;#f1e4ceff&#x27;, &#x27;#f1e4ceff&#x27;, &#x27;#f1e4ceff&#x27;, &#x27;#f1e4ceff&#x27;, &#x27;#f1e3ceff&#x27;, &#x27;#f1e3cdff&#x27;, &#x27;#f1e3cdff&#x27;, &#x27;#f1e3cdff&#x27;, &#x27;#f1e2cdff&#x27;, &#x27;#f1e2ccff&#x27;, &#x27;#f1e2ccff&#x27;, &#x27;#f1e2ccff&#x27;, &#x27;#f1e1ccff&#x27;, &#x27;#f1e1ccff&#x27;, &#x27;#f1e1cbff&#x27;, &#x27;#f1e1cbff&#x27;, &#x27;#f1e0cbff&#x27;, &#x27;#f2e0cbff&#x27;, &#x27;#f2e0cbff&#x27;, &#x27;#f2e0caff&#x27;, &#x27;#f2e0caff&#x27;, &#x27;#f2dfcaff&#x27;, &#x27;#f2dfcaff&#x27;, &#x27;#f2dfcaff&#x27;, &#x27;#f2dfc9ff&#x27;, &#x27;#f2dec9ff&#x27;, &#x27;#f2dec9ff&#x27;, &#x27;#f2dec9ff&#x27;, &#x27;#f2dec9ff&#x27;, &#x27;#f2ddc8ff&#x27;, &#x27;#f2ddc8ff&#x27;, &#x27;#f2ddc8ff&#x27;, &#x27;#f2ddc8ff&#x27;, &#x27;#f2ddc8ff&#x27;, &#x27;#f2dcc7ff&#x27;, &#x27;#f2dcc7ff&#x27;, &#x27;#f2dcc7ff&#x27;, &#x27;#f2dcc7ff&#x27;, &#x27;#f3dbc7ff&#x27;, &#x27;#f3dbc6ff&#x27;, &#x27;#f3dbc6ff&#x27;, &#x27;#f3dbc6ff&#x27;, &#x27;#f3dac6ff&#x27;, &#x27;#f3dac6ff&#x27;, &#x27;#f3dac5ff&#x27;, &#x27;#f3dac5ff&#x27;, &#x27;#f3d9c5ff&#x27;, &#x27;#f3d9c5ff&#x27;, &#x27;#f3d9c5ff&#x27;, &#x27;#f3d9c4ff&#x27;, &#x27;#f3d9c4ff&#x27;, &#x27;#f3d8c4ff&#x27;, &#x27;#f3d8c4ff&#x27;, &#x27;#f3d8c4ff&#x27;, &#x27;#f3d8c3ff&#x27;, &#x27;#f3d7c3ff&#x27;, &#x27;#f3d7c3ff&#x27;, &#x27;#f3d7c3ff&#x27;, &#x27;#f3d7c3ff&#x27;, &#x27;#f4d6c2ff&#x27;, &#x27;#f4d6c2ff&#x27;, &#x27;#f4d6c2ff&#x27;, &#x27;#f4d6c2ff&#x27;, &#x27;#f4d6c2ff&#x27;, &#x27;#f4d5c1ff&#x27;, &#x27;#f4d5c1ff&#x27;, &#x27;#f4d5c1ff&#x27;, &#x27;#f4d5c1ff&#x27;, &#x27;#f4d4c1ff&#x27;, &#x27;#f4d4c0ff&#x27;, &#x27;#f4d4c0ff&#x27;, &#x27;#f4d4c0ff&#x27;, &#x27;#f4d3c0ff&#x27;, &#x27;#f4d3c0ff&#x27;, &#x27;#f4d3bfff&#x27;, &#x27;#f4d3bfff&#x27;, &#x27;#f4d2bfff&#x27;, &#x27;#f4d2bfff&#x27;, &#x27;#f4d2bfff&#x27;, &#x27;#f4d2beff&#x27;, &#x27;#f5d2beff&#x27;, &#x27;#f5d1beff&#x27;, &#x27;#f5d1beff&#x27;, &#x27;#f5d1beff&#x27;, &#x27;#f5d1bdff&#x27;, &#x27;#f5d0bdff&#x27;, &#x27;#f5d0bdff&#x27;, &#x27;#f5d0bdff&#x27;, &#x27;#f5d0bdff&#x27;, &#x27;#f5cfbcff&#x27;, &#x27;#f5cfbcff&#x27;, &#x27;#f5cfbcff&#x27;, &#x27;#f5cfbcff&#x27;, &#x27;#f5cfbcff&#x27;, &#x27;#f5cebbff&#x27;, &#x27;#f5cebbff&#x27;, &#x27;#f5cebbff&#x27;, &#x27;#f5cebbff&#x27;, &#x27;#f5cdbbff&#x27;, &#x27;#f5cdbaff&#x27;, &#x27;#f6cdbaff&#x27;, &#x27;#f6cdbaff&#x27;, &#x27;#f6ccbaff&#x27;, &#x27;#f6ccbaff&#x27;, &#x27;#f6ccb9ff&#x27;, &#x27;#f6ccb9ff&#x27;, &#x27;#f6cbb9ff&#x27;, &#x27;#f6cbb9ff&#x27;, &#x27;#f6cbb9ff&#x27;, &#x27;#f6cbb8ff&#x27;, &#x27;#f6cbb8ff&#x27;, &#x27;#f6cab8ff&#x27;, &#x27;#f6cab8ff&#x27;, &#x27;#f6cab8ff&#x27;, &#x27;#f6cab7ff&#x27;, &#x27;#f6c9b7ff&#x27;, &#x27;#f6c9b7ff&#x27;, &#x27;#f6c9b7ff&#x27;, &#x27;#f6c9b7ff&#x27;, &#x27;#f6c8b6ff&#x27;, &#x27;#f6c8b6ff&#x27;, &#x27;#f6c8b6ff&#x27;, &#x27;#f6c8b6ff&#x27;, &#x27;#f6c7b6ff&#x27;, &#x27;#f6c7b6ff&#x27;, &#x27;#f6c7b6ff&#x27;, &#x27;#f6c6b6ff&#x27;, &#x27;#f6c6b6ff&#x27;, &#x27;#f6c6b6ff&#x27;, &#x27;#f6c5b6ff&#x27;, &#x27;#f6c5b6ff&#x27;, &#x27;#f6c5b6ff&#x27;, &#x27;#f6c4b6ff&#x27;, &#x27;#f6c4b6ff&#x27;, &#x27;#f6c4b6ff&#x27;, &#x27;#f6c3b6ff&#x27;, &#x27;#f6c3b6ff&#x27;, &#x27;#f6c3b6ff&#x27;, &#x27;#f6c2b6ff&#x27;, &#x27;#f6c2b6ff&#x27;, &#x27;#f6c2b6ff&#x27;, &#x27;#f6c1b6ff&#x27;, &#x27;#f6c1b6ff&#x27;, &#x27;#f6c1b6ff&#x27;, &#x27;#f6c0b6ff&#x27;, &#x27;#f6c0b6ff&#x27;, &#x27;#f6c0b6ff&#x27;, &#x27;#f6c0b6ff&#x27;, &#x27;#f6bfb6ff&#x27;, &#x27;#f6bfb6ff&#x27;, &#x27;#f6bfb6ff&#x27;, &#x27;#f6beb6ff&#x27;, &#x27;#f6beb6ff&#x27;, &#x27;#f6beb6ff&#x27;, &#x27;#f6bdb6ff&#x27;, &#x27;#f6bdb6ff&#x27;, &#x27;#f6bdb7ff&#x27;, &#x27;#f6bcb7ff&#x27;, &#x27;#f6bcb7ff&#x27;, &#x27;#f6bcb7ff&#x27;, &#x27;#f6bbb7ff&#x27;, &#x27;#f6bbb7ff&#x27;, &#x27;#f6bbb7ff&#x27;, &#x27;#f6bab7ff&#x27;, &#x27;#f6bab7ff&#x27;, &#x27;#f6bab7ff&#x27;, &#x27;#f6b9b7ff&#x27;, &#x27;#f6b9b7ff&#x27;, &#x27;#f6b9b7ff&#x27;, &#x27;#f6b8b7ff&#x27;, &#x27;#f6b8b7ff&#x27;, &#x27;#f6b8b7ff&#x27;, &#x27;#f6b7b7ff&#x27;, &#x27;#f6b7b7ff&#x27;, &#x27;#f6b7b7ff&#x27;, &#x27;#f6b6b7ff&#x27;, &#x27;#f6b6b7ff&#x27;, &#x27;#f6b6b7ff&#x27;, &#x27;#f6b6b7ff&#x27;, &#x27;#f6b5b7ff&#x27;, &#x27;#f6b5b7ff&#x27;, &#x27;#f6b5b7ff&#x27;, &#x27;#f6b4b7ff&#x27;, &#x27;#f6b4b7ff&#x27;, &#x27;#f6b4b7ff&#x27;, &#x27;#f6b3b7ff&#x27;, &#x27;#f6b3b7ff&#x27;, &#x27;#f6b3b7ff&#x27;, &#x27;#f6b2b7ff&#x27;, &#x27;#f6b2b7ff&#x27;, &#x27;#f6b2b7ff&#x27;, &#x27;#f6b1b7ff&#x27;, &#x27;#f6b1b7ff&#x27;, &#x27;#f6b1b7ff&#x27;, &#x27;#f6b0b7ff&#x27;, &#x27;#f6b0b7ff&#x27;, &#x27;#f6b0b7ff&#x27;, &#x27;#f6afb7ff&#x27;, &#x27;#f6afb7ff&#x27;, &#x27;#f6afb7ff&#x27;, &#x27;#f6aeb7ff&#x27;, &#x27;#f6aeb7ff&#x27;, &#x27;#f6aeb7ff&#x27;, &#x27;#f6adb7ff&#x27;, &#x27;#f6adb7ff&#x27;, &#x27;#f6adb7ff&#x27;, &#x27;#f6adb7ff&#x27;, &#x27;#f6acb7ff&#x27;, &#x27;#f6acb7ff&#x27;, &#x27;#f6acb7ff&#x27;, &#x27;#f6abb7ff&#x27;, &#x27;#f6abb7ff&#x27;, &#x27;#f6abb7ff&#x27;, &#x27;#f6aab7ff&#x27;, &#x27;#f6aab7ff&#x27;, &#x27;#f6aab7ff&#x27;, &#x27;#f6a9b7ff&#x27;, &#x27;#f6a9b7ff&#x27;, &#x27;#f6a9b7ff&#x27;, &#x27;#f6a8b7ff&#x27;, &#x27;#f6a8b7ff&#x27;, &#x27;#f6a8b7ff&#x27;, &#x27;#f6a7b7ff&#x27;, &#x27;#f6a7b7ff&#x27;, &#x27;#f6a7b7ff&#x27;, &#x27;#f6a6b7ff&#x27;, &#x27;#f6a6b7ff&#x27;, &#x27;#f6a6b7ff&#x27;, &#x27;#f6a5b7ff&#x27;, &#x27;#f6a5b7ff&#x27;, &#x27;#f6a5b7ff&#x27;, &#x27;#f6a4b7ff&#x27;, &#x27;#f6a4b7ff&#x27;, &#x27;#f6a4b7ff&#x27;, &#x27;#f6a4b7ff&#x27;, &#x27;#f6a3b7ff&#x27;, &#x27;#f6a3b7ff&#x27;, &#x27;#f6a3b7ff&#x27;, &#x27;#f6a2b7ff&#x27;, &#x27;#f6a2b7ff&#x27;, &#x27;#f5a2b7ff&#x27;, &#x27;#f5a1b7ff&#x27;, &#x27;#f5a1b7ff&#x27;, &#x27;#f5a1b7ff&#x27;, &#x27;#f5a0b7ff&#x27;, &#x27;#f5a0b7ff&#x27;, &#x27;#f59fb7ff&#x27;, &#x27;#f59fb6ff&#x27;, &#x27;#f59eb6ff&#x27;, &#x27;#f59eb5ff&#x27;, &#x27;#f59db5ff&#x27;, &#x27;#f59db4ff&#x27;, &#x27;#f59cb4ff&#x27;, &#x27;#f59bb4ff&#x27;, &#x27;#f59bb3ff&#x27;, &#x27;#f59ab3ff&#x27;, &#x27;#f59ab2ff&#x27;, &#x27;#f599b2ff&#x27;, &#x27;#f599b2ff&#x27;, &#x27;#f598b1ff&#x27;, &#x27;#f598b1ff&#x27;, &#x27;#f597b0ff&#x27;, &#x27;#f497b0ff&#x27;, &#x27;#f496afff&#x27;, &#x27;#f495afff&#x27;, &#x27;#f495afff&#x27;, &#x27;#f494aeff&#x27;, &#x27;#f494aeff&#x27;, &#x27;#f493adff&#x27;, &#x27;#f493adff&#x27;, &#x27;#f492adff&#x27;, &#x27;#f492acff&#x27;, &#x27;#f491acff&#x27;, &#x27;#f491abff&#x27;, &#x27;#f490abff&#x27;, &#x27;#f48faaff&#x27;, &#x27;#f48faaff&#x27;, &#x27;#f48eaaff&#x27;, &#x27;#f48ea9ff&#x27;, &#x27;#f48da9ff&#x27;, &#x27;#f38da8ff&#x27;, &#x27;#f38ca8ff&#x27;, &#x27;#f38ca8ff&#x27;, &#x27;#f38ba7ff&#x27;, &#x27;#f38ba7ff&#x27;, &#x27;#f38aa6ff&#x27;, &#x27;#f389a6ff&#x27;, &#x27;#f389a5ff&#x27;, &#x27;#f388a5ff&#x27;, &#x27;#f388a5ff&#x27;, &#x27;#f387a4ff&#x27;, &#x27;#f387a4ff&#x27;, &#x27;#f386a3ff&#x27;, &#x27;#f386a3ff&#x27;, &#x27;#f385a3ff&#x27;, &#x27;#f384a2ff&#x27;, &#x27;#f384a2ff&#x27;, &#x27;#f383a1ff&#x27;, &#x27;#f283a1ff&#x27;, &#x27;#f282a0ff&#x27;, &#x27;#f282a0ff&#x27;, &#x27;#f281a0ff&#x27;, &#x27;#f2819fff&#x27;, &#x27;#f2809fff&#x27;, &#x27;#f2809eff&#x27;, &#x27;#f27f9eff&#x27;, &#x27;#f27e9dff&#x27;, &#x27;#f27e9dff&#x27;, &#x27;#f27d9dff&#x27;, &#x27;#f27d9cff&#x27;, &#x27;#f27c9cff&#x27;, &#x27;#f27c9bff&#x27;, &#x27;#f27b9bff&#x27;, &#x27;#f27b9bff&#x27;, &#x27;#f27a9aff&#x27;, &#x27;#f17a9aff&#x27;, &#x27;#f17999ff&#x27;, &#x27;#f17899ff&#x27;, &#x27;#f17898ff&#x27;, &#x27;#f17798ff&#x27;, &#x27;#f17798ff&#x27;, &#x27;#f17697ff&#x27;, &#x27;#f17697ff&#x27;, &#x27;#f17596ff&#x27;, &#x27;#f17596ff&#x27;, &#x27;#f17496ff&#x27;, &#x27;#f17495ff&#x27;, &#x27;#f17395ff&#x27;, &#x27;#f17294ff&#x27;, &#x27;#f17294ff&#x27;, &#x27;#f17193ff&#x27;, &#x27;#f17193ff&#x27;, &#x27;#f17093ff&#x27;, &#x27;#f07092ff&#x27;, &#x27;#f06f92ff&#x27;, &#x27;#f06f91ff&#x27;, &#x27;#f06e91ff&#x27;, &#x27;#f06e91ff&#x27;, &#x27;#f06d90ff&#x27;, &#x27;#f06c90ff&#x27;, &#x27;#f06c8fff&#x27;, &#x27;#f06b8fff&#x27;, &#x27;#f06b8eff&#x27;, &#x27;#f06a8eff&#x27;, &#x27;#f06a8eff&#x27;, &#x27;#f0698dff&#x27;, &#x27;#f0698dff&#x27;, &#x27;#f0688cff&#x27;, &#x27;#f0678cff&#x27;, &#x27;#f0678bff&#x27;, &#x27;#f0668bff&#x27;, &#x27;#ef668bff&#x27;, &#x27;#ef658aff&#x27;, &#x27;#ef658aff&#x27;, &#x27;#ef6489ff&#x27;, &#x27;#ef6489ff&#x27;, &#x27;#ef6389ff&#x27;, &#x27;#ef6388ff&#x27;, &#x27;#ef6288ff&#x27;, &#x27;#ef6187ff&#x27;, &#x27;#ef6187ff&#x27;, &#x27;#ef6086ff&#x27;, &#x27;#ef6086ff&#x27;, &#x27;#ef5f86ff&#x27;, &#x27;#ef5f85ff&#x27;, &#x27;#ef5e85ff&#x27;, &#x27;#ef5e84ff&#x27;, &#x27;#ef5d84ff&#x27;, &#x27;#ef5d84ff&#x27;, &#x27;#ee5c83ff&#x27;, &#x27;#ee5b83ff&#x27;, &#x27;#ee5b83ff&#x27;, &#x27;#ee5a82ff&#x27;, &#x27;#ee5a82ff&#x27;, &#x27;#ee5982ff&#x27;, &#x27;#ee5982ff&#x27;, &#x27;#ee5882ff&#x27;, &#x27;#ee5881ff&#x27;, &#x27;#ee5781ff&#x27;, &#x27;#ee5781ff&#x27;, &#x27;#ed5681ff&#x27;, &#x27;#ed5680ff&#x27;, &#x27;#ed5580ff&#x27;, &#x27;#ed5580ff&#x27;, &#x27;#ed5480ff&#x27;, &#x27;#ed5480ff&#x27;, &#x27;#ed537fff&#x27;, &#x27;#ed537fff&#x27;, &#x27;#ed527fff&#x27;, &#x27;#ed527fff&#x27;, &#x27;#ed517fff&#x27;, &#x27;#ed517eff&#x27;, &#x27;#ec507eff&#x27;, &#x27;#ec507eff&#x27;, &#x27;#ec4f7eff&#x27;, &#x27;#ec4f7dff&#x27;, &#x27;#ec4e7dff&#x27;, &#x27;#ec4e7dff&#x27;, &#x27;#ec4d7dff&#x27;, &#x27;#ec4d7dff&#x27;, &#x27;#ec4c7cff&#x27;, &#x27;#ec4c7cff&#x27;, &#x27;#ec4b7cff&#x27;, &#x27;#eb4a7cff&#x27;, &#x27;#eb4a7bff&#x27;, &#x27;#eb497bff&#x27;, &#x27;#eb497bff&#x27;, &#x27;#eb487bff&#x27;, &#x27;#eb487bff&#x27;, &#x27;#eb477aff&#x27;, &#x27;#eb477aff&#x27;, &#x27;#eb467aff&#x27;, &#x27;#eb467aff&#x27;, &#x27;#eb457aff&#x27;, &#x27;#ea4579ff&#x27;, &#x27;#ea4479ff&#x27;, &#x27;#ea4479ff&#x27;, &#x27;#ea4379ff&#x27;, &#x27;#ea4378ff&#x27;, &#x27;#ea4278ff&#x27;, &#x27;#ea4278ff&#x27;, &#x27;#ea4178ff&#x27;, &#x27;#ea4178ff&#x27;, &#x27;#ea4077ff&#x27;, &#x27;#ea4077ff&#x27;, &#x27;#e93f77ff&#x27;, &#x27;#e93f77ff&#x27;, &#x27;#e93e76ff&#x27;, &#x27;#e93e76ff&#x27;, &#x27;#e93d76ff&#x27;, &#x27;#e93d76ff&#x27;, &#x27;#e93c76ff&#x27;, &#x27;#e93c75ff&#x27;, &#x27;#e93b75ff&#x27;, &#x27;#e93b75ff&#x27;, &#x27;#e93a75ff&#x27;, &#x27;#e93975ff&#x27;, &#x27;#e83974ff&#x27;, &#x27;#e83874ff&#x27;, &#x27;#e83874ff&#x27;, &#x27;#e83774ff&#x27;, &#x27;#e83773ff&#x27;, &#x27;#e83673ff&#x27;, &#x27;#e83673ff&#x27;, &#x27;#e83573ff&#x27;, &#x27;#e83573ff&#x27;, &#x27;#e83472ff&#x27;, &#x27;#e83472ff&#x27;, &#x27;#e73372ff&#x27;, &#x27;#e73372ff&#x27;, &#x27;#e73271ff&#x27;, &#x27;#e73271ff&#x27;, &#x27;#e73171ff&#x27;, &#x27;#e73171ff&#x27;, &#x27;#e73071ff&#x27;, &#x27;#e73070ff&#x27;, &#x27;#e72f70ff&#x27;, &#x27;#e72f70ff&#x27;, &#x27;#e72e70ff&#x27;, &#x27;#e62e70ff&#x27;, &#x27;#e62d6fff&#x27;, &#x27;#e62d6fff&#x27;, &#x27;#e62c6fff&#x27;, &#x27;#e62c6fff&#x27;, &#x27;#e62b6eff&#x27;, &#x27;#e62b6eff&#x27;, &#x27;#e62a6eff&#x27;, &#x27;#e62a6eff&#x27;, &#x27;#e6296eff&#x27;, &#x27;#e6286dff&#x27;, &#x27;#e6286dff&#x27;, &#x27;#e5276dff&#x27;, &#x27;#e5276dff&#x27;, &#x27;#e5266cff&#x27;, &#x27;#e5266cff&#x27;, &#x27;#e5256cff&#x27;, &#x27;#e5256cff&#x27;, &#x27;#e5246cff&#x27;, &#x27;#e5246bff&#x27;, &#x27;#e5236bff&#x27;, &#x27;#e5236bff&#x27;, &#x27;#e5226bff&#x27;, &#x27;#e4226bff&#x27;, &#x27;#e4216aff&#x27;, &#x27;#e4216aff&#x27;, &#x27;#e4206aff&#x27;, &#x27;#e4206aff&#x27;, &#x27;#e41f69ff&#x27;, &#x27;#e41f69ff&#x27;, &#x27;#e41e69ff&#x27;, &#x27;#e41e69ff&#x27;, &#x27;#e41d69ff&#x27;, &#x27;#e41d68ff&#x27;, &#x27;#e31c68ff&#x27;, &#x27;#e31c68ff&#x27;]);\n",
       "    \n",
       "\n",
       "    color_map_23e07b3bcdb8bba3558a67eaed984a59.x = d3.scale.linear()\n",
       "              .domain([0.0, 936.0])\n",
       "              .range([0, 450 - 50]);\n",
       "\n",
       "    color_map_23e07b3bcdb8bba3558a67eaed984a59.legend = L.control({position: &#x27;topright&#x27;});\n",
       "    color_map_23e07b3bcdb8bba3558a67eaed984a59.legend.onAdd = function (map) {var div = L.DomUtil.create(&#x27;div&#x27;, &#x27;legend&#x27;); return div};\n",
       "    color_map_23e07b3bcdb8bba3558a67eaed984a59.legend.addTo(map_50ff473c82862390934aab9b11022e21);\n",
       "\n",
       "    color_map_23e07b3bcdb8bba3558a67eaed984a59.xAxis = d3.svg.axis()\n",
       "        .scale(color_map_23e07b3bcdb8bba3558a67eaed984a59.x)\n",
       "        .orient(&quot;top&quot;)\n",
       "        .tickSize(1)\n",
       "        .tickValues([0.0, 234.0, 468.0, 702.0, 936.0]);\n",
       "\n",
       "    color_map_23e07b3bcdb8bba3558a67eaed984a59.svg = d3.select(&quot;.legend.leaflet-control&quot;).append(&quot;svg&quot;)\n",
       "        .attr(&quot;id&quot;, &#x27;legend&#x27;)\n",
       "        .attr(&quot;width&quot;, 450)\n",
       "        .attr(&quot;height&quot;, 40);\n",
       "\n",
       "    color_map_23e07b3bcdb8bba3558a67eaed984a59.g = color_map_23e07b3bcdb8bba3558a67eaed984a59.svg.append(&quot;g&quot;)\n",
       "        .attr(&quot;class&quot;, &quot;key&quot;)\n",
       "        .attr(&quot;transform&quot;, &quot;translate(25,16)&quot;);\n",
       "\n",
       "    color_map_23e07b3bcdb8bba3558a67eaed984a59.g.selectAll(&quot;rect&quot;)\n",
       "        .data(color_map_23e07b3bcdb8bba3558a67eaed984a59.color.range().map(function(d, i) {\n",
       "          return {\n",
       "            x0: i ? color_map_23e07b3bcdb8bba3558a67eaed984a59.x(color_map_23e07b3bcdb8bba3558a67eaed984a59.color.domain()[i - 1]) : color_map_23e07b3bcdb8bba3558a67eaed984a59.x.range()[0],\n",
       "            x1: i &lt; color_map_23e07b3bcdb8bba3558a67eaed984a59.color.domain().length ? color_map_23e07b3bcdb8bba3558a67eaed984a59.x(color_map_23e07b3bcdb8bba3558a67eaed984a59.color.domain()[i]) : color_map_23e07b3bcdb8bba3558a67eaed984a59.x.range()[1],\n",
       "            z: d\n",
       "          };\n",
       "        }))\n",
       "      .enter().append(&quot;rect&quot;)\n",
       "        .attr(&quot;height&quot;, 40 - 30)\n",
       "        .attr(&quot;x&quot;, function(d) { return d.x0; })\n",
       "        .attr(&quot;width&quot;, function(d) { return d.x1 - d.x0; })\n",
       "        .style(&quot;fill&quot;, function(d) { return d.z; });\n",
       "\n",
       "    color_map_23e07b3bcdb8bba3558a67eaed984a59.g.call(color_map_23e07b3bcdb8bba3558a67eaed984a59.xAxis).append(&quot;text&quot;)\n",
       "        .attr(&quot;class&quot;, &quot;caption&quot;)\n",
       "        .attr(&quot;y&quot;, 21)\n",
       "        .text(&quot;\\uacf5\\uae09\\uc138\\ub300\\uc218\\uc5d0 \\ub530\\ub978 \\uc0c9\\uc0c1 \\ubcc0\\ud654&quot;);\n",
       "&lt;/script&gt;\n",
       "&lt;/html&gt;\" style=\"position:absolute;width:100%;height:100%;left:0;top:0;border:none !important;\" allowfullscreen webkitallowfullscreen mozallowfullscreen></iframe></div></div>"
      ],
      "text/plain": [
       "<folium.folium.Map at 0x2333ae84cd0>"
      ]
     },
     "execution_count": 161,
     "metadata": {},
     "output_type": "execute_result"
    }
   ],
   "source": [
    "import folium\n",
    "import numpy as np\n",
    "import branca\n",
    "\n",
    "# 지도 중심 위치 설정 (서울 중심 좌표)\n",
    "map_center = [37.541, 126.986]\n",
    "m = folium.Map(location=map_center, zoom_start=12, width=\"100%\", height=\"100%\")\n",
    "\n",
    "# 색상 범례 설정 (공급세대수에 따른 색상 변화, 파스텔톤 팔레트)\n",
    "color_scale = branca.colormap.LinearColormap(\n",
    "    [\"#f0e5cf\", \"#f6c8b6\", \"#f5a0b7\", \"#ee5c83\", \"#e31c68\"], \n",
    "    vmin=data_2[\"공급세대수\"].min(), \n",
    "    vmax=data_2[\"공급세대수\"].max()\n",
    ")\n",
    "color_scale.caption = \"공급세대수에 따른 색상 변화\"\n",
    "\n",
    "# 마커 추가\n",
    "for idx, row in data_2.dropna().iterrows():\n",
    "    # 공급세대수가 350건 이상인 경우만 표시\n",
    "    if row[\"공급세대수\"] >= 350:\n",
    "        # 반지름 크기 조정 (로그 스케일 적용)\n",
    "        radius = np.log1p(row[\"공급규모\"]) * 5  # log(공급규모) * 5 → 크기 범위 조절\n",
    "        \n",
    "        # 색상 설정 (공급세대수가 클수록 짙은 색)\n",
    "        color = color_scale(row[\"공급세대수\"])\n",
    "        \n",
    "        # 투명도 조정 (공급세대수가 클수록 불투명)\n",
    "        fill_opacity = min(0.2 + row[\"공급세대수\"] / 1000, 0.9)  # 최대 0.9까지 증가\n",
    "\n",
    "        # 지도에 CircleMarker 추가\n",
    "        folium.CircleMarker(\n",
    "            location=[row[\"위도\"], row[\"경도\"]],\n",
    "            radius=radius,  # 크기 조정\n",
    "            color=color,\n",
    "            fill=True,\n",
    "            fill_color=color,\n",
    "            fill_opacity=fill_opacity,\n",
    "            popup=f\"공급세대수: {row['공급세대수']}<br>접수건수: {row['접수건수']}<br>경쟁률: {row['경쟁률']}\"\n",
    "        ).add_to(m)\n",
    "\n",
    "         # 공급세대수를 원 위에 표시 (텍스트 레이블)\n",
    "        folium.Marker(\n",
    "            location=[row[\"위도\"], row[\"경도\"]],\n",
    "            icon=folium.DivIcon(\n",
    "                icon_size=(10, 10),  # Smaller icon size\n",
    "                icon_anchor=(0, 0),  # Position the icon relative to the marker's position\n",
    "                html=f'<div style=\"font-size: 8pt; color: black; font-weight: medium; text-align: center;\">{row[\"공급세대수\"]}</div>'\n",
    "            )\n",
    "        ).add_to(m)\n",
    "\n",
    "# 색상 범례 지도에 추가\n",
    "m.add_child(color_scale)\n",
    "\n",
    "m\n"
   ]
  },
  {
   "cell_type": "code",
   "execution_count": 202,
   "metadata": {},
   "outputs": [
    {
     "data": {
      "application/vnd.plotly.v1+json": {
       "config": {
        "plotlyServerURL": "https://plot.ly"
       },
       "data": [
        {
         "hovertemplate": "공급세대수=%{x}<br>접수건수=%{y}<br>공급규모=%{marker.color}<extra></extra>",
         "legendgroup": "",
         "marker": {
          "color": {
           "bdata": "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",
           "dtype": "i2"
          },
          "coloraxis": "coloraxis",
          "symbol": "circle"
         },
         "mode": "markers",
         "name": "",
         "showlegend": false,
         "type": "scattergl",
         "x": {
          "bdata": "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",
          "dtype": "i2"
         },
         "xaxis": "x",
         "y": {
          "bdata": "DQAIAAEAAAAAAAAAUQMAANwCAAAAABoBAADmAAgAAgACAAQAAADjAPoClAAAACwBwQB9A+sAAADFABoAAADKAAAA3gEAABUADwAFAAkAhADZAGoBzgAAACYBBgFyAX0ApAAbAEcAFQAFAGYBlQAAADoAGAAcAJQC4gMAAAAAAAAAAAAAAAAAAPoAAABJAUkDxQCNATcA2wAtABoAMQAMAAcAAAB5AUcARgDBAWsAOQAAAAAAvACAAPQA/wAAAAAAAAAAAEYAiAOqAm0BZQDPACUA7QLZAS8AKwE+ABwAaQBxAB4ADQB6AFkAIQAHAOgAQwBnACEAowEAAFUAKwCQAQkAAABSAC0AGwALADMADwAPABAAEQAGABMADQALAHwA2QCOAhQAIAAHAaYAPAAiABwALAAyABgAJAApABMAHQADABUADwApAG4AMgBTAA8AFAAyAAYACAAEAAAAAAAAAAAAWwK0AXEDAACsAgAAAAAAAI4CMQEAACYBAADUAAAAAAAAAJsCAABAADEAcwDsAFkABgAOAMYBKwFhABMAHwJOACwACwDfABgANQASALcAOgAFACIATAB4ABgAJwC7AVEAKwNOAwAAjAFvAZoAcwE7AFMAAABtA1cDWwOAAgAAAAAAAAAAeAF5AaEBsAB/AAAAjgIfAZsBSQBsAZ0BgQAfANEB6ABFAbYBiwIqAQAAAAAAAAAAAABGAGMAgAD5AK4C2gAJARsAPAANACcALQA7ACwAywAAAAAA6gKQAgAAEwAJABEAEAAuAAAAAAAAAAAAAAAAAAAAYwHpAsEBXAEAAEwAPwA9ADsAcQBEAK0AQwD8AAoAAABUAgAAAAAAAAAAAABpAQAAPwAAAKoBAAAaAAAANAAAAKECAAAAAAAAqwB6ACkBXgKXAH8AkwBhAtsAAAAAAAAAigJRAQAAQgLSAAAACgALAAwACQAAAAAAAAAAAAAAAAAAAAAAAAAAAIgCcAAEATsBAAAAAD8CNwKkAQAAngIAAAAAAAAAAN0DGQEAAAAAAAAAAAAAAAAAAAAAAAAAAAAAAAAAAAAAAAAAAAAAAAAQAu4AAAC6AS0BUAAAANAAAAAAAAAAqAIAAAAAuwIAAAAAAAAAABwCAAAAAAAAAAAKAHoAtwCGACQALQBlADoANgBBAAIABwD8AaYAAAAAAHUCAACsAZUAdgAAAAAAAAA7ADUA3AFGACgAbwEaACYAFQAeACIACQAUAAAAGwAgAAEACQCAACYAHwAeAAcAHQAAABUAjQCGACMABgAoATkCWwI/AY4BngChAB8AEAAbAKYAJQAAAE4AHwAyAAEACwAAAAYAMgAOACMAKwB9ALIBPAANADwAGgAAAAAAHAByABcADgABAAIALwA7ASAAqQAMALcAHAAeAAQAHAACAGUAAADkAQAAHAAaAFMAKAALAAQAlAAAALwAOwAhAAAAPAEAALYBhAE0AFwAEgAnABAAHwAOAAAAAAB+AxIBPgEAAPsCAAAAAOkCAAAAAAAAGAAeAE0ACAARAAsAcAEmAAAAAAByAgAAEwEAAD8CAACOAQAAAAAAAAAAAAAcAAkABgAFAAUACgABAAIAAwAAAAgAAAACABkACgDnAbYAEQAcATAADwAIAAIAIQAgAAsADQAQAA0AIAAgABMAGgAqAA4AYACSALMAAgCHA0oAAABDArwBAAA/AwAA1gBsAAAAiAAbABEAAACwAgAAXQGtAF4AHAFaACIAAAAAAMEBAAAAAD0D0QFSADYAGQAKABcARQIIA0UAHgAJA3oCZgNjAQ8BAAAAAAAAAAAAAAAA5QLTAQAAAQAAAAAAAAAAANcDsAEAAAAA9gEAAAAAAAAAAAAAAAANAAMACwAAAAIAIwCqAAYADAAAAKACAAA5AT8ASQEJAJgAJgAbAOMBTwJiAPYALQBmAGIAowAzAAAAbwA7ABMBCAGbAAAAWQG0AAAA7AC7AgAAAAAAACgAMAAqAAAAWAJ6Aj0AGQAnADMA1wBAAncCtQEAAAAAzgArAJMA8wLXASwAnAAAAPMAvABTABwADAARABMApABPABcANgAjAAYACQAGACQABgAyACgABwBNABMATQAYAAcAAAAAAMsCqACrAlsAKQCKACAAuwAyAAgBAABfAQAAEgEAABQABAAMAAMADAAFAA8AdQAfAA4AsQAkAA8AAAAAAMQCAAAAAAAA+wIAAEoAxACbAAAA9wIAAAcDJwAcAGgAOAA3ANcAJgAbADMAbgA3AOAAZgJuAckB3AAyADEAAAANAAAAAAADAAkAFgACAAIABQABAAEAAgAAAAQAAABQAbwBAAAsAlsAAAAAAAAAAACJAgAAAAAAAAwBuwM3AQAAAAAAAEcCCwALACMABgAEABUAiAAwAGgAPQAGAFgACgAAAAAAAACbA5QCAAAAAAAAqQJlAQAA/QFFAQAAIgAMABMAEQA0ACUAJwAAAAAAAgPmAaUBbgA9AAAAAAAAAJ4AOgApANIAPwEAAIgAIwLAAAAAAABJAQAA8wEAAHIAEwAAAHIDAADTA1oCAAAAAAAAAAAAAM0DAABKA1wBAABuADIAAABZAC8AeQMAAEMBJwBYAGMAFQB0AAMAAgAEAAAAZgFRAZMDQANmAygAVACaAAsABAANAK4AJgAbACQABQAAAGQAPwBRAPMAEgBGAJUCqQAtAN4AjQKIADAAMAAWABMAGgATABkAAwAQABwAGgAJABIAwALQAAAAdgLDAAAARwAOAAoAGAALAAMALwAOAAkAfgIAAAAAjQEAAAAAAAAsAH8APgBjAQAAxAJAAFwBzQA/AH8BAAAAAAAAAAAAAAAAVAAOAC0AeQBFAV0A7wCmAHQAPgAMABkAHwALAAoAMwAIAAQAAwAGACcAQwAfANMATgCNADQBqwBNAF8AAAALAJ8AFAADAEoACAACADMATQBAAJoAkAIAAAAAVQLcASIBAACKALwA0QEAALcATADbAUwAIgAcAO0AjwE2ACcAQgDBAVQCOAAUAOwB8QAVAAAADwAHABkACQE5ADMAGQAZAKEBawFiABcB3gCWAGkAdwC9AC8AMgBBACYAkAAmAEMANwBuALcAIAA7AsgAAABbAtIAAAC8AZkAAAAWAUwAAAAsABkAAABMAmIAAACsACMAAACsAAoAAABuABEAAAAqAQ0AAAB9AAgAAAACAAEACAAHAFYAIQBRAAkAEwAMA2sBAACvAWABrgA3AAAAiwAtAAAA+gFlAAAANwFQAAAAUgAMAFUAcwAAAAEABQDzANIBkgAAAAQAEAABABoAiABRACgACgAeAIIAbQAAAAAAAgIAAC8CAABbAK0AFgAFAAAAJwC8ABkAJQAsAAQAAQAIAA0ACAAGACQAFQAGAAYAEwAZAAUAMgAvADsAzwBFALwAYgBDAKIAigA9AD4AvQEUAGoAwQAvADYAAABHAKgBdQAmAAgABAAkABcACAAKAAcAHwBgACIA0ABrAX8A5QGcAA8ANwA4AP0AAAAYA40ALgAsAGQAJgBeAQAABQAaAAcACgAFAAQAAgAEAAMABAABAAwADgAcAAkAEQAFAAAACQA1AA0AIgATABAAEgBPABkAAAAAAAAAAAAAAAAAAAAAAAAAxgE9ACgADgADADUAIgCAAHMAGAG1AEgA7wAjAMwA4AAAAF4AjwD3AA0AEwAUAAAALgBWAAAAdgDKAHcAAAAAAJgAkADiAFMAAAFRAywATAAUAIgBwwCeAo0BDgAAAAwAAQADAAIAAQAAAAAABQANAA4ACwAQAAoACQAFAAUABAABAD4AIgBqAFQADADkAsECgQEAAHMBGQMAAH0BAAAQAAUAYgAKABMADgAoAAQALwARAB4AzACcABACaAANAQEBNQBsANAClwAAAO0AKAFwAMEAsAFVAccAnwLeAHAAPgMZApUBSwETAgAAAACUAZMCBwCuAzYDAAC+ARICAAAAAAAAAAAuAtsCAADwAQgDAABOABwARwBpAwAAAgEAALIDAAAAAAAAgwEAAAAAAAAAAAAATwIAAAAAAAAAAAAAAAAAAHUAAAD7AAAAmwAOAJcAHwFiAMgCHgE2AUMBzwCZAPgCZwC/ABYBAADBAKUAuAB+AL8BUQD1AREAGgAoABYACwAZAEcAWAAPAAAAGAAAAAAAAAAfABMATQAtAEcAbAHsAncAZADTAAUAGAAtAAIAFwAyABcADwAJADQAKQAJAAsAbgAKABAAAAAiAEcA4ADBADQBCgF8AYUAVQBTApMAcwLsAQAA4ABKAaQBAAB5AGkAIAAAAAAAAAAAACMAAABQAAAAFAAKAGYAEQAAAAAAUwA2Ae0BHgK6ACUAnQHgAE8A/gAAADEAAAAvAAAACAAAAA4AAABXAQAAGQAOAAAAGwJQAFEAyABlAaMB2QAAAMcATAELAQAAAAAAAAAA1QJ4AIEAAAAzAwAAwwCkAAAAnwDKAAAAAAC4AwAAGAAjABQAugA7ACIAIwAXAAAAUQA2AQAA3ABBAHUAJwB7AAAAIwF1AAAARgAAAFgDAAAoAgAAAAAAAM8BAAANAwAAiQA6Ai0AAAAYAAAAUAAAANcBIQJeAE4AuwAuACkBaQD/ATsAdQDLAEICpACMAJMADQEAAMQBiAOLAEcDXwCRAEcArwDJAQAA2AC0AHwBegKpAE0ClADBAXYBjgAFArwAUwA/AAcAPAEXASkAPQBeABsAGwD2AUADAAAAAAAAAAA3Ak4DAABuAdIAAAAEAQIBAAAJASIBAAAkASMBAAD8AQAAyQKSALkARwAAACYALgAAAAAAcAIAAAUCAAAUAgAAiQAAAJoAIwAAADACAACOAgAA3wM9AUwBvwEAAGUCFwAUACgACAAPAVIAAAAAAAAAAAAAAAAAIAAVAGEAGQD5ADYAGwAbACoAHgAWADMAiACFAFEAXQAAAAAAAAAAAAAAAAAAAAAAAAAAAHMADQEsAUkCQwKVALYAtAAAAPgAAAA7Ax0B1wDoAPIAtACvANAAAAAAAAAAKAEAABkBAABvAAAAJgAAAA8AAAAAABkAAAAAABIAAAATAAAAzgAAABwAIgAAACkAcgHKAGQAqQEeAkIAEgD0ABoAHgJdAAAAMgIAADECAAAAAEQATAPGANgATAKdAOEAvwOgANICsgFUACsAWQEDAAwAAgAAAAAAAADpAMgBAABAAYQCAACFAPUAAAAAAAAAAAA9AwAAAAA4AwAAAAAAAAAAAACuAn0AZwAFAq0AAABMAAAAJgAAACgAAABVAAAAUwAAADAAAAAtAAAAAAC4AQAAAAA5AWcBKQAPACAAIwAOABAAjAA6AF0ABgAJABcAEwAWABkAOQAfABUATQFPAI8AdwAtATQBAAByAD4A+wAAAJ0DAAAAAAAA/wB9AEMAigAAAC0BUQBoAAAAHAAzAD4AAAAAAAAAAABrAgAAAAAAABcDAAB0AQAAawMAABsCAAAAAHcCAADPAwAAZAMAAAUCAAB0AgAAoAIAAIMBAACYAQAAEAIAAMkBAACzAQAAAAAAAAAAAAAAAAAAAAAAAAAAAAAAAAAAMQA/AFYAAAAAAAAADgH4AAAAAADkAmMDAACRAdMBAAAAAAAAMwMAAAAAAAAAAAAAAAAAAAAAAABLAC4A5QM+AKQAxQDLASABQQIAAAAAOgDtASoAAAA9AMwB1ABmAJ0AgQDTABoCMAN9AcACuAD4AKUAwwBmAEoAlQDRAdwA8gAwAIUAawCGAA0AAAAAAAAA5AMAAAAAAAAAAMwAxgAdAFIAFQAVAAwAEwBQAIoAWgH2AAAAPgKYAQAAXwIAAAAAAAA5AAAAWgApABAAdQArAFgACgMvAOQAbQCJAAkBywBOAB4CTACSAA0AWAAqAB8AHgAnAIgBWgAYAoEBAAAAACQA0gAAAAoAKwAAAAoALAAAAAAAPADWAGgBAACzAdsDAAA7ABsBAAAAAAAAAABNABUADACmACgAAABQADUBEwGjAI0DAAAAAAAAAAAAAAAAZAAAADkBNABiABEAAACHAFUA0QDTAAAAAACaApkAtwAAAAAAAACyAwAA4wBwAP0AvACjAAAArgAlAN0AXgAxAOcAqgBbACkAIgA/AAAAugCwAPUAmAD9AocAFAFUAK8BGAFGAOQDPQHLAIoAYABGAoQAKAAeAAYAhwAuAMgA8QFgAMMAFQBQADYAVAAPAccDLABpAZECAAA+AYcCAAAAAAAAAAAAAAAAAABZAQkBiQCpAFQCUgEAADoBaAEAAOgA/QD9AGMAQQHUAecAAAAbABUAHQBdAF0A+wFrAm8BdQIAAEQBAAAAAAAAAAAAAAAAAAAAAAAAAAAAAAAA4gIAAIsDAAAAAAAAkwEAAI0BAAAIAWwAQAD+AJoBeQARAQAAjwAAAHoDAABxAgAALgEAAAAAAAAAALoBAACjAF4AAACDAHcAAACfA18BAADCAb0AAAAuAegAAAByAqcAmQAAAOcBeQBGAAAAnwCLAEwAmwA8Ay8AOgOuANsA2AD7AegCAAAAAAAARgIAAAAAAAAhAwAAAAAAACYAAAD8AQAAYAK3AmgAQQAAAGMAcgAAABMADAAAAAkAAwAAAEYAIQAAAAEAzQEDAAAABwADAAAAKAAXAAAACAAOAYwAQQAAABQAAwAAADEAHgAAAAMAAAAmAAoAAACKAxYDAAAAAoICAACjAP8AAAC/AI8AAACBAYYBAACtAjwCAADoAW4CAACLAMMAAADAAMoAAABaAaEBAADsAaIAAAAhArIAXgC8AAAA+ACSAAAAJQMgAQAA4gAKAc8BAABRAQAAggPsAAAAegAbAAAAAAAXAF0AAACyAJMCgAAAAAAAAADWAQAA5gBAAQAAcwFvAQAA9gBuAQAATQEOAgAAAAAAAAAAAAAAAAAAAAAAAAAAAAClAQAA1AEAALMAAAAQAQAAWQAAAOgAAACpAAAAuwAAAK8AAABgAGEAlwEAADIBAAA2AQAA1AAAAHwALAEAAH8BAAAcAQAAAAAAAAAAAAAAAAAAAAAAAOoBfQBRAHIBZgCsAAAAUQAAANUAAABLAwAA2AAAAJ4AAABKAAAAdgAAAD8AAABHAAAAcQEAAO8AqgBPAAAArwBuAVoATgF0AZ4BkAOYA78BEQMAAMUDAAAAAAAAAAAwAAAAagIAABwAAABNAAAAZwIAAHQDAAAcAAAAKQAAANoB/gBpAHIAlgAAAAAAiQCxAhoAMQBDADEA/AAAAMYDAABaAQAAOAEAAJkCAAAxAQAAtQAAALEAAAAAAAAAAAAAAAAAAAAbAQAAjQEAAO8BAAAJAAAAwQANAIMACwAAAAwAAAANACgAFAAQAAAA2gFIAQAA2wDJAAAAAAAAAAAAAAAAAAAAVwI0AgAARAMAADgB4QFUAAAAAADVAwAAPgEAANgCAAAAAAAAAAALAAAAFACbA4MBAAD8AQAAHAIAAAAAAAAAAAAAAAAAAKQCAADtAgAAuQIAABUCAADSAgAAAAAAAAAAAACqAgAAAAAAAAAAAAAAAAAAAAAAACQAAAARAB4AVwAEAAcABQBvAFEAFAKWAHEAHAANAAAAxACoABoCgAAAAAAAAABsAwAAAAARABYACwBxAE0AEwDCAF8A/ABUAAcAEAAGAN0AbQPrAAMAAwBRA58BZgG+AAAAiQEAAPkBHgLtANUBAABxAAAAyQAcADcAQwAQAKIAdQAuADMAQgCjAB8AdQBlASwBLAAAAA8ADAAhADAAKwAAAFUATQAoADQAVQAdAEcALAAAABwAFwAsACQAKQAeAI4A3wAAADQAkAAAAEoAsQB8ACYAUwHmAX0BAAAUARsAOwAIABIADgAlAAcACgAUACoAHAAUACUAKgC4AEQASgBqAicAEgMAAAAARQIAAAAAAAAAAAAAdQMAAAAAXwIAAAAAaAEAAAAA6AAAAAAA9wEAAAAABQEAAAAAAAAAAAAAiQIAAAAAmgAAAAAAjQAAAAAALgIAAAAA4AAAAAAAXQEAAAAAAAAAAAAALAIAAAAARwIAAAAAAwMAAAAAAAAAAAAAAAAAAAAAhwEAAPAAGAJDAgAAAAAAAMQBSQN4AQAAAABFAB8AHwBtAEYARADYAiEC9gAlAwAAAAAAAAAAAAAAAAAAAAAAAAAAAAAAAAAAAAAAAAAAfwAiADEAKQDCADEAEABLAGEApgC2AAkA1AAcAAMAAAAAAAAAUQJfAgAAAADKAYgC2wMAABEARgARAAcATAANAA4ACgABAAEAgwCZAKUALADUACkACwB5AI4AgAAAAAAA2QIAAB4CAAAAAKsAKQHZA9EAfwIRABUAMgAkAGYAJgCHAE0AVQAkAK8AMQEAAB8ASwAAAPsCuQCXAAAASwLwAOEB9wCHAAAAnQBzAKwBigEIAQAAZQMDAgAAAAAAAAAARwIAAE0A9gBvAAAAAADnAy4DAAA2AgAAWQOiAwYC/wJYAgAAYgPUAgAAAAAAAKkDAAAAAAAAAAAAAAAAAAAAAAAAAAAAAAAAAAAAAAAAAAAAAAAAAAAAAAAA3gNlAgAAGgIAAAAAUAMAALYAAAD1AEIAbwAAAAAAAAAAACgCZQEAAAAA0QEyAQQBfAFFAMoASwAAAAAAXQASABYBcgAAAAoCuwEAAAAAAAAAAAAATwI3AFcAqQBSAboAAABcATIBAACaAJ8AAADsAfoAAAAiABQAAAD7AjoCAACMAIYAAAAJAaEAAAAyADsAQAAMAAAAAAAAAJ4CAAAAABcAEwA5ACoBbgDIAIAAjwJUAQAAvgEfABEALAAjAAgABAAJAA4AIgJWAXgBXgKtAMoCuAORADMANABcAD4BegFrAQAAAAAAAAAAVAMAAAAAUAMAAG0BAAAAAAAA5AMAAMUBAABtACEAFgDfAAAAAAB9AM8DAADIAgAAAACjAAAAAABdAgAAAABsAAAAAAANAAQABAADAEMAGAAAAAAAAAAAAAUABgAAABEAGwA/ADsADAAgAAABJACzACoAKQAXAUYC9gARAwAA4QAAAAAAKgAcAHQAQQB+AbEA/QBsABUB5gL6AGECrADCAJABeACxAKcCYwMAAAAAtwAvAQAAwwHiAgAAtgDqAAAAWwIAAAAAkQB5AQAAHgA4ADUAqADbAGAAOgHCAwAAAAAAAAAAAAAAAIcA/AAAAP0AAACDAvMBAAAAAKoCAAC+AgAAAAAAAAAAXQPcAQAAjQKwAXcAugAJAQAAAAAAAAAAAAAAAAAAAAAAAAAAAAAAAAAAPQAoAGYAVAGYAvQB3ABzACgAPQBKA0oBDQKAAG8A0QEAAOgAAAAIAAAAAgADAAcAAgATAB4AGAAqADIAHABpAD0AHQCyASAABAAEAAAAAAAEAAcAAwAAAAoA/QDfAPUA/wIAAN4CuQFMA18CAAAAAAAAGAAwAG0AKgA5AFYAfwAUAQAAdwDQAAAACAAiAM0AsAHfAa4BCQFoAFAAAAAAAAAAAAAAAAAAAACEAwAAAAAAAAAAAAAAAHsDAAAAAAAAAAAAAAAAAAAAAAAAAAB/AQ8ACwAGAAAA9AEdAgAATQEAAEoCOQEVAcYDTAIUACcAEwAeACMAvgBzACoAhABSAAAAAAAAAC4AQwAZAJUALQAAAAAAAAAAAAAAAAAmAwAA2AEAAAAAAAAAAAAAAAAAAAAAAAAAAAAAAAAAABwABwAVAAMAEgMAAAAAbAEAAE0AJQAEAC0AIgAMABkACgAxAEsAAAAAAAAAAAAAAAAAAAAAAJUAdAB+ANcA5AAAAHMAAAByAAAAqAKEAKEDWADnAWUASQBSAMEA9AEJAgAAYAClAPUBJQAvAAAAagDKAAECAACwARADAAC8AfYBAAAAADYDAAAAAAAAAAAAABkAZgA8AkQAAAGDAQ0B0AF6AE0AhABkAGYD6AC7APUAAgAFAAQACwAEADcBzgAAAFsANgAAACoAOQAAAH4DeAIAAGQAcwAAAAAAAAAAAAAAAACqA2QASwAAADMAKgBnAEoAMAAsAFEALgAwAIoAbwAAAFEAPgBoAHMAMAAwACoANACJAI4AlQJ0ARwBrgBvAAAA+wK7AZoDAAAuAQAAuwIAAAAAqwIAAFMACAAIADsAZQAWAFgASQIAAC4BAAAXAgAA6AEAAOoAAADiAQAABwAGAAYADgAFABEADgATAAAAAADaAAAAAAAAACYDAAAAAAAAAAAAAMsDAAAAAAAAAAAAAA==",
          "dtype": "i2"
         },
         "yaxis": "y"
        }
       ],
       "layout": {
        "coloraxis": {
         "colorbar": {
          "title": {
           "text": "공급규모"
          }
         },
         "colorscale": [
          [
           0,
           "#0d0887"
          ],
          [
           0.1111111111111111,
           "#46039f"
          ],
          [
           0.2222222222222222,
           "#7201a8"
          ],
          [
           0.3333333333333333,
           "#9c179e"
          ],
          [
           0.4444444444444444,
           "#bd3786"
          ],
          [
           0.5555555555555556,
           "#d8576b"
          ],
          [
           0.6666666666666666,
           "#ed7953"
          ],
          [
           0.7777777777777778,
           "#fb9f3a"
          ],
          [
           0.8888888888888888,
           "#fdca26"
          ],
          [
           1,
           "#f0f921"
          ]
         ]
        },
        "legend": {
         "tracegroupgap": 0
        },
        "margin": {
         "t": 60
        },
        "template": {
         "data": {
          "bar": [
           {
            "error_x": {
             "color": "#2a3f5f"
            },
            "error_y": {
             "color": "#2a3f5f"
            },
            "marker": {
             "line": {
              "color": "white",
              "width": 0.5
             },
             "pattern": {
              "fillmode": "overlay",
              "size": 10,
              "solidity": 0.2
             }
            },
            "type": "bar"
           }
          ],
          "barpolar": [
           {
            "marker": {
             "line": {
              "color": "white",
              "width": 0.5
             },
             "pattern": {
              "fillmode": "overlay",
              "size": 10,
              "solidity": 0.2
             }
            },
            "type": "barpolar"
           }
          ],
          "carpet": [
           {
            "aaxis": {
             "endlinecolor": "#2a3f5f",
             "gridcolor": "#C8D4E3",
             "linecolor": "#C8D4E3",
             "minorgridcolor": "#C8D4E3",
             "startlinecolor": "#2a3f5f"
            },
            "baxis": {
             "endlinecolor": "#2a3f5f",
             "gridcolor": "#C8D4E3",
             "linecolor": "#C8D4E3",
             "minorgridcolor": "#C8D4E3",
             "startlinecolor": "#2a3f5f"
            },
            "type": "carpet"
           }
          ],
          "choropleth": [
           {
            "colorbar": {
             "outlinewidth": 0,
             "ticks": ""
            },
            "type": "choropleth"
           }
          ],
          "contour": [
           {
            "colorbar": {
             "outlinewidth": 0,
             "ticks": ""
            },
            "colorscale": [
             [
              0,
              "#0d0887"
             ],
             [
              0.1111111111111111,
              "#46039f"
             ],
             [
              0.2222222222222222,
              "#7201a8"
             ],
             [
              0.3333333333333333,
              "#9c179e"
             ],
             [
              0.4444444444444444,
              "#bd3786"
             ],
             [
              0.5555555555555556,
              "#d8576b"
             ],
             [
              0.6666666666666666,
              "#ed7953"
             ],
             [
              0.7777777777777778,
              "#fb9f3a"
             ],
             [
              0.8888888888888888,
              "#fdca26"
             ],
             [
              1,
              "#f0f921"
             ]
            ],
            "type": "contour"
           }
          ],
          "contourcarpet": [
           {
            "colorbar": {
             "outlinewidth": 0,
             "ticks": ""
            },
            "type": "contourcarpet"
           }
          ],
          "heatmap": [
           {
            "colorbar": {
             "outlinewidth": 0,
             "ticks": ""
            },
            "colorscale": [
             [
              0,
              "#0d0887"
             ],
             [
              0.1111111111111111,
              "#46039f"
             ],
             [
              0.2222222222222222,
              "#7201a8"
             ],
             [
              0.3333333333333333,
              "#9c179e"
             ],
             [
              0.4444444444444444,
              "#bd3786"
             ],
             [
              0.5555555555555556,
              "#d8576b"
             ],
             [
              0.6666666666666666,
              "#ed7953"
             ],
             [
              0.7777777777777778,
              "#fb9f3a"
             ],
             [
              0.8888888888888888,
              "#fdca26"
             ],
             [
              1,
              "#f0f921"
             ]
            ],
            "type": "heatmap"
           }
          ],
          "histogram": [
           {
            "marker": {
             "pattern": {
              "fillmode": "overlay",
              "size": 10,
              "solidity": 0.2
             }
            },
            "type": "histogram"
           }
          ],
          "histogram2d": [
           {
            "colorbar": {
             "outlinewidth": 0,
             "ticks": ""
            },
            "colorscale": [
             [
              0,
              "#0d0887"
             ],
             [
              0.1111111111111111,
              "#46039f"
             ],
             [
              0.2222222222222222,
              "#7201a8"
             ],
             [
              0.3333333333333333,
              "#9c179e"
             ],
             [
              0.4444444444444444,
              "#bd3786"
             ],
             [
              0.5555555555555556,
              "#d8576b"
             ],
             [
              0.6666666666666666,
              "#ed7953"
             ],
             [
              0.7777777777777778,
              "#fb9f3a"
             ],
             [
              0.8888888888888888,
              "#fdca26"
             ],
             [
              1,
              "#f0f921"
             ]
            ],
            "type": "histogram2d"
           }
          ],
          "histogram2dcontour": [
           {
            "colorbar": {
             "outlinewidth": 0,
             "ticks": ""
            },
            "colorscale": [
             [
              0,
              "#0d0887"
             ],
             [
              0.1111111111111111,
              "#46039f"
             ],
             [
              0.2222222222222222,
              "#7201a8"
             ],
             [
              0.3333333333333333,
              "#9c179e"
             ],
             [
              0.4444444444444444,
              "#bd3786"
             ],
             [
              0.5555555555555556,
              "#d8576b"
             ],
             [
              0.6666666666666666,
              "#ed7953"
             ],
             [
              0.7777777777777778,
              "#fb9f3a"
             ],
             [
              0.8888888888888888,
              "#fdca26"
             ],
             [
              1,
              "#f0f921"
             ]
            ],
            "type": "histogram2dcontour"
           }
          ],
          "mesh3d": [
           {
            "colorbar": {
             "outlinewidth": 0,
             "ticks": ""
            },
            "type": "mesh3d"
           }
          ],
          "parcoords": [
           {
            "line": {
             "colorbar": {
              "outlinewidth": 0,
              "ticks": ""
             }
            },
            "type": "parcoords"
           }
          ],
          "pie": [
           {
            "automargin": true,
            "type": "pie"
           }
          ],
          "scatter": [
           {
            "fillpattern": {
             "fillmode": "overlay",
             "size": 10,
             "solidity": 0.2
            },
            "type": "scatter"
           }
          ],
          "scatter3d": [
           {
            "line": {
             "colorbar": {
              "outlinewidth": 0,
              "ticks": ""
             }
            },
            "marker": {
             "colorbar": {
              "outlinewidth": 0,
              "ticks": ""
             }
            },
            "type": "scatter3d"
           }
          ],
          "scattercarpet": [
           {
            "marker": {
             "colorbar": {
              "outlinewidth": 0,
              "ticks": ""
             }
            },
            "type": "scattercarpet"
           }
          ],
          "scattergeo": [
           {
            "marker": {
             "colorbar": {
              "outlinewidth": 0,
              "ticks": ""
             }
            },
            "type": "scattergeo"
           }
          ],
          "scattergl": [
           {
            "marker": {
             "colorbar": {
              "outlinewidth": 0,
              "ticks": ""
             }
            },
            "type": "scattergl"
           }
          ],
          "scattermap": [
           {
            "marker": {
             "colorbar": {
              "outlinewidth": 0,
              "ticks": ""
             }
            },
            "type": "scattermap"
           }
          ],
          "scattermapbox": [
           {
            "marker": {
             "colorbar": {
              "outlinewidth": 0,
              "ticks": ""
             }
            },
            "type": "scattermapbox"
           }
          ],
          "scatterpolar": [
           {
            "marker": {
             "colorbar": {
              "outlinewidth": 0,
              "ticks": ""
             }
            },
            "type": "scatterpolar"
           }
          ],
          "scatterpolargl": [
           {
            "marker": {
             "colorbar": {
              "outlinewidth": 0,
              "ticks": ""
             }
            },
            "type": "scatterpolargl"
           }
          ],
          "scatterternary": [
           {
            "marker": {
             "colorbar": {
              "outlinewidth": 0,
              "ticks": ""
             }
            },
            "type": "scatterternary"
           }
          ],
          "surface": [
           {
            "colorbar": {
             "outlinewidth": 0,
             "ticks": ""
            },
            "colorscale": [
             [
              0,
              "#0d0887"
             ],
             [
              0.1111111111111111,
              "#46039f"
             ],
             [
              0.2222222222222222,
              "#7201a8"
             ],
             [
              0.3333333333333333,
              "#9c179e"
             ],
             [
              0.4444444444444444,
              "#bd3786"
             ],
             [
              0.5555555555555556,
              "#d8576b"
             ],
             [
              0.6666666666666666,
              "#ed7953"
             ],
             [
              0.7777777777777778,
              "#fb9f3a"
             ],
             [
              0.8888888888888888,
              "#fdca26"
             ],
             [
              1,
              "#f0f921"
             ]
            ],
            "type": "surface"
           }
          ],
          "table": [
           {
            "cells": {
             "fill": {
              "color": "#EBF0F8"
             },
             "line": {
              "color": "white"
             }
            },
            "header": {
             "fill": {
              "color": "#C8D4E3"
             },
             "line": {
              "color": "white"
             }
            },
            "type": "table"
           }
          ]
         },
         "layout": {
          "annotationdefaults": {
           "arrowcolor": "#2a3f5f",
           "arrowhead": 0,
           "arrowwidth": 1
          },
          "autotypenumbers": "strict",
          "coloraxis": {
           "colorbar": {
            "outlinewidth": 0,
            "ticks": ""
           }
          },
          "colorscale": {
           "diverging": [
            [
             0,
             "#8e0152"
            ],
            [
             0.1,
             "#c51b7d"
            ],
            [
             0.2,
             "#de77ae"
            ],
            [
             0.3,
             "#f1b6da"
            ],
            [
             0.4,
             "#fde0ef"
            ],
            [
             0.5,
             "#f7f7f7"
            ],
            [
             0.6,
             "#e6f5d0"
            ],
            [
             0.7,
             "#b8e186"
            ],
            [
             0.8,
             "#7fbc41"
            ],
            [
             0.9,
             "#4d9221"
            ],
            [
             1,
             "#276419"
            ]
           ],
           "sequential": [
            [
             0,
             "#0d0887"
            ],
            [
             0.1111111111111111,
             "#46039f"
            ],
            [
             0.2222222222222222,
             "#7201a8"
            ],
            [
             0.3333333333333333,
             "#9c179e"
            ],
            [
             0.4444444444444444,
             "#bd3786"
            ],
            [
             0.5555555555555556,
             "#d8576b"
            ],
            [
             0.6666666666666666,
             "#ed7953"
            ],
            [
             0.7777777777777778,
             "#fb9f3a"
            ],
            [
             0.8888888888888888,
             "#fdca26"
            ],
            [
             1,
             "#f0f921"
            ]
           ],
           "sequentialminus": [
            [
             0,
             "#0d0887"
            ],
            [
             0.1111111111111111,
             "#46039f"
            ],
            [
             0.2222222222222222,
             "#7201a8"
            ],
            [
             0.3333333333333333,
             "#9c179e"
            ],
            [
             0.4444444444444444,
             "#bd3786"
            ],
            [
             0.5555555555555556,
             "#d8576b"
            ],
            [
             0.6666666666666666,
             "#ed7953"
            ],
            [
             0.7777777777777778,
             "#fb9f3a"
            ],
            [
             0.8888888888888888,
             "#fdca26"
            ],
            [
             1,
             "#f0f921"
            ]
           ]
          },
          "colorway": [
           "#636efa",
           "#EF553B",
           "#00cc96",
           "#ab63fa",
           "#FFA15A",
           "#19d3f3",
           "#FF6692",
           "#B6E880",
           "#FF97FF",
           "#FECB52"
          ],
          "font": {
           "color": "#2a3f5f"
          },
          "geo": {
           "bgcolor": "white",
           "lakecolor": "white",
           "landcolor": "white",
           "showlakes": true,
           "showland": true,
           "subunitcolor": "#C8D4E3"
          },
          "hoverlabel": {
           "align": "left"
          },
          "hovermode": "closest",
          "mapbox": {
           "style": "light"
          },
          "paper_bgcolor": "white",
          "plot_bgcolor": "white",
          "polar": {
           "angularaxis": {
            "gridcolor": "#EBF0F8",
            "linecolor": "#EBF0F8",
            "ticks": ""
           },
           "bgcolor": "white",
           "radialaxis": {
            "gridcolor": "#EBF0F8",
            "linecolor": "#EBF0F8",
            "ticks": ""
           }
          },
          "scene": {
           "xaxis": {
            "backgroundcolor": "white",
            "gridcolor": "#DFE8F3",
            "gridwidth": 2,
            "linecolor": "#EBF0F8",
            "showbackground": true,
            "ticks": "",
            "zerolinecolor": "#EBF0F8"
           },
           "yaxis": {
            "backgroundcolor": "white",
            "gridcolor": "#DFE8F3",
            "gridwidth": 2,
            "linecolor": "#EBF0F8",
            "showbackground": true,
            "ticks": "",
            "zerolinecolor": "#EBF0F8"
           },
           "zaxis": {
            "backgroundcolor": "white",
            "gridcolor": "#DFE8F3",
            "gridwidth": 2,
            "linecolor": "#EBF0F8",
            "showbackground": true,
            "ticks": "",
            "zerolinecolor": "#EBF0F8"
           }
          },
          "shapedefaults": {
           "line": {
            "color": "#2a3f5f"
           }
          },
          "ternary": {
           "aaxis": {
            "gridcolor": "#DFE8F3",
            "linecolor": "#A2B1C6",
            "ticks": ""
           },
           "baxis": {
            "gridcolor": "#DFE8F3",
            "linecolor": "#A2B1C6",
            "ticks": ""
           },
           "bgcolor": "white",
           "caxis": {
            "gridcolor": "#DFE8F3",
            "linecolor": "#A2B1C6",
            "ticks": ""
           }
          },
          "title": {
           "x": 0.05
          },
          "xaxis": {
           "automargin": true,
           "gridcolor": "#EBF0F8",
           "linecolor": "#EBF0F8",
           "ticks": "",
           "title": {
            "standoff": 15
           },
           "zerolinecolor": "#EBF0F8",
           "zerolinewidth": 2
          },
          "yaxis": {
           "automargin": true,
           "gridcolor": "#EBF0F8",
           "linecolor": "#EBF0F8",
           "ticks": "",
           "title": {
            "standoff": 15
           },
           "zerolinecolor": "#EBF0F8",
           "zerolinewidth": 2
          }
         }
        },
        "xaxis": {
         "anchor": "y",
         "domain": [
          0,
          1
         ],
         "title": {
          "text": "공급세대수"
         }
        },
        "yaxis": {
         "anchor": "x",
         "domain": [
          0,
          1
         ],
         "title": {
          "text": "접수건수"
         }
        }
       }
      }
     },
     "metadata": {},
     "output_type": "display_data"
    }
   ],
   "source": [
    "\n",
    "\n",
    "fig = px.scatter(\n",
    "    data_frame = data_2,\n",
    "    x='공급세대수',\n",
    "    y='접수건수',\n",
    "    color='공급규모',  # 여기서 color로 범례 설정\n",
    "    color_discrete_sequence=px.colors.qualitative.Set2_r,\n",
    "    template='plotly_white'\n",
    ")\n",
    "fig.show()"
   ]
  },
  {
   "cell_type": "code",
   "execution_count": 168,
   "metadata": {},
   "outputs": [
    {
     "data": {
      "text/html": [
       "<div>\n",
       "<style scoped>\n",
       "    .dataframe tbody tr th:only-of-type {\n",
       "        vertical-align: middle;\n",
       "    }\n",
       "\n",
       "    .dataframe tbody tr th {\n",
       "        vertical-align: top;\n",
       "    }\n",
       "\n",
       "    .dataframe thead th {\n",
       "        text-align: right;\n",
       "    }\n",
       "</style>\n",
       "<table border=\"1\" class=\"dataframe\">\n",
       "  <thead>\n",
       "    <tr style=\"text-align: right;\">\n",
       "      <th></th>\n",
       "      <th>공고번호</th>\n",
       "      <th>주택명</th>\n",
       "      <th>공급규모</th>\n",
       "      <th>공급세대수</th>\n",
       "      <th>접수건수</th>\n",
       "      <th>경쟁률</th>\n",
       "      <th>최저당첨가점</th>\n",
       "      <th>최고당첨가점</th>\n",
       "      <th>위도</th>\n",
       "      <th>경도</th>\n",
       "    </tr>\n",
       "  </thead>\n",
       "  <tbody>\n",
       "    <tr>\n",
       "      <th>6914</th>\n",
       "      <td>2022000846</td>\n",
       "      <td>올림픽파크 포레온</td>\n",
       "      <td>4786</td>\n",
       "      <td>5</td>\n",
       "      <td>64</td>\n",
       "      <td>12.80</td>\n",
       "      <td>54.0</td>\n",
       "      <td>67</td>\n",
       "      <td>37.526848</td>\n",
       "      <td>127.13895</td>\n",
       "    </tr>\n",
       "    <tr>\n",
       "      <th>6920</th>\n",
       "      <td>2022000846</td>\n",
       "      <td>올림픽파크 포레온</td>\n",
       "      <td>4786</td>\n",
       "      <td>541</td>\n",
       "      <td>154</td>\n",
       "      <td>0.00</td>\n",
       "      <td>26.0</td>\n",
       "      <td>64</td>\n",
       "      <td>37.526848</td>\n",
       "      <td>127.13895</td>\n",
       "    </tr>\n",
       "    <tr>\n",
       "      <th>6922</th>\n",
       "      <td>2022000846</td>\n",
       "      <td>올림픽파크 포레온</td>\n",
       "      <td>4786</td>\n",
       "      <td>424</td>\n",
       "      <td>656</td>\n",
       "      <td>1.55</td>\n",
       "      <td>20.0</td>\n",
       "      <td>69</td>\n",
       "      <td>37.526848</td>\n",
       "      <td>127.13895</td>\n",
       "    </tr>\n",
       "    <tr>\n",
       "      <th>6926</th>\n",
       "      <td>2022000846</td>\n",
       "      <td>올림픽파크 포레온</td>\n",
       "      <td>4786</td>\n",
       "      <td>936</td>\n",
       "      <td>0</td>\n",
       "      <td>5.21</td>\n",
       "      <td>51.0</td>\n",
       "      <td>77</td>\n",
       "      <td>37.526848</td>\n",
       "      <td>127.13895</td>\n",
       "    </tr>\n",
       "    <tr>\n",
       "      <th>6930</th>\n",
       "      <td>2022000846</td>\n",
       "      <td>올림픽파크 포레온</td>\n",
       "      <td>4786</td>\n",
       "      <td>302</td>\n",
       "      <td>0</td>\n",
       "      <td>3.71</td>\n",
       "      <td>49.0</td>\n",
       "      <td>72</td>\n",
       "      <td>37.526848</td>\n",
       "      <td>127.13895</td>\n",
       "    </tr>\n",
       "    <tr>\n",
       "      <th>6934</th>\n",
       "      <td>2022000846</td>\n",
       "      <td>올림픽파크 포레온</td>\n",
       "      <td>4786</td>\n",
       "      <td>149</td>\n",
       "      <td>597</td>\n",
       "      <td>4.01</td>\n",
       "      <td>46.0</td>\n",
       "      <td>69</td>\n",
       "      <td>37.526848</td>\n",
       "      <td>127.13895</td>\n",
       "    </tr>\n",
       "    <tr>\n",
       "      <th>6938</th>\n",
       "      <td>2022000846</td>\n",
       "      <td>올림픽파크 포레온</td>\n",
       "      <td>4786</td>\n",
       "      <td>54</td>\n",
       "      <td>476</td>\n",
       "      <td>8.81</td>\n",
       "      <td>62.0</td>\n",
       "      <td>74</td>\n",
       "      <td>37.526848</td>\n",
       "      <td>127.13895</td>\n",
       "    </tr>\n",
       "    <tr>\n",
       "      <th>6942</th>\n",
       "      <td>2022000846</td>\n",
       "      <td>올림픽파크 포레온</td>\n",
       "      <td>4786</td>\n",
       "      <td>47</td>\n",
       "      <td>290</td>\n",
       "      <td>6.17</td>\n",
       "      <td>53.0</td>\n",
       "      <td>71</td>\n",
       "      <td>37.526848</td>\n",
       "      <td>127.13895</td>\n",
       "    </tr>\n",
       "    <tr>\n",
       "      <th>6946</th>\n",
       "      <td>2022000846</td>\n",
       "      <td>올림픽파크 포레온</td>\n",
       "      <td>4786</td>\n",
       "      <td>209</td>\n",
       "      <td>0</td>\n",
       "      <td>9.42</td>\n",
       "      <td>64.0</td>\n",
       "      <td>74</td>\n",
       "      <td>37.526848</td>\n",
       "      <td>127.13895</td>\n",
       "    </tr>\n",
       "    <tr>\n",
       "      <th>6950</th>\n",
       "      <td>2022000846</td>\n",
       "      <td>올림픽파크 포레온</td>\n",
       "      <td>4786</td>\n",
       "      <td>21</td>\n",
       "      <td>138</td>\n",
       "      <td>6.57</td>\n",
       "      <td>54.0</td>\n",
       "      <td>74</td>\n",
       "      <td>37.526848</td>\n",
       "      <td>127.13895</td>\n",
       "    </tr>\n",
       "    <tr>\n",
       "      <th>6954</th>\n",
       "      <td>2022000846</td>\n",
       "      <td>올림픽파크 포레온</td>\n",
       "      <td>4786</td>\n",
       "      <td>75</td>\n",
       "      <td>188</td>\n",
       "      <td>2.51</td>\n",
       "      <td>42.0</td>\n",
       "      <td>76</td>\n",
       "      <td>37.526848</td>\n",
       "      <td>127.13895</td>\n",
       "    </tr>\n",
       "    <tr>\n",
       "      <th>6958</th>\n",
       "      <td>2022000846</td>\n",
       "      <td>올림픽파크 포레온</td>\n",
       "      <td>4786</td>\n",
       "      <td>188</td>\n",
       "      <td>465</td>\n",
       "      <td>2.47</td>\n",
       "      <td>42.0</td>\n",
       "      <td>74</td>\n",
       "      <td>37.526848</td>\n",
       "      <td>127.13895</td>\n",
       "    </tr>\n",
       "    <tr>\n",
       "      <th>6962</th>\n",
       "      <td>2022000846</td>\n",
       "      <td>올림픽파크 포레온</td>\n",
       "      <td>4786</td>\n",
       "      <td>563</td>\n",
       "      <td>0</td>\n",
       "      <td>2.69</td>\n",
       "      <td>35.0</td>\n",
       "      <td>69</td>\n",
       "      <td>37.526848</td>\n",
       "      <td>127.13895</td>\n",
       "    </tr>\n",
       "    <tr>\n",
       "      <th>6966</th>\n",
       "      <td>2022000846</td>\n",
       "      <td>올림픽파크 포레온</td>\n",
       "      <td>4786</td>\n",
       "      <td>47</td>\n",
       "      <td>183</td>\n",
       "      <td>3.89</td>\n",
       "      <td>40.0</td>\n",
       "      <td>69</td>\n",
       "      <td>37.526848</td>\n",
       "      <td>127.13895</td>\n",
       "    </tr>\n",
       "    <tr>\n",
       "      <th>6970</th>\n",
       "      <td>2022000846</td>\n",
       "      <td>올림픽파크 포레온</td>\n",
       "      <td>4786</td>\n",
       "      <td>19</td>\n",
       "      <td>76</td>\n",
       "      <td>4.00</td>\n",
       "      <td>44.0</td>\n",
       "      <td>69</td>\n",
       "      <td>37.526848</td>\n",
       "      <td>127.13895</td>\n",
       "    </tr>\n",
       "    <tr>\n",
       "      <th>6974</th>\n",
       "      <td>2022000846</td>\n",
       "      <td>올림픽파크 포레온</td>\n",
       "      <td>4786</td>\n",
       "      <td>115</td>\n",
       "      <td>475</td>\n",
       "      <td>4.13</td>\n",
       "      <td>53.0</td>\n",
       "      <td>69</td>\n",
       "      <td>37.526848</td>\n",
       "      <td>127.13895</td>\n",
       "    </tr>\n",
       "  </tbody>\n",
       "</table>\n",
       "</div>"
      ],
      "text/plain": [
       "            공고번호        주택명  공급규모  공급세대수  접수건수    경쟁률  최저당첨가점  최고당첨가점  \\\n",
       "6914  2022000846  올림픽파크 포레온  4786      5    64  12.80    54.0      67   \n",
       "6920  2022000846  올림픽파크 포레온  4786    541   154   0.00    26.0      64   \n",
       "6922  2022000846  올림픽파크 포레온  4786    424   656   1.55    20.0      69   \n",
       "6926  2022000846  올림픽파크 포레온  4786    936     0   5.21    51.0      77   \n",
       "6930  2022000846  올림픽파크 포레온  4786    302     0   3.71    49.0      72   \n",
       "6934  2022000846  올림픽파크 포레온  4786    149   597   4.01    46.0      69   \n",
       "6938  2022000846  올림픽파크 포레온  4786     54   476   8.81    62.0      74   \n",
       "6942  2022000846  올림픽파크 포레온  4786     47   290   6.17    53.0      71   \n",
       "6946  2022000846  올림픽파크 포레온  4786    209     0   9.42    64.0      74   \n",
       "6950  2022000846  올림픽파크 포레온  4786     21   138   6.57    54.0      74   \n",
       "6954  2022000846  올림픽파크 포레온  4786     75   188   2.51    42.0      76   \n",
       "6958  2022000846  올림픽파크 포레온  4786    188   465   2.47    42.0      74   \n",
       "6962  2022000846  올림픽파크 포레온  4786    563     0   2.69    35.0      69   \n",
       "6966  2022000846  올림픽파크 포레온  4786     47   183   3.89    40.0      69   \n",
       "6970  2022000846  올림픽파크 포레온  4786     19    76   4.00    44.0      69   \n",
       "6974  2022000846  올림픽파크 포레온  4786    115   475   4.13    53.0      69   \n",
       "\n",
       "             위도         경도  \n",
       "6914  37.526848  127.13895  \n",
       "6920  37.526848  127.13895  \n",
       "6922  37.526848  127.13895  \n",
       "6926  37.526848  127.13895  \n",
       "6930  37.526848  127.13895  \n",
       "6934  37.526848  127.13895  \n",
       "6938  37.526848  127.13895  \n",
       "6942  37.526848  127.13895  \n",
       "6946  37.526848  127.13895  \n",
       "6950  37.526848  127.13895  \n",
       "6954  37.526848  127.13895  \n",
       "6958  37.526848  127.13895  \n",
       "6962  37.526848  127.13895  \n",
       "6966  37.526848  127.13895  \n",
       "6970  37.526848  127.13895  \n",
       "6974  37.526848  127.13895  "
      ]
     },
     "execution_count": 168,
     "metadata": {},
     "output_type": "execute_result"
    }
   ],
   "source": [
    "data_2[data_2['공급규모'] == 4786]"
   ]
  },
  {
   "cell_type": "code",
   "execution_count": 203,
   "metadata": {},
   "outputs": [
    {
     "name": "stdout",
     "output_type": "stream",
     "text": [
      "           공급세대수      접수건수      공급규모    최저당첨가점    최고당첨가점       경쟁률\n",
      "공급세대수   1.000000  0.058696  0.448670 -0.179467  0.215782 -0.040809\n",
      "접수건수    0.058696  1.000000  0.083624  0.069229  0.164953 -0.019716\n",
      "공급규모    0.448670  0.083624  1.000000 -0.079177  0.173616 -0.054202\n",
      "최저당첨가점 -0.179467  0.069229 -0.079177  1.000000  0.641927  0.153584\n",
      "최고당첨가점  0.215782  0.164953  0.173616  0.641927  1.000000  0.119293\n",
      "경쟁률    -0.040809 -0.019716 -0.054202  0.153584  0.119293  1.000000\n"
     ]
    }
   ],
   "source": [
    "\n",
    "# Make sure all columns are numeric\n",
    "data_2_clean = data_2[['공급세대수', '접수건수', '공급규모', '최저당첨가점', '최고당첨가점', '경쟁률']]\n",
    "\n",
    "# Convert columns to numeric values (if not already numeric)\n",
    "data_2_clean = data_2_clean.apply(pd.to_numeric, errors='coerce')\n",
    "\n",
    "# Drop rows with NaN values\n",
    "data_2_clean = data_2_clean.dropna()\n",
    "\n",
    "# Now compute the correlation matrix\n",
    "correlation_matrix = data_2_clean.corr(method='pearson')\n",
    "\n",
    "# Print the correlation matrix\n",
    "print(correlation_matrix)"
   ]
  },
  {
   "cell_type": "code",
   "execution_count": null,
   "metadata": {},
   "outputs": [],
   "source": []
  }
 ],
 "metadata": {
  "kernelspec": {
   "display_name": "env",
   "language": "python",
   "name": "python3"
  },
  "language_info": {
   "codemirror_mode": {
    "name": "ipython",
    "version": 3
   },
   "file_extension": ".py",
   "mimetype": "text/x-python",
   "name": "python",
   "nbconvert_exporter": "python",
   "pygments_lexer": "ipython3",
   "version": "3.11.11"
  }
 },
 "nbformat": 4,
 "nbformat_minor": 2
}
