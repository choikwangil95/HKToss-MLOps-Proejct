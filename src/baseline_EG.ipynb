{
   "cells": [
      {
         "cell_type": "code",
         "execution_count": 1,
         "metadata": {},
         "outputs": [],
         "source": [
            "import pandas as pd\n",
            "import numpy as np\n",
            "\n",
            "from sklearn.ensemble import RandomForestRegressor\n",
            "from sklearn.model_selection import train_test_split\n",
            "from sklearn.metrics import mean_squared_error, r2_score\n",
            "\n",
            "import joblib\n",
            "\n",
            "from data_preprocessing_EG import pipeline\n",
            "from feature_preprocessing_EG2 import pipeline2"
         ]
      },
      {
         "cell_type": "markdown",
         "metadata": {},
         "source": [
            "### 데이터 전처리"
         ]
      },
      {
         "cell_type": "code",
         "execution_count": 2,
         "metadata": {},
         "outputs": [
            {
               "name": "stderr",
               "output_type": "stream",
               "text": [
                  "C:\\Users\\user\\AppData\\Local\\Temp\\ipykernel_16220\\2437011318.py:3: DtypeWarning: Columns (48) have mixed types. Specify dtype option on import or set low_memory=False.\n",
                  "  df = pd.read_csv(file_path)\n"
               ]
            }
         ],
         "source": [
            "file_path = \"./storage/raw_data/병합_청약매물_목록_정보_픽스2.csv\"\n",
            "# df = pd.read_csv(file_path, encoding ='cp949')\n",
            "df = pd.read_csv(file_path)"
         ]
      },
      {
         "cell_type": "code",
         "execution_count": 3,
         "metadata": {},
         "outputs": [
            {
               "name": "stderr",
               "output_type": "stream",
               "text": [
                  "C:\\Users\\user\\AppData\\Local\\Temp\\ipykernel_16220\\1756485055.py:4: DtypeWarning: Columns (48) have mixed types. Specify dtype option on import or set low_memory=False.\n",
                  "  df = pd.read_csv(file_path)\n",
                  "c:\\Users\\user\\mid-project\\src\\data_preprocessing_EG.py:146: DtypeWarning: Columns (36,48) have mixed types. Specify dtype option on import or set low_memory=False.\n",
                  "  df_estate_price = pd.read_csv(csv_path, encoding=\"cp949\")\n",
                  "c:\\Users\\user\\mid-project\\src\\data_preprocessing_EG.py:329: FutureWarning: A value is trying to be set on a copy of a DataFrame or Series through chained assignment using an inplace method.\n",
                  "The behavior will change in pandas 3.0. This inplace method will never work because the intermediate object on which we are setting values always behaves as a copy.\n",
                  "\n",
                  "For example, when doing 'df[col].method(value, inplace=True)', try using 'df.method({col: value}, inplace=True)' or df[col] = df[col].method(value) instead, to perform the operation inplace on the original object.\n",
                  "\n",
                  "\n",
                  "  df['최저당첨가점'].fillna(0, inplace=True)\n"
               ]
            }
         ],
         "source": [
            "# 로우 데이터 불러오기\n",
            "file_path = \"./storage/raw_data/병합_청약매물_목록_정보_픽스2.csv\"\n",
            "# df = pd.read_csv(file_path, encoding ='cp949')\n",
            "df = pd.read_csv(file_path)\n",
            "\n",
            "# 데이터 전처리````\n",
            "preprocessing_pipeline = pipeline(type='train')\n",
            "df = preprocessing_pipeline.transform(df)\n",
            "\n",
            "#칼럼정리(시세차익 있)\n",
            "df['시세차익'] = df['전용면적'] * df['전용면적당 시세차익']\n",
            "df.drop(columns=['전용면적', '전용면적당 시세차익', '거래금액(만원)', '공급금액(최고가 기준)'], inplace=True)\n",
            "\n",
            "# 파일 저장\n",
            "file_version = \"lightgbm_final\"\n",
            "output_file = f\"./storage/train_data/train-{file_version}.csv\"\n",
            "df.to_csv(output_file, index=False, encoding='cp949')"
         ]
      },
      {
         "cell_type": "markdown",
         "metadata": {},
         "source": [
            "### 모델 학습 및 평가"
         ]
      },
      {
         "cell_type": "code",
         "execution_count": 4,
         "metadata": {},
         "outputs": [
            {
               "data": {
                  "text/plain": [
                     "Index(['공급규모', '투기과열지구', '조정대상지역', '분양가상한제', '정비사업', '공공주택지구', '공급세대수', '접수건수',\n",
                     "       '경쟁률', '최저당첨가점', '토픽 1', '토픽 2', '토픽 3', '토픽 4', '토픽 5', '토픽 6', '토픽 7',\n",
                     "       '법정동코드', '시세차익'],\n",
                     "      dtype='object')"
                  ]
               },
               "execution_count": 4,
               "metadata": {},
               "output_type": "execute_result"
            }
         ],
         "source": [
            "# 전처리된 데이터 가져오기\n",
            "\n",
            "# file_version = \"250317-01\"\n",
            "# file_path = f\"./storage/train_data/t``ain-{file_version}.csv\"\n",
            "# df = pd.read_csv(file_path, encoding='cp949')\n",
            "\n",
            "df = pd.read_csv(\"./storage/train_data/train-lightgbm_final.csv\", encoding = 'cp949')\n",
            "df.columns\n"
         ]
      },
      {
         "cell_type": "code",
         "execution_count": 5,
         "metadata": {},
         "outputs": [],
         "source": [
            "X = df.drop(columns=[\"최저당첨가점\"])\n",
            "Y = df[\"최저당첨가점\"]\n",
            "\n",
            "X_train, X_test, y_train, y_test = train_test_split(\n",
            "    X,  # 타겟(최저당첨가점) 제외\n",
            "    Y,  # 타겟\n",
            "    test_size=0.2,\n",
            "    random_state=42\n",
            ")\n",
            "\n",
            "# 분양가상한제, 투기과열지구, 조정대상지역 -> 고려해보기염"
         ]
      },
      {
         "cell_type": "code",
         "execution_count": 11,
         "metadata": {},
         "outputs": [
            {
               "name": "stdout",
               "output_type": "stream",
               "text": [
                  "Index(['공급규모', '투기과열지구', '조정대상지역', '분양가상한제', '정비사업', '공공주택지구', '공급세대수', '접수건수',\n",
                  "       '경쟁률', '토픽 1', '토픽 2', '토픽 3', '토픽 4', '토픽 5', '토픽 6', '토픽 7', '법정동코드',\n",
                  "       '시세차익'],\n",
                  "      dtype='object')\n",
                  "Index(['공급규모', '공급세대수', '접수건수', '경쟁률', '토픽 1', '토픽 2', '토픽 3', '토픽 4', '토픽 5',\n",
                  "       '토픽 6', '토픽 7', '법정동코드', '시세차익', '투기과열지구_N', '투기과열지구_Y', '조정대상지역_N',\n",
                  "       '조정대상지역_Y', '분양가상한제_N', '분양가상한제_Y', '정비사업_N', '정비사업_Y', '공공주택지구_N',\n",
                  "       '공공주택지구_Y'],\n",
                  "      dtype='object')\n",
                  "⚠️ Warning: 새로운 법정동코드 발견 {'1156011000.0', '4125010300.0', '4137012200.0', '4139012700.0', '4111514000.0', '4143011000.0', '4148025327.0'}. 'unknown'으로 대체합니다.\n",
                  "Index(['공급규모', '투기과열지구', '조정대상지역', '분양가상한제', '정비사업', '공공주택지구', '공급세대수', '접수건수',\n",
                  "       '경쟁률', '토픽 1', '토픽 2', '토픽 3', '토픽 4', '토픽 5', '토픽 6', '토픽 7', '법정동코드',\n",
                  "       '시세차익'],\n",
                  "      dtype='object')\n",
                  "Index(['공급규모', '공급세대수', '접수건수', '경쟁률', '토픽 1', '토픽 2', '토픽 3', '토픽 4', '토픽 5',\n",
                  "       '토픽 6', '토픽 7', '법정동코드', '시세차익', '투기과열지구_N', '투기과열지구_Y', '조정대상지역_N',\n",
                  "       '조정대상지역_Y', '분양가상한제_N', '분양가상한제_Y', '정비사업_N', '정비사업_Y', '공공주택지구_N',\n",
                  "       '공공주택지구_Y'],\n",
                  "      dtype='object')\n"
               ]
            },
            {
               "name": "stderr",
               "output_type": "stream",
               "text": [
                  "c:\\Users\\user\\anaconda3\\envs\\env\\Lib\\site-packages\\sklearn\\pipeline.py:62: FutureWarning: This Pipeline instance is not fitted yet. Call 'fit' with appropriate arguments before using other methods such as transform, predict, etc. This will raise an error in 1.8 instead of the current warning.\n",
                  "  warnings.warn(\n",
                  "c:\\Users\\user\\anaconda3\\envs\\env\\Lib\\site-packages\\sklearn\\pipeline.py:62: FutureWarning: This Pipeline instance is not fitted yet. Call 'fit' with appropriate arguments before using other methods such as transform, predict, etc. This will raise an error in 1.8 instead of the current warning.\n",
                  "  warnings.warn(\n"
               ]
            }
         ],
         "source": [
            "feature_pipeline = pipeline2()\n",
            "\n",
            "# 학습 데이터(X_train)에 fit\n",
            "feature_pipeline.fit(X_train)\n",
            "\n",
            "# 학습 데이터(X_train)를 변환\n",
            "X_train_transformed = feature_pipeline.transform(X_train)\n",
            "\n",
            "# 테스트 데이터(X_test)를 변환\n",
            "X_test_transformed = feature_pipeline.transform(X_test)"
         ]
      },
      {
         "cell_type": "code",
         "execution_count": 7,
         "metadata": {},
         "outputs": [
            {
               "data": {
                  "text/plain": [
                     "['./storage/trained_pipeline/pipeline_0.0.1.pkl']"
                  ]
               },
               "execution_count": 7,
               "metadata": {},
               "output_type": "execute_result"
            }
         ],
         "source": [
            "joblib.dump(feature_pipeline, \"./storage/trained_pipeline/pipeline_0.0.1.pkl\")"
         ]
      },
      {
         "cell_type": "code",
         "execution_count": 12,
         "metadata": {},
         "outputs": [
            {
               "name": "stdout",
               "output_type": "stream",
               "text": [
                  "<class 'pandas.core.frame.DataFrame'>\n",
                  "Index: 2384 entries, 1991 to 860\n",
                  "Data columns (total 23 columns):\n",
                  " #   Column    Non-Null Count  Dtype  \n",
                  "---  ------    --------------  -----  \n",
                  " 0   공급규모      2384 non-null   float64\n",
                  " 1   공급세대수     2384 non-null   float64\n",
                  " 2   접수건수      2384 non-null   float64\n",
                  " 3   경쟁률       2384 non-null   float64\n",
                  " 4   토픽 1      2384 non-null   float64\n",
                  " 5   토픽 2      2384 non-null   float64\n",
                  " 6   토픽 3      2384 non-null   float64\n",
                  " 7   토픽 4      2384 non-null   float64\n",
                  " 8   토픽 5      2384 non-null   float64\n",
                  " 9   토픽 6      2384 non-null   float64\n",
                  " 10  토픽 7      2384 non-null   float64\n",
                  " 11  법정동코드     2384 non-null   int32  \n",
                  " 12  시세차익      2384 non-null   float64\n",
                  " 13  투기과열지구_N  2384 non-null   bool   \n",
                  " 14  투기과열지구_Y  2384 non-null   bool   \n",
                  " 15  조정대상지역_N  2384 non-null   bool   \n",
                  " 16  조정대상지역_Y  2384 non-null   bool   \n",
                  " 17  분양가상한제_N  2384 non-null   bool   \n",
                  " 18  분양가상한제_Y  2384 non-null   bool   \n",
                  " 19  정비사업_N    2384 non-null   bool   \n",
                  " 20  정비사업_Y    2384 non-null   bool   \n",
                  " 21  공공주택지구_N  2384 non-null   bool   \n",
                  " 22  공공주택지구_Y  2384 non-null   bool   \n",
                  "dtypes: bool(10), float64(12), int32(1)\n",
                  "memory usage: 274.7 KB\n"
               ]
            }
         ],
         "source": [
            "X_train_transformed.info()"
         ]
      },
      {
         "cell_type": "code",
         "execution_count": 9,
         "metadata": {},
         "outputs": [],
         "source": [
            "import matplotlib.pyplot as plt\n",
            "plt.rcParams['font.family'] ='Malgun Gothic'\n",
            "plt.rcParams['axes.unicode_minus'] =False"
         ]
      },
      {
         "cell_type": "code",
         "execution_count": null,
         "metadata": {},
         "outputs": [
            {
               "name": "stdout",
               "output_type": "stream",
               "text": [
                  "각 Fold의 RMSE: [5.850202204034682, 5.303346496985271, 6.057409223335648, 5.5137706966827595, 5.2466118919296685]\n",
                  "평균 RMSE: 5.594268102593605\n",
                  "Feature Importance (평균):\n",
                  "공급규모: 0.0116\n",
                  "공급세대수: 0.0154\n",
                  "접수건수: 0.0121\n",
                  "경쟁률: 0.8024\n",
                  "토픽 1: 0.0098\n",
                  "토픽 2: 0.0097\n",
                  "토픽 3: 0.0095\n",
                  "토픽 4: 0.0143\n",
                  "토픽 5: 0.0105\n",
                  "토픽 6: 0.0103\n",
                  "토픽 7: 0.0096\n",
                  "법정동코드: 0.0100\n",
                  "시세차익: 0.0339\n",
                  "투기과열지구_N: 0.0007\n",
                  "투기과열지구_Y: 0.0007\n",
                  "조정대상지역_N: 0.0149\n",
                  "조정대상지역_Y: 0.0136\n",
                  "분양가상한제_N: 0.0008\n",
                  "분양가상한제_Y: 0.0009\n",
                  "정비사업_N: 0.0012\n",
                  "정비사업_Y: 0.0013\n",
                  "공공주택지구_N: 0.0006\n",
                  "공공주택지구_Y: 0.0006\n",
                  "대규모택지개발지구_N: 0.0005\n",
                  "대규모택지개발지구_Y: 0.0006\n",
                  "수도권내민영공공주택지구_N: 0.0002\n",
                  "수도권내민영공공주택지구_Y: 0.0002\n",
                  "순위_1순위: 0.0000\n",
                  "거주지역_기타지역: 0.0005\n",
                  "거주지역_해당지역: 0.0005\n",
                  "공급지역코드_100: 0.0004\n",
                  "공급지역코드_400: 0.0024\n",
                  "공급지역코드_410: 0.0005\n"
               ]
            },
            {
               "data": {
                  "image/png": "[encoded data removed]",
                  "text/plain": [
                     "<Figure size 640x480 with 1 Axes>"
                  ]
               },
               "metadata": {},
               "output_type": "display_data"
            }
         ],
         "source": [
            "#from sklearn.model_selection import KFold\n",
            "#from sklearn.ensemble import RandomForestRegressor\n",
            "#from sklearn.metrics import mean_absolute_error, mean_squared_error, root_mean_squared_error\n",
            "#import numpy as np\n",
            "\n",
            "# 1. 랜덤포레스트 모델 고정\n",
            "#model = RandomForestRegressor(\n",
            "#    n_estimators=100,\n",
            "#    max_depth=None,\n",
            "#    random_state=42\n",
            "#)\n",
            "\n",
            "# 2. K-Fold 교차 검증 설정 (5개 폴드로 나누기)\n",
            "#kf = KFold(n_splits=5, shuffle=True, random_state=42)\n",
            "\n",
            "#  3. MAE, RMSE 저장할 리스트\n",
            "#mae_scores = []\n",
            "#rmse_scores = []\n",
            "#feature_importances = []\n",
            "\n",
            "# 4. K-Fold 반복문 (5번 반복)\n",
            "#for train_index, test_index in kf.split(X_train_transformed):\n",
            "#    X_tr, X_val = X_train_transformed.iloc[train_index], X_train_transformed.iloc[test_index]\n",
            "#    y_tr, y_val = y_train.iloc[train_index], y_train.iloc[test_index]\n",
            "\n",
            "    # 5. 모델 훈련\n",
            "#    model.fit(X_tr, y_tr)\n",
            "    \n",
            "    # 6. 예측값 뽑기\n",
            "#    y_pred = model.predict(X_val)\n",
            "    \n",
            "    # 7. MAE & RMSE 계산\n",
            "#    mae = mean_absolute_error(y_val, y_pred)\n",
            "#    rmse = root_mean_squared_error(y_val, y_pred)\n",
            "    \n",
            "    # 8. 결과 저장\n",
            "#    mae_scores.append(mae)\n",
            "#    rmse_scores.append(rmse)\n",
            "    \n",
            "    # 9. Feature Importance 저장\n",
            "#    feature_importances.append(model.feature_importances_)\n",
            "\n",
            "#  10. 결과 출력\n",
            "#print(f\"각 Fold의 RMSE: {rmse_scores}\")\n",
            "#print(f\"평균 RMSE: {np.mean(rmse_scores)}\")\n",
            "\n",
            "\n",
            "# Feature Importance 평균 계산 및 출력\n",
            "#avg_feature_importances = np.mean(feature_importances, axis=0)\n",
            "#print(\"Feature Importance (평균):\")\n",
            "#for i, col in enumerate(X_train_transformed.columns):\n",
            "#    print(f\"{col}: {avg_feature_importances[i]:.4f}\")\n",
            "\n",
            "# Feature Importance 시각화\n",
            "#import matplotlib.pyplot as plt\n",
            "\n",
            "#sorted_idx = np.argsort(avg_feature_importances)[::-1]\n",
            "#plt.barh(X_train_transformed.columns[sorted_idx], avg_feature_importances[sorted_idx])\n",
            "#plt.xlabel(\"Feature Importance\")\n",
            "#plt.ylabel(\"Feature Name\")\n",
            "#plt.title(\"Feature Importance Plot\")\n",
            "#plt.show()\n"
         ]
      },
      {
         "cell_type": "markdown",
         "metadata": {},
         "source": [
            "### 모델 저장 "
         ]
      },
      {
         "cell_type": "code",
         "execution_count": null,
         "metadata": {},
         "outputs": [
            {
               "name": "stdout",
               "output_type": "stream",
               "text": [
                  "XGBoost - RMSE: 4.987255525958943, R^2: 0.879832872804602\n",
                  "Best parameters:\n",
                  "colsample_bytree: 1.0\n",
                  "learning_rate: 0.1\n",
                  "max_depth: 3\n",
                  "n_estimators: 500\n",
                  "subsample: 0.8\n"
               ]
            }
         ],
         "source": [
            "'''\n",
            "import xgboost as xgb\n",
            "from sklearn.model_selection import GridSearchCV\n",
            "from sklearn.metrics import mean_squared_error, r2_score\n",
            "import numpy as np\n",
            "\n",
            "# XGBoost 모델 생성\n",
            "xgb_model = xgb.XGBRegressor(objective='reg:squarederror')\n",
            "\n",
            "# Grid Search 파라미터 설정\n",
            "xgb_param_grid = {\n",
            "    'n_estimators': [100, 500, 1000],\n",
            "    'max_depth': [3, 5, 7],\n",
            "    'learning_rate': [0.01, 0.1, 0.2],\n",
            "    'subsample': [0.8, 0.9, 1.0],\n",
            "    'colsample_bytree': [0.8, 0.9, 1.0],\n",
            "}\n",
            "\n",
            "# Grid Search 수행\n",
            "xgb_grid_search = GridSearchCV(xgb_model, xgb_param_grid, cv=5)\n",
            "xgb_grid_search.fit(X_train_transformed, y_train)\n",
            "\n",
            "# 최적 모델 예측\n",
            "y_pred_xgb = xgb_grid_search.predict(X_test_transformed)\n",
            "\n",
            "# RMSE와 R^2 계산 함수\n",
            "def evaluate_model(y_true, y_pred):\n",
            "    rmse = np.sqrt(mean_squared_error(y_true, y_pred))\n",
            "    r2 = r2_score(y_true, y_pred)\n",
            "    return rmse, r2\n",
            "\n",
            "# 결과 출력\n",
            "rmse_xgb, r2_xgb = evaluate_model(y_test, y_pred_xgb)\n",
            "print(f\"XGBoost - RMSE: {rmse_xgb}, R^2: {r2_xgb}\")\n",
            "\n",
            "# 최적의 파라미터 출력\n",
            "print(\"Best parameters:\")\n",
            "for param, value in xgb_grid_search.best_params_.items():\n",
            "    print(f\"{param}: {value}\")\n",
            "    '''\n"
         ]
      },
      {
         "cell_type": "code",
         "execution_count": null,
         "metadata": {},
         "outputs": [
            {
               "ename": "SyntaxError",
               "evalue": "incomplete input (634901600.py, line 20)",
               "output_type": "error",
               "traceback": [
                  "  \u001b[36mCell\u001b[39m\u001b[36m \u001b[39m\u001b[32mIn[23]\u001b[39m\u001b[32m, line 20\u001b[39m\n\u001b[31m    \u001b[39m\u001b[31m\"\"\"\u001b[39m\n    ^\n\u001b[31mSyntaxError\u001b[39m\u001b[31m:\u001b[39m incomplete input\n"
               ]
            }
         ],
         "source": [
            "\"\"\"\n",
            "import matplotlib.pyplot as plt\n",
            "import xgboost as xgb\n",
            "import pandas as pd\n",
            "\n",
            "# 중요 변수 추출 (수정됨)\n",
            "feature_importance = xgb_grid_search.best_estimator_.feature_importances_\n",
            "\n",
            "# 변수명과 중요도를 데이터프레임으로 저장 (수정됨)\n",
            "feature_df = pd.DataFrame({'Feature': X_train_transformed.columns, 'Importance': feature_importance})\n",
            "feature_df = feature_df.sort_values(by='Importance', ascending=False)\n",
            "\n",
            "# 시각화\n",
            "plt.figure(figsize=(10, 6))\n",
            "plt.barh(feature_df['Feature'], feature_df['Importance'])\n",
            "plt.gca().invert_yaxis()\n",
            "plt.xlabel(\"Feature Importance\")\n",
            "plt.ylabel(\"Features\")\n",
            "plt.title(\"XGBoost Feature Importance\")\n",
            "plt.show()\n",
            "\"\"\""
         ]
      },
      {
         "cell_type": "code",
         "execution_count": 13,
         "metadata": {},
         "outputs": [
            {
               "name": "stdout",
               "output_type": "stream",
               "text": [
                  "LightGBM - RMSE: 5.1063676539055285, R^2: 0.8838026732928055\n"
               ]
            }
         ],
         "source": [
            "import lightgbm as lgb\n",
            "from sklearn.model_selection import GridSearchCV\n",
            "from sklearn.metrics import mean_squared_error, r2_score\n",
            "import numpy as np\n",
            "\n",
            "# LightGBM 모델 생성\n",
            "lgb_model = lgb.LGBMRegressor(verbose=-1)\n",
            "\n",
            "# Grid Search 파라미터 설정\n",
            "lgb_param_grid = {\n",
            "    'n_estimators': [100, 500, 1000],\n",
            "    'max_depth': [3, 5, 7],\n",
            "    'learning_rate': [0.01, 0.1, 0.2],\n",
            "    'subsample': [0.8, 0.9],\n",
            "    'colsample_bytree': [0.8, 0.9],\n",
            "    'num_leaves': [15, 31],\n",
            "}\n",
            "\n",
            "\n",
            "# Grid Search 수행\n",
            "lgb_grid_search = GridSearchCV(lgb_model, lgb_param_grid, cv=5)\n",
            "lgb_grid_search.fit(X_train_transformed, y_train)\n",
            "\n",
            "# 최적 모델 예측\n",
            "y_pred_lgb = lgb_grid_search.predict(X_test_transformed)\n",
            "\n",
            "# RMSE와 R^2 계산 함수\n",
            "def evaluate_model(y_true, y_pred):\n",
            "    rmse = np.sqrt(mean_squared_error(y_true, y_pred))\n",
            "    r2 = r2_score(y_true, y_pred)\n",
            "    return rmse, r2\n",
            "\n",
            "# 결과 출력\n",
            "rmse_lgb, r2_lgb = evaluate_model(y_test, y_pred_lgb)\n",
            "print(f\"LightGBM - RMSE: {rmse_lgb}, R^2: {r2_lgb}\")"
         ]
      },
      {
         "cell_type": "code",
         "execution_count": 14,
         "metadata": {},
         "outputs": [
            {
               "ename": "NameError",
               "evalue": "name 'plt' is not defined",
               "output_type": "error",
               "traceback": [
                  "\u001b[31m---------------------------------------------------------------------------\u001b[39m",
                  "\u001b[31mNameError\u001b[39m                                 Traceback (most recent call last)",
                  "\u001b[36mCell\u001b[39m\u001b[36m \u001b[39m\u001b[32mIn[14]\u001b[39m\u001b[32m, line 7\u001b[39m\n\u001b[32m      4\u001b[39m feature_df = pd.DataFrame({\u001b[33m'\u001b[39m\u001b[33mFeature\u001b[39m\u001b[33m'\u001b[39m: X_train_transformed.columns, \u001b[33m'\u001b[39m\u001b[33mImportance\u001b[39m\u001b[33m'\u001b[39m: feature_importance})\n\u001b[32m      5\u001b[39m feature_df = feature_df.sort_values(by=\u001b[33m'\u001b[39m\u001b[33mImportance\u001b[39m\u001b[33m'\u001b[39m, ascending=\u001b[38;5;28;01mFalse\u001b[39;00m)\n\u001b[32m----> \u001b[39m\u001b[32m7\u001b[39m \u001b[43mplt\u001b[49m.figure(figsize=(\u001b[32m10\u001b[39m, \u001b[32m6\u001b[39m))\n\u001b[32m      8\u001b[39m plt.barh(feature_df[\u001b[33m'\u001b[39m\u001b[33mFeature\u001b[39m\u001b[33m'\u001b[39m], feature_df[\u001b[33m'\u001b[39m\u001b[33mImportance\u001b[39m\u001b[33m'\u001b[39m])\n\u001b[32m      9\u001b[39m plt.gca().invert_yaxis()\n",
                  "\u001b[31mNameError\u001b[39m: name 'plt' is not defined"
               ]
            }
         ],
         "source": [
            "# Feature Importance 시각화\n",
            "feature_importance = lgb_grid_search.best_estimator_.feature_importances_\n",
            "\n",
            "feature_df = pd.DataFrame({'Feature': X_train_transformed.columns, 'Importance': feature_importance})\n",
            "feature_df = feature_df.sort_values(by='Importance', ascending=False)\n",
            "\n",
            "plt.figure(figsize=(10, 6))\n",
            "plt.barh(feature_df['Feature'], feature_df['Importance'])\n",
            "plt.gca().invert_yaxis()\n",
            "plt.xlabel(\"Feature Importance\")\n",
            "plt.ylabel(\"Features\")\n",
            "plt.title(\"LightGBM Feature Importance\")\n",
            "plt.show()"
         ]
      },
      {
         "cell_type": "markdown",
         "metadata": {},
         "source": [
            "## 베스트 파라미터 확인"
         ]
      },
      {
         "cell_type": "code",
         "execution_count": 15,
         "metadata": {},
         "outputs": [],
         "source": [
            "best_lgb_model = lgb_grid_search.best_estimator_"
         ]
      },
      {
         "cell_type": "code",
         "execution_count": 16,
         "metadata": {},
         "outputs": [
            {
               "ename": "NameError",
               "evalue": "name 'y_pred' is not defined",
               "output_type": "error",
               "traceback": [
                  "\u001b[31m---------------------------------------------------------------------------\u001b[39m",
                  "\u001b[31mNameError\u001b[39m                                 Traceback (most recent call last)",
                  "\u001b[36mCell\u001b[39m\u001b[36m \u001b[39m\u001b[32mIn[16]\u001b[39m\u001b[32m, line 3\u001b[39m\n\u001b[32m      1\u001b[39m \u001b[38;5;28;01mfrom\u001b[39;00m\u001b[38;5;250m \u001b[39m\u001b[34;01msklearn\u001b[39;00m\u001b[34;01m.\u001b[39;00m\u001b[34;01mmetrics\u001b[39;00m\u001b[38;5;250m \u001b[39m\u001b[38;5;28;01mimport\u001b[39;00m mean_squared_error\n\u001b[32m----> \u001b[39m\u001b[32m3\u001b[39m rmse = mean_squared_error(y_test, \u001b[43my_pred\u001b[49m, squared=\u001b[38;5;28;01mFalse\u001b[39;00m)\n\u001b[32m      4\u001b[39m \u001b[38;5;28mprint\u001b[39m(\u001b[33mf\u001b[39m\u001b[33m\"\u001b[39m\u001b[33mRMSE: \u001b[39m\u001b[38;5;132;01m{\u001b[39;00mrmse\u001b[38;5;132;01m}\u001b[39;00m\u001b[33m\"\u001b[39m)\n",
                  "\u001b[31mNameError\u001b[39m: name 'y_pred' is not defined"
               ]
            }
         ],
         "source": [
            "from sklearn.metrics import mean_squared_error\n",
            "\n",
            "rmse = mean_squared_error(y_test, y_pred, squared=False)\n",
            "print(f\"RMSE: {rmse}\")"
         ]
      },
      {
         "cell_type": "code",
         "execution_count": null,
         "metadata": {},
         "outputs": [],
         "source": [
            "print(\"Best parameters:\", lgb_grid_search.best_params_)\n"
         ]
      },
      {
         "cell_type": "code",
         "execution_count": 12,
         "metadata": {},
         "outputs": [
            {
               "data": {
                  "text/plain": [
                     "['./storage/trained_model/model_0.0.2.pkl']"
                  ]
               },
               "execution_count": 12,
               "metadata": {},
               "output_type": "execute_result"
            }
         ],
         "source": [
            "# 모델 저장 및 로드\n",
            "\n",
            "version = '0.0.2'\n",
            "\n",
            "# 모델 저장\n",
            "joblib.dump(model, f\"./storage/trained_model/model_{version}.pkl\")"
         ]
      },
      {
         "cell_type": "code",
         "execution_count": 8,
         "metadata": {},
         "outputs": [],
         "source": [
            "# 모델 로드\n",
            "loaded_model = joblib.load(\"./storage/trained_model/model_0.0.1.pkl\")\n",
            "\n",
            "# 예측\n",
            "# X_test = np.array([[1, 2]])\n",
            "# prediction = loaded_model.predict(X_test)\n",
            "# print(\"Prediction:\", prediction)"
         ]
      }
   ],
   "metadata": {
      "kernelspec": {
         "display_name": "env",
         "language": "python",
         "name": "python3"
      },
      "language_info": {
         "codemirror_mode": {
            "name": "ipython",
            "version": 3
         },
         "file_extension": ".py",
         "mimetype": "text/x-python",
         "name": "python",
         "nbconvert_exporter": "python",
         "pygments_lexer": "ipython3",
         "version": "3.11.11"
      }
   },
   "nbformat": 4,
   "nbformat_minor": 2
}
