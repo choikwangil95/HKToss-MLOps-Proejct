{
 "cells": [
  {
   "cell_type": "markdown",
   "metadata": {},
   "source": [
    "### 설명모델에 추가할 피쳐 셀렉션"
   ]
  },
  {
   "cell_type": "code",
   "execution_count": 3,
   "metadata": {},
   "outputs": [
    {
     "name": "stderr",
     "output_type": "stream",
     "text": [
      "/var/folders/qp/j1r0p9s97s16j9gzg30pscb40000gn/T/ipykernel_48282/384505503.py:4: DtypeWarning: Columns (48) have mixed types. Specify dtype option on import or set low_memory=False.\n",
      "  df = pd.read_csv('/Users/JooAnLee/mid_project/src/storage/raw_data/병합_청약매물_목록_정보_픽스2.csv')\n"
     ]
    },
    {
     "data": {
      "text/html": [
       "<div>\n",
       "<style scoped>\n",
       "    .dataframe tbody tr th:only-of-type {\n",
       "        vertical-align: middle;\n",
       "    }\n",
       "\n",
       "    .dataframe tbody tr th {\n",
       "        vertical-align: top;\n",
       "    }\n",
       "\n",
       "    .dataframe thead th {\n",
       "        text-align: right;\n",
       "    }\n",
       "</style>\n",
       "<table border=\"1\" class=\"dataframe\">\n",
       "  <thead>\n",
       "    <tr style=\"text-align: right;\">\n",
       "      <th></th>\n",
       "      <th>주택관리번호</th>\n",
       "      <th>공고번호</th>\n",
       "      <th>주택명</th>\n",
       "      <th>주택구분코드</th>\n",
       "      <th>주택구분코드명</th>\n",
       "      <th>주택상세구분코드</th>\n",
       "      <th>주택상세구분코드명</th>\n",
       "      <th>분양구분코드</th>\n",
       "      <th>분양구분코드명</th>\n",
       "      <th>공급지역코드</th>\n",
       "      <th>...</th>\n",
       "      <th>평균당첨가점</th>\n",
       "      <th>기사 번호</th>\n",
       "      <th>토픽 1</th>\n",
       "      <th>토픽 2</th>\n",
       "      <th>토픽 3</th>\n",
       "      <th>토픽 4</th>\n",
       "      <th>토픽 5</th>\n",
       "      <th>토픽 6</th>\n",
       "      <th>토픽 7</th>\n",
       "      <th>주요 토픽</th>\n",
       "    </tr>\n",
       "  </thead>\n",
       "  <tbody>\n",
       "    <tr>\n",
       "      <th>0</th>\n",
       "      <td>2025000043</td>\n",
       "      <td>2025000043</td>\n",
       "      <td>부천 JY 포에시아</td>\n",
       "      <td>1</td>\n",
       "      <td>APT</td>\n",
       "      <td>1</td>\n",
       "      <td>민영</td>\n",
       "      <td>0</td>\n",
       "      <td>분양주택</td>\n",
       "      <td>410</td>\n",
       "      <td>...</td>\n",
       "      <td>NaN</td>\n",
       "      <td>1</td>\n",
       "      <td>0.002633</td>\n",
       "      <td>0.0026</td>\n",
       "      <td>0.0026</td>\n",
       "      <td>0.002633</td>\n",
       "      <td>0.361367</td>\n",
       "      <td>0.081</td>\n",
       "      <td>0.547233</td>\n",
       "      <td>토픽 7</td>\n",
       "    </tr>\n",
       "    <tr>\n",
       "      <th>1</th>\n",
       "      <td>2025000043</td>\n",
       "      <td>2025000043</td>\n",
       "      <td>부천 JY 포에시아</td>\n",
       "      <td>1</td>\n",
       "      <td>APT</td>\n",
       "      <td>1</td>\n",
       "      <td>민영</td>\n",
       "      <td>0</td>\n",
       "      <td>분양주택</td>\n",
       "      <td>410</td>\n",
       "      <td>...</td>\n",
       "      <td>NaN</td>\n",
       "      <td>1</td>\n",
       "      <td>0.002633</td>\n",
       "      <td>0.0026</td>\n",
       "      <td>0.0026</td>\n",
       "      <td>0.002633</td>\n",
       "      <td>0.361367</td>\n",
       "      <td>0.081</td>\n",
       "      <td>0.547233</td>\n",
       "      <td>토픽 7</td>\n",
       "    </tr>\n",
       "    <tr>\n",
       "      <th>2</th>\n",
       "      <td>2025000043</td>\n",
       "      <td>2025000043</td>\n",
       "      <td>부천 JY 포에시아</td>\n",
       "      <td>1</td>\n",
       "      <td>APT</td>\n",
       "      <td>1</td>\n",
       "      <td>민영</td>\n",
       "      <td>0</td>\n",
       "      <td>분양주택</td>\n",
       "      <td>410</td>\n",
       "      <td>...</td>\n",
       "      <td>NaN</td>\n",
       "      <td>1</td>\n",
       "      <td>0.002633</td>\n",
       "      <td>0.0026</td>\n",
       "      <td>0.0026</td>\n",
       "      <td>0.002633</td>\n",
       "      <td>0.361367</td>\n",
       "      <td>0.081</td>\n",
       "      <td>0.547233</td>\n",
       "      <td>토픽 7</td>\n",
       "    </tr>\n",
       "    <tr>\n",
       "      <th>3</th>\n",
       "      <td>2025000043</td>\n",
       "      <td>2025000043</td>\n",
       "      <td>부천 JY 포에시아</td>\n",
       "      <td>1</td>\n",
       "      <td>APT</td>\n",
       "      <td>1</td>\n",
       "      <td>민영</td>\n",
       "      <td>0</td>\n",
       "      <td>분양주택</td>\n",
       "      <td>410</td>\n",
       "      <td>...</td>\n",
       "      <td>NaN</td>\n",
       "      <td>1</td>\n",
       "      <td>0.002633</td>\n",
       "      <td>0.0026</td>\n",
       "      <td>0.0026</td>\n",
       "      <td>0.002633</td>\n",
       "      <td>0.361367</td>\n",
       "      <td>0.081</td>\n",
       "      <td>0.547233</td>\n",
       "      <td>토픽 7</td>\n",
       "    </tr>\n",
       "    <tr>\n",
       "      <th>4</th>\n",
       "      <td>2025000043</td>\n",
       "      <td>2025000043</td>\n",
       "      <td>부천 JY 포에시아</td>\n",
       "      <td>1</td>\n",
       "      <td>APT</td>\n",
       "      <td>1</td>\n",
       "      <td>민영</td>\n",
       "      <td>0</td>\n",
       "      <td>분양주택</td>\n",
       "      <td>410</td>\n",
       "      <td>...</td>\n",
       "      <td>NaN</td>\n",
       "      <td>1</td>\n",
       "      <td>0.002633</td>\n",
       "      <td>0.0026</td>\n",
       "      <td>0.0026</td>\n",
       "      <td>0.002633</td>\n",
       "      <td>0.361367</td>\n",
       "      <td>0.081</td>\n",
       "      <td>0.547233</td>\n",
       "      <td>토픽 7</td>\n",
       "    </tr>\n",
       "  </tbody>\n",
       "</table>\n",
       "<p>5 rows × 65 columns</p>\n",
       "</div>"
      ],
      "text/plain": [
       "       주택관리번호        공고번호         주택명  주택구분코드 주택구분코드명  주택상세구분코드 주택상세구분코드명  \\\n",
       "0  2025000043  2025000043  부천 JY 포에시아       1     APT         1        민영   \n",
       "1  2025000043  2025000043  부천 JY 포에시아       1     APT         1        민영   \n",
       "2  2025000043  2025000043  부천 JY 포에시아       1     APT         1        민영   \n",
       "3  2025000043  2025000043  부천 JY 포에시아       1     APT         1        민영   \n",
       "4  2025000043  2025000043  부천 JY 포에시아       1     APT         1        민영   \n",
       "\n",
       "   분양구분코드 분양구분코드명  공급지역코드  ... 평균당첨가점  기사 번호      토픽 1    토픽 2    토픽 3  \\\n",
       "0       0    분양주택     410  ...    NaN      1  0.002633  0.0026  0.0026   \n",
       "1       0    분양주택     410  ...    NaN      1  0.002633  0.0026  0.0026   \n",
       "2       0    분양주택     410  ...    NaN      1  0.002633  0.0026  0.0026   \n",
       "3       0    분양주택     410  ...    NaN      1  0.002633  0.0026  0.0026   \n",
       "4       0    분양주택     410  ...    NaN      1  0.002633  0.0026  0.0026   \n",
       "\n",
       "       토픽 4      토픽 5   토픽 6      토픽 7 주요 토픽  \n",
       "0  0.002633  0.361367  0.081  0.547233  토픽 7  \n",
       "1  0.002633  0.361367  0.081  0.547233  토픽 7  \n",
       "2  0.002633  0.361367  0.081  0.547233  토픽 7  \n",
       "3  0.002633  0.361367  0.081  0.547233  토픽 7  \n",
       "4  0.002633  0.361367  0.081  0.547233  토픽 7  \n",
       "\n",
       "[5 rows x 65 columns]"
      ]
     },
     "execution_count": 3,
     "metadata": {},
     "output_type": "execute_result"
    }
   ],
   "source": [
    "import pandas as pd\n",
    "\n",
    "# 데이터 불러오기\n",
    "df = pd.read_csv('/Users/JooAnLee/mid_project/src/storage/raw_data/병합_청약매물_목록_정보_픽스2.csv')\n",
    "df.head()"
   ]
  },
  {
   "cell_type": "code",
   "execution_count": 10,
   "metadata": {},
   "outputs": [
    {
     "name": "stdout",
     "output_type": "stream",
     "text": [
      "/Users/JooAnLee/mid_project/src\n"
     ]
    }
   ],
   "source": [
    "import os\n",
    "os.chdir('../')  # Move up one directory level\n",
    "print(os.getcwd())  # Print the new current directory"
   ]
  },
  {
   "cell_type": "code",
   "execution_count": 12,
   "metadata": {},
   "outputs": [
    {
     "name": "stderr",
     "output_type": "stream",
     "text": [
      "/Users/JooAnLee/mid_project/src/data_preprocessing.py:146: DtypeWarning: Columns (36,48) have mixed types. Specify dtype option on import or set low_memory=False.\n",
      "  df_estate_price = pd.read_csv(csv_path, encoding=\"cp949\")\n",
      "/Users/JooAnLee/mid_project/src/data_preprocessing.py:329: FutureWarning: A value is trying to be set on a copy of a DataFrame or Series through chained assignment using an inplace method.\n",
      "The behavior will change in pandas 3.0. This inplace method will never work because the intermediate object on which we are setting values always behaves as a copy.\n",
      "\n",
      "For example, when doing 'df[col].method(value, inplace=True)', try using 'df.method({col: value}, inplace=True)' or df[col] = df[col].method(value) instead, to perform the operation inplace on the original object.\n",
      "\n",
      "\n",
      "  df['최저당첨가점'].fillna(0, inplace=True)\n"
     ]
    }
   ],
   "source": [
    "from data_preprocessing import pipeline\n",
    "\n",
    "preprocessing_pipeline = pipeline(type='train')\n",
    "df = preprocessing_pipeline.transform(df)"
   ]
  },
  {
   "cell_type": "code",
   "execution_count": 13,
   "metadata": {},
   "outputs": [
    {
     "name": "stdout",
     "output_type": "stream",
     "text": [
      "<class 'pandas.core.frame.DataFrame'>\n",
      "Index: 2981 entries, 44 to 17246\n",
      "Data columns (total 27 columns):\n",
      " #   Column        Non-Null Count  Dtype  \n",
      "---  ------        --------------  -----  \n",
      " 0   공급지역코드        2981 non-null   int64  \n",
      " 1   공급규모          2981 non-null   int64  \n",
      " 2   투기과열지구        2981 non-null   object \n",
      " 3   조정대상지역        2981 non-null   object \n",
      " 4   분양가상한제        2981 non-null   object \n",
      " 5   정비사업          2981 non-null   object \n",
      " 6   공공주택지구        2981 non-null   object \n",
      " 7   대규모택지개발지구     2981 non-null   object \n",
      " 8   수도권내민영공공주택지구  2981 non-null   object \n",
      " 9   공급세대수         2981 non-null   int64  \n",
      " 10  순위            2981 non-null   object \n",
      " 11  거주지역          2981 non-null   object \n",
      " 12  접수건수          2981 non-null   int64  \n",
      " 13  경쟁률           2981 non-null   float64\n",
      " 14  최저당첨가점        2981 non-null   float64\n",
      " 15  토픽 1          2981 non-null   float64\n",
      " 16  토픽 2          2981 non-null   float64\n",
      " 17  토픽 3          2981 non-null   float64\n",
      " 18  토픽 4          2981 non-null   float64\n",
      " 19  토픽 5          2981 non-null   float64\n",
      " 20  토픽 6          2981 non-null   float64\n",
      " 21  토픽 7          2981 non-null   float64\n",
      " 22  전용면적          2981 non-null   float64\n",
      " 23  공급금액(최고가 기준)  2981 non-null   float64\n",
      " 24  법정동코드         2981 non-null   float64\n",
      " 25  거래금액(만원)      2595 non-null   float64\n",
      " 26  전용면적당 시세차익    2981 non-null   float64\n",
      "dtypes: float64(14), int64(4), object(9)\n",
      "memory usage: 652.1+ KB\n"
     ]
    }
   ],
   "source": [
    "df.info()"
   ]
  },
  {
   "cell_type": "code",
   "execution_count": 14,
   "metadata": {},
   "outputs": [],
   "source": [
    "df['시세차익'] = df['전용면적'] * df['전용면적당 시세차익']"
   ]
  },
  {
   "cell_type": "code",
   "execution_count": 18,
   "metadata": {},
   "outputs": [],
   "source": [
    "import matplotlib.pyplot as plt\n",
    "import seaborn as sns\n",
    "plt.rc('font', family='AppleGothic')\n",
    "plt.rcParams['axes.unicode_minus'] =False"
   ]
  },
  {
   "cell_type": "code",
   "execution_count": 15,
   "metadata": {},
   "outputs": [
    {
     "name": "stdout",
     "output_type": "stream",
     "text": [
      "<class 'pandas.core.frame.DataFrame'>\n",
      "Index: 2981 entries, 44 to 17246\n",
      "Data columns (total 28 columns):\n",
      " #   Column        Non-Null Count  Dtype  \n",
      "---  ------        --------------  -----  \n",
      " 0   공급지역코드        2981 non-null   int64  \n",
      " 1   공급규모          2981 non-null   int64  \n",
      " 2   투기과열지구        2981 non-null   object \n",
      " 3   조정대상지역        2981 non-null   object \n",
      " 4   분양가상한제        2981 non-null   object \n",
      " 5   정비사업          2981 non-null   object \n",
      " 6   공공주택지구        2981 non-null   object \n",
      " 7   대규모택지개발지구     2981 non-null   object \n",
      " 8   수도권내민영공공주택지구  2981 non-null   object \n",
      " 9   공급세대수         2981 non-null   int64  \n",
      " 10  순위            2981 non-null   object \n",
      " 11  거주지역          2981 non-null   object \n",
      " 12  접수건수          2981 non-null   int64  \n",
      " 13  경쟁률           2981 non-null   float64\n",
      " 14  최저당첨가점        2981 non-null   float64\n",
      " 15  토픽 1          2981 non-null   float64\n",
      " 16  토픽 2          2981 non-null   float64\n",
      " 17  토픽 3          2981 non-null   float64\n",
      " 18  토픽 4          2981 non-null   float64\n",
      " 19  토픽 5          2981 non-null   float64\n",
      " 20  토픽 6          2981 non-null   float64\n",
      " 21  토픽 7          2981 non-null   float64\n",
      " 22  전용면적          2981 non-null   float64\n",
      " 23  공급금액(최고가 기준)  2981 non-null   float64\n",
      " 24  법정동코드         2981 non-null   float64\n",
      " 25  거래금액(만원)      2595 non-null   float64\n",
      " 26  전용면적당 시세차익    2981 non-null   float64\n",
      " 27  시세차익          2981 non-null   float64\n",
      "dtypes: float64(15), int64(4), object(9)\n",
      "memory usage: 675.4+ KB\n"
     ]
    }
   ],
   "source": [
    "df.info()"
   ]
  },
  {
   "cell_type": "code",
   "execution_count": 19,
   "metadata": {},
   "outputs": [
    {
     "data": {
      "image/png": "[encoded data removed]",
      "text/plain": [
       "<Figure size 1000x800 with 2 Axes>"
      ]
     },
     "metadata": {},
     "output_type": "display_data"
    }
   ],
   "source": [
    "import numpy as np\n",
    "import matplotlib.pyplot as plt\n",
    "import seaborn as sns\n",
    "\n",
    "# 데이터프레임이 이미 df로 로드되어 있다고 가정\n",
    "# 숫자형 컬럼만 선택\n",
    "numeric_columns = df.select_dtypes(include=[np.number])\n",
    "\n",
    "# 상관관계 계산\n",
    "correlation_matrix = numeric_columns.corr()\n",
    "\n",
    "# 시세차익과의 상관관계만 추출하고 절대값 기준으로 정렬\n",
    "target_correlation = correlation_matrix['시세차익'].drop('시세차익')\n",
    "sorted_correlation = target_correlation.abs().sort_values(ascending=False)\n",
    "top_features = sorted_correlation.index.tolist()\n",
    "\n",
    "# 상위 10개 특성만 선택 (또는 모든 특성이 10개 미만이면 전체)\n",
    "top_n = min(10, len(top_features))\n",
    "top_features = top_features[:top_n]\n",
    "\n",
    "# 시세차익과 상위 특성들 간의 상관관계 추출\n",
    "correlation_subset = correlation_matrix.loc[['시세차익'] + top_features, ['시세차익']]\n",
    "\n",
    "# 히트맵 생성\n",
    "plt.figure(figsize=(10, 8))\n",
    "sns.heatmap(correlation_subset, annot=True, cmap='coolwarm', fmt='.3f', cbar=True, linewidths=0.5)\n",
    "plt.title('시세차익과 주요 특성들의 상관관계', fontsize=16)\n",
    "plt.tight_layout()\n",
    "plt.show()"
   ]
  },
  {
   "cell_type": "code",
   "execution_count": null,
   "metadata": {},
   "outputs": [],
   "source": []
  }
 ],
 "metadata": {
  "kernelspec": {
   "display_name": "Jooan_Lee",
   "language": "python",
   "name": "python3"
  },
  "language_info": {
   "codemirror_mode": {
    "name": "ipython",
    "version": 3
   },
   "file_extension": ".py",
   "mimetype": "text/x-python",
   "name": "python",
   "nbconvert_exporter": "python",
   "pygments_lexer": "ipython3",
   "version": "3.11.11"
  }
 },
 "nbformat": 4,
 "nbformat_minor": 2
}
