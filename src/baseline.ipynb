{
   "cells": [
      {
         "cell_type": "code",
         "execution_count": 1,
         "metadata": {},
         "outputs": [],
         "source": [
            "import pandas as pd\n",
            "import numpy as np\n",
            "\n",
            "from sklearn.ensemble import RandomForestRegressor\n",
            "from sklearn.model_selection import train_test_split\n",
            "from sklearn.metrics import mean_squared_error, r2_score\n",
            "\n",
            "import joblib\n",
            "\n",
            "from data_preprocessing import pipeline\n",
            "from feature_preprocessing import pipeline2"
         ]
      },
      {
         "cell_type": "markdown",
         "metadata": {},
         "source": [
            "### 데이터 전처리"
         ]
      },
      {
         "cell_type": "code",
         "execution_count": 2,
         "metadata": {},
         "outputs": [
            {
               "name": "stderr",
               "output_type": "stream",
               "text": [
                  "C:\\Users\\user\\AppData\\Local\\Temp\\ipykernel_17584\\4291326278.py:4: DtypeWarning: Columns (48) have mixed types. Specify dtype option on import or set low_memory=False.\n",
                  "  df = pd.read_csv(file_path)\n",
                  "c:\\Users\\user\\mid_project\\src\\data_preprocessing.py:122: DtypeWarning: Columns (36,48) have mixed types. Specify dtype option on import or set low_memory=False.\n",
                  "  df_estate_price = pd.read_csv(\n",
                  "c:\\Users\\user\\mid_project\\src\\data_preprocessing.py:223: SettingWithCopyWarning: \n",
                  "A value is trying to be set on a copy of a slice from a DataFrame\n",
                  "\n",
                  "See the caveats in the documentation: https://pandas.pydata.org/pandas-docs/stable/user_guide/indexing.html#returning-a-view-versus-a-copy\n",
                  "  df[['최저당첨가점','최고당첨가점', '평균당첨가점']].fillna(0, inplace=True)\n"
               ]
            }
         ],
         "source": [
            "# 로우 데이터 불러오기\n",
            "file_path = \"./storage/raw_data/병합_청약매물_목록_정보_픽스2.csv\"\n",
            "# df = pd.read_csv(file_path, encoding ='cp949')\n",
            "df = pd.read_csv(file_path)\n",
            "\n",
            "# 데이터 전처리\n",
            "preprocessing_pipeline = pipeline()\n",
            "df = preprocessing_pipeline.transform(df)\n",
            "\n",
            "# 파일 저장\n",
            "file_version = \"250318-03-삭제예정\"\n",
            "output_file = f\"./storage/train_data/train-{file_version}.csv\"\n",
            "df.to_csv(output_file, index=False, encoding='cp949')"
         ]
      },
      {
         "cell_type": "code",
         "execution_count": null,
         "metadata": {},
         "outputs": [
            {
               "name": "stdout",
               "output_type": "stream",
               "text": [
                  "<class 'pandas.core.frame.DataFrame'>\n",
                  "Index: 2981 entries, 44 to 17246\n",
                  "Data columns (total 28 columns):\n",
                  " #   Column        Non-Null Count  Dtype  \n",
                  "---  ------        --------------  -----  \n",
                  " 0   공급지역코드        2981 non-null   int64  \n",
                  " 1   공급규모          2981 non-null   int64  \n",
                  " 2   투기과열지구        2981 non-null   object \n",
                  " 3   조정대상지역        2981 non-null   object \n",
                  " 4   분양가상한제        2981 non-null   object \n",
                  " 5   정비사업          2981 non-null   object \n",
                  " 6   공공주택지구        2981 non-null   object \n",
                  " 7   대규모택지개발지구     2981 non-null   object \n",
                  " 8   수도권내민영공공주택지구  2981 non-null   object \n",
                  " 9   공급세대수         2981 non-null   int64  \n",
                  " 10  순위            2981 non-null   object \n",
                  " 11  거주지역          2981 non-null   object \n",
                  " 12  접수건수          2981 non-null   int64  \n",
                  " 13  경쟁률           2981 non-null   float64\n",
                  " 14  최저당첨가점        2981 non-null   float64\n",
                  " 15  최고당첨가점        2981 non-null   float64\n",
                  " 16  평균당첨가점        2981 non-null   float64\n",
                  " 17  토픽 1          2981 non-null   float64\n",
                  " 18  토픽 2          2981 non-null   float64\n",
                  " 19  토픽 3          2981 non-null   float64\n",
                  " 20  토픽 4          2981 non-null   float64\n",
                  " 21  토픽 5          2981 non-null   float64\n",
                  " 22  토픽 6          2981 non-null   float64\n",
                  " 23  토픽 7          2981 non-null   float64\n",
                  " 24  전용면적          2981 non-null   float64\n",
                  " 25  공급금액(최고가 기준)  2981 non-null   float64\n",
                  " 26  법정동코드         2981 non-null   float64\n",
                  " 27  전용면적당 시세차익    2595 non-null   float64\n",
                  "dtypes: float64(15), int64(4), object(9)\n",
                  "memory usage: 675.4+ KB\n"
               ]
            }
         ],
         "source": [
            "df.info()"
         ]
      },
      {
         "cell_type": "markdown",
         "metadata": {},
         "source": [
            "### 모델 학습 및 평가"
         ]
      },
      {
         "cell_type": "code",
         "execution_count": 4,
         "metadata": {},
         "outputs": [],
         "source": [
            "# 전처리된 데이터 가져오기\n",
            "\n",
            "# file_version = \"250317-01\"\n",
            "# file_path = f\"./storage/train_data/t``ain-{file_version}.csv\"\n",
            "# df = pd.read_csv(file_path, encoding='cp949')\n",
            "\n",
            "df = pd.read_csv(\"C:/Users/user/mid_project/src/storage/train_data/train-250318-03-삭제예정.csv\", encoding = 'cp949')\n"
         ]
      },
      {
         "cell_type": "code",
         "execution_count": 6,
         "metadata": {},
         "outputs": [],
         "source": [
            "X = df.drop(columns=[\"최저당첨가점\"])\n",
            "Y = df[\"최저당첨가점\"]\n",
            "\n",
            "X_train, X_test, y_train, y_test = train_test_split(\n",
            "    X,  # 타겟(최저당첨가점) 제외\n",
            "    Y,  # 타겟\n",
            "    test_size=0.2,\n",
            "    random_state=42,\n",
            "    stratify=df[\"투기과열지구\"]  # 분포 맞추기 위해 미달여부로 stratify\n",
            ")\n",
            "\n",
            "# 분양가상한제, 투기과열지구, 조정대상지역 -> 고려해보기염"
         ]
      },
      {
         "cell_type": "code",
         "execution_count": 7,
         "metadata": {},
         "outputs": [
            {
               "ename": "KeyError",
               "evalue": "\"['미달여부'] not in index\"",
               "output_type": "error",
               "traceback": [
                  "\u001b[1;31m---------------------------------------------------------------------------\u001b[0m",
                  "\u001b[1;31mKeyError\u001b[0m                                  Traceback (most recent call last)",
                  "Cell \u001b[1;32mIn[7], line 7\u001b[0m\n\u001b[0;32m      4\u001b[0m feature_pipeline\u001b[38;5;241m.\u001b[39mfit(X_train)\n\u001b[0;32m      6\u001b[0m \u001b[38;5;66;03m# 학습 데이터(X_train)를 변환\u001b[39;00m\n\u001b[1;32m----> 7\u001b[0m X_train_transformed \u001b[38;5;241m=\u001b[39m feature_pipeline\u001b[38;5;241m.\u001b[39mtransform(X_train)\n\u001b[0;32m      9\u001b[0m \u001b[38;5;66;03m# 테스트 데이터(X_test)를 변환\u001b[39;00m\n\u001b[0;32m     10\u001b[0m X_test_transformed \u001b[38;5;241m=\u001b[39m feature_pipeline\u001b[38;5;241m.\u001b[39mtransform(X_test)\n",
                  "File \u001b[1;32mc:\\Users\\user\\anaconda3\\envs\\project-env\\Lib\\site-packages\\sklearn\\pipeline.py:1092\u001b[0m, in \u001b[0;36mPipeline.transform\u001b[1;34m(self, X, **params)\u001b[0m\n\u001b[0;32m   1090\u001b[0m Xt \u001b[38;5;241m=\u001b[39m X\n\u001b[0;32m   1091\u001b[0m \u001b[38;5;28;01mfor\u001b[39;00m _, name, transform \u001b[38;5;129;01min\u001b[39;00m \u001b[38;5;28mself\u001b[39m\u001b[38;5;241m.\u001b[39m_iter():\n\u001b[1;32m-> 1092\u001b[0m     Xt \u001b[38;5;241m=\u001b[39m transform\u001b[38;5;241m.\u001b[39mtransform(Xt, \u001b[38;5;241m*\u001b[39m\u001b[38;5;241m*\u001b[39mrouted_params[name]\u001b[38;5;241m.\u001b[39mtransform)\n\u001b[0;32m   1093\u001b[0m \u001b[38;5;28;01mreturn\u001b[39;00m Xt\n",
                  "File \u001b[1;32mc:\\Users\\user\\anaconda3\\envs\\project-env\\Lib\\site-packages\\sklearn\\utils\\_set_output.py:319\u001b[0m, in \u001b[0;36m_wrap_method_output.<locals>.wrapped\u001b[1;34m(self, X, *args, **kwargs)\u001b[0m\n\u001b[0;32m    317\u001b[0m \u001b[38;5;129m@wraps\u001b[39m(f)\n\u001b[0;32m    318\u001b[0m \u001b[38;5;28;01mdef\u001b[39;00m \u001b[38;5;21mwrapped\u001b[39m(\u001b[38;5;28mself\u001b[39m, X, \u001b[38;5;241m*\u001b[39margs, \u001b[38;5;241m*\u001b[39m\u001b[38;5;241m*\u001b[39mkwargs):\n\u001b[1;32m--> 319\u001b[0m     data_to_wrap \u001b[38;5;241m=\u001b[39m f(\u001b[38;5;28mself\u001b[39m, X, \u001b[38;5;241m*\u001b[39margs, \u001b[38;5;241m*\u001b[39m\u001b[38;5;241m*\u001b[39mkwargs)\n\u001b[0;32m    320\u001b[0m     \u001b[38;5;28;01mif\u001b[39;00m \u001b[38;5;28misinstance\u001b[39m(data_to_wrap, \u001b[38;5;28mtuple\u001b[39m):\n\u001b[0;32m    321\u001b[0m         \u001b[38;5;66;03m# only wrap the first output for cross decomposition\u001b[39;00m\n\u001b[0;32m    322\u001b[0m         return_tuple \u001b[38;5;241m=\u001b[39m (\n\u001b[0;32m    323\u001b[0m             _wrap_data_with_container(method, data_to_wrap[\u001b[38;5;241m0\u001b[39m], X, \u001b[38;5;28mself\u001b[39m),\n\u001b[0;32m    324\u001b[0m             \u001b[38;5;241m*\u001b[39mdata_to_wrap[\u001b[38;5;241m1\u001b[39m:],\n\u001b[0;32m    325\u001b[0m         )\n",
                  "File \u001b[1;32mc:\\Users\\user\\anaconda3\\envs\\project-env\\Lib\\site-packages\\sklearn\\preprocessing\\_function_transformer.py:260\u001b[0m, in \u001b[0;36mFunctionTransformer.transform\u001b[1;34m(self, X)\u001b[0m\n\u001b[0;32m    246\u001b[0m \u001b[38;5;250m\u001b[39m\u001b[38;5;124;03m\"\"\"Transform X using the forward function.\u001b[39;00m\n\u001b[0;32m    247\u001b[0m \n\u001b[0;32m    248\u001b[0m \u001b[38;5;124;03mParameters\u001b[39;00m\n\u001b[1;32m   (...)\u001b[0m\n\u001b[0;32m    257\u001b[0m \u001b[38;5;124;03m    Transformed input.\u001b[39;00m\n\u001b[0;32m    258\u001b[0m \u001b[38;5;124;03m\"\"\"\u001b[39;00m\n\u001b[0;32m    259\u001b[0m X \u001b[38;5;241m=\u001b[39m \u001b[38;5;28mself\u001b[39m\u001b[38;5;241m.\u001b[39m_check_input(X, reset\u001b[38;5;241m=\u001b[39m\u001b[38;5;28;01mFalse\u001b[39;00m)\n\u001b[1;32m--> 260\u001b[0m out \u001b[38;5;241m=\u001b[39m \u001b[38;5;28mself\u001b[39m\u001b[38;5;241m.\u001b[39m_transform(X, func\u001b[38;5;241m=\u001b[39m\u001b[38;5;28mself\u001b[39m\u001b[38;5;241m.\u001b[39mfunc, kw_args\u001b[38;5;241m=\u001b[39m\u001b[38;5;28mself\u001b[39m\u001b[38;5;241m.\u001b[39mkw_args)\n\u001b[0;32m    261\u001b[0m output_config \u001b[38;5;241m=\u001b[39m _get_output_config(\u001b[38;5;124m\"\u001b[39m\u001b[38;5;124mtransform\u001b[39m\u001b[38;5;124m\"\u001b[39m, \u001b[38;5;28mself\u001b[39m)[\u001b[38;5;124m\"\u001b[39m\u001b[38;5;124mdense\u001b[39m\u001b[38;5;124m\"\u001b[39m]\n\u001b[0;32m    263\u001b[0m \u001b[38;5;28;01mif\u001b[39;00m \u001b[38;5;28mhasattr\u001b[39m(out, \u001b[38;5;124m\"\u001b[39m\u001b[38;5;124mcolumns\u001b[39m\u001b[38;5;124m\"\u001b[39m) \u001b[38;5;129;01mand\u001b[39;00m \u001b[38;5;28mself\u001b[39m\u001b[38;5;241m.\u001b[39mfeature_names_out \u001b[38;5;129;01mis\u001b[39;00m \u001b[38;5;129;01mnot\u001b[39;00m \u001b[38;5;28;01mNone\u001b[39;00m:\n\u001b[0;32m    264\u001b[0m     \u001b[38;5;66;03m# check the consistency between the column provided by `transform` and\u001b[39;00m\n\u001b[0;32m    265\u001b[0m     \u001b[38;5;66;03m# the the column names provided by `get_feature_names_out`.\u001b[39;00m\n",
                  "File \u001b[1;32mc:\\Users\\user\\anaconda3\\envs\\project-env\\Lib\\site-packages\\sklearn\\preprocessing\\_function_transformer.py:387\u001b[0m, in \u001b[0;36mFunctionTransformer._transform\u001b[1;34m(self, X, func, kw_args)\u001b[0m\n\u001b[0;32m    384\u001b[0m \u001b[38;5;28;01mif\u001b[39;00m func \u001b[38;5;129;01mis\u001b[39;00m \u001b[38;5;28;01mNone\u001b[39;00m:\n\u001b[0;32m    385\u001b[0m     func \u001b[38;5;241m=\u001b[39m _identity\n\u001b[1;32m--> 387\u001b[0m \u001b[38;5;28;01mreturn\u001b[39;00m func(X, \u001b[38;5;241m*\u001b[39m\u001b[38;5;241m*\u001b[39m(kw_args \u001b[38;5;28;01mif\u001b[39;00m kw_args \u001b[38;5;28;01melse\u001b[39;00m {}))\n",
                  "File \u001b[1;32mc:\\Users\\user\\mid_project\\src\\feature_preprocessing.py:33\u001b[0m, in \u001b[0;36mdata_encoder\u001b[1;34m(X)\u001b[0m\n\u001b[0;32m     27\u001b[0m \u001b[38;5;28;01mdef\u001b[39;00m \u001b[38;5;21mdata_encoder\u001b[39m(X):\n\u001b[0;32m     28\u001b[0m \n\u001b[0;32m     29\u001b[0m     \u001b[38;5;66;03m# 원핫 인코딩\u001b[39;00m\n\u001b[0;32m     30\u001b[0m     one_hot_columns \u001b[38;5;241m=\u001b[39m [\u001b[38;5;124m'\u001b[39m\u001b[38;5;124m투기과열지구\u001b[39m\u001b[38;5;124m'\u001b[39m, \u001b[38;5;124m'\u001b[39m\u001b[38;5;124m조정대상지역\u001b[39m\u001b[38;5;124m'\u001b[39m, \u001b[38;5;124m'\u001b[39m\u001b[38;5;124m분양가상한제\u001b[39m\u001b[38;5;124m'\u001b[39m, \u001b[38;5;124m'\u001b[39m\u001b[38;5;124m정비사업\u001b[39m\u001b[38;5;124m'\u001b[39m,\n\u001b[0;32m     31\u001b[0m                        \u001b[38;5;124m'\u001b[39m\u001b[38;5;124m공공주택지구\u001b[39m\u001b[38;5;124m'\u001b[39m, \u001b[38;5;124m'\u001b[39m\u001b[38;5;124m대규모택지개발지구\u001b[39m\u001b[38;5;124m'\u001b[39m, \u001b[38;5;124m'\u001b[39m\u001b[38;5;124m수도권내민영공공주택지구\u001b[39m\u001b[38;5;124m'\u001b[39m,\n\u001b[0;32m     32\u001b[0m                        \u001b[38;5;124m'\u001b[39m\u001b[38;5;124m미달여부\u001b[39m\u001b[38;5;124m'\u001b[39m, \u001b[38;5;124m'\u001b[39m\u001b[38;5;124m순위\u001b[39m\u001b[38;5;124m'\u001b[39m, \u001b[38;5;124m'\u001b[39m\u001b[38;5;124m거주지역\u001b[39m\u001b[38;5;124m'\u001b[39m, \u001b[38;5;124m'\u001b[39m\u001b[38;5;124m공급지역코드\u001b[39m\u001b[38;5;124m'\u001b[39m]\n\u001b[1;32m---> 33\u001b[0m     X \u001b[38;5;241m=\u001b[39m pd\u001b[38;5;241m.\u001b[39mget_dummies(X, columns\u001b[38;5;241m=\u001b[39mone_hot_columns)\n\u001b[0;32m     35\u001b[0m     \u001b[38;5;66;03m# 레이블 인코딩\u001b[39;00m\n\u001b[0;32m     37\u001b[0m     label_encoder \u001b[38;5;241m=\u001b[39m LabelEncoder()\n",
                  "File \u001b[1;32mc:\\Users\\user\\anaconda3\\envs\\project-env\\Lib\\site-packages\\pandas\\core\\reshape\\encoding.py:169\u001b[0m, in \u001b[0;36mget_dummies\u001b[1;34m(data, prefix, prefix_sep, dummy_na, columns, sparse, drop_first, dtype)\u001b[0m\n\u001b[0;32m    167\u001b[0m     \u001b[38;5;28;01mraise\u001b[39;00m \u001b[38;5;167;01mTypeError\u001b[39;00m(\u001b[38;5;124m\"\u001b[39m\u001b[38;5;124mInput must be a list-like for parameter `columns`\u001b[39m\u001b[38;5;124m\"\u001b[39m)\n\u001b[0;32m    168\u001b[0m \u001b[38;5;28;01melse\u001b[39;00m:\n\u001b[1;32m--> 169\u001b[0m     data_to_encode \u001b[38;5;241m=\u001b[39m data[columns]\n\u001b[0;32m    171\u001b[0m \u001b[38;5;66;03m# validate prefixes and separator to avoid silently dropping cols\u001b[39;00m\n\u001b[0;32m    172\u001b[0m \u001b[38;5;28;01mdef\u001b[39;00m \u001b[38;5;21mcheck_len\u001b[39m(item, name: \u001b[38;5;28mstr\u001b[39m):\n",
                  "File \u001b[1;32mc:\\Users\\user\\anaconda3\\envs\\project-env\\Lib\\site-packages\\pandas\\core\\frame.py:4108\u001b[0m, in \u001b[0;36mDataFrame.__getitem__\u001b[1;34m(self, key)\u001b[0m\n\u001b[0;32m   4106\u001b[0m     \u001b[38;5;28;01mif\u001b[39;00m is_iterator(key):\n\u001b[0;32m   4107\u001b[0m         key \u001b[38;5;241m=\u001b[39m \u001b[38;5;28mlist\u001b[39m(key)\n\u001b[1;32m-> 4108\u001b[0m     indexer \u001b[38;5;241m=\u001b[39m \u001b[38;5;28mself\u001b[39m\u001b[38;5;241m.\u001b[39mcolumns\u001b[38;5;241m.\u001b[39m_get_indexer_strict(key, \u001b[38;5;124m\"\u001b[39m\u001b[38;5;124mcolumns\u001b[39m\u001b[38;5;124m\"\u001b[39m)[\u001b[38;5;241m1\u001b[39m]\n\u001b[0;32m   4110\u001b[0m \u001b[38;5;66;03m# take() does not accept boolean indexers\u001b[39;00m\n\u001b[0;32m   4111\u001b[0m \u001b[38;5;28;01mif\u001b[39;00m \u001b[38;5;28mgetattr\u001b[39m(indexer, \u001b[38;5;124m\"\u001b[39m\u001b[38;5;124mdtype\u001b[39m\u001b[38;5;124m\"\u001b[39m, \u001b[38;5;28;01mNone\u001b[39;00m) \u001b[38;5;241m==\u001b[39m \u001b[38;5;28mbool\u001b[39m:\n",
                  "File \u001b[1;32mc:\\Users\\user\\anaconda3\\envs\\project-env\\Lib\\site-packages\\pandas\\core\\indexes\\base.py:6200\u001b[0m, in \u001b[0;36mIndex._get_indexer_strict\u001b[1;34m(self, key, axis_name)\u001b[0m\n\u001b[0;32m   6197\u001b[0m \u001b[38;5;28;01melse\u001b[39;00m:\n\u001b[0;32m   6198\u001b[0m     keyarr, indexer, new_indexer \u001b[38;5;241m=\u001b[39m \u001b[38;5;28mself\u001b[39m\u001b[38;5;241m.\u001b[39m_reindex_non_unique(keyarr)\n\u001b[1;32m-> 6200\u001b[0m \u001b[38;5;28mself\u001b[39m\u001b[38;5;241m.\u001b[39m_raise_if_missing(keyarr, indexer, axis_name)\n\u001b[0;32m   6202\u001b[0m keyarr \u001b[38;5;241m=\u001b[39m \u001b[38;5;28mself\u001b[39m\u001b[38;5;241m.\u001b[39mtake(indexer)\n\u001b[0;32m   6203\u001b[0m \u001b[38;5;28;01mif\u001b[39;00m \u001b[38;5;28misinstance\u001b[39m(key, Index):\n\u001b[0;32m   6204\u001b[0m     \u001b[38;5;66;03m# GH 42790 - Preserve name from an Index\u001b[39;00m\n",
                  "File \u001b[1;32mc:\\Users\\user\\anaconda3\\envs\\project-env\\Lib\\site-packages\\pandas\\core\\indexes\\base.py:6252\u001b[0m, in \u001b[0;36mIndex._raise_if_missing\u001b[1;34m(self, key, indexer, axis_name)\u001b[0m\n\u001b[0;32m   6249\u001b[0m     \u001b[38;5;28;01mraise\u001b[39;00m \u001b[38;5;167;01mKeyError\u001b[39;00m(\u001b[38;5;124mf\u001b[39m\u001b[38;5;124m\"\u001b[39m\u001b[38;5;124mNone of [\u001b[39m\u001b[38;5;132;01m{\u001b[39;00mkey\u001b[38;5;132;01m}\u001b[39;00m\u001b[38;5;124m] are in the [\u001b[39m\u001b[38;5;132;01m{\u001b[39;00maxis_name\u001b[38;5;132;01m}\u001b[39;00m\u001b[38;5;124m]\u001b[39m\u001b[38;5;124m\"\u001b[39m)\n\u001b[0;32m   6251\u001b[0m not_found \u001b[38;5;241m=\u001b[39m \u001b[38;5;28mlist\u001b[39m(ensure_index(key)[missing_mask\u001b[38;5;241m.\u001b[39mnonzero()[\u001b[38;5;241m0\u001b[39m]]\u001b[38;5;241m.\u001b[39munique())\n\u001b[1;32m-> 6252\u001b[0m \u001b[38;5;28;01mraise\u001b[39;00m \u001b[38;5;167;01mKeyError\u001b[39;00m(\u001b[38;5;124mf\u001b[39m\u001b[38;5;124m\"\u001b[39m\u001b[38;5;132;01m{\u001b[39;00mnot_found\u001b[38;5;132;01m}\u001b[39;00m\u001b[38;5;124m not in index\u001b[39m\u001b[38;5;124m\"\u001b[39m)\n",
                  "\u001b[1;31mKeyError\u001b[0m: \"['미달여부'] not in index\""
               ]
            }
         ],
         "source": [
            "feature_pipeline = pipeline2()\n",
            "\n",
            "# 학습 데이터(X_train)에 fit\n",
            "feature_pipeline.fit(X_train)\n",
            "\n",
            "# 학습 데이터(X_train)를 변환\n",
            "X_train_transformed = feature_pipeline.transform(X_train)\n",
            "\n",
            "# 테스트 데이터(X_test)를 변환\n",
            "X_test_transformed = feature_pipeline.transform(X_test)"
         ]
      },
      {
         "cell_type": "code",
         "execution_count": 29,
         "metadata": {},
         "outputs": [
            {
               "name": "stdout",
               "output_type": "stream",
               "text": [
                  "<class 'pandas.core.frame.DataFrame'>\n",
                  "Index: 13800 entries, 879 to 922\n",
                  "Data columns (total 40 columns):\n",
                  " #   Column          Non-Null Count  Dtype  \n",
                  "---  ------          --------------  -----  \n",
                  " 0   Unnamed: 0      13800 non-null  int64  \n",
                  " 1   공급규모            13800 non-null  float64\n",
                  " 2   공급세대수           13800 non-null  float64\n",
                  " 3   접수건수            13800 non-null  float64\n",
                  " 4   경쟁률             13800 non-null  float64\n",
                  " 5   토픽 1            13800 non-null  float64\n",
                  " 6   토픽 2            13800 non-null  float64\n",
                  " 7   토픽 3            13800 non-null  float64\n",
                  " 8   토픽 4            13800 non-null  float64\n",
                  " 9   토픽 5            13800 non-null  float64\n",
                  " 10  토픽 6            13800 non-null  float64\n",
                  " 11  토픽 7            13800 non-null  float64\n",
                  " 12  전용면적            13800 non-null  float64\n",
                  " 13  공급금액(최고가 기준)    13800 non-null  float64\n",
                  " 14  전용면적당 시세차익      11673 non-null  float64\n",
                  " 15  투기과열지구_N        13800 non-null  bool   \n",
                  " 16  투기과열지구_Y        13800 non-null  bool   \n",
                  " 17  조정대상지역_N        13800 non-null  bool   \n",
                  " 18  조정대상지역_Y        13800 non-null  bool   \n",
                  " 19  분양가상한제_N        13800 non-null  bool   \n",
                  " 20  분양가상한제_Y        13800 non-null  bool   \n",
                  " 21  정비사업_N          13800 non-null  bool   \n",
                  " 22  정비사업_Y          13800 non-null  bool   \n",
                  " 23  공공주택지구_N        13800 non-null  bool   \n",
                  " 24  공공주택지구_Y        13800 non-null  bool   \n",
                  " 25  대규모택지개발지구_N     13800 non-null  bool   \n",
                  " 26  대규모택지개발지구_Y     13800 non-null  bool   \n",
                  " 27  수도권내민영공공주택지구_N  13800 non-null  bool   \n",
                  " 28  수도권내민영공공주택지구_Y  13800 non-null  bool   \n",
                  " 29  미달여부_N          13800 non-null  bool   \n",
                  " 30  미달여부_Y          13800 non-null  bool   \n",
                  " 31  순위_1순위          13800 non-null  bool   \n",
                  " 32  순위_2순위          13800 non-null  bool   \n",
                  " 33  거주지역_기타경기       13800 non-null  bool   \n",
                  " 34  거주지역_기타지역       13800 non-null  bool   \n",
                  " 35  거주지역_해당지역       13800 non-null  bool   \n",
                  " 36  공급지역코드_100      13800 non-null  bool   \n",
                  " 37  공급지역코드_400      13800 non-null  bool   \n",
                  " 38  공급지역코드_410      13800 non-null  bool   \n",
                  " 39  법정동코드_encoded   13800 non-null  int64  \n",
                  "dtypes: bool(24), float64(14), int64(2)\n",
                  "memory usage: 2.1 MB\n"
               ]
            }
         ],
         "source": [
            "X_train_transformed.info()"
         ]
      },
      {
         "cell_type": "code",
         "execution_count": 12,
         "metadata": {},
         "outputs": [
            {
               "name": "stdout",
               "output_type": "stream",
               "text": [
                  "RMSE: 11.967034707109335\n",
                  "R^2 Score: 0.6976762187474028\n"
               ]
            }
         ],
         "source": [
            "# TODO: 여러 모델 학습 및 하이퍼파라미터 최적화\n",
            "\n",
            "model = RandomForestRegressor(\n",
            "    n_estimators=100,\n",
            "    max_depth=None,\n",
            "    random_state=42\n",
            ")\n",
            "\n",
            "# 모델 학습\n",
            "model.fit(X_train_transformed, y_train)\n",
            "\n",
            "# 예측\n",
            "y_pred = model.predict(X_test_transformed)\n",
            "\n",
            "# 평가 (RMSE와 R^2 계산)\n",
            "rmse = np.sqrt(mean_squared_error(y_test, y_pred))\n",
            "r2 = r2_score(y_test, y_pred)\n",
            "\n",
            "print(\"RMSE:\", rmse) # 낮을수록 좋음\n",
            "print(\"R^2 Score:\", r2) # 1에 가까울수록 좋음"
         ]
      },
      {
         "cell_type": "markdown",
         "metadata": {},
         "source": [
            "### 모델 저장 "
         ]
      },
      {
         "cell_type": "code",
         "execution_count": 7,
         "metadata": {},
         "outputs": [
            {
               "data": {
                  "text/plain": [
                     "['./storage/trained_model/model_0.0.1.pkl']"
                  ]
               },
               "execution_count": 7,
               "metadata": {},
               "output_type": "execute_result"
            }
         ],
         "source": [
            "# 모델 저장 및 로드\n",
            "\n",
            "version = '0.0.1'\n",
            "\n",
            "# 모델 저장\n",
            "joblib.dump(model, f\"./storage/trained_model/model_{version}.pkl\")"
         ]
      },
      {
         "cell_type": "code",
         "execution_count": 8,
         "metadata": {},
         "outputs": [],
         "source": [
            "# 모델 로드\n",
            "loaded_model = joblib.load(\"./storage/trained_model/model_0.0.1.pkl\")\n",
            "\n",
            "# 예측\n",
            "# X_test = np.array([[1, 2]])\n",
            "# prediction = loaded_model.predict(X_test)\n",
            "# print(\"Prediction:\", prediction)"
         ]
      }
   ],
   "metadata": {
      "kernelspec": {
         "display_name": "project-env",
         "language": "python",
         "name": "python3"
      },
      "language_info": {
         "codemirror_mode": {
            "name": "ipython",
            "version": 3
         },
         "nbformat": 4,
         "nbformat_minor": 2
      }