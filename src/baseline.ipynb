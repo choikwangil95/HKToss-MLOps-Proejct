{
 "cells": [
  {
   "cell_type": "code",
   "execution_count": 1,
   "metadata": {},
   "outputs": [],
   "source": [
    "import pandas as pd\n",
    "import numpy as np\n",
    "\n",
    "from sklearn.impute import SimpleImputer\n",
    "from sklearn.preprocessing import LabelEncoder\n",
    "from sklearn.ensemble import RandomForestRegressor\n",
    "\n",
    "import joblib\n",
    "\n",
    "from data_preprocessing import pipeline"
   ]
  },
  {
   "cell_type": "markdown",
   "metadata": {},
   "source": [
    "### 데이터 전처리"
   ]
  },
  {
   "cell_type": "code",
   "execution_count": 2,
   "metadata": {},
   "outputs": [
    {
     "name": "stderr",
     "output_type": "stream",
     "text": [
      "C:\\Users\\user\\AppData\\Local\\Temp\\ipykernel_9848\\475702578.py:3: DtypeWarning: Columns (48) have mixed types. Specify dtype option on import or set low_memory=False.\n",
      "  df = pd.read_csv(file_path, encoding='cp949')\n",
      "c:\\Users\\user\\developments\\hk-project\\src\\data_preprocessing.py:136: DtypeWarning: Columns (36,48) have mixed types. Specify dtype option on import or set low_memory=False.\n",
      "  df_estate_price = pd.read_csv(\n"
     ]
    }
   ],
   "source": [
    "# 로우 데이터 불러오기\n",
    "file_path = \"./storage/raw_data/병합_청약매물_목록_정보_픽스.csv\"\n",
    "df = pd.read_csv(file_path, encoding='cp949')\n",
    "\n",
    "# 데이터 전처리\n",
    "preprocessing_pipeline =pipeline()\n",
    "df = preprocessing_pipeline.transform(df)\n",
    "\n",
    "# 파일 저장\n",
    "file_version = \"250317-01\"\n",
    "output_file = f\"./storage/train_data/train-{file_version}.csv\"\n",
    "df.to_csv(output_file, index=False, encoding='cp949')"
   ]
  },
  {
   "cell_type": "markdown",
   "metadata": {},
   "source": [
    "### 모델 학습 및 평가"
   ]
  },
  {
   "cell_type": "code",
   "execution_count": 67,
   "metadata": {},
   "outputs": [],
   "source": [
    "# 전처리된 데이터 가져오기\n",
    "\n",
    "file_version = \"250317-01\"\n",
    "file_path = f\"./storage/train_data/train-{file_version}.csv\"\n",
    "df = pd.read_csv(file_path, encoding='cp949')"
   ]
  },
  {
   "cell_type": "code",
   "execution_count": 14,
   "metadata": {},
   "outputs": [
    {
     "data": {
      "text/html": [
       "<div>\n",
       "<style scoped>\n",
       "    .dataframe tbody tr th:only-of-type {\n",
       "        vertical-align: middle;\n",
       "    }\n",
       "\n",
       "    .dataframe tbody tr th {\n",
       "        vertical-align: top;\n",
       "    }\n",
       "\n",
       "    .dataframe thead th {\n",
       "        text-align: right;\n",
       "    }\n",
       "</style>\n",
       "<table border=\"1\" class=\"dataframe\">\n",
       "  <thead>\n",
       "    <tr style=\"text-align: right;\">\n",
       "      <th></th>\n",
       "      <th>공고번호</th>\n",
       "      <th>주택명</th>\n",
       "      <th>공급지역코드</th>\n",
       "      <th>공급지역명</th>\n",
       "      <th>공급위치우편번호</th>\n",
       "      <th>공급위치</th>\n",
       "      <th>공급규모</th>\n",
       "      <th>모집공고일</th>\n",
       "      <th>청약접수시작일</th>\n",
       "      <th>청약접수종료일</th>\n",
       "      <th>...</th>\n",
       "      <th>위도</th>\n",
       "      <th>경도</th>\n",
       "      <th>행정동코드</th>\n",
       "      <th>법정동코드</th>\n",
       "      <th>시도</th>\n",
       "      <th>시군구</th>\n",
       "      <th>읍면동1</th>\n",
       "      <th>읍면동2</th>\n",
       "      <th>전용면적당 공급금액(최고가기준)</th>\n",
       "      <th>전용면적당 시세차익</th>\n",
       "    </tr>\n",
       "  </thead>\n",
       "  <tbody>\n",
       "    <tr>\n",
       "      <th>0</th>\n",
       "      <td>2025000043</td>\n",
       "      <td>부천 JY 포에시아</td>\n",
       "      <td>410</td>\n",
       "      <td>경기</td>\n",
       "      <td>14636</td>\n",
       "      <td>경기도 부천시 원미구 신흥로 20</td>\n",
       "      <td>55</td>\n",
       "      <td>2025-02-28</td>\n",
       "      <td>2025-03-10</td>\n",
       "      <td>2025-03-11</td>\n",
       "      <td>...</td>\n",
       "      <td>37.485377</td>\n",
       "      <td>126.776922</td>\n",
       "      <td>4.119252e+09</td>\n",
       "      <td>4.119210e+09</td>\n",
       "      <td>경기</td>\n",
       "      <td>부천시 원미구</td>\n",
       "      <td>심곡2동</td>\n",
       "      <td>심곡동</td>\n",
       "      <td>8.767442e+06</td>\n",
       "      <td>NaN</td>\n",
       "    </tr>\n",
       "    <tr>\n",
       "      <th>1</th>\n",
       "      <td>2025000043</td>\n",
       "      <td>부천 JY 포에시아</td>\n",
       "      <td>410</td>\n",
       "      <td>경기</td>\n",
       "      <td>14636</td>\n",
       "      <td>경기도 부천시 원미구 신흥로 20</td>\n",
       "      <td>55</td>\n",
       "      <td>2025-02-28</td>\n",
       "      <td>2025-03-10</td>\n",
       "      <td>2025-03-11</td>\n",
       "      <td>...</td>\n",
       "      <td>37.485377</td>\n",
       "      <td>126.776922</td>\n",
       "      <td>4.119252e+09</td>\n",
       "      <td>4.119210e+09</td>\n",
       "      <td>경기</td>\n",
       "      <td>부천시 원미구</td>\n",
       "      <td>심곡2동</td>\n",
       "      <td>심곡동</td>\n",
       "      <td>8.767442e+06</td>\n",
       "      <td>NaN</td>\n",
       "    </tr>\n",
       "    <tr>\n",
       "      <th>2</th>\n",
       "      <td>2025000043</td>\n",
       "      <td>부천 JY 포에시아</td>\n",
       "      <td>410</td>\n",
       "      <td>경기</td>\n",
       "      <td>14636</td>\n",
       "      <td>경기도 부천시 원미구 신흥로 20</td>\n",
       "      <td>55</td>\n",
       "      <td>2025-02-28</td>\n",
       "      <td>2025-03-10</td>\n",
       "      <td>2025-03-11</td>\n",
       "      <td>...</td>\n",
       "      <td>37.485377</td>\n",
       "      <td>126.776922</td>\n",
       "      <td>4.119252e+09</td>\n",
       "      <td>4.119210e+09</td>\n",
       "      <td>경기</td>\n",
       "      <td>부천시 원미구</td>\n",
       "      <td>심곡2동</td>\n",
       "      <td>심곡동</td>\n",
       "      <td>8.767442e+06</td>\n",
       "      <td>NaN</td>\n",
       "    </tr>\n",
       "    <tr>\n",
       "      <th>3</th>\n",
       "      <td>2025000043</td>\n",
       "      <td>부천 JY 포에시아</td>\n",
       "      <td>410</td>\n",
       "      <td>경기</td>\n",
       "      <td>14636</td>\n",
       "      <td>경기도 부천시 원미구 신흥로 20</td>\n",
       "      <td>55</td>\n",
       "      <td>2025-02-28</td>\n",
       "      <td>2025-03-10</td>\n",
       "      <td>2025-03-11</td>\n",
       "      <td>...</td>\n",
       "      <td>37.485377</td>\n",
       "      <td>126.776922</td>\n",
       "      <td>4.119252e+09</td>\n",
       "      <td>4.119210e+09</td>\n",
       "      <td>경기</td>\n",
       "      <td>부천시 원미구</td>\n",
       "      <td>심곡2동</td>\n",
       "      <td>심곡동</td>\n",
       "      <td>8.767442e+06</td>\n",
       "      <td>NaN</td>\n",
       "    </tr>\n",
       "    <tr>\n",
       "      <th>4</th>\n",
       "      <td>2025000043</td>\n",
       "      <td>부천 JY 포에시아</td>\n",
       "      <td>410</td>\n",
       "      <td>경기</td>\n",
       "      <td>14636</td>\n",
       "      <td>경기도 부천시 원미구 신흥로 20</td>\n",
       "      <td>55</td>\n",
       "      <td>2025-02-28</td>\n",
       "      <td>2025-03-10</td>\n",
       "      <td>2025-03-11</td>\n",
       "      <td>...</td>\n",
       "      <td>37.485377</td>\n",
       "      <td>126.776922</td>\n",
       "      <td>4.119252e+09</td>\n",
       "      <td>4.119210e+09</td>\n",
       "      <td>경기</td>\n",
       "      <td>부천시 원미구</td>\n",
       "      <td>심곡2동</td>\n",
       "      <td>심곡동</td>\n",
       "      <td>8.767442e+06</td>\n",
       "      <td>NaN</td>\n",
       "    </tr>\n",
       "  </tbody>\n",
       "</table>\n",
       "<p>5 rows × 41 columns</p>\n",
       "</div>"
      ],
      "text/plain": [
       "         공고번호         주택명  공급지역코드 공급지역명  공급위치우편번호                 공급위치  공급규모  \\\n",
       "0  2025000043  부천 JY 포에시아     410    경기     14636  경기도 부천시 원미구 신흥로 20     55   \n",
       "1  2025000043  부천 JY 포에시아     410    경기     14636  경기도 부천시 원미구 신흥로 20     55   \n",
       "2  2025000043  부천 JY 포에시아     410    경기     14636  경기도 부천시 원미구 신흥로 20     55   \n",
       "3  2025000043  부천 JY 포에시아     410    경기     14636  경기도 부천시 원미구 신흥로 20     55   \n",
       "4  2025000043  부천 JY 포에시아     410    경기     14636  경기도 부천시 원미구 신흥로 20     55   \n",
       "\n",
       "        모집공고일     청약접수시작일     청약접수종료일  ...         위도          경도  \\\n",
       "0  2025-02-28  2025-03-10  2025-03-11  ...  37.485377  126.776922   \n",
       "1  2025-02-28  2025-03-10  2025-03-11  ...  37.485377  126.776922   \n",
       "2  2025-02-28  2025-03-10  2025-03-11  ...  37.485377  126.776922   \n",
       "3  2025-02-28  2025-03-10  2025-03-11  ...  37.485377  126.776922   \n",
       "4  2025-02-28  2025-03-10  2025-03-11  ...  37.485377  126.776922   \n",
       "\n",
       "          행정동코드         법정동코드  시도      시군구  읍면동1 읍면동2 전용면적당 공급금액(최고가기준)  \\\n",
       "0  4.119252e+09  4.119210e+09  경기  부천시 원미구  심곡2동  심곡동      8.767442e+06   \n",
       "1  4.119252e+09  4.119210e+09  경기  부천시 원미구  심곡2동  심곡동      8.767442e+06   \n",
       "2  4.119252e+09  4.119210e+09  경기  부천시 원미구  심곡2동  심곡동      8.767442e+06   \n",
       "3  4.119252e+09  4.119210e+09  경기  부천시 원미구  심곡2동  심곡동      8.767442e+06   \n",
       "4  4.119252e+09  4.119210e+09  경기  부천시 원미구  심곡2동  심곡동      8.767442e+06   \n",
       "\n",
       "   전용면적당 시세차익  \n",
       "0         NaN  \n",
       "1         NaN  \n",
       "2         NaN  \n",
       "3         NaN  \n",
       "4         NaN  \n",
       "\n",
       "[5 rows x 41 columns]"
      ]
     },
     "execution_count": 14,
     "metadata": {},
     "output_type": "execute_result"
    }
   ],
   "source": [
    "df.head()"
   ]
  },
  {
   "cell_type": "code",
   "execution_count": 6,
   "metadata": {},
   "outputs": [],
   "source": [
    "# TODO: 여러 모델 학습 및 하이퍼파라미터 최적화\n",
    "\n",
    "model = RandomForestRegressor(\n",
    "    n_estimators=100,\n",
    "    max_depth=None,\n",
    "    random_state=42\n",
    ")\n",
    "\n",
    "# model.fit(x, y)"
   ]
  },
  {
   "cell_type": "markdown",
   "metadata": {},
   "source": [
    "### 모델 저장 "
   ]
  },
  {
   "cell_type": "code",
   "execution_count": 7,
   "metadata": {},
   "outputs": [
    {
     "data": {
      "text/plain": [
       "['./storage/trained_model/model_0.0.1.pkl']"
      ]
     },
     "execution_count": 7,
     "metadata": {},
     "output_type": "execute_result"
    }
   ],
   "source": [
    "# 모델 저장 및 로드\n",
    "\n",
    "version = '0.0.1'\n",
    "\n",
    "# 모델 저장\n",
    "joblib.dump(model, f\"./storage/trained_model/model_{version}.pkl\")"
   ]
  },
  {
   "cell_type": "markdown",
   "metadata": {},
   "source": [
    "### 모델 예측"
   ]
  },
  {
   "cell_type": "code",
   "execution_count": null,
   "metadata": {},
   "outputs": [],
   "source": [
    "# 모델 로드\n",
    "\n",
    "loaded_model = joblib.load(\"./storage/trained_model/model_0.0.1.pkl\")"
   ]
  },
  {
   "cell_type": "code",
   "execution_count": 15,
   "metadata": {},
   "outputs": [],
   "source": [
    "# 예측 데이터 로드\n",
    "# TODO"
   ]
  },
  {
   "cell_type": "code",
   "execution_count": 16,
   "metadata": {},
   "outputs": [],
   "source": [
    "# 예측\n",
    "# X_test = np.array([[1, 2]])\n",
    "# prediction = loaded_model.predict(X_test)\n",
    "# print(\"Prediction:\", prediction)"
   ]
  }
 ],
 "metadata": {
  "kernelspec": {
   "display_name": "venv",
   "language": "python",
   "name": "python3"
  },
  "language_info": {
   "codemirror_mode": {
    "name": "ipython",
    "version": 3
   },
   "file_extension": ".py",
   "mimetype": "text/x-python",
   "name": "python",
   "nbconvert_exporter": "python",
   "pygments_lexer": "ipython3",
   "version": "3.11.11"
  }
 },
 "nbformat": 4,
 "nbformat_minor": 2
}
