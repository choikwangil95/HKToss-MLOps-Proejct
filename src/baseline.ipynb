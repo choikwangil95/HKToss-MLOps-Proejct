{
   "cells": [
      {
         "cell_type": "code",
         "execution_count": 23,
         "metadata": {},
         "outputs": [],
         "source": [
            "import pandas as pd\n",
            "import numpy as np\n",
            "\n",
            "from sklearn.ensemble import RandomForestRegressor\n",
            "from sklearn.model_selection import train_test_split\n",
            "from sklearn.metrics import mean_squared_error, r2_score\n",
            "\n",
            "import joblib\n",
            "\n",
            "from data_preprocessing import pipeline\n",
            "from feature_preprocessing import pipeline2"
         ]
      },
      {
         "cell_type": "code",
         "execution_count": 24,
         "metadata": {},
         "outputs": [],
         "source": [
            "import matplotlib.pyplot as plt\n",
            "plt.rcParams['font.family'] ='Malgun Gothic'\n",
            "plt.rcParams['axes.unicode_minus'] =False"
         ]
      },
      {
         "cell_type": "code",
         "execution_count": 25,
         "metadata": {},
         "outputs": [
            {
               "name": "stderr",
               "output_type": "stream",
               "text": [
                  "C:\\Users\\user\\AppData\\Local\\Temp\\ipykernel_9148\\2514568592.py:4: DtypeWarning: Columns (48) have mixed types. Specify dtype option on import or set low_memory=False.\n",
                  "  df = pd.read_csv(file_path)\n",
                  "c:\\Users\\user\\mid_project\\src\\data_preprocessing.py:122: DtypeWarning: Columns (36,48) have mixed types. Specify dtype option on import or set low_memory=False.\n",
                  "  df_estate_price = pd.read_csv(\n"
               ]
            },
            {
               "name": "stdout",
               "output_type": "stream",
               "text": [
                  "<class 'pandas.core.frame.DataFrame'>\n",
                  "Index: 2981 entries, 44 to 17246\n",
                  "Data columns (total 28 columns):\n",
                  " #   Column        Non-Null Count  Dtype  \n",
                  "---  ------        --------------  -----  \n",
                  " 0   공급지역코드        2981 non-null   int64  \n",
                  " 1   공급규모          2981 non-null   int64  \n",
                  " 2   투기과열지구        2981 non-null   object \n",
                  " 3   조정대상지역        2981 non-null   object \n",
                  " 4   분양가상한제        2981 non-null   object \n",
                  " 5   정비사업          2981 non-null   object \n",
                  " 6   공공주택지구        2981 non-null   object \n",
                  " 7   대규모택지개발지구     2981 non-null   object \n",
                  " 8   수도권내민영공공주택지구  2981 non-null   object \n",
                  " 9   공급세대수         2981 non-null   int64  \n",
                  " 10  순위            2981 non-null   object \n",
                  " 11  거주지역          2981 non-null   object \n",
                  " 12  접수건수          2981 non-null   int64  \n",
                  " 13  경쟁률           2981 non-null   float64\n",
                  " 14  최저당첨가점        2981 non-null   float64\n",
                  " 15  최고당첨가점        2981 non-null   float64\n",
                  " 16  평균당첨가점        2981 non-null   float64\n",
                  " 17  토픽 1          2981 non-null   float64\n",
                  " 18  토픽 2          2981 non-null   float64\n",
                  " 19  토픽 3          2981 non-null   float64\n",
                  " 20  토픽 4          2981 non-null   float64\n",
                  " 21  토픽 5          2981 non-null   float64\n",
                  " 22  토픽 6          2981 non-null   float64\n",
                  " 23  토픽 7          2981 non-null   float64\n",
                  " 24  전용면적          2981 non-null   float64\n",
                  " 25  공급금액(최고가 기준)  2981 non-null   float64\n",
                  " 26  법정동코드         2981 non-null   float64\n",
                  " 27  전용면적당 시세차익    2595 non-null   float64\n",
                  "dtypes: float64(15), int64(4), object(9)\n",
                  "memory usage: 675.4+ KB\n"
               ]
            },
            {
               "name": "stderr",
               "output_type": "stream",
               "text": [
                  "c:\\Users\\user\\mid_project\\src\\data_preprocessing.py:223: SettingWithCopyWarning: \n",
                  "A value is trying to be set on a copy of a slice from a DataFrame\n",
                  "\n",
                  "See the caveats in the documentation: https://pandas.pydata.org/pandas-docs/stable/user_guide/indexing.html#returning-a-view-versus-a-copy\n",
                  "  df[['최저당첨가점','최고당첨가점', '평균당첨가점']].fillna(0, inplace=True)\n"
               ]
            }
         ],
         "source": [
            "# 로우 데이터 불러오기\n",
            "file_path = \"./storage/raw_data/병합_청약매물_목록_정보_픽스2.csv\"\n",
            "# df = pd.read_csv(file_path, encoding ='cp949')\n",
            "df = pd.read_csv(file_path)\n",
            "\n",
            "# 데이터 전처리````\n",
            "preprocessing_pipeline = pipeline()\n",
            "df = preprocessing_pipeline.transform(df)\n",
            "\n",
            "df.info()"
         ]
      },
      {
         "cell_type": "markdown",
         "metadata": {},
         "source": [
            "### 데이터 전처리"
         ]
      },
      {
         "cell_type": "code",
         "execution_count": null,
         "metadata": {},
         "outputs": [
            {
               "name": "stderr",
               "output_type": "stream",
               "text": [
                  "C:\\Users\\user\\AppData\\Local\\Temp\\ipykernel_9148\\2679166426.py:4: DtypeWarning: Columns (48) have mixed types. Specify dtype option on import or set low_memory=False.\n",
                  "  df = pd.read_csv(file_path)\n",
                  "c:\\Users\\user\\mid_project\\src\\data_preprocessing.py:122: DtypeWarning: Columns (36,48) have mixed types. Specify dtype option on import or set low_memory=False.\n",
                  "  df_estate_price = pd.read_csv(\n",
                  "c:\\Users\\user\\mid_project\\src\\data_preprocessing.py:223: SettingWithCopyWarning: \n",
                  "A value is trying to be set on a copy of a slice from a DataFrame\n",
                  "\n",
                  "See the caveats in the documentation: https://pandas.pydata.org/pandas-docs/stable/user_guide/indexing.html#returning-a-view-versus-a-copy\n",
                  "  df[['최저당첨가점','최고당첨가점', '평균당첨가점']].fillna(0, inplace=True)\n"
               ]
            }
         ],
         "source": [
            "# 로우 데이터 불러오기\n",
            "file_path = \"./storage/raw_data/병합_청약매물_목록_정보_픽스2.csv\"\n",
            "# df = pd.read_csv(file_path, encoding ='cp949')\n",
            "df = pd.read_csv(file_path)\n",
            "\n",
            "# 데이터 전처리````\n",
            "preprocessing_pipeline = pipeline()\n",
            "df = preprocessing_pipeline.transform(df)\n",
            "\n",
            "# 파일 저장\n",
            "file_version = \"8트_시세차익X\"\n",
            "output_file = f\"./storage/train_data/train-{file_version}.csv\"\n",
            "df.to_csv(output_file, index=False, encoding='cp949')"
         ]
      },
      {
         "cell_type": "code",
         "execution_count": 22,
         "metadata": {},
         "outputs": [
            {
               "name": "stdout",
               "output_type": "stream",
               "text": [
                  "<class 'pandas.core.frame.DataFrame'>\n",
                  "Index: 2981 entries, 44 to 17246\n",
                  "Data columns (total 28 columns):\n",
                  " #   Column        Non-Null Count  Dtype  \n",
                  "---  ------        --------------  -----  \n",
                  " 0   공급지역코드        2981 non-null   int64  \n",
                  " 1   공급규모          2981 non-null   int64  \n",
                  " 2   투기과열지구        2981 non-null   object \n",
                  " 3   조정대상지역        2981 non-null   object \n",
                  " 4   분양가상한제        2981 non-null   object \n",
                  " 5   정비사업          2981 non-null   object \n",
                  " 6   공공주택지구        2981 non-null   object \n",
                  " 7   대규모택지개발지구     2981 non-null   object \n",
                  " 8   수도권내민영공공주택지구  2981 non-null   object \n",
                  " 9   공급세대수         2981 non-null   int64  \n",
                  " 10  순위            2981 non-null   object \n",
                  " 11  거주지역          2981 non-null   object \n",
                  " 12  접수건수          2981 non-null   int64  \n",
                  " 13  경쟁률           2981 non-null   float64\n",
                  " 14  최저당첨가점        2981 non-null   float64\n",
                  " 15  최고당첨가점        2981 non-null   float64\n",
                  " 16  평균당첨가점        2981 non-null   float64\n",
                  " 17  토픽 1          2981 non-null   float64\n",
                  " 18  토픽 2          2981 non-null   float64\n",
                  " 19  토픽 3          2981 non-null   float64\n",
                  " 20  토픽 4          2981 non-null   float64\n",
                  " 21  토픽 5          2981 non-null   float64\n",
                  " 22  토픽 6          2981 non-null   float64\n",
                  " 23  토픽 7          2981 non-null   float64\n",
                  " 24  전용면적          2981 non-null   float64\n",
                  " 25  공급금액(최고가 기준)  2981 non-null   float64\n",
                  " 26  법정동코드         2981 non-null   float64\n",
                  " 27  전용면적당 시세차익    2595 non-null   float64\n",
                  "dtypes: float64(15), int64(4), object(9)\n",
                  "memory usage: 675.4+ KB\n"
               ]
            }
         ],
         "source": [
            "df.info()"
         ]
      },
      {
         "cell_type": "markdown",
         "metadata": {},
         "source": [
            "### 모델 학습 및 평가"
         ]
      },
      {
         "cell_type": "code",
         "execution_count": 14,
         "metadata": {},
         "outputs": [],
         "source": [
            "# 전처리된 데이터 가져오기\n",
            "\n",
            "# file_version = \"250317-01\"\n",
            "# file_path = f\"./storage/train_data/t``ain-{file_version}.csv\"\n",
            "# df = pd.read_csv(file_path, encoding='cp949')\n",
            "\n",
            "df = pd.read_csv(\"./storage/train_data/train-250318-03-삭제예정.csv\", encoding = 'cp949')\n",
            "df.drop([\"최고당첨가점\", \"평균당첨가점\"], axis=1, inplace=True)"
         ]
      },
      {
         "cell_type": "code",
         "execution_count": 15,
         "metadata": {},
         "outputs": [],
         "source": [
            "X = df.drop(columns=[\"최저당첨가점\"])\n",
            "Y = df[\"최저당첨가점\"]\n",
            "\n",
            "X_train, X_test, y_train, y_test = train_test_split(\n",
            "    X,  # 타겟(최저당첨가점) 제외\n",
            "    Y,  # 타겟\n",
            "    test_size=0.2,\n",
            "    random_state=42,\n",
            "    stratify=df[\"투기과열지구\"]  \n",
            ")\n",
            "\n",
            "# 분양가상한제, 투기과열지구, 조정대상지역 -> 고려해보기염"
         ]
      },
      {
         "cell_type": "code",
         "execution_count": 16,
         "metadata": {},
         "outputs": [
            {
               "name": "stdout",
               "output_type": "stream",
               "text": [
                  "⚠️ Warning: 새로운 법정동코드 발견 {'4137011200.0', '1156011000.0', '4148025327.0', '4125010300.0', '4183031023.0', '1121510400.0', '4146510300.0'}. 'unknown'으로 대체합니다.\n"
               ]
            },
            {
               "name": "stderr",
               "output_type": "stream",
               "text": [
                  "c:\\Users\\user\\anaconda3\\envs\\project-env\\Lib\\site-packages\\sklearn\\pipeline.py:62: FutureWarning: This Pipeline instance is not fitted yet. Call 'fit' with appropriate arguments before using other methods such as transform, predict, etc. This will raise an error in 1.8 instead of the current warning.\n",
                  "  warnings.warn(\n",
                  "c:\\Users\\user\\anaconda3\\envs\\project-env\\Lib\\site-packages\\sklearn\\pipeline.py:62: FutureWarning: This Pipeline instance is not fitted yet. Call 'fit' with appropriate arguments before using other methods such as transform, predict, etc. This will raise an error in 1.8 instead of the current warning.\n",
                  "  warnings.warn(\n"
               ]
            }
         ],
         "source": [
            "feature_pipeline = pipeline2()\n",
            "\n",
            "# 학습 데이터(X_train)에 fit\n",
            "feature_pipeline.fit(X_train)\n",
            "\n",
            "# 학습 데이터(X_train)를 변환\n",
            "X_train_transformed = feature_pipeline.transform(X_train)\n",
            "\n",
            "# 테스트 데이터(X_test)를 변환\n",
            "X_test_transformed = feature_pipeline.transform(X_test)"
         ]
      },
      {
         "cell_type": "code",
         "execution_count": 17,
         "metadata": {},
         "outputs": [
            {
               "name": "stdout",
               "output_type": "stream",
               "text": [
                  "<class 'pandas.core.frame.DataFrame'>\n",
                  "Index: 2384 entries, 2881 to 1818\n",
                  "Data columns (total 25 columns):\n",
                  " #   Column         Non-Null Count  Dtype  \n",
                  "---  ------         --------------  -----  \n",
                  " 0   공급지역코드         2384 non-null   int64  \n",
                  " 1   공급규모           2384 non-null   float64\n",
                  " 2   투기과열지구         2384 non-null   object \n",
                  " 3   조정대상지역         2384 non-null   object \n",
                  " 4   분양가상한제         2384 non-null   object \n",
                  " 5   정비사업           2384 non-null   object \n",
                  " 6   공공주택지구         2384 non-null   object \n",
                  " 7   대규모택지개발지구      2384 non-null   object \n",
                  " 8   수도권내민영공공주택지구   2384 non-null   object \n",
                  " 9   공급세대수          2384 non-null   float64\n",
                  " 10  순위             2384 non-null   object \n",
                  " 11  거주지역           2384 non-null   object \n",
                  " 12  접수건수           2384 non-null   float64\n",
                  " 13  경쟁률            2384 non-null   float64\n",
                  " 14  토픽 1           2384 non-null   float64\n",
                  " 15  토픽 2           2384 non-null   float64\n",
                  " 16  토픽 3           2384 non-null   float64\n",
                  " 17  토픽 4           2384 non-null   float64\n",
                  " 18  토픽 5           2384 non-null   float64\n",
                  " 19  토픽 6           2384 non-null   float64\n",
                  " 20  토픽 7           2384 non-null   float64\n",
                  " 21  전용면적           2384 non-null   float64\n",
                  " 22  공급금액(최고가 기준)   2384 non-null   float64\n",
                  " 23  전용면적당 시세차익     2075 non-null   float64\n",
                  " 24  법정동코드_encoded  2384 non-null   int64  \n",
                  "dtypes: float64(14), int64(2), object(9)\n",
                  "memory usage: 484.2+ KB\n"
               ]
            }
         ],
         "source": [
            "X_train_transformed.info()"
         ]
      },
      {
         "cell_type": "code",
         "execution_count": 18,
         "metadata": {},
         "outputs": [],
         "source": [
            "from sklearn.model_selection import GridSearchCV\n",
            "\n",
            "# XGBoost\n",
            "import xgboost as xgb\n",
            "from xgboost import XGBRegressor\n",
            "\n",
            "# LightGBM\n",
            "import lightgbm as lgb\n",
            "from lightgbm import LGBMRegressor\n",
            "\n",
            "# AdaBoost\n",
            "from sklearn.ensemble import AdaBoostRegressor\n",
            "\n",
            "# Random Forest\n",
            "from sklearn.ensemble import RandomForestRegressor"
         ]
      },
      {
         "cell_type": "code",
         "execution_count": null,
         "metadata": {},
         "outputs": [
            {
               "name": "stdout",
               "output_type": "stream",
               "text": [
                  "RMSE: 2.7122038854495996\n",
                  "R^2 Score: 0.9671236072463428\n"
               ]
            }
         ],
         "source": [
            "# model = RandomForestRegressor(\n",
            "#     n_estimators=100,\n",
            "#     max_depth=None,\n",
            "#     random_state=42\n",
            "# )"
         ]
      },
      {
         "cell_type": "markdown",
         "metadata": {},
         "source": [
            "XGBoost"
         ]
      },
      {
         "cell_type": "code",
         "execution_count": null,
         "metadata": {},
         "outputs": [
            {
               "ename": "ValueError",
               "evalue": "\nAll the 810 fits failed.\nIt is very likely that your model is misconfigured.\nYou can try to debug the error by setting error_score='raise'.\n\nBelow are more details about the failures:\n--------------------------------------------------------------------------------\n810 fits failed with the following error:\nTraceback (most recent call last):\n  File \"c:\\Users\\user\\anaconda3\\envs\\project-env\\Lib\\site-packages\\sklearn\\model_selection\\_validation.py\", line 866, in _fit_and_score\n    estimator.fit(X_train, y_train, **fit_params)\n  File \"c:\\Users\\user\\anaconda3\\envs\\project-env\\Lib\\site-packages\\xgboost\\core.py\", line 726, in inner_f\n    return func(**kwargs)\n           ^^^^^^^^^^^^^^\n  File \"c:\\Users\\user\\anaconda3\\envs\\project-env\\Lib\\site-packages\\xgboost\\sklearn.py\", line 1143, in fit\n    train_dmatrix, evals = _wrap_evaluation_matrices(\n                           ^^^^^^^^^^^^^^^^^^^^^^^^^^\n  File \"c:\\Users\\user\\anaconda3\\envs\\project-env\\Lib\\site-packages\\xgboost\\sklearn.py\", line 603, in _wrap_evaluation_matrices\n    train_dmatrix = create_dmatrix(\n                    ^^^^^^^^^^^^^^^\n  File \"c:\\Users\\user\\anaconda3\\envs\\project-env\\Lib\\site-packages\\xgboost\\sklearn.py\", line 1065, in _create_dmatrix\n    return QuantileDMatrix(\n           ^^^^^^^^^^^^^^^^\n  File \"c:\\Users\\user\\anaconda3\\envs\\project-env\\Lib\\site-packages\\xgboost\\core.py\", line 726, in inner_f\n    return func(**kwargs)\n           ^^^^^^^^^^^^^^\n  File \"c:\\Users\\user\\anaconda3\\envs\\project-env\\Lib\\site-packages\\xgboost\\core.py\", line 1573, in __init__\n    self._init(\n  File \"c:\\Users\\user\\anaconda3\\envs\\project-env\\Lib\\site-packages\\xgboost\\core.py\", line 1632, in _init\n    it.reraise()\n  File \"c:\\Users\\user\\anaconda3\\envs\\project-env\\Lib\\site-packages\\xgboost\\core.py\", line 569, in reraise\n    raise exc  # pylint: disable=raising-bad-type\n    ^^^^^^^^^\n  File \"c:\\Users\\user\\anaconda3\\envs\\project-env\\Lib\\site-packages\\xgboost\\core.py\", line 550, in _handle_exception\n    return fn()\n           ^^^^\n  File \"c:\\Users\\user\\anaconda3\\envs\\project-env\\Lib\\site-packages\\xgboost\\core.py\", line 637, in <lambda>\n    return self._handle_exception(lambda: self.next(input_data), 0)\n                                          ^^^^^^^^^^^^^^^^^^^^^\n  File \"c:\\Users\\user\\anaconda3\\envs\\project-env\\Lib\\site-packages\\xgboost\\data.py\", line 1402, in next\n    input_data(**self.kwargs)\n  File \"c:\\Users\\user\\anaconda3\\envs\\project-env\\Lib\\site-packages\\xgboost\\core.py\", line 726, in inner_f\n    return func(**kwargs)\n           ^^^^^^^^^^^^^^\n  File \"c:\\Users\\user\\anaconda3\\envs\\project-env\\Lib\\site-packages\\xgboost\\core.py\", line 617, in input_data\n    new, cat_codes, feature_names, feature_types = _proxy_transform(\n                                                   ^^^^^^^^^^^^^^^^^\n  File \"c:\\Users\\user\\anaconda3\\envs\\project-env\\Lib\\site-packages\\xgboost\\data.py\", line 1447, in _proxy_transform\n    df, feature_names, feature_types = _transform_pandas_df(\n                                       ^^^^^^^^^^^^^^^^^^^^^\n  File \"c:\\Users\\user\\anaconda3\\envs\\project-env\\Lib\\site-packages\\xgboost\\data.py\", line 603, in _transform_pandas_df\n    pandas_check_dtypes(data, enable_categorical)\n  File \"c:\\Users\\user\\anaconda3\\envs\\project-env\\Lib\\site-packages\\xgboost\\data.py\", line 569, in pandas_check_dtypes\n    _invalid_dataframe_dtype(data)\n  File \"c:\\Users\\user\\anaconda3\\envs\\project-env\\Lib\\site-packages\\xgboost\\data.py\", line 356, in _invalid_dataframe_dtype\n    raise ValueError(msg)\nValueError: DataFrame.dtypes for data must be int, float, bool or category. When categorical type is supplied, the experimental DMatrix parameter`enable_categorical` must be set to `True`.  Invalid columns:투기과열지구: object, 조정대상지역: object, 분양가상한제: object, 정비사업: object, 공공주택지구: object, 대규모택지개발지구: object, 수도권내민영공공주택지구: object, 순위: object, 거주지역: object\n",
               "output_type": "error",
               "traceback": [
                  "\u001b[1;31m---------------------------------------------------------------------------\u001b[0m",
                  "\u001b[1;31mValueError\u001b[0m                                Traceback (most recent call last)",
                  "Cell \u001b[1;32mIn[19], line 10\u001b[0m\n\u001b[0;32m      2\u001b[0m xgb_param_grid \u001b[38;5;241m=\u001b[39m {\n\u001b[0;32m      3\u001b[0m     \u001b[38;5;124m'\u001b[39m\u001b[38;5;124mn_estimators\u001b[39m\u001b[38;5;124m'\u001b[39m: [\u001b[38;5;241m100\u001b[39m, \u001b[38;5;241m500\u001b[39m, \u001b[38;5;241m1000\u001b[39m],\n\u001b[0;32m      4\u001b[0m     \u001b[38;5;124m'\u001b[39m\u001b[38;5;124mmax_depth\u001b[39m\u001b[38;5;124m'\u001b[39m: [\u001b[38;5;241m10\u001b[39m, \u001b[38;5;241m30\u001b[39m, \u001b[38;5;241m50\u001b[39m],\n\u001b[1;32m   (...)\u001b[0m\n\u001b[0;32m      7\u001b[0m     \u001b[38;5;124m'\u001b[39m\u001b[38;5;124mmin_child_weight\u001b[39m\u001b[38;5;124m'\u001b[39m: [\u001b[38;5;241m8\u001b[39m, \u001b[38;5;241m12\u001b[39m, \u001b[38;5;241m18\u001b[39m]       \u001b[38;5;66;03m# min_samples_leaf 대체\u001b[39;00m\n\u001b[0;32m      8\u001b[0m }\n\u001b[0;32m      9\u001b[0m xgb_grid_search \u001b[38;5;241m=\u001b[39m GridSearchCV(xgb_model, xgb_param_grid, cv\u001b[38;5;241m=\u001b[39m\u001b[38;5;241m5\u001b[39m)\n\u001b[1;32m---> 10\u001b[0m xgb_grid_search\u001b[38;5;241m.\u001b[39mfit(X_train_transformed, y_train)\n",
                  "File \u001b[1;32mc:\\Users\\user\\anaconda3\\envs\\project-env\\Lib\\site-packages\\sklearn\\base.py:1389\u001b[0m, in \u001b[0;36m_fit_context.<locals>.decorator.<locals>.wrapper\u001b[1;34m(estimator, *args, **kwargs)\u001b[0m\n\u001b[0;32m   1382\u001b[0m     estimator\u001b[38;5;241m.\u001b[39m_validate_params()\n\u001b[0;32m   1384\u001b[0m \u001b[38;5;28;01mwith\u001b[39;00m config_context(\n\u001b[0;32m   1385\u001b[0m     skip_parameter_validation\u001b[38;5;241m=\u001b[39m(\n\u001b[0;32m   1386\u001b[0m         prefer_skip_nested_validation \u001b[38;5;129;01mor\u001b[39;00m global_skip_validation\n\u001b[0;32m   1387\u001b[0m     )\n\u001b[0;32m   1388\u001b[0m ):\n\u001b[1;32m-> 1389\u001b[0m     \u001b[38;5;28;01mreturn\u001b[39;00m fit_method(estimator, \u001b[38;5;241m*\u001b[39margs, \u001b[38;5;241m*\u001b[39m\u001b[38;5;241m*\u001b[39mkwargs)\n",
                  "File \u001b[1;32mc:\\Users\\user\\anaconda3\\envs\\project-env\\Lib\\site-packages\\sklearn\\model_selection\\_search.py:1024\u001b[0m, in \u001b[0;36mBaseSearchCV.fit\u001b[1;34m(self, X, y, **params)\u001b[0m\n\u001b[0;32m   1018\u001b[0m     results \u001b[38;5;241m=\u001b[39m \u001b[38;5;28mself\u001b[39m\u001b[38;5;241m.\u001b[39m_format_results(\n\u001b[0;32m   1019\u001b[0m         all_candidate_params, n_splits, all_out, all_more_results\n\u001b[0;32m   1020\u001b[0m     )\n\u001b[0;32m   1022\u001b[0m     \u001b[38;5;28;01mreturn\u001b[39;00m results\n\u001b[1;32m-> 1024\u001b[0m \u001b[38;5;28mself\u001b[39m\u001b[38;5;241m.\u001b[39m_run_search(evaluate_candidates)\n\u001b[0;32m   1026\u001b[0m \u001b[38;5;66;03m# multimetric is determined here because in the case of a callable\u001b[39;00m\n\u001b[0;32m   1027\u001b[0m \u001b[38;5;66;03m# self.scoring the return type is only known after calling\u001b[39;00m\n\u001b[0;32m   1028\u001b[0m first_test_score \u001b[38;5;241m=\u001b[39m all_out[\u001b[38;5;241m0\u001b[39m][\u001b[38;5;124m\"\u001b[39m\u001b[38;5;124mtest_scores\u001b[39m\u001b[38;5;124m\"\u001b[39m]\n",
                  "File \u001b[1;32mc:\\Users\\user\\anaconda3\\envs\\project-env\\Lib\\site-packages\\sklearn\\model_selection\\_search.py:1571\u001b[0m, in \u001b[0;36mGridSearchCV._run_search\u001b[1;34m(self, evaluate_candidates)\u001b[0m\n\u001b[0;32m   1569\u001b[0m \u001b[38;5;28;01mdef\u001b[39;00m \u001b[38;5;21m_run_search\u001b[39m(\u001b[38;5;28mself\u001b[39m, evaluate_candidates):\n\u001b[0;32m   1570\u001b[0m \u001b[38;5;250m    \u001b[39m\u001b[38;5;124;03m\"\"\"Search all candidates in param_grid\"\"\"\u001b[39;00m\n\u001b[1;32m-> 1571\u001b[0m     evaluate_candidates(ParameterGrid(\u001b[38;5;28mself\u001b[39m\u001b[38;5;241m.\u001b[39mparam_grid))\n",
                  "File \u001b[1;32mc:\\Users\\user\\anaconda3\\envs\\project-env\\Lib\\site-packages\\sklearn\\model_selection\\_search.py:1001\u001b[0m, in \u001b[0;36mBaseSearchCV.fit.<locals>.evaluate_candidates\u001b[1;34m(candidate_params, cv, more_results)\u001b[0m\n\u001b[0;32m    994\u001b[0m \u001b[38;5;28;01melif\u001b[39;00m \u001b[38;5;28mlen\u001b[39m(out) \u001b[38;5;241m!=\u001b[39m n_candidates \u001b[38;5;241m*\u001b[39m n_splits:\n\u001b[0;32m    995\u001b[0m     \u001b[38;5;28;01mraise\u001b[39;00m \u001b[38;5;167;01mValueError\u001b[39;00m(\n\u001b[0;32m    996\u001b[0m         \u001b[38;5;124m\"\u001b[39m\u001b[38;5;124mcv.split and cv.get_n_splits returned \u001b[39m\u001b[38;5;124m\"\u001b[39m\n\u001b[0;32m    997\u001b[0m         \u001b[38;5;124m\"\u001b[39m\u001b[38;5;124minconsistent results. Expected \u001b[39m\u001b[38;5;132;01m{}\u001b[39;00m\u001b[38;5;124m \u001b[39m\u001b[38;5;124m\"\u001b[39m\n\u001b[0;32m    998\u001b[0m         \u001b[38;5;124m\"\u001b[39m\u001b[38;5;124msplits, got \u001b[39m\u001b[38;5;132;01m{}\u001b[39;00m\u001b[38;5;124m\"\u001b[39m\u001b[38;5;241m.\u001b[39mformat(n_splits, \u001b[38;5;28mlen\u001b[39m(out) \u001b[38;5;241m/\u001b[39m\u001b[38;5;241m/\u001b[39m n_candidates)\n\u001b[0;32m    999\u001b[0m     )\n\u001b[1;32m-> 1001\u001b[0m _warn_or_raise_about_fit_failures(out, \u001b[38;5;28mself\u001b[39m\u001b[38;5;241m.\u001b[39merror_score)\n\u001b[0;32m   1003\u001b[0m \u001b[38;5;66;03m# For callable self.scoring, the return type is only know after\u001b[39;00m\n\u001b[0;32m   1004\u001b[0m \u001b[38;5;66;03m# calling. If the return type is a dictionary, the error scores\u001b[39;00m\n\u001b[0;32m   1005\u001b[0m \u001b[38;5;66;03m# can now be inserted with the correct key. The type checking\u001b[39;00m\n\u001b[0;32m   1006\u001b[0m \u001b[38;5;66;03m# of out will be done in `_insert_error_scores`.\u001b[39;00m\n\u001b[0;32m   1007\u001b[0m \u001b[38;5;28;01mif\u001b[39;00m \u001b[38;5;28mcallable\u001b[39m(\u001b[38;5;28mself\u001b[39m\u001b[38;5;241m.\u001b[39mscoring):\n",
                  "File \u001b[1;32mc:\\Users\\user\\anaconda3\\envs\\project-env\\Lib\\site-packages\\sklearn\\model_selection\\_validation.py:517\u001b[0m, in \u001b[0;36m_warn_or_raise_about_fit_failures\u001b[1;34m(results, error_score)\u001b[0m\n\u001b[0;32m    510\u001b[0m \u001b[38;5;28;01mif\u001b[39;00m num_failed_fits \u001b[38;5;241m==\u001b[39m num_fits:\n\u001b[0;32m    511\u001b[0m     all_fits_failed_message \u001b[38;5;241m=\u001b[39m (\n\u001b[0;32m    512\u001b[0m         \u001b[38;5;124mf\u001b[39m\u001b[38;5;124m\"\u001b[39m\u001b[38;5;130;01m\\n\u001b[39;00m\u001b[38;5;124mAll the \u001b[39m\u001b[38;5;132;01m{\u001b[39;00mnum_fits\u001b[38;5;132;01m}\u001b[39;00m\u001b[38;5;124m fits failed.\u001b[39m\u001b[38;5;130;01m\\n\u001b[39;00m\u001b[38;5;124m\"\u001b[39m\n\u001b[0;32m    513\u001b[0m         \u001b[38;5;124m\"\u001b[39m\u001b[38;5;124mIt is very likely that your model is misconfigured.\u001b[39m\u001b[38;5;130;01m\\n\u001b[39;00m\u001b[38;5;124m\"\u001b[39m\n\u001b[0;32m    514\u001b[0m         \u001b[38;5;124m\"\u001b[39m\u001b[38;5;124mYou can try to debug the error by setting error_score=\u001b[39m\u001b[38;5;124m'\u001b[39m\u001b[38;5;124mraise\u001b[39m\u001b[38;5;124m'\u001b[39m\u001b[38;5;124m.\u001b[39m\u001b[38;5;130;01m\\n\u001b[39;00m\u001b[38;5;130;01m\\n\u001b[39;00m\u001b[38;5;124m\"\u001b[39m\n\u001b[0;32m    515\u001b[0m         \u001b[38;5;124mf\u001b[39m\u001b[38;5;124m\"\u001b[39m\u001b[38;5;124mBelow are more details about the failures:\u001b[39m\u001b[38;5;130;01m\\n\u001b[39;00m\u001b[38;5;132;01m{\u001b[39;00mfit_errors_summary\u001b[38;5;132;01m}\u001b[39;00m\u001b[38;5;124m\"\u001b[39m\n\u001b[0;32m    516\u001b[0m     )\n\u001b[1;32m--> 517\u001b[0m     \u001b[38;5;28;01mraise\u001b[39;00m \u001b[38;5;167;01mValueError\u001b[39;00m(all_fits_failed_message)\n\u001b[0;32m    519\u001b[0m \u001b[38;5;28;01melse\u001b[39;00m:\n\u001b[0;32m    520\u001b[0m     some_fits_failed_message \u001b[38;5;241m=\u001b[39m (\n\u001b[0;32m    521\u001b[0m         \u001b[38;5;124mf\u001b[39m\u001b[38;5;124m\"\u001b[39m\u001b[38;5;130;01m\\n\u001b[39;00m\u001b[38;5;132;01m{\u001b[39;00mnum_failed_fits\u001b[38;5;132;01m}\u001b[39;00m\u001b[38;5;124m fits failed out of a total of \u001b[39m\u001b[38;5;132;01m{\u001b[39;00mnum_fits\u001b[38;5;132;01m}\u001b[39;00m\u001b[38;5;124m.\u001b[39m\u001b[38;5;130;01m\\n\u001b[39;00m\u001b[38;5;124m\"\u001b[39m\n\u001b[0;32m    522\u001b[0m         \u001b[38;5;124m\"\u001b[39m\u001b[38;5;124mThe score on these train-test partitions for these parameters\u001b[39m\u001b[38;5;124m\"\u001b[39m\n\u001b[1;32m   (...)\u001b[0m\n\u001b[0;32m    526\u001b[0m         \u001b[38;5;124mf\u001b[39m\u001b[38;5;124m\"\u001b[39m\u001b[38;5;124mBelow are more details about the failures:\u001b[39m\u001b[38;5;130;01m\\n\u001b[39;00m\u001b[38;5;132;01m{\u001b[39;00mfit_errors_summary\u001b[38;5;132;01m}\u001b[39;00m\u001b[38;5;124m\"\u001b[39m\n\u001b[0;32m    527\u001b[0m     )\n",
                  "\u001b[1;31mValueError\u001b[0m: \nAll the 810 fits failed.\nIt is very likely that your model is misconfigured.\nYou can try to debug the error by setting error_score='raise'.\n\nBelow are more details about the failures:\n--------------------------------------------------------------------------------\n810 fits failed with the following error:\nTraceback (most recent call last):\n  File \"c:\\Users\\user\\anaconda3\\envs\\project-env\\Lib\\site-packages\\sklearn\\model_selection\\_validation.py\", line 866, in _fit_and_score\n    estimator.fit(X_train, y_train, **fit_params)\n  File \"c:\\Users\\user\\anaconda3\\envs\\project-env\\Lib\\site-packages\\xgboost\\core.py\", line 726, in inner_f\n    return func(**kwargs)\n           ^^^^^^^^^^^^^^\n  File \"c:\\Users\\user\\anaconda3\\envs\\project-env\\Lib\\site-packages\\xgboost\\sklearn.py\", line 1143, in fit\n    train_dmatrix, evals = _wrap_evaluation_matrices(\n                           ^^^^^^^^^^^^^^^^^^^^^^^^^^\n  File \"c:\\Users\\user\\anaconda3\\envs\\project-env\\Lib\\site-packages\\xgboost\\sklearn.py\", line 603, in _wrap_evaluation_matrices\n    train_dmatrix = create_dmatrix(\n                    ^^^^^^^^^^^^^^^\n  File \"c:\\Users\\user\\anaconda3\\envs\\project-env\\Lib\\site-packages\\xgboost\\sklearn.py\", line 1065, in _create_dmatrix\n    return QuantileDMatrix(\n           ^^^^^^^^^^^^^^^^\n  File \"c:\\Users\\user\\anaconda3\\envs\\project-env\\Lib\\site-packages\\xgboost\\core.py\", line 726, in inner_f\n    return func(**kwargs)\n           ^^^^^^^^^^^^^^\n  File \"c:\\Users\\user\\anaconda3\\envs\\project-env\\Lib\\site-packages\\xgboost\\core.py\", line 1573, in __init__\n    self._init(\n  File \"c:\\Users\\user\\anaconda3\\envs\\project-env\\Lib\\site-packages\\xgboost\\core.py\", line 1632, in _init\n    it.reraise()\n  File \"c:\\Users\\user\\anaconda3\\envs\\project-env\\Lib\\site-packages\\xgboost\\core.py\", line 569, in reraise\n    raise exc  # pylint: disable=raising-bad-type\n    ^^^^^^^^^\n  File \"c:\\Users\\user\\anaconda3\\envs\\project-env\\Lib\\site-packages\\xgboost\\core.py\", line 550, in _handle_exception\n    return fn()\n           ^^^^\n  File \"c:\\Users\\user\\anaconda3\\envs\\project-env\\Lib\\site-packages\\xgboost\\core.py\", line 637, in <lambda>\n    return self._handle_exception(lambda: self.next(input_data), 0)\n                                          ^^^^^^^^^^^^^^^^^^^^^\n  File \"c:\\Users\\user\\anaconda3\\envs\\project-env\\Lib\\site-packages\\xgboost\\data.py\", line 1402, in next\n    input_data(**self.kwargs)\n  File \"c:\\Users\\user\\anaconda3\\envs\\project-env\\Lib\\site-packages\\xgboost\\core.py\", line 726, in inner_f\n    return func(**kwargs)\n           ^^^^^^^^^^^^^^\n  File \"c:\\Users\\user\\anaconda3\\envs\\project-env\\Lib\\site-packages\\xgboost\\core.py\", line 617, in input_data\n    new, cat_codes, feature_names, feature_types = _proxy_transform(\n                                                   ^^^^^^^^^^^^^^^^^\n  File \"c:\\Users\\user\\anaconda3\\envs\\project-env\\Lib\\site-packages\\xgboost\\data.py\", line 1447, in _proxy_transform\n    df, feature_names, feature_types = _transform_pandas_df(\n                                       ^^^^^^^^^^^^^^^^^^^^^\n  File \"c:\\Users\\user\\anaconda3\\envs\\project-env\\Lib\\site-packages\\xgboost\\data.py\", line 603, in _transform_pandas_df\n    pandas_check_dtypes(data, enable_categorical)\n  File \"c:\\Users\\user\\anaconda3\\envs\\project-env\\Lib\\site-packages\\xgboost\\data.py\", line 569, in pandas_check_dtypes\n    _invalid_dataframe_dtype(data)\n  File \"c:\\Users\\user\\anaconda3\\envs\\project-env\\Lib\\site-packages\\xgboost\\data.py\", line 356, in _invalid_dataframe_dtype\n    raise ValueError(msg)\nValueError: DataFrame.dtypes for data must be int, float, bool or category. When categorical type is supplied, the experimental DMatrix parameter`enable_categorical` must be set to `True`.  Invalid columns:투기과열지구: object, 조정대상지역: object, 분양가상한제: object, 정비사업: object, 공공주택지구: object, 대규모택지개발지구: object, 수도권내민영공공주택지구: object, 순위: object, 거주지역: object\n"
               ]
            }
         ],
         "source": [
            "xgb_model = XGBRegressor()\n",
            "xgb_param_grid = {\n",
            "    'n_estimators': [100, 500, 1000],\n",
            "    'max_depth': [10, 30, 50],\n",
            "    'learning_rate': [0.1, 0.5],\n",
            "    'colsample_bytree': [0.6, 0.8, 1.0],  # max_features 대체\n",
            "    'min_child_weight': [8, 12, 18]       # min_samples_leaf 대체\n",
            "}\n",
            "xgb_grid_search = GridSearchCV(xgb_model, xgb_param_grid, cv=5)\n",
            "xgb_grid_search.fit(X_train_transformed, y_train)\n"
         ]
      },
      {
         "cell_type": "markdown",
         "metadata": {},
         "source": [
            "LightGBM"
         ]
      },
      {
         "cell_type": "code",
         "execution_count": 12,
         "metadata": {},
         "outputs": [
            {
               "ename": "ValueError",
               "evalue": "\nAll the 1620 fits failed.\nIt is very likely that your model is misconfigured.\nYou can try to debug the error by setting error_score='raise'.\n\nBelow are more details about the failures:\n--------------------------------------------------------------------------------\n1620 fits failed with the following error:\nTraceback (most recent call last):\n  File \"c:\\Users\\user\\anaconda3\\envs\\project-env\\Lib\\site-packages\\sklearn\\model_selection\\_validation.py\", line 866, in _fit_and_score\n    estimator.fit(X_train, y_train, **fit_params)\n  File \"c:\\Users\\user\\anaconda3\\envs\\project-env\\Lib\\site-packages\\lightgbm\\sklearn.py\", line 1398, in fit\n    super().fit(\n  File \"c:\\Users\\user\\anaconda3\\envs\\project-env\\Lib\\site-packages\\lightgbm\\sklearn.py\", line 1049, in fit\n    self._Booster = train(\n                    ^^^^^^\n  File \"c:\\Users\\user\\anaconda3\\envs\\project-env\\Lib\\site-packages\\lightgbm\\engine.py\", line 297, in train\n    booster = Booster(params=params, train_set=train_set)\n              ^^^^^^^^^^^^^^^^^^^^^^^^^^^^^^^^^^^^^^^^^^^\n  File \"c:\\Users\\user\\anaconda3\\envs\\project-env\\Lib\\site-packages\\lightgbm\\basic.py\", line 3656, in __init__\n    train_set.construct()\n  File \"c:\\Users\\user\\anaconda3\\envs\\project-env\\Lib\\site-packages\\lightgbm\\basic.py\", line 2590, in construct\n    self._lazy_init(\n  File \"c:\\Users\\user\\anaconda3\\envs\\project-env\\Lib\\site-packages\\lightgbm\\basic.py\", line 2123, in _lazy_init\n    data, feature_name, categorical_feature, self.pandas_categorical = _data_from_pandas(\n                                                                       ^^^^^^^^^^^^^^^^^^\n  File \"c:\\Users\\user\\anaconda3\\envs\\project-env\\Lib\\site-packages\\lightgbm\\basic.py\", line 868, in _data_from_pandas\n    _pandas_to_numpy(data, target_dtype=target_dtype),\n    ^^^^^^^^^^^^^^^^^^^^^^^^^^^^^^^^^^^^^^^^^^^^^^^^^\n  File \"c:\\Users\\user\\anaconda3\\envs\\project-env\\Lib\\site-packages\\lightgbm\\basic.py\", line 814, in _pandas_to_numpy\n    _check_for_bad_pandas_dtypes(data.dtypes)\n  File \"c:\\Users\\user\\anaconda3\\envs\\project-env\\Lib\\site-packages\\lightgbm\\basic.py\", line 805, in _check_for_bad_pandas_dtypes\n    raise ValueError(\nValueError: pandas dtypes must be int, float or bool.\nFields with bad pandas dtypes: 투기과열지구: object, 조정대상지역: object, 분양가상한제: object, 정비사업: object, 공공주택지구: object, 대규모택지개발지구: object, 수도권내민영공공주택지구: object, 순위: object, 거주지역: object\n",
               "output_type": "error",
               "traceback": [
                  "\u001b[1;31m---------------------------------------------------------------------------\u001b[0m",
                  "\u001b[1;31mValueError\u001b[0m                                Traceback (most recent call last)",
                  "Cell \u001b[1;32mIn[12], line 14\u001b[0m\n\u001b[0;32m      5\u001b[0m lgb_param_grid \u001b[38;5;241m=\u001b[39m {\n\u001b[0;32m      6\u001b[0m     \u001b[38;5;124m'\u001b[39m\u001b[38;5;124mn_estimators\u001b[39m\u001b[38;5;124m'\u001b[39m: [\u001b[38;5;241m100\u001b[39m, \u001b[38;5;241m500\u001b[39m, \u001b[38;5;241m1000\u001b[39m],\n\u001b[0;32m      7\u001b[0m     \u001b[38;5;124m'\u001b[39m\u001b[38;5;124mnum_leaves\u001b[39m\u001b[38;5;124m'\u001b[39m: [\u001b[38;5;241m10\u001b[39m, \u001b[38;5;241m30\u001b[39m, \u001b[38;5;241m50\u001b[39m],           \u001b[38;5;66;03m# max_depth 대체\u001b[39;00m\n\u001b[1;32m   (...)\u001b[0m\n\u001b[0;32m     11\u001b[0m     \u001b[38;5;124m'\u001b[39m\u001b[38;5;124mmin_split_gain\u001b[39m\u001b[38;5;124m'\u001b[39m: [\u001b[38;5;241m0.1\u001b[39m, \u001b[38;5;241m0.2\u001b[39m]         \u001b[38;5;66;03m# min_samples_split 대체 (유사한 역할)\u001b[39;00m\n\u001b[0;32m     12\u001b[0m }\n\u001b[0;32m     13\u001b[0m lgb_grid_search \u001b[38;5;241m=\u001b[39m GridSearchCV(lgb_model, lgb_param_grid, cv\u001b[38;5;241m=\u001b[39m\u001b[38;5;241m5\u001b[39m)\n\u001b[1;32m---> 14\u001b[0m lgb_grid_search\u001b[38;5;241m.\u001b[39mfit(X_train_transformed, y_train)\n",
                  "File \u001b[1;32mc:\\Users\\user\\anaconda3\\envs\\project-env\\Lib\\site-packages\\sklearn\\base.py:1389\u001b[0m, in \u001b[0;36m_fit_context.<locals>.decorator.<locals>.wrapper\u001b[1;34m(estimator, *args, **kwargs)\u001b[0m\n\u001b[0;32m   1382\u001b[0m     estimator\u001b[38;5;241m.\u001b[39m_validate_params()\n\u001b[0;32m   1384\u001b[0m \u001b[38;5;28;01mwith\u001b[39;00m config_context(\n\u001b[0;32m   1385\u001b[0m     skip_parameter_validation\u001b[38;5;241m=\u001b[39m(\n\u001b[0;32m   1386\u001b[0m         prefer_skip_nested_validation \u001b[38;5;129;01mor\u001b[39;00m global_skip_validation\n\u001b[0;32m   1387\u001b[0m     )\n\u001b[0;32m   1388\u001b[0m ):\n\u001b[1;32m-> 1389\u001b[0m     \u001b[38;5;28;01mreturn\u001b[39;00m fit_method(estimator, \u001b[38;5;241m*\u001b[39margs, \u001b[38;5;241m*\u001b[39m\u001b[38;5;241m*\u001b[39mkwargs)\n",
                  "File \u001b[1;32mc:\\Users\\user\\anaconda3\\envs\\project-env\\Lib\\site-packages\\sklearn\\model_selection\\_search.py:1024\u001b[0m, in \u001b[0;36mBaseSearchCV.fit\u001b[1;34m(self, X, y, **params)\u001b[0m\n\u001b[0;32m   1018\u001b[0m     results \u001b[38;5;241m=\u001b[39m \u001b[38;5;28mself\u001b[39m\u001b[38;5;241m.\u001b[39m_format_results(\n\u001b[0;32m   1019\u001b[0m         all_candidate_params, n_splits, all_out, all_more_results\n\u001b[0;32m   1020\u001b[0m     )\n\u001b[0;32m   1022\u001b[0m     \u001b[38;5;28;01mreturn\u001b[39;00m results\n\u001b[1;32m-> 1024\u001b[0m \u001b[38;5;28mself\u001b[39m\u001b[38;5;241m.\u001b[39m_run_search(evaluate_candidates)\n\u001b[0;32m   1026\u001b[0m \u001b[38;5;66;03m# multimetric is determined here because in the case of a callable\u001b[39;00m\n\u001b[0;32m   1027\u001b[0m \u001b[38;5;66;03m# self.scoring the return type is only known after calling\u001b[39;00m\n\u001b[0;32m   1028\u001b[0m first_test_score \u001b[38;5;241m=\u001b[39m all_out[\u001b[38;5;241m0\u001b[39m][\u001b[38;5;124m\"\u001b[39m\u001b[38;5;124mtest_scores\u001b[39m\u001b[38;5;124m\"\u001b[39m]\n",
                  "File \u001b[1;32mc:\\Users\\user\\anaconda3\\envs\\project-env\\Lib\\site-packages\\sklearn\\model_selection\\_search.py:1571\u001b[0m, in \u001b[0;36mGridSearchCV._run_search\u001b[1;34m(self, evaluate_candidates)\u001b[0m\n\u001b[0;32m   1569\u001b[0m \u001b[38;5;28;01mdef\u001b[39;00m \u001b[38;5;21m_run_search\u001b[39m(\u001b[38;5;28mself\u001b[39m, evaluate_candidates):\n\u001b[0;32m   1570\u001b[0m \u001b[38;5;250m    \u001b[39m\u001b[38;5;124;03m\"\"\"Search all candidates in param_grid\"\"\"\u001b[39;00m\n\u001b[1;32m-> 1571\u001b[0m     evaluate_candidates(ParameterGrid(\u001b[38;5;28mself\u001b[39m\u001b[38;5;241m.\u001b[39mparam_grid))\n",
                  "File \u001b[1;32mc:\\Users\\user\\anaconda3\\envs\\project-env\\Lib\\site-packages\\sklearn\\model_selection\\_search.py:1001\u001b[0m, in \u001b[0;36mBaseSearchCV.fit.<locals>.evaluate_candidates\u001b[1;34m(candidate_params, cv, more_results)\u001b[0m\n\u001b[0;32m    994\u001b[0m \u001b[38;5;28;01melif\u001b[39;00m \u001b[38;5;28mlen\u001b[39m(out) \u001b[38;5;241m!=\u001b[39m n_candidates \u001b[38;5;241m*\u001b[39m n_splits:\n\u001b[0;32m    995\u001b[0m     \u001b[38;5;28;01mraise\u001b[39;00m \u001b[38;5;167;01mValueError\u001b[39;00m(\n\u001b[0;32m    996\u001b[0m         \u001b[38;5;124m\"\u001b[39m\u001b[38;5;124mcv.split and cv.get_n_splits returned \u001b[39m\u001b[38;5;124m\"\u001b[39m\n\u001b[0;32m    997\u001b[0m         \u001b[38;5;124m\"\u001b[39m\u001b[38;5;124minconsistent results. Expected \u001b[39m\u001b[38;5;132;01m{}\u001b[39;00m\u001b[38;5;124m \u001b[39m\u001b[38;5;124m\"\u001b[39m\n\u001b[0;32m    998\u001b[0m         \u001b[38;5;124m\"\u001b[39m\u001b[38;5;124msplits, got \u001b[39m\u001b[38;5;132;01m{}\u001b[39;00m\u001b[38;5;124m\"\u001b[39m\u001b[38;5;241m.\u001b[39mformat(n_splits, \u001b[38;5;28mlen\u001b[39m(out) \u001b[38;5;241m/\u001b[39m\u001b[38;5;241m/\u001b[39m n_candidates)\n\u001b[0;32m    999\u001b[0m     )\n\u001b[1;32m-> 1001\u001b[0m _warn_or_raise_about_fit_failures(out, \u001b[38;5;28mself\u001b[39m\u001b[38;5;241m.\u001b[39merror_score)\n\u001b[0;32m   1003\u001b[0m \u001b[38;5;66;03m# For callable self.scoring, the return type is only know after\u001b[39;00m\n\u001b[0;32m   1004\u001b[0m \u001b[38;5;66;03m# calling. If the return type is a dictionary, the error scores\u001b[39;00m\n\u001b[0;32m   1005\u001b[0m \u001b[38;5;66;03m# can now be inserted with the correct key. The type checking\u001b[39;00m\n\u001b[0;32m   1006\u001b[0m \u001b[38;5;66;03m# of out will be done in `_insert_error_scores`.\u001b[39;00m\n\u001b[0;32m   1007\u001b[0m \u001b[38;5;28;01mif\u001b[39;00m \u001b[38;5;28mcallable\u001b[39m(\u001b[38;5;28mself\u001b[39m\u001b[38;5;241m.\u001b[39mscoring):\n",
                  "File \u001b[1;32mc:\\Users\\user\\anaconda3\\envs\\project-env\\Lib\\site-packages\\sklearn\\model_selection\\_validation.py:517\u001b[0m, in \u001b[0;36m_warn_or_raise_about_fit_failures\u001b[1;34m(results, error_score)\u001b[0m\n\u001b[0;32m    510\u001b[0m \u001b[38;5;28;01mif\u001b[39;00m num_failed_fits \u001b[38;5;241m==\u001b[39m num_fits:\n\u001b[0;32m    511\u001b[0m     all_fits_failed_message \u001b[38;5;241m=\u001b[39m (\n\u001b[0;32m    512\u001b[0m         \u001b[38;5;124mf\u001b[39m\u001b[38;5;124m\"\u001b[39m\u001b[38;5;130;01m\\n\u001b[39;00m\u001b[38;5;124mAll the \u001b[39m\u001b[38;5;132;01m{\u001b[39;00mnum_fits\u001b[38;5;132;01m}\u001b[39;00m\u001b[38;5;124m fits failed.\u001b[39m\u001b[38;5;130;01m\\n\u001b[39;00m\u001b[38;5;124m\"\u001b[39m\n\u001b[0;32m    513\u001b[0m         \u001b[38;5;124m\"\u001b[39m\u001b[38;5;124mIt is very likely that your model is misconfigured.\u001b[39m\u001b[38;5;130;01m\\n\u001b[39;00m\u001b[38;5;124m\"\u001b[39m\n\u001b[0;32m    514\u001b[0m         \u001b[38;5;124m\"\u001b[39m\u001b[38;5;124mYou can try to debug the error by setting error_score=\u001b[39m\u001b[38;5;124m'\u001b[39m\u001b[38;5;124mraise\u001b[39m\u001b[38;5;124m'\u001b[39m\u001b[38;5;124m.\u001b[39m\u001b[38;5;130;01m\\n\u001b[39;00m\u001b[38;5;130;01m\\n\u001b[39;00m\u001b[38;5;124m\"\u001b[39m\n\u001b[0;32m    515\u001b[0m         \u001b[38;5;124mf\u001b[39m\u001b[38;5;124m\"\u001b[39m\u001b[38;5;124mBelow are more details about the failures:\u001b[39m\u001b[38;5;130;01m\\n\u001b[39;00m\u001b[38;5;132;01m{\u001b[39;00mfit_errors_summary\u001b[38;5;132;01m}\u001b[39;00m\u001b[38;5;124m\"\u001b[39m\n\u001b[0;32m    516\u001b[0m     )\n\u001b[1;32m--> 517\u001b[0m     \u001b[38;5;28;01mraise\u001b[39;00m \u001b[38;5;167;01mValueError\u001b[39;00m(all_fits_failed_message)\n\u001b[0;32m    519\u001b[0m \u001b[38;5;28;01melse\u001b[39;00m:\n\u001b[0;32m    520\u001b[0m     some_fits_failed_message \u001b[38;5;241m=\u001b[39m (\n\u001b[0;32m    521\u001b[0m         \u001b[38;5;124mf\u001b[39m\u001b[38;5;124m\"\u001b[39m\u001b[38;5;130;01m\\n\u001b[39;00m\u001b[38;5;132;01m{\u001b[39;00mnum_failed_fits\u001b[38;5;132;01m}\u001b[39;00m\u001b[38;5;124m fits failed out of a total of \u001b[39m\u001b[38;5;132;01m{\u001b[39;00mnum_fits\u001b[38;5;132;01m}\u001b[39;00m\u001b[38;5;124m.\u001b[39m\u001b[38;5;130;01m\\n\u001b[39;00m\u001b[38;5;124m\"\u001b[39m\n\u001b[0;32m    522\u001b[0m         \u001b[38;5;124m\"\u001b[39m\u001b[38;5;124mThe score on these train-test partitions for these parameters\u001b[39m\u001b[38;5;124m\"\u001b[39m\n\u001b[1;32m   (...)\u001b[0m\n\u001b[0;32m    526\u001b[0m         \u001b[38;5;124mf\u001b[39m\u001b[38;5;124m\"\u001b[39m\u001b[38;5;124mBelow are more details about the failures:\u001b[39m\u001b[38;5;130;01m\\n\u001b[39;00m\u001b[38;5;132;01m{\u001b[39;00mfit_errors_summary\u001b[38;5;132;01m}\u001b[39;00m\u001b[38;5;124m\"\u001b[39m\n\u001b[0;32m    527\u001b[0m     )\n",
                  "\u001b[1;31mValueError\u001b[0m: \nAll the 1620 fits failed.\nIt is very likely that your model is misconfigured.\nYou can try to debug the error by setting error_score='raise'.\n\nBelow are more details about the failures:\n--------------------------------------------------------------------------------\n1620 fits failed with the following error:\nTraceback (most recent call last):\n  File \"c:\\Users\\user\\anaconda3\\envs\\project-env\\Lib\\site-packages\\sklearn\\model_selection\\_validation.py\", line 866, in _fit_and_score\n    estimator.fit(X_train, y_train, **fit_params)\n  File \"c:\\Users\\user\\anaconda3\\envs\\project-env\\Lib\\site-packages\\lightgbm\\sklearn.py\", line 1398, in fit\n    super().fit(\n  File \"c:\\Users\\user\\anaconda3\\envs\\project-env\\Lib\\site-packages\\lightgbm\\sklearn.py\", line 1049, in fit\n    self._Booster = train(\n                    ^^^^^^\n  File \"c:\\Users\\user\\anaconda3\\envs\\project-env\\Lib\\site-packages\\lightgbm\\engine.py\", line 297, in train\n    booster = Booster(params=params, train_set=train_set)\n              ^^^^^^^^^^^^^^^^^^^^^^^^^^^^^^^^^^^^^^^^^^^\n  File \"c:\\Users\\user\\anaconda3\\envs\\project-env\\Lib\\site-packages\\lightgbm\\basic.py\", line 3656, in __init__\n    train_set.construct()\n  File \"c:\\Users\\user\\anaconda3\\envs\\project-env\\Lib\\site-packages\\lightgbm\\basic.py\", line 2590, in construct\n    self._lazy_init(\n  File \"c:\\Users\\user\\anaconda3\\envs\\project-env\\Lib\\site-packages\\lightgbm\\basic.py\", line 2123, in _lazy_init\n    data, feature_name, categorical_feature, self.pandas_categorical = _data_from_pandas(\n                                                                       ^^^^^^^^^^^^^^^^^^\n  File \"c:\\Users\\user\\anaconda3\\envs\\project-env\\Lib\\site-packages\\lightgbm\\basic.py\", line 868, in _data_from_pandas\n    _pandas_to_numpy(data, target_dtype=target_dtype),\n    ^^^^^^^^^^^^^^^^^^^^^^^^^^^^^^^^^^^^^^^^^^^^^^^^^\n  File \"c:\\Users\\user\\anaconda3\\envs\\project-env\\Lib\\site-packages\\lightgbm\\basic.py\", line 814, in _pandas_to_numpy\n    _check_for_bad_pandas_dtypes(data.dtypes)\n  File \"c:\\Users\\user\\anaconda3\\envs\\project-env\\Lib\\site-packages\\lightgbm\\basic.py\", line 805, in _check_for_bad_pandas_dtypes\n    raise ValueError(\nValueError: pandas dtypes must be int, float or bool.\nFields with bad pandas dtypes: 투기과열지구: object, 조정대상지역: object, 분양가상한제: object, 정비사업: object, 공공주택지구: object, 대규모택지개발지구: object, 수도권내민영공공주택지구: object, 순위: object, 거주지역: object\n"
               ]
            }
         ],
         "source": [
            "from lightgbm import LGBMRegressor\n",
            "from sklearn.model_selection import GridSearchCV\n",
            "\n",
            "lgb_model = LGBMRegressor()\n",
            "lgb_param_grid = {\n",
            "    'n_estimators': [100, 500, 1000],\n",
            "    'num_leaves': [10, 30, 50],           # max_depth 대체\n",
            "    'learning_rate': [0.1, 0.5],\n",
            "    'feature_fraction': [0.6, 0.8, 1.0], # max_features 대체\n",
            "    'min_data_in_leaf': [8, 12, 18],     # min_samples_leaf 대체\n",
            "    'min_split_gain': [0.1, 0.2]         # min_samples_split 대체 (유사한 역할)\n",
            "}\n",
            "lgb_grid_search = GridSearchCV(lgb_model, lgb_param_grid, cv=5)\n",
            "lgb_grid_search.fit(X_train_transformed, y_train)\n"
         ]
      },
      {
         "cell_type": "code",
         "execution_count": null,
         "metadata": {},
         "outputs": [],
         "source": [
            "\n",
            "# 예측값 생성 (모델별로 다르게 설정)\n",
            "y_pred_xgb = xgb_grid_search.predict(X_test)\n",
            "y_pred_lgb = lgb_grid_search.predict(X_test)\n",
            "y_pred_ada = ada_grid_search.predict(X_test)\n",
            "y_pred_rf = rf_grid_search.predict(X_test)\n",
            "\n",
            "# RMSE와 R^2 계산 함수\n",
            "def evaluate_model(y_true, y_pred):\n",
            "    rmse = np.sqrt(mean_squared_error(y_true, y_pred))\n",
            "    r2 = r2_score(y_true, y_pred)\n",
            "    return rmse, r2\n",
            "\n",
            "# 각 모델의 평가\n",
            "rmse_xgb, r2_xgb = evaluate_model(y_test, y_pred_xgb)\n",
            "rmse_lgb, r2_lgb = evaluate_model(y_test, y_pred_lgb)\n",
            "rmse_ada, r2_ada = evaluate_model(y_test, y_pred_ada)\n",
            "rmse_rf, r2_rf = evaluate_model(y_test, y_pred_rf)\n",
            "\n",
            "# 결과 출력\n",
            "print(f\"XGBoost - RMSE: {rmse_xgb}, R^2: {r2_xgb}\")\n",
            "print(f\"LightGBM - RMSE: {rmse_lgb}, R^2: {r2_lgb}\")\n",
            "print(f\"AdaBoost - RMSE: {rmse_ada}, R^2: {r2_ada}\")\n",
            "print(f\"Random Forest - RMSE: {rmse_rf}, R^2: {r2_rf}\")\n"
         ]
      },
      {
         "cell_type": "code",
         "execution_count": null,
         "metadata": {},
         "outputs": [],
         "source": [
            "\n",
            "# 모델 학습\n",
            "model.fit(X_train_transformed, y_train)\n",
            "\n",
            "# 예측\n",
            "y_pred = model.predict(X_test_transformed)\n",
            "\n",
            "# 평가 (RMSE와 R^2 계산)\n",
            "rmse = np.sqrt(mean_squared_error(y_test, y_pred))\n",
            "r2 = r2_score(y_test, y_pred)\n",
            "\n",
            "print(\"RMSE:\", rmse) # 낮을수록 좋음\n",
            "print(\"R^2 Score:\", r2) # 1에 가까울수록 좋음"
         ]
      },
      {
         "cell_type": "markdown",
         "metadata": {},
         "source": [
            "### 모델 저장 "
         ]
      },
      {
         "cell_type": "code",
         "execution_count": 14,
         "metadata": {},
         "outputs": [
            {
               "data": {
                  "text/plain": [
                     "['./storage/trained_model/model_0.0.2.pkl']"
                  ]
               },
               "execution_count": 14,
               "metadata": {},
               "output_type": "execute_result"
            }
         ],
         "source": [
            "# 모델 저장 및 로드\n",
            "\n",
            "version = '0.0.2'\n",
            "\n",
            "# 모델 저장\n",
            "joblib.dump(model, f\"./storage/trained_model/model_{version}.pkl\")"
         ]
      },
      {
         "cell_type": "code",
         "execution_count": 8,
         "metadata": {},
         "outputs": [],
         "source": [
            "# 모델 로드\n",
            "loaded_model = joblib.load(\"./storage/trained_model/model_0.0.1.pkl\")\n",
            "\n",
            "# 예측\n",
            "# X_test = np.array([[1, 2]])\n",
            "# prediction = loaded_model.predict(X_test)\n",
            "# print(\"Prediction:\", prediction)"
         ]
      }
   ],
   "metadata": {
      "kernelspec": {
         "display_name": "project-env",
         "language": "python",
         "name": "python3"
      },
      "language_info": {
         "codemirror_mode": {
            "name": "ipython",
            "version": 3
         },
         "file_extension": ".py",
         "mimetype": "text/x-python",
         "name": "python",
         "nbconvert_exporter": "python",
         "pygments_lexer": "ipython3",
         "version": "3.11.11"
      }
   },
   "nbformat": 4,
   "nbformat_minor": 2
}
