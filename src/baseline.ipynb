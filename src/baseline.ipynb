{
 "cells": [
  {
   "cell_type": "markdown",
   "metadata": {},
   "source": [
    "### 데이터 불러오기"
   ]
  },
  {
   "cell_type": "code",
   "execution_count": 1,
   "metadata": {},
   "outputs": [],
   "source": [
    "import pandas as pd\n",
    "import numpy as np\n",
    "\n",
    "from sklearn.impute import SimpleImputer\n",
    "from sklearn.preprocessing import LabelEncoder\n",
    "from sklearn.ensemble import RandomForestRegressor\n",
    "import joblib"
   ]
  },
  {
   "cell_type": "markdown",
   "metadata": {},
   "source": [
    "\n",
    "\n"
   ]
  },
  {
   "cell_type": "code",
   "execution_count": 2,
   "metadata": {},
   "outputs": [],
   "source": [
    "train = pd.read_csv('./features/train-0309.csv')"
   ]
  },
  {
   "cell_type": "code",
   "execution_count": 3,
   "metadata": {},
   "outputs": [
    {
     "data": {
      "text/html": [
       "<div>\n",
       "<style scoped>\n",
       "    .dataframe tbody tr th:only-of-type {\n",
       "        vertical-align: middle;\n",
       "    }\n",
       "\n",
       "    .dataframe tbody tr th {\n",
       "        vertical-align: top;\n",
       "    }\n",
       "\n",
       "    .dataframe thead th {\n",
       "        text-align: right;\n",
       "    }\n",
       "</style>\n",
       "<table border=\"1\" class=\"dataframe\">\n",
       "  <thead>\n",
       "    <tr style=\"text-align: right;\">\n",
       "      <th></th>\n",
       "      <th>공고번호</th>\n",
       "      <th>주택명</th>\n",
       "      <th>공급위치</th>\n",
       "      <th>공급규모</th>\n",
       "      <th>청약접수종료일</th>\n",
       "      <th>건설업체명_시공사</th>\n",
       "      <th>사업주체명_시행사</th>\n",
       "      <th>투기과열지구</th>\n",
       "      <th>조정대상지역</th>\n",
       "      <th>분양가상한제</th>\n",
       "      <th>...</th>\n",
       "      <th>거주코드</th>\n",
       "      <th>거주지역</th>\n",
       "      <th>접수건수</th>\n",
       "      <th>경쟁률</th>\n",
       "      <th>미달여부</th>\n",
       "      <th>최저당첨가점</th>\n",
       "      <th>평균당첨가점</th>\n",
       "      <th>최고당첨가점</th>\n",
       "      <th>위도</th>\n",
       "      <th>경도</th>\n",
       "    </tr>\n",
       "  </thead>\n",
       "  <tbody>\n",
       "    <tr>\n",
       "      <th>0</th>\n",
       "      <td>2025000001</td>\n",
       "      <td>래미안 원페를라</td>\n",
       "      <td>서울특별시 서초구 방배동 818-14번지 일대</td>\n",
       "      <td>482</td>\n",
       "      <td>2025-02-06</td>\n",
       "      <td>삼성물산(주)</td>\n",
       "      <td>방배6구역주택재건축정비사업조합</td>\n",
       "      <td>Y</td>\n",
       "      <td>Y</td>\n",
       "      <td>Y</td>\n",
       "      <td>...</td>\n",
       "      <td>1</td>\n",
       "      <td>해당지역</td>\n",
       "      <td>10680</td>\n",
       "      <td>305.14</td>\n",
       "      <td>N</td>\n",
       "      <td>69.0</td>\n",
       "      <td>70.29</td>\n",
       "      <td>74.0</td>\n",
       "      <td>37.478794</td>\n",
       "      <td>126.992923</td>\n",
       "    </tr>\n",
       "    <tr>\n",
       "      <th>1</th>\n",
       "      <td>2025000001</td>\n",
       "      <td>래미안 원페를라</td>\n",
       "      <td>서울특별시 서초구 방배동 818-14번지 일대</td>\n",
       "      <td>482</td>\n",
       "      <td>2025-02-06</td>\n",
       "      <td>삼성물산(주)</td>\n",
       "      <td>방배6구역주택재건축정비사업조합</td>\n",
       "      <td>Y</td>\n",
       "      <td>Y</td>\n",
       "      <td>Y</td>\n",
       "      <td>...</td>\n",
       "      <td>2</td>\n",
       "      <td>기타지역</td>\n",
       "      <td>0</td>\n",
       "      <td>NaN</td>\n",
       "      <td>NaN</td>\n",
       "      <td>69.0</td>\n",
       "      <td>70.29</td>\n",
       "      <td>74.0</td>\n",
       "      <td>37.478794</td>\n",
       "      <td>126.992923</td>\n",
       "    </tr>\n",
       "    <tr>\n",
       "      <th>2</th>\n",
       "      <td>2025000001</td>\n",
       "      <td>래미안 원페를라</td>\n",
       "      <td>서울특별시 서초구 방배동 818-14번지 일대</td>\n",
       "      <td>482</td>\n",
       "      <td>2025-02-06</td>\n",
       "      <td>삼성물산(주)</td>\n",
       "      <td>방배6구역주택재건축정비사업조합</td>\n",
       "      <td>Y</td>\n",
       "      <td>Y</td>\n",
       "      <td>Y</td>\n",
       "      <td>...</td>\n",
       "      <td>1</td>\n",
       "      <td>해당지역</td>\n",
       "      <td>9223</td>\n",
       "      <td>307.43</td>\n",
       "      <td>N</td>\n",
       "      <td>69.0</td>\n",
       "      <td>71.17</td>\n",
       "      <td>77.0</td>\n",
       "      <td>37.478794</td>\n",
       "      <td>126.992923</td>\n",
       "    </tr>\n",
       "    <tr>\n",
       "      <th>3</th>\n",
       "      <td>2025000001</td>\n",
       "      <td>래미안 원페를라</td>\n",
       "      <td>서울특별시 서초구 방배동 818-14번지 일대</td>\n",
       "      <td>482</td>\n",
       "      <td>2025-02-06</td>\n",
       "      <td>삼성물산(주)</td>\n",
       "      <td>방배6구역주택재건축정비사업조합</td>\n",
       "      <td>Y</td>\n",
       "      <td>Y</td>\n",
       "      <td>Y</td>\n",
       "      <td>...</td>\n",
       "      <td>2</td>\n",
       "      <td>기타지역</td>\n",
       "      <td>0</td>\n",
       "      <td>NaN</td>\n",
       "      <td>NaN</td>\n",
       "      <td>69.0</td>\n",
       "      <td>71.17</td>\n",
       "      <td>77.0</td>\n",
       "      <td>37.478794</td>\n",
       "      <td>126.992923</td>\n",
       "    </tr>\n",
       "    <tr>\n",
       "      <th>4</th>\n",
       "      <td>2025000001</td>\n",
       "      <td>래미안 원페를라</td>\n",
       "      <td>서울특별시 서초구 방배동 818-14번지 일대</td>\n",
       "      <td>482</td>\n",
       "      <td>2025-02-06</td>\n",
       "      <td>삼성물산(주)</td>\n",
       "      <td>방배6구역주택재건축정비사업조합</td>\n",
       "      <td>Y</td>\n",
       "      <td>Y</td>\n",
       "      <td>Y</td>\n",
       "      <td>...</td>\n",
       "      <td>1</td>\n",
       "      <td>해당지역</td>\n",
       "      <td>2410</td>\n",
       "      <td>172.14</td>\n",
       "      <td>N</td>\n",
       "      <td>69.0</td>\n",
       "      <td>69.00</td>\n",
       "      <td>69.0</td>\n",
       "      <td>37.478794</td>\n",
       "      <td>126.992923</td>\n",
       "    </tr>\n",
       "  </tbody>\n",
       "</table>\n",
       "<p>5 rows × 28 columns</p>\n",
       "</div>"
      ],
      "text/plain": [
       "         공고번호       주택명                       공급위치  공급규모     청약접수종료일  \\\n",
       "0  2025000001  래미안 원페를라  서울특별시 서초구 방배동 818-14번지 일대   482  2025-02-06   \n",
       "1  2025000001  래미안 원페를라  서울특별시 서초구 방배동 818-14번지 일대   482  2025-02-06   \n",
       "2  2025000001  래미안 원페를라  서울특별시 서초구 방배동 818-14번지 일대   482  2025-02-06   \n",
       "3  2025000001  래미안 원페를라  서울특별시 서초구 방배동 818-14번지 일대   482  2025-02-06   \n",
       "4  2025000001  래미안 원페를라  서울특별시 서초구 방배동 818-14번지 일대   482  2025-02-06   \n",
       "\n",
       "  건설업체명_시공사         사업주체명_시행사 투기과열지구 조정대상지역 분양가상한제  ... 거주코드  거주지역   접수건수  \\\n",
       "0   삼성물산(주)  방배6구역주택재건축정비사업조합      Y      Y      Y  ...    1  해당지역  10680   \n",
       "1   삼성물산(주)  방배6구역주택재건축정비사업조합      Y      Y      Y  ...    2  기타지역      0   \n",
       "2   삼성물산(주)  방배6구역주택재건축정비사업조합      Y      Y      Y  ...    1  해당지역   9223   \n",
       "3   삼성물산(주)  방배6구역주택재건축정비사업조합      Y      Y      Y  ...    2  기타지역      0   \n",
       "4   삼성물산(주)  방배6구역주택재건축정비사업조합      Y      Y      Y  ...    1  해당지역   2410   \n",
       "\n",
       "      경쟁률  미달여부 최저당첨가점  평균당첨가점  최고당첨가점         위도          경도  \n",
       "0  305.14     N   69.0   70.29    74.0  37.478794  126.992923  \n",
       "1     NaN   NaN   69.0   70.29    74.0  37.478794  126.992923  \n",
       "2  307.43     N   69.0   71.17    77.0  37.478794  126.992923  \n",
       "3     NaN   NaN   69.0   71.17    77.0  37.478794  126.992923  \n",
       "4  172.14     N   69.0   69.00    69.0  37.478794  126.992923  \n",
       "\n",
       "[5 rows x 28 columns]"
      ]
     },
     "execution_count": 3,
     "metadata": {},
     "output_type": "execute_result"
    }
   ],
   "source": [
    "train.head()"
   ]
  },
  {
   "cell_type": "code",
   "execution_count": 4,
   "metadata": {},
   "outputs": [
    {
     "name": "stdout",
     "output_type": "stream",
     "text": [
      "<class 'pandas.core.frame.DataFrame'>\n",
      "RangeIndex: 1888 entries, 0 to 1887\n",
      "Data columns (total 28 columns):\n",
      " #   Column        Non-Null Count  Dtype  \n",
      "---  ------        --------------  -----  \n",
      " 0   공고번호          1888 non-null   int64  \n",
      " 1   주택명           1888 non-null   object \n",
      " 2   공급위치          1888 non-null   object \n",
      " 3   공급규모          1888 non-null   int64  \n",
      " 4   청약접수종료일       1888 non-null   object \n",
      " 5   건설업체명_시공사     1854 non-null   object \n",
      " 6   사업주체명_시행사     1888 non-null   object \n",
      " 7   투기과열지구        1888 non-null   object \n",
      " 8   조정대상지역        1888 non-null   object \n",
      " 9   분양가상한제        1888 non-null   object \n",
      " 10  정비사업          1888 non-null   object \n",
      " 11  공공주택지구        1888 non-null   object \n",
      " 12  대규모택지개발지구     1888 non-null   object \n",
      " 13  수도권내민영공공주택지구  1888 non-null   object \n",
      " 14  모델번호          1888 non-null   int64  \n",
      " 15  주택형           1888 non-null   object \n",
      " 16  공급세대수         1888 non-null   int64  \n",
      " 17  순위            1888 non-null   int64  \n",
      " 18  거주코드          1888 non-null   int64  \n",
      " 19  거주지역          1888 non-null   object \n",
      " 20  접수건수          1888 non-null   int64  \n",
      " 21  경쟁률           1020 non-null   float64\n",
      " 22  미달여부          1020 non-null   object \n",
      " 23  최저당첨가점        1888 non-null   float64\n",
      " 24  평균당첨가점        1888 non-null   float64\n",
      " 25  최고당첨가점        1888 non-null   float64\n",
      " 26  위도            1784 non-null   float64\n",
      " 27  경도            1784 non-null   float64\n",
      "dtypes: float64(6), int64(7), object(15)\n",
      "memory usage: 413.1+ KB\n"
     ]
    }
   ],
   "source": [
    "train.info()"
   ]
  },
  {
   "cell_type": "markdown",
   "metadata": {},
   "source": [
    "### 데이터 전처리"
   ]
  },
  {
   "cell_type": "code",
   "execution_count": 5,
   "metadata": {},
   "outputs": [],
   "source": [
    "# x = train.drop(['ID','허위매물여부'],axis=1)\n",
    "# y = train['허위매물여부']"
   ]
  },
  {
   "cell_type": "code",
   "execution_count": 6,
   "metadata": {},
   "outputs": [],
   "source": [
    "# SimpleImputer : 평균 대체\n",
    "# mean_imputer = SimpleImputer(strategy='mean')\n",
    "\n",
    "# 결측값을 평균으로 대체할 열 목록\n",
    "# columns_fill_mean = ['해당층', '총층','전용면적','방수', '욕실수','총주차대수']\n",
    "\n",
    "# 학습 데이터에 fit 및 transform\n",
    "# x[columns_fill_mean] = mean_imputer.fit_transform(x[columns_fill_mean])"
   ]
  },
  {
   "cell_type": "code",
   "execution_count": null,
   "metadata": {},
   "outputs": [],
   "source": [
    "# Label Encoding 적용 열\n",
    "# label_encode_cols = ['중개사무소','게재일','제공플랫폼','방향']\n",
    "\n",
    "# label_encoders = {}\n",
    "# for col in label_encode_cols:\n",
    "#     le = LabelEncoder()\n",
    "#     x[col] = le.fit_transform(x[col].astype(str))\n",
    "#     label_encoders[col] = le"
   ]
  },
  {
   "cell_type": "markdown",
   "metadata": {},
   "source": [
    "### 모델 학습하기"
   ]
  },
  {
   "cell_type": "code",
   "execution_count": 13,
   "metadata": {},
   "outputs": [],
   "source": [
    "model = RandomForestRegressor(n_estimators=100,\n",
    "                               max_depth=None,\n",
    "                               random_state=42)\n",
    "# model.fit(x, y)"
   ]
  },
  {
   "cell_type": "markdown",
   "metadata": {},
   "source": [
    "### 모델 배포"
   ]
  },
  {
   "cell_type": "code",
   "execution_count": null,
   "metadata": {},
   "outputs": [
    {
     "data": {
      "text/plain": [
       "['./models/model_0.0.1.pkl']"
      ]
     },
     "execution_count": 14,
     "metadata": {},
     "output_type": "execute_result"
    }
   ],
   "source": [
    "# 모델 저장\n",
    "\n",
    "version = '0.0.1'\n",
    "\n",
    "joblib.dump(model, f\"./models/model_{version}.pkl\")\n",
    "\n"
   ]
  },
  {
   "cell_type": "code",
   "execution_count": 16,
   "metadata": {},
   "outputs": [],
   "source": [
    "# 모델 로드\n",
    "loaded_model = joblib.load(\"./models/model_0.0.1.pkl\")\n",
    "\n",
    "# 예측\n",
    "# X_test = np.array([[1, 2]])\n",
    "# prediction = loaded_model.predict(X_test)\n",
    "# print(\"Prediction:\", prediction)"
   ]
  }
 ],
 "metadata": {
  "kernelspec": {
<<<<<<< HEAD
   "display_name": "Jooan_Lee",
=======
   "display_name": "Yeeun_Han",
>>>>>>> feature_02
   "language": "python",
   "name": "python3"
  },
  "language_info": {
   "codemirror_mode": {
    "name": "ipython",
    "version": 3
   },
   "file_extension": ".py",
   "mimetype": "text/x-python",
   "name": "python",
   "nbconvert_exporter": "python",
   "pygments_lexer": "ipython3",
   "version": "3.11.11"
  }
 },
 "nbformat": 4,
 "nbformat_minor": 2
}
