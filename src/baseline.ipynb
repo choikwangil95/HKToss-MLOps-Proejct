{
   "cells": [
      {
         "cell_type": "code",
         "execution_count": 1,
         "metadata": {},
         "outputs": [],
         "source": [
            "import pandas as pd\n",
            "import numpy as np\n",
            "\n",
            "from sklearn.ensemble import RandomForestRegressor\n",
            "from sklearn.model_selection import train_test_split\n",
            "from sklearn.metrics import mean_squared_error, r2_score\n",
            "\n",
            "import joblib\n",
            "\n",
            "from data_preprocessing import pipeline\n",
            "from feature_preprocessing import pipeline2"
         ]
      },
      {
         "cell_type": "markdown",
         "metadata": {},
         "source": [
            "### 데이터 전처리"
         ]
      },
      {
         "cell_type": "code",
         "execution_count": 2,
         "metadata": {},
         "outputs": [
            {
               "name": "stderr",
               "output_type": "stream",
               "text": [
                  "C:\\Users\\user\\AppData\\Local\\Temp\\ipykernel_696\\2437011318.py:3: DtypeWarning: Columns (48) have mixed types. Specify dtype option on import or set low_memory=False.\n",
                  "  df = pd.read_csv(file_path)\n"
               ]
            }
         ],
         "source": [
            "file_path = \"./storage/raw_data/병합_청약매물_목록_정보_픽스2.csv\"\n",
            "# df = pd.read_csv(file_path, encoding ='cp949')\n",
            "df = pd.read_csv(file_path)"
         ]
      },
      {
         "cell_type": "code",
         "execution_count": 3,
         "metadata": {},
         "outputs": [
            {
               "name": "stderr",
               "output_type": "stream",
               "text": [
                  "C:\\Users\\user\\AppData\\Local\\Temp\\ipykernel_696\\2756494526.py:4: DtypeWarning: Columns (48) have mixed types. Specify dtype option on import or set low_memory=False.\n",
                  "  df = pd.read_csv(file_path)\n",
                  "c:\\Users\\user\\developments\\hk-project\\src\\data_preprocessing.py:146: DtypeWarning: Columns (36,48) have mixed types. Specify dtype option on import or set low_memory=False.\n",
                  "  df_estate_price = pd.read_csv(csv_path, encoding=\"cp949\")\n",
                  "c:\\Users\\user\\developments\\hk-project\\src\\data_preprocessing.py:329: FutureWarning: A value is trying to be set on a copy of a DataFrame or Series through chained assignment using an inplace method.\n",
                  "The behavior will change in pandas 3.0. This inplace method will never work because the intermediate object on which we are setting values always behaves as a copy.\n",
                  "\n",
                  "For example, when doing 'df[col].method(value, inplace=True)', try using 'df.method({col: value}, inplace=True)' or df[col] = df[col].method(value) instead, to perform the operation inplace on the original object.\n",
                  "\n",
                  "\n",
                  "  df['최저당첨가점'].fillna(0, inplace=True)\n"
               ]
            }
         ],
         "source": [
            "# 로우 데이터 불러오기\n",
            "file_path = \"./storage/raw_data/병합_청약매물_목록_정보_픽스2.csv\"\n",
            "# df = pd.read_csv(file_path, encoding ='cp949')\n",
            "df = pd.read_csv(file_path)\n",
            "\n",
            "# ✅ 모집공고일을 datetime 형식으로 변환\n",
            "df[\"모집공고일\"] = pd.to_datetime(df[\"모집공고일\"])\n",
            "\n",
            "# ✅ 2025-03-12 이상인 매물만 필터링\n",
            "df = df[df[\"모집공고일\"] < \"2025-01-01\"]\n",
            "\n",
            "# 데이터 전처리````\n",
            "preprocessing_pipeline = pipeline(type='train')\n",
            "df = preprocessing_pipeline.transform(df)\n",
            "\n",
            "# 파일 저장\n",
            "file_version = \"250318-03-삭제예정\"\n",
            "output_file = f\"./storage/train_data/train-{file_version}.csv\"\n",
            "df.to_csv(output_file, index=False, encoding='cp949')"
         ]
      },
      {
         "cell_type": "code",
         "execution_count": 4,
         "metadata": {},
         "outputs": [
            {
               "name": "stdout",
               "output_type": "stream",
               "text": [
                  "<class 'pandas.core.frame.DataFrame'>\n",
                  "Index: 2967 entries, 0 to 17106\n",
                  "Data columns (total 27 columns):\n",
                  " #   Column        Non-Null Count  Dtype  \n",
                  "---  ------        --------------  -----  \n",
                  " 0   공급지역코드        2967 non-null   int64  \n",
                  " 1   공급규모          2967 non-null   int64  \n",
                  " 2   투기과열지구        2967 non-null   object \n",
                  " 3   조정대상지역        2967 non-null   object \n",
                  " 4   분양가상한제        2967 non-null   object \n",
                  " 5   정비사업          2967 non-null   object \n",
                  " 6   공공주택지구        2967 non-null   object \n",
                  " 7   대규모택지개발지구     2967 non-null   object \n",
                  " 8   수도권내민영공공주택지구  2967 non-null   object \n",
                  " 9   공급세대수         2967 non-null   int64  \n",
                  " 10  순위            2967 non-null   object \n",
                  " 11  거주지역          2967 non-null   object \n",
                  " 12  접수건수          2967 non-null   int64  \n",
                  " 13  경쟁률           2967 non-null   float64\n",
                  " 14  최저당첨가점        2967 non-null   float64\n",
                  " 15  토픽 1          2967 non-null   float64\n",
                  " 16  토픽 2          2967 non-null   float64\n",
                  " 17  토픽 3          2967 non-null   float64\n",
                  " 18  토픽 4          2967 non-null   float64\n",
                  " 19  토픽 5          2967 non-null   float64\n",
                  " 20  토픽 6          2967 non-null   float64\n",
                  " 21  토픽 7          2967 non-null   float64\n",
                  " 22  전용면적          2967 non-null   float64\n",
                  " 23  공급금액(최고가 기준)  2967 non-null   float64\n",
                  " 24  법정동코드         2967 non-null   float64\n",
                  " 25  거래금액(만원)      2582 non-null   float64\n",
                  " 26  전용면적당 시세차익    2967 non-null   float64\n",
                  "dtypes: float64(14), int64(4), object(9)\n",
                  "memory usage: 649.0+ KB\n"
               ]
            }
         ],
         "source": [
            "df.info()"
         ]
      },
      {
         "cell_type": "code",
         "execution_count": null,
         "metadata": {},
         "outputs": [],
         "source": []
      },
      {
         "cell_type": "markdown",
         "metadata": {},
         "source": [
            "### 모델 학습 및 평가"
         ]
      },
      {
         "cell_type": "code",
         "execution_count": 5,
         "metadata": {},
         "outputs": [],
         "source": [
            "# 전처리된 데이터 가져오기\n",
            "\n",
            "# file_version = \"250317-01\"\n",
            "# file_path = f\"./storage/train_data/t``ain-{file_version}.csv\"\n",
            "# df = pd.read_csv(file_path, encoding='cp949')\n",
            "\n",
            "df = pd.read_csv(\"./storage/train_data/train-250318-03-삭제예정.csv\", encoding = 'cp949')\n"
         ]
      },
      {
         "cell_type": "code",
         "execution_count": 6,
         "metadata": {},
         "outputs": [],
         "source": [
            "X = df.drop(columns=[\"최저당첨가점\"])\n",
            "Y = df[\"최저당첨가점\"]\n",
            "\n",
            "X_train, X_test, y_train, y_test = train_test_split(\n",
            "    X,  # 타겟(최저당첨가점) 제외\n",
            "    Y,  # 타겟\n",
            "    test_size=0.2,\n",
            "    random_state=42,\n",
            "    stratify=df[\"투기과열지구\"]  # 분포 맞추기 위해 미달여부로 stratify\n",
            ")\n",
            "\n",
            "# 분양가상한제, 투기과열지구, 조정대상지역 -> 고려해보기염"
         ]
      },
      {
         "cell_type": "code",
         "execution_count": 7,
         "metadata": {},
         "outputs": [
            {
               "name": "stdout",
               "output_type": "stream",
               "text": [
                  "Index(['공급지역코드', '공급규모', '투기과열지구', '조정대상지역', '분양가상한제', '정비사업', '공공주택지구',\n",
                  "       '대규모택지개발지구', '수도권내민영공공주택지구', '공급세대수', '순위', '거주지역', '접수건수', '경쟁률',\n",
                  "       '토픽 1', '토픽 2', '토픽 3', '토픽 4', '토픽 5', '토픽 6', '토픽 7', '전용면적',\n",
                  "       '공급금액(최고가 기준)', '법정동코드', '거래금액(만원)', '전용면적당 시세차익'],\n",
                  "      dtype='object')\n",
                  "Index(['공급규모', '공급세대수', '접수건수', '경쟁률', '토픽 1', '토픽 2', '토픽 3', '토픽 4', '토픽 5',\n",
                  "       '토픽 6', '토픽 7', '전용면적', '공급금액(최고가 기준)', '법정동코드', '거래금액(만원)',\n",
                  "       '전용면적당 시세차익', '투기과열지구_N', '투기과열지구_Y', '조정대상지역_N', '조정대상지역_Y',\n",
                  "       '분양가상한제_N', '분양가상한제_Y', '정비사업_N', '정비사업_Y', '공공주택지구_N', '공공주택지구_Y',\n",
                  "       '대규모택지개발지구_N', '대규모택지개발지구_Y', '수도권내민영공공주택지구_N', '수도권내민영공공주택지구_Y',\n",
                  "       '순위_1순위', '거주지역_기타지역', '거주지역_해당지역', '공급지역코드_100', '공급지역코드_400',\n",
                  "       '공급지역코드_410'],\n",
                  "      dtype='object')\n",
                  "⚠️ Warning: 새로운 법정동코드 발견 {'4146510300.0', '1123010700.0', '4139012700.0', '4148025327.0', '4111514000.0', '4161011100.0', '4137012200.0'}. 'unknown'으로 대체합니다.\n",
                  "Index(['공급지역코드', '공급규모', '투기과열지구', '조정대상지역', '분양가상한제', '정비사업', '공공주택지구',\n",
                  "       '대규모택지개발지구', '수도권내민영공공주택지구', '공급세대수', '순위', '거주지역', '접수건수', '경쟁률',\n",
                  "       '토픽 1', '토픽 2', '토픽 3', '토픽 4', '토픽 5', '토픽 6', '토픽 7', '전용면적',\n",
                  "       '공급금액(최고가 기준)', '법정동코드', '거래금액(만원)', '전용면적당 시세차익'],\n",
                  "      dtype='object')\n",
                  "Index(['공급규모', '공급세대수', '접수건수', '경쟁률', '토픽 1', '토픽 2', '토픽 3', '토픽 4', '토픽 5',\n",
                  "       '토픽 6', '토픽 7', '전용면적', '공급금액(최고가 기준)', '법정동코드', '거래금액(만원)',\n",
                  "       '전용면적당 시세차익', '투기과열지구_N', '투기과열지구_Y', '조정대상지역_N', '조정대상지역_Y',\n",
                  "       '분양가상한제_N', '분양가상한제_Y', '정비사업_N', '정비사업_Y', '공공주택지구_N', '공공주택지구_Y',\n",
                  "       '대규모택지개발지구_N', '대규모택지개발지구_Y', '수도권내민영공공주택지구_N', '수도권내민영공공주택지구_Y',\n",
                  "       '순위_1순위', '거주지역_기타지역', '거주지역_해당지역', '공급지역코드_100', '공급지역코드_400',\n",
                  "       '공급지역코드_410'],\n",
                  "      dtype='object')\n"
               ]
            },
            {
               "name": "stderr",
               "output_type": "stream",
               "text": [
                  "c:\\Users\\user\\anaconda3\\envs\\venv\\Lib\\site-packages\\sklearn\\pipeline.py:62: FutureWarning: This Pipeline instance is not fitted yet. Call 'fit' with appropriate arguments before using other methods such as transform, predict, etc. This will raise an error in 1.8 instead of the current warning.\n",
                  "  warnings.warn(\n",
                  "c:\\Users\\user\\anaconda3\\envs\\venv\\Lib\\site-packages\\sklearn\\pipeline.py:62: FutureWarning: This Pipeline instance is not fitted yet. Call 'fit' with appropriate arguments before using other methods such as transform, predict, etc. This will raise an error in 1.8 instead of the current warning.\n",
                  "  warnings.warn(\n"
               ]
            }
         ],
         "source": [
            "feature_pipeline = pipeline2()\n",
            "\n",
            "# 학습 데이터(X_train)에 fit\n",
            "feature_pipeline.fit(X_train)\n",
            "\n",
            "# 학습 데이터(X_train)를 변환\n",
            "X_train_transformed = feature_pipeline.transform(X_train)\n",
            "\n",
            "# 테스트 데이터(X_test)를 변환\n",
            "X_test_transformed = feature_pipeline.transform(X_test)"
         ]
      },
      {
         "cell_type": "code",
         "execution_count": 9,
         "metadata": {},
         "outputs": [
            {
               "data": {
                  "text/plain": [
                     "['./storage/trained_pipeline/pipeline_0.0.1.pkl']"
                  ]
               },
               "execution_count": 9,
               "metadata": {},
               "output_type": "execute_result"
            }
         ],
         "source": [
            "joblib.dump(feature_pipeline, \"./storage/trained_pipeline/pipeline_0.0.1.pkl\")"
         ]
      },
      {
         "cell_type": "code",
         "execution_count": 10,
         "metadata": {},
         "outputs": [
            {
               "name": "stdout",
               "output_type": "stream",
               "text": [
                  "<class 'pandas.core.frame.DataFrame'>\n",
                  "Index: 2373 entries, 2316 to 1827\n",
                  "Data columns (total 36 columns):\n",
                  " #   Column          Non-Null Count  Dtype  \n",
                  "---  ------          --------------  -----  \n",
                  " 0   공급규모            2373 non-null   float64\n",
                  " 1   공급세대수           2373 non-null   float64\n",
                  " 2   접수건수            2373 non-null   float64\n",
                  " 3   경쟁률             2373 non-null   float64\n",
                  " 4   토픽 1            2373 non-null   float64\n",
                  " 5   토픽 2            2373 non-null   float64\n",
                  " 6   토픽 3            2373 non-null   float64\n",
                  " 7   토픽 4            2373 non-null   float64\n",
                  " 8   토픽 5            2373 non-null   float64\n",
                  " 9   토픽 6            2373 non-null   float64\n",
                  " 10  토픽 7            2373 non-null   float64\n",
                  " 11  전용면적            2373 non-null   float64\n",
                  " 12  공급금액(최고가 기준)    2373 non-null   float64\n",
                  " 13  법정동코드           2373 non-null   int64  \n",
                  " 14  거래금액(만원)        2064 non-null   float64\n",
                  " 15  전용면적당 시세차익      2373 non-null   float64\n",
                  " 16  투기과열지구_N        2373 non-null   bool   \n",
                  " 17  투기과열지구_Y        2373 non-null   bool   \n",
                  " 18  조정대상지역_N        2373 non-null   bool   \n",
                  " 19  조정대상지역_Y        2373 non-null   bool   \n",
                  " 20  분양가상한제_N        2373 non-null   bool   \n",
                  " 21  분양가상한제_Y        2373 non-null   bool   \n",
                  " 22  정비사업_N          2373 non-null   bool   \n",
                  " 23  정비사업_Y          2373 non-null   bool   \n",
                  " 24  공공주택지구_N        2373 non-null   bool   \n",
                  " 25  공공주택지구_Y        2373 non-null   bool   \n",
                  " 26  대규모택지개발지구_N     2373 non-null   bool   \n",
                  " 27  대규모택지개발지구_Y     2373 non-null   bool   \n",
                  " 28  수도권내민영공공주택지구_N  2373 non-null   bool   \n",
                  " 29  수도권내민영공공주택지구_Y  2373 non-null   bool   \n",
                  " 30  순위_1순위          2373 non-null   bool   \n",
                  " 31  거주지역_기타지역       2373 non-null   bool   \n",
                  " 32  거주지역_해당지역       2373 non-null   bool   \n",
                  " 33  공급지역코드_100      2373 non-null   bool   \n",
                  " 34  공급지역코드_400      2373 non-null   bool   \n",
                  " 35  공급지역코드_410      2373 non-null   bool   \n",
                  "dtypes: bool(20), float64(15), int64(1)\n",
                  "memory usage: 361.5 KB\n"
               ]
            }
         ],
         "source": [
            "X_train_transformed.info()"
         ]
      },
      {
         "cell_type": "code",
         "execution_count": 11,
         "metadata": {},
         "outputs": [
            {
               "name": "stdout",
               "output_type": "stream",
               "text": [
                  "RMSE: 5.382319259023994\n",
                  "R^2 Score: 0.8738427084250787\n"
               ]
            }
         ],
         "source": [
            "# TODO: 여러 모델 학습 및 하이퍼파라미터 최적화\n",
            "\n",
            "model = RandomForestRegressor(\n",
            "    n_estimators=100,\n",
            "    max_depth=None,\n",
            "    random_state=42\n",
            ")\n",
            "\n",
            "# 모델 학습\n",
            "model.fit(X_train_transformed, y_train)\n",
            "\n",
            "# 예측\n",
            "y_pred = model.predict(X_test_transformed)\n",
            "\n",
            "# 평가 (RMSE와 R^2 계산)\n",
            "rmse = np.sqrt(mean_squared_error(y_test, y_pred))\n",
            "r2 = r2_score(y_test, y_pred)\n",
            "\n",
            "print(\"RMSE:\", rmse) # 낮을수록 좋음\n",
            "print(\"R^2 Score:\", r2) # 1에 가까울수록 좋음"
         ]
      },
      {
         "cell_type": "markdown",
         "metadata": {},
         "source": [
            "### 모델 저장 "
         ]
      },
      {
         "cell_type": "code",
         "execution_count": 12,
         "metadata": {},
         "outputs": [
            {
               "data": {
                  "text/plain": [
                     "['./storage/trained_model/model_0.0.2.pkl']"
                  ]
               },
               "execution_count": 12,
               "metadata": {},
               "output_type": "execute_result"
            }
         ],
         "source": [
            "# 모델 저장 및 로드\n",
            "\n",
            "version = '0.0.2'\n",
            "\n",
            "# 모델 저장\n",
            "joblib.dump(model, f\"./storage/trained_model/model_{version}.pkl\")"
         ]
      },
      {
         "cell_type": "code",
         "execution_count": 8,
         "metadata": {},
         "outputs": [],
         "source": [
            "# 모델 로드\n",
            "loaded_model = joblib.load(\"./storage/trained_model/model_0.0.1.pkl\")\n",
            "\n",
            "# 예측\n",
            "# X_test = np.array([[1, 2]])\n",
            "# prediction = loaded_model.predict(X_test)\n",
            "# print(\"Prediction:\", prediction)"
         ]
      }
   ],
   "metadata": {
      "kernelspec": {
         "display_name": "venv",
         "language": "python",
         "name": "python3"
      },
      "language_info": {
         "codemirror_mode": {
            "name": "ipython",
            "version": 3
         },
         "file_extension": ".py",
         "mimetype": "text/x-python",
         "name": "python",
         "nbconvert_exporter": "python",
         "pygments_lexer": "ipython3",
         "version": "3.11.11"
      }
   },
   "nbformat": 4,
   "nbformat_minor": 2
}
