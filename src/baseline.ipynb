{
   "cells": [
      {
         "cell_type": "code",
<<<<<<< Updated upstream
         "execution_count": 1,
=======
         "execution_count": 7,
>>>>>>> Stashed changes
         "metadata": {},
         "outputs": [],
         "source": [
            "import pandas as pd\n",
            "import numpy as np\n",
            "\n",
            "from sklearn.ensemble import RandomForestRegressor\n",
            "from sklearn.model_selection import train_test_split\n",
            "from sklearn.metrics import mean_squared_error, r2_score\n",
            "\n",
            "import joblib\n",
            "\n",
            "from data_preprocessing import pipeline\n",
            "from feature_preprocessing import pipeline2"
         ]
      },
      {
         "cell_type": "code",
         "execution_count": 2,
         "metadata": {},
         "outputs": [],
         "source": [
            "import matplotlib.pyplot as plt\n",
            "plt.rcParams['font.family'] ='Malgun Gothic'\n",
            "plt.rcParams['axes.unicode_minus'] =False"
         ]
      },
      {
         "cell_type": "markdown",
         "metadata": {},
         "source": [
            "### 데이터 전처리"
         ]
      },
      {
         "cell_type": "code",
<<<<<<< Updated upstream
         "execution_count": 3,
=======
         "execution_count": 9,
>>>>>>> Stashed changes
         "metadata": {},
         "outputs": [
            {
               "name": "stderr",
               "output_type": "stream",
               "text": [
<<<<<<< Updated upstream
                  "C:\\Users\\user\\AppData\\Local\\Temp\\ipykernel_13472\\3828398876.py:4: DtypeWarning: Columns (48) have mixed types. Specify dtype option on import or set low_memory=False.\n",
=======
                  "C:\\Users\\user\\AppData\\Local\\Temp\\ipykernel_8608\\1451655424.py:2: DtypeWarning: Columns (48) have mixed types. Specify dtype option on import or set low_memory=False.\n",
                  "  df = pd.read_csv(file_path)\n"
               ]
            }
         ],
         "source": [
            "file_path = \"./storage/raw_data/병합_청약매물_목록_정보_픽스2.csv\"\n",
            "df = pd.read_csv(file_path)"
         ]
      },
      {
         "cell_type": "code",
         "execution_count": 10,
         "metadata": {},
         "outputs": [
            {
               "name": "stderr",
               "output_type": "stream",
               "text": [
                  "C:\\Users\\user\\AppData\\Local\\Temp\\ipykernel_8608\\2674009195.py:4: DtypeWarning: Columns (48) have mixed types. Specify dtype option on import or set low_memory=False.\n",
>>>>>>> Stashed changes
                  "  df = pd.read_csv(file_path)\n",
                  "c:\\Users\\user\\mid_project\\src\\data_preprocessing.py:146: DtypeWarning: Columns (36,48) have mixed types. Specify dtype option on import or set low_memory=False.\n",
                  "  df_estate_price = pd.read_csv(csv_path, encoding=\"cp949\")\n",
<<<<<<< Updated upstream
                  "c:\\Users\\user\\mid_project\\src\\data_preprocessing.py:329: FutureWarning: A value is trying to be set on a copy of a DataFrame or Series through chained assignment using an inplace method.\n",
=======
                  "c:\\Users\\user\\developments\\hk-project\\src\\data_preprocessing.py:330: FutureWarning: A value is trying to be set on a copy of a DataFrame or Series through chained assignment using an inplace method.\n",
>>>>>>> Stashed changes
                  "The behavior will change in pandas 3.0. This inplace method will never work because the intermediate object on which we are setting values always behaves as a copy.\n",
                  "\n",
                  "For example, when doing 'df[col].method(value, inplace=True)', try using 'df.method({col: value}, inplace=True)' or df[col] = df[col].method(value) instead, to perform the operation inplace on the original object.\n",
                  "\n",
                  "\n",
                  "  df['최저당첨가점'].fillna(0, inplace=True)\n"
               ]
            }
         ],
         "source": [
            "# 로우 데이터 불러오기\n",
            "file_path = \"./storage/raw_data/병합_청약매물_목록_정보_픽스2.csv\"\n",
            "# df = pd.read_csv(file_path, encoding ='cp949')\n",
            "df = pd.read_csv(file_path)\n",
            "\n",
            "# 데이터 전처리````\n",
            "preprocessing_pipeline = pipeline(type='train')\n",
            "df = preprocessing_pipeline.transform(df)\n",
            "\n",
            "# 파일 저장\n",
<<<<<<< Updated upstream
            "file_version = \"3트_시세차익X\"\n",
=======
            "file_version = \"250320-01\"\n",
>>>>>>> Stashed changes
            "output_file = f\"./storage/train_data/train-{file_version}.csv\"\n",
            "df.to_csv(output_file, index=False, encoding='cp949')"
         ]
      },
      {
<<<<<<< Updated upstream
         "cell_type": "code",
         "execution_count": 4,
         "metadata": {},
         "outputs": [
            {
               "name": "stdout",
               "output_type": "stream",
               "text": [
                  "<class 'pandas.core.frame.DataFrame'>\n",
                  "Index: 2981 entries, 44 to 17246\n",
                  "Data columns (total 27 columns):\n",
                  " #   Column        Non-Null Count  Dtype  \n",
                  "---  ------        --------------  -----  \n",
                  " 0   공급지역코드        2981 non-null   int64  \n",
                  " 1   공급규모          2981 non-null   int64  \n",
                  " 2   투기과열지구        2981 non-null   object \n",
                  " 3   조정대상지역        2981 non-null   object \n",
                  " 4   분양가상한제        2981 non-null   object \n",
                  " 5   정비사업          2981 non-null   object \n",
                  " 6   공공주택지구        2981 non-null   object \n",
                  " 7   대규모택지개발지구     2981 non-null   object \n",
                  " 8   수도권내민영공공주택지구  2981 non-null   object \n",
                  " 9   공급세대수         2981 non-null   int64  \n",
                  " 10  순위            2981 non-null   object \n",
                  " 11  거주지역          2981 non-null   object \n",
                  " 12  접수건수          2981 non-null   int64  \n",
                  " 13  경쟁률           2981 non-null   float64\n",
                  " 14  최저당첨가점        2981 non-null   float64\n",
                  " 15  토픽 1          2981 non-null   float64\n",
                  " 16  토픽 2          2981 non-null   float64\n",
                  " 17  토픽 3          2981 non-null   float64\n",
                  " 18  토픽 4          2981 non-null   float64\n",
                  " 19  토픽 5          2981 non-null   float64\n",
                  " 20  토픽 6          2981 non-null   float64\n",
                  " 21  토픽 7          2981 non-null   float64\n",
                  " 22  전용면적          2981 non-null   float64\n",
                  " 23  공급금액(최고가 기준)  2981 non-null   float64\n",
                  " 24  법정동코드         2981 non-null   float64\n",
                  " 25  거래금액(만원)      2595 non-null   float64\n",
                  " 26  전용면적당 시세차익    2981 non-null   float64\n",
                  "dtypes: float64(14), int64(4), object(9)\n",
                  "memory usage: 652.1+ KB\n"
               ]
            }
         ],
         "source": [
            "df.info()"
         ]
      },
      {
=======
>>>>>>> Stashed changes
         "cell_type": "markdown",
         "metadata": {},
         "source": [
            "### 모델 학습 및 평가"
         ]
      },
      {
         "cell_type": "code",
<<<<<<< Updated upstream
         "execution_count": null,
=======
         "execution_count": 11,
>>>>>>> Stashed changes
         "metadata": {},
         "outputs": [],
         "source": [
            "# 전처리된 데이터 가져오기\n",
            "\n",
<<<<<<< Updated upstream
            "file_version = \"250317-01\"\n",
            "file_path = f\"./storage/train_data/t``ain-{file_version}.csv\"\n",
            "df = pd.read_csv(file_path, encoding='cp949')\n",
            "\n",
            "# df = pd.read_csv(\"./storage/train_data/train-2트_시세차익o.csv\", encoding = 'cp949')"
=======
            "file_path = f\"./storage/train_data/train-{file_version}.csv\"\n",
            "df = pd.read_csv(file_path, encoding = 'cp949')"
>>>>>>> Stashed changes
         ]
      },
      {
         "cell_type": "code",
<<<<<<< Updated upstream
         "execution_count": 6,
         "metadata": {},
         "outputs": [
            {
               "data": {
                  "text/html": [
                     "<div>\n",
                     "<style scoped>\n",
                     "    .dataframe tbody tr th:only-of-type {\n",
                     "        vertical-align: middle;\n",
                     "    }\n",
                     "\n",
                     "    .dataframe tbody tr th {\n",
                     "        vertical-align: top;\n",
                     "    }\n",
                     "\n",
                     "    .dataframe thead th {\n",
                     "        text-align: right;\n",
                     "    }\n",
                     "</style>\n",
                     "<table border=\"1\" class=\"dataframe\">\n",
                     "  <thead>\n",
                     "    <tr style=\"text-align: right;\">\n",
                     "      <th></th>\n",
                     "      <th>공급지역코드</th>\n",
                     "      <th>공급규모</th>\n",
                     "      <th>투기과열지구</th>\n",
                     "      <th>조정대상지역</th>\n",
                     "      <th>분양가상한제</th>\n",
                     "      <th>정비사업</th>\n",
                     "      <th>공공주택지구</th>\n",
                     "      <th>대규모택지개발지구</th>\n",
                     "      <th>수도권내민영공공주택지구</th>\n",
                     "      <th>공급세대수</th>\n",
                     "      <th>...</th>\n",
                     "      <th>토픽 3</th>\n",
                     "      <th>토픽 4</th>\n",
                     "      <th>토픽 5</th>\n",
                     "      <th>토픽 6</th>\n",
                     "      <th>토픽 7</th>\n",
                     "      <th>전용면적</th>\n",
                     "      <th>공급금액(최고가 기준)</th>\n",
                     "      <th>법정동코드</th>\n",
                     "      <th>거래금액(만원)</th>\n",
                     "      <th>전용면적당 시세차익</th>\n",
                     "    </tr>\n",
                     "  </thead>\n",
                     "  <tbody>\n",
                     "    <tr>\n",
                     "      <th>0</th>\n",
                     "      <td>400</td>\n",
                     "      <td>29</td>\n",
                     "      <td>N</td>\n",
                     "      <td>N</td>\n",
                     "      <td>N</td>\n",
                     "      <td>Y</td>\n",
                     "      <td>N</td>\n",
                     "      <td>N</td>\n",
                     "      <td>N</td>\n",
                     "      <td>5</td>\n",
                     "      <td>...</td>\n",
                     "      <td>0.001200</td>\n",
                     "      <td>0.001167</td>\n",
                     "      <td>0.050333</td>\n",
                     "      <td>0.001200</td>\n",
                     "      <td>0.924133</td>\n",
                     "      <td>59.9393</td>\n",
                     "      <td>4.497000e+08</td>\n",
                     "      <td>2.817710e+09</td>\n",
                     "      <td>16300.000000</td>\n",
                     "      <td>7.502304e+06</td>\n",
                     "    </tr>\n",
                     "    <tr>\n",
                     "      <th>1</th>\n",
                     "      <td>400</td>\n",
                     "      <td>29</td>\n",
                     "      <td>N</td>\n",
                     "      <td>N</td>\n",
                     "      <td>N</td>\n",
                     "      <td>Y</td>\n",
                     "      <td>N</td>\n",
                     "      <td>N</td>\n",
                     "      <td>N</td>\n",
                     "      <td>4</td>\n",
                     "      <td>...</td>\n",
                     "      <td>0.001200</td>\n",
                     "      <td>0.001167</td>\n",
                     "      <td>0.050333</td>\n",
                     "      <td>0.001200</td>\n",
                     "      <td>0.924133</td>\n",
                     "      <td>74.9227</td>\n",
                     "      <td>5.675000e+08</td>\n",
                     "      <td>2.817710e+09</td>\n",
                     "      <td>16300.000000</td>\n",
                     "      <td>7.574187e+06</td>\n",
                     "    </tr>\n",
                     "    <tr>\n",
                     "      <th>2</th>\n",
                     "      <td>100</td>\n",
                     "      <td>482</td>\n",
                     "      <td>Y</td>\n",
                     "      <td>Y</td>\n",
                     "      <td>Y</td>\n",
                     "      <td>Y</td>\n",
                     "      <td>N</td>\n",
                     "      <td>N</td>\n",
                     "      <td>N</td>\n",
                     "      <td>35</td>\n",
                     "      <td>...</td>\n",
                     "      <td>0.001267</td>\n",
                     "      <td>0.719333</td>\n",
                     "      <td>0.002967</td>\n",
                     "      <td>0.001267</td>\n",
                     "      <td>0.037367</td>\n",
                     "      <td>59.9800</td>\n",
                     "      <td>1.724700e+09</td>\n",
                     "      <td>1.165010e+09</td>\n",
                     "      <td>203726.315789</td>\n",
                     "      <td>2.875227e+07</td>\n",
                     "    </tr>\n",
                     "    <tr>\n",
                     "      <th>3</th>\n",
                     "      <td>100</td>\n",
                     "      <td>482</td>\n",
                     "      <td>Y</td>\n",
                     "      <td>Y</td>\n",
                     "      <td>Y</td>\n",
                     "      <td>Y</td>\n",
                     "      <td>N</td>\n",
                     "      <td>N</td>\n",
                     "      <td>N</td>\n",
                     "      <td>30</td>\n",
                     "      <td>...</td>\n",
                     "      <td>0.001267</td>\n",
                     "      <td>0.719333</td>\n",
                     "      <td>0.002967</td>\n",
                     "      <td>0.001267</td>\n",
                     "      <td>0.037367</td>\n",
                     "      <td>59.9500</td>\n",
                     "      <td>1.760600e+09</td>\n",
                     "      <td>1.165010e+09</td>\n",
                     "      <td>203726.315789</td>\n",
                     "      <td>2.936549e+07</td>\n",
                     "    </tr>\n",
                     "    <tr>\n",
                     "      <th>4</th>\n",
                     "      <td>100</td>\n",
                     "      <td>482</td>\n",
                     "      <td>Y</td>\n",
                     "      <td>Y</td>\n",
                     "      <td>Y</td>\n",
                     "      <td>Y</td>\n",
                     "      <td>N</td>\n",
                     "      <td>N</td>\n",
                     "      <td>N</td>\n",
                     "      <td>14</td>\n",
                     "      <td>...</td>\n",
                     "      <td>0.001267</td>\n",
                     "      <td>0.719333</td>\n",
                     "      <td>0.002967</td>\n",
                     "      <td>0.001267</td>\n",
                     "      <td>0.037367</td>\n",
                     "      <td>59.7800</td>\n",
                     "      <td>1.796500e+09</td>\n",
                     "      <td>1.165010e+09</td>\n",
                     "      <td>203726.315789</td>\n",
                     "      <td>3.004954e+07</td>\n",
                     "    </tr>\n",
                     "    <tr>\n",
                     "      <th>...</th>\n",
                     "      <td>...</td>\n",
                     "      <td>...</td>\n",
                     "      <td>...</td>\n",
                     "      <td>...</td>\n",
                     "      <td>...</td>\n",
                     "      <td>...</td>\n",
                     "      <td>...</td>\n",
                     "      <td>...</td>\n",
                     "      <td>...</td>\n",
                     "      <td>...</td>\n",
                     "      <td>...</td>\n",
                     "      <td>...</td>\n",
                     "      <td>...</td>\n",
                     "      <td>...</td>\n",
                     "      <td>...</td>\n",
                     "      <td>...</td>\n",
                     "      <td>...</td>\n",
                     "      <td>...</td>\n",
                     "      <td>...</td>\n",
                     "      <td>...</td>\n",
                     "      <td>...</td>\n",
                     "    </tr>\n",
                     "    <tr>\n",
                     "      <th>2976</th>\n",
                     "      <td>410</td>\n",
                     "      <td>747</td>\n",
                     "      <td>N</td>\n",
                     "      <td>N</td>\n",
                     "      <td>Y</td>\n",
                     "      <td>N</td>\n",
                     "      <td>Y</td>\n",
                     "      <td>Y</td>\n",
                     "      <td>Y</td>\n",
                     "      <td>161</td>\n",
                     "      <td>...</td>\n",
                     "      <td>0.000900</td>\n",
                     "      <td>0.517567</td>\n",
                     "      <td>0.168600</td>\n",
                     "      <td>0.007433</td>\n",
                     "      <td>0.085333</td>\n",
                     "      <td>84.1316</td>\n",
                     "      <td>4.252000e+08</td>\n",
                     "      <td>4.139013e+09</td>\n",
                     "      <td>23772.471910</td>\n",
                     "      <td>5.053664e+06</td>\n",
                     "    </tr>\n",
                     "    <tr>\n",
                     "      <th>2977</th>\n",
                     "      <td>410</td>\n",
                     "      <td>747</td>\n",
                     "      <td>N</td>\n",
                     "      <td>N</td>\n",
                     "      <td>Y</td>\n",
                     "      <td>N</td>\n",
                     "      <td>Y</td>\n",
                     "      <td>Y</td>\n",
                     "      <td>Y</td>\n",
                     "      <td>57</td>\n",
                     "      <td>...</td>\n",
                     "      <td>0.000900</td>\n",
                     "      <td>0.517567</td>\n",
                     "      <td>0.168600</td>\n",
                     "      <td>0.007433</td>\n",
                     "      <td>0.085333</td>\n",
                     "      <td>84.3852</td>\n",
                     "      <td>4.231000e+08</td>\n",
                     "      <td>4.139013e+09</td>\n",
                     "      <td>23772.471910</td>\n",
                     "      <td>5.013590e+06</td>\n",
                     "    </tr>\n",
                     "    <tr>\n",
                     "      <th>2978</th>\n",
                     "      <td>410</td>\n",
                     "      <td>747</td>\n",
                     "      <td>N</td>\n",
                     "      <td>N</td>\n",
                     "      <td>Y</td>\n",
                     "      <td>N</td>\n",
                     "      <td>Y</td>\n",
                     "      <td>Y</td>\n",
                     "      <td>Y</td>\n",
                     "      <td>57</td>\n",
                     "      <td>...</td>\n",
                     "      <td>0.000900</td>\n",
                     "      <td>0.517567</td>\n",
                     "      <td>0.168600</td>\n",
                     "      <td>0.007433</td>\n",
                     "      <td>0.085333</td>\n",
                     "      <td>84.3852</td>\n",
                     "      <td>4.231000e+08</td>\n",
                     "      <td>4.139013e+09</td>\n",
                     "      <td>23772.471910</td>\n",
                     "      <td>5.013590e+06</td>\n",
                     "    </tr>\n",
                     "    <tr>\n",
                     "      <th>2979</th>\n",
                     "      <td>410</td>\n",
                     "      <td>747</td>\n",
                     "      <td>N</td>\n",
                     "      <td>N</td>\n",
                     "      <td>Y</td>\n",
                     "      <td>N</td>\n",
                     "      <td>Y</td>\n",
                     "      <td>Y</td>\n",
                     "      <td>Y</td>\n",
                     "      <td>216</td>\n",
                     "      <td>...</td>\n",
                     "      <td>0.000900</td>\n",
                     "      <td>0.517567</td>\n",
                     "      <td>0.168600</td>\n",
                     "      <td>0.007433</td>\n",
                     "      <td>0.085333</td>\n",
                     "      <td>84.3832</td>\n",
                     "      <td>4.272000e+08</td>\n",
                     "      <td>4.139013e+09</td>\n",
                     "      <td>23772.471910</td>\n",
                     "      <td>5.062296e+06</td>\n",
                     "    </tr>\n",
                     "    <tr>\n",
                     "      <th>2980</th>\n",
                     "      <td>410</td>\n",
                     "      <td>747</td>\n",
                     "      <td>N</td>\n",
                     "      <td>N</td>\n",
                     "      <td>Y</td>\n",
                     "      <td>N</td>\n",
                     "      <td>Y</td>\n",
                     "      <td>Y</td>\n",
                     "      <td>Y</td>\n",
                     "      <td>216</td>\n",
                     "      <td>...</td>\n",
                     "      <td>0.000900</td>\n",
                     "      <td>0.517567</td>\n",
                     "      <td>0.168600</td>\n",
                     "      <td>0.007433</td>\n",
                     "      <td>0.085333</td>\n",
                     "      <td>84.3832</td>\n",
                     "      <td>4.272000e+08</td>\n",
                     "      <td>4.139013e+09</td>\n",
                     "      <td>23772.471910</td>\n",
                     "      <td>5.062296e+06</td>\n",
                     "    </tr>\n",
                     "  </tbody>\n",
                     "</table>\n",
                     "<p>2981 rows × 27 columns</p>\n",
                     "</div>"
                  ],
                  "text/plain": [
                     "      공급지역코드  공급규모 투기과열지구 조정대상지역 분양가상한제 정비사업 공공주택지구 대규모택지개발지구 수도권내민영공공주택지구  \\\n",
                     "0        400    29      N      N      N    Y      N         N            N   \n",
                     "1        400    29      N      N      N    Y      N         N            N   \n",
                     "2        100   482      Y      Y      Y    Y      N         N            N   \n",
                     "3        100   482      Y      Y      Y    Y      N         N            N   \n",
                     "4        100   482      Y      Y      Y    Y      N         N            N   \n",
                     "...      ...   ...    ...    ...    ...  ...    ...       ...          ...   \n",
                     "2976     410   747      N      N      Y    N      Y         Y            Y   \n",
                     "2977     410   747      N      N      Y    N      Y         Y            Y   \n",
                     "2978     410   747      N      N      Y    N      Y         Y            Y   \n",
                     "2979     410   747      N      N      Y    N      Y         Y            Y   \n",
                     "2980     410   747      N      N      Y    N      Y         Y            Y   \n",
                     "\n",
                     "      공급세대수  ...      토픽 3      토픽 4      토픽 5      토픽 6      토픽 7     전용면적  \\\n",
                     "0         5  ...  0.001200  0.001167  0.050333  0.001200  0.924133  59.9393   \n",
                     "1         4  ...  0.001200  0.001167  0.050333  0.001200  0.924133  74.9227   \n",
                     "2        35  ...  0.001267  0.719333  0.002967  0.001267  0.037367  59.9800   \n",
                     "3        30  ...  0.001267  0.719333  0.002967  0.001267  0.037367  59.9500   \n",
                     "4        14  ...  0.001267  0.719333  0.002967  0.001267  0.037367  59.7800   \n",
                     "...     ...  ...       ...       ...       ...       ...       ...      ...   \n",
                     "2976    161  ...  0.000900  0.517567  0.168600  0.007433  0.085333  84.1316   \n",
                     "2977     57  ...  0.000900  0.517567  0.168600  0.007433  0.085333  84.3852   \n",
                     "2978     57  ...  0.000900  0.517567  0.168600  0.007433  0.085333  84.3852   \n",
                     "2979    216  ...  0.000900  0.517567  0.168600  0.007433  0.085333  84.3832   \n",
                     "2980    216  ...  0.000900  0.517567  0.168600  0.007433  0.085333  84.3832   \n",
                     "\n",
                     "      공급금액(최고가 기준)         법정동코드       거래금액(만원)    전용면적당 시세차익  \n",
                     "0     4.497000e+08  2.817710e+09   16300.000000  7.502304e+06  \n",
                     "1     5.675000e+08  2.817710e+09   16300.000000  7.574187e+06  \n",
                     "2     1.724700e+09  1.165010e+09  203726.315789  2.875227e+07  \n",
                     "3     1.760600e+09  1.165010e+09  203726.315789  2.936549e+07  \n",
                     "4     1.796500e+09  1.165010e+09  203726.315789  3.004954e+07  \n",
                     "...            ...           ...            ...           ...  \n",
                     "2976  4.252000e+08  4.139013e+09   23772.471910  5.053664e+06  \n",
                     "2977  4.231000e+08  4.139013e+09   23772.471910  5.013590e+06  \n",
                     "2978  4.231000e+08  4.139013e+09   23772.471910  5.013590e+06  \n",
                     "2979  4.272000e+08  4.139013e+09   23772.471910  5.062296e+06  \n",
                     "2980  4.272000e+08  4.139013e+09   23772.471910  5.062296e+06  \n",
                     "\n",
                     "[2981 rows x 27 columns]"
                  ]
               },
               "execution_count": 6,
               "metadata": {},
               "output_type": "execute_result"
            }
         ],
         "source": [
            "df"
         ]
      },
      {
         "cell_type": "code",
         "execution_count": null,
=======
         "execution_count": 12,
>>>>>>> Stashed changes
         "metadata": {},
         "outputs": [],
         "source": [
            "X = df.drop(columns=[\"최저당첨가점\"])\n",
            "Y = df[\"최저당첨가점\"]\n",
            "\n",
            "X_train, X_test, y_train, y_test = train_test_split(\n",
            "    X,  # 타겟(최저당첨가점) 제외\n",
            "    Y,  # 타겟\n",
            "    test_size=0.2,\n",
            "    random_state=42\n",
            ")"
         ]
      },
      {
         "cell_type": "code",
<<<<<<< Updated upstream
         "execution_count": 4,
=======
         "execution_count": 13,
>>>>>>> Stashed changes
         "metadata": {},
         "outputs": [
            {
               "name": "stdout",
               "output_type": "stream",
               "text": [
                  "Index(['공급지역코드', '공급규모', '투기과열지구', '조정대상지역', '분양가상한제', '정비사업', '공공주택지구',\n",
                  "       '대규모택지개발지구', '수도권내민영공공주택지구', '공급세대수', '순위', '거주지역', '접수건수', '경쟁률',\n",
                  "       '토픽 1', '토픽 2', '토픽 3', '토픽 4', '토픽 5', '토픽 6', '토픽 7', '법정동코드',\n",
                  "       '시세차익'],\n",
                  "      dtype='object')\n",
                  "Index(['공급규모', '공급세대수', '접수건수', '경쟁률', '토픽 1', '토픽 2', '토픽 3', '토픽 4', '토픽 5',\n",
                  "       '토픽 6', '토픽 7', '법정동코드', '시세차익', '투기과열지구_N', '투기과열지구_Y', '조정대상지역_N',\n",
                  "       '조정대상지역_Y', '분양가상한제_N', '분양가상한제_Y', '정비사업_N', '정비사업_Y', '공공주택지구_N',\n",
                  "       '공공주택지구_Y', '대규모택지개발지구_N', '대규모택지개발지구_Y', '수도권내민영공공주택지구_N',\n",
                  "       '수도권내민영공공주택지구_Y', '순위_1순위', '거주지역_기타지역', '거주지역_해당지역', '공급지역코드_100',\n",
                  "       '공급지역코드_400', '공급지역코드_410'],\n",
                  "      dtype='object')\n",
<<<<<<< Updated upstream
                  "⚠️ Warning: 새로운 법정동코드 발견 {'4115010900.0', '2817710200.0', '4183033022.0', '1121510400.0', '4183031023.0'}. 'unknown'으로 대체합니다.\n",
=======
                  "⚠️ Warning: 새로운 법정동코드 발견 {'4146510300.0', '1156011000.0', '4136025328.0', '4139012700.0', '4122012400.0', '4125010300.0', '4128112000.0'}. 'unknown'으로 대체합니다.\n",
>>>>>>> Stashed changes
                  "Index(['공급지역코드', '공급규모', '투기과열지구', '조정대상지역', '분양가상한제', '정비사업', '공공주택지구',\n",
                  "       '대규모택지개발지구', '수도권내민영공공주택지구', '공급세대수', '순위', '거주지역', '접수건수', '경쟁률',\n",
                  "       '토픽 1', '토픽 2', '토픽 3', '토픽 4', '토픽 5', '토픽 6', '토픽 7', '법정동코드',\n",
                  "       '시세차익'],\n",
                  "      dtype='object')\n",
                  "Index(['공급규모', '공급세대수', '접수건수', '경쟁률', '토픽 1', '토픽 2', '토픽 3', '토픽 4', '토픽 5',\n",
                  "       '토픽 6', '토픽 7', '법정동코드', '시세차익', '투기과열지구_N', '투기과열지구_Y', '조정대상지역_N',\n",
                  "       '조정대상지역_Y', '분양가상한제_N', '분양가상한제_Y', '정비사업_N', '정비사업_Y', '공공주택지구_N',\n",
                  "       '공공주택지구_Y', '대규모택지개발지구_N', '대규모택지개발지구_Y', '수도권내민영공공주택지구_N',\n",
                  "       '수도권내민영공공주택지구_Y', '순위_1순위', '거주지역_기타지역', '거주지역_해당지역', '공급지역코드_100',\n",
                  "       '공급지역코드_400', '공급지역코드_410'],\n",
                  "      dtype='object')\n"
               ]
            },
            {
               "name": "stderr",
               "output_type": "stream",
               "text": [
                  "c:\\Users\\user\\anaconda3\\envs\\project-env\\Lib\\site-packages\\sklearn\\pipeline.py:62: FutureWarning: This Pipeline instance is not fitted yet. Call 'fit' with appropriate arguments before using other methods such as transform, predict, etc. This will raise an error in 1.8 instead of the current warning.\n",
                  "  warnings.warn(\n",
                  "c:\\Users\\user\\anaconda3\\envs\\project-env\\Lib\\site-packages\\sklearn\\pipeline.py:62: FutureWarning: This Pipeline instance is not fitted yet. Call 'fit' with appropriate arguments before using other methods such as transform, predict, etc. This will raise an error in 1.8 instead of the current warning.\n",
                  "  warnings.warn(\n"
               ]
            }
         ],
         "source": [
            "feature_pipeline = pipeline2()\n",
            "\n",
            "# 학습 데이터(X_train)에 fit\n",
            "feature_pipeline.fit(X_train)\n",
            "\n",
            "# 학습 데이터(X_train)를 변환\n",
            "X_train_transformed = feature_pipeline.transform(X_train)\n",
            "\n",
            "# 테스트 데이터(X_test)를 변환\n",
            "X_test_transformed = feature_pipeline.transform(X_test)"
         ]
      },
      {
         "cell_type": "markdown",
         "metadata": {},
         "source": [
            "### 학습"
         ]
      },
      {
         "cell_type": "code",
<<<<<<< Updated upstream
         "execution_count": 1,
=======
         "execution_count": 14,
>>>>>>> Stashed changes
         "metadata": {},
         "outputs": [
            {
               "data": {
                  "text/plain": [
                     "'\\nRandomforest, XGB, LGB 비교결과\\nXGB가 가장 높았지만, 성능평가에서 0.1정도의 아주 작은 차이라 더 가볍고 빠르게 돌아가는 모델인 LightGBM 이용 제안\\n추후 결정되면 코드 적어놓겠음\\n'"
                  ]
               },
<<<<<<< Updated upstream
               "execution_count": 1,
=======
               "execution_count": 14,
>>>>>>> Stashed changes
               "metadata": {},
               "output_type": "execute_result"
            }
         ],
         "source": [
<<<<<<< Updated upstream
            "# 최고당첨금액 , 최저당첨금액\n",
            "'''\n",
            "Randomforest, XGB, LGB 비교결과\n",
            "XGB가 가장 높았지만, 성능평가에서 0.1정도의 아주 작은 차이라 더 가볍고 빠르게 돌아가는 모델인 LightGBM 이용 제안\n",
            "추후 결정되면 코드 적어놓겠음\n",
            "'''"
=======
            "joblib.dump(feature_pipeline, \"./storage/trained_pipeline/pipeline_0.0.1.pkl\")"
         ]
      },
      {
         "cell_type": "code",
         "execution_count": 15,
         "metadata": {},
         "outputs": [
            {
               "name": "stdout",
               "output_type": "stream",
               "text": [
                  "<class 'pandas.core.frame.DataFrame'>\n",
                  "Index: 1496 entries, 1738 to 635\n",
                  "Data columns (total 36 columns):\n",
                  " #   Column          Non-Null Count  Dtype  \n",
                  "---  ------          --------------  -----  \n",
                  " 0   공급규모            1496 non-null   float64\n",
                  " 1   공급세대수           1496 non-null   float64\n",
                  " 2   접수건수            1496 non-null   float64\n",
                  " 3   경쟁률             1496 non-null   float64\n",
                  " 4   토픽 1            1496 non-null   float64\n",
                  " 5   토픽 2            1496 non-null   float64\n",
                  " 6   토픽 3            1496 non-null   float64\n",
                  " 7   토픽 4            1496 non-null   float64\n",
                  " 8   토픽 5            1496 non-null   float64\n",
                  " 9   토픽 6            1496 non-null   float64\n",
                  " 10  토픽 7            1496 non-null   float64\n",
                  " 11  전용면적            1496 non-null   float64\n",
                  " 12  공급금액(최고가 기준)    1496 non-null   float64\n",
                  " 13  법정동코드           1496 non-null   int64  \n",
                  " 14  거래금액(만원)        1496 non-null   float64\n",
                  " 15  전용면적당 시세차익      1496 non-null   float64\n",
                  " 16  투기과열지구_N        1496 non-null   bool   \n",
                  " 17  투기과열지구_Y        1496 non-null   bool   \n",
                  " 18  조정대상지역_N        1496 non-null   bool   \n",
                  " 19  조정대상지역_Y        1496 non-null   bool   \n",
                  " 20  분양가상한제_N        1496 non-null   bool   \n",
                  " 21  분양가상한제_Y        1496 non-null   bool   \n",
                  " 22  정비사업_N          1496 non-null   bool   \n",
                  " 23  정비사업_Y          1496 non-null   bool   \n",
                  " 24  공공주택지구_N        1496 non-null   bool   \n",
                  " 25  공공주택지구_Y        1496 non-null   bool   \n",
                  " 26  대규모택지개발지구_N     1496 non-null   bool   \n",
                  " 27  대규모택지개발지구_Y     1496 non-null   bool   \n",
                  " 28  수도권내민영공공주택지구_N  1496 non-null   bool   \n",
                  " 29  수도권내민영공공주택지구_Y  1496 non-null   bool   \n",
                  " 30  순위_1순위          1496 non-null   bool   \n",
                  " 31  거주지역_기타지역       1496 non-null   bool   \n",
                  " 32  거주지역_해당지역       1496 non-null   bool   \n",
                  " 33  공급지역코드_100      1496 non-null   bool   \n",
                  " 34  공급지역코드_400      1496 non-null   bool   \n",
                  " 35  공급지역코드_410      1496 non-null   bool   \n",
                  "dtypes: bool(20), float64(15), int64(1)\n",
                  "memory usage: 227.9 KB\n"
               ]
            }
         ],
         "source": [
            "X_train_transformed.info()"
         ]
      },
      {
         "cell_type": "code",
         "execution_count": 16,
         "metadata": {},
         "outputs": [
            {
               "name": "stdout",
               "output_type": "stream",
               "text": [
                  "RMSE: 5.573613733788513\n",
                  "R^2 Score: 0.8546882521745237\n"
               ]
            }
         ],
         "source": [
            "# TODO: 여러 모델 학습 및 하이퍼파라미터 최적화\n",
            "\n",
            "model = RandomForestRegressor(\n",
            "    n_estimators=100,\n",
            "    max_depth=None,\n",
            "    random_state=42\n",
            ")\n",
            "\n",
            "# 모델 학습\n",
            "model.fit(X_train_transformed, y_train)\n",
            "\n",
            "# 예측\n",
            "y_pred = model.predict(X_test_transformed)\n",
            "\n",
            "# 평가 (RMSE와 R^2 계산)\n",
            "rmse = np.sqrt(mean_squared_error(y_test, y_pred))\n",
            "r2 = r2_score(y_test, y_pred)\n",
            "\n",
            "print(\"RMSE:\", rmse) # 낮을수록 좋음\n",
            "print(\"R^2 Score:\", r2) # 1에 가까울수록 좋음"
>>>>>>> Stashed changes
         ]
      },
      {
         "cell_type": "markdown",
         "metadata": {},
         "source": [
            "### 모델 저장 "
         ]
      },
      {
         "cell_type": "code",
<<<<<<< Updated upstream
         "execution_count": 10,
=======
         "execution_count": 17,
>>>>>>> Stashed changes
         "metadata": {},
         "outputs": [
            {
               "data": {
                  "text/plain": [
                     "['./storage/trained_model/model_rf_grid_0.0.1.pkl']"
                  ]
               },
<<<<<<< Updated upstream
               "execution_count": 10,
=======
               "execution_count": 17,
>>>>>>> Stashed changes
               "metadata": {},
               "output_type": "execute_result"
            }
         ],
         "source": [
            "# 모델 저장 및 로드\n",
            "\n",
            "version = 'rf_grid_0.0.1'\n",
            "\n",
            "# 모델 저장\n",
            "joblib.dump(rf_model, f\"./storage/trained_model/model_{version}.pkl\")"
         ]
      },
      {
         "cell_type": "code",
         "execution_count": 8,
         "metadata": {},
         "outputs": [],
         "source": [
            "# 모델 로드\n",
            "loaded_model = joblib.load(\"./storage/trained_model/model_0.0.1.pkl\")\n",
            "\n",
            "# 예측\n",
            "# X_test = np.array([[1, 2]])\n",
            "# prediction = loaded_model.predict(X_test)\n",
            "# print(\"Prediction:\", prediction)"
         ]
      }
   ],
   "metadata": {
      "kernelspec": {
         "display_name": "env",
         "language": "python",
         "name": "python3"
      },
      "language_info": {
         "codemirror_mode": {
            "name": "ipython",
            "version": 3
         },
         "file_extension": ".py",
         "mimetype": "text/x-python",
         "name": "python",
         "nbconvert_exporter": "python",
         "pygments_lexer": "ipython3",
         "version": "3.11.11"
      }
   },
   "nbformat": 4,
   "nbformat_minor": 2
}
