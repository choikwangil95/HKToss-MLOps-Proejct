{
 "cells": [
  {
   "cell_type": "code",
   "execution_count": 5,
   "metadata": {},
   "outputs": [],
   "source": [
    "import pandas as pd\n",
    "import numpy as np\n",
    "\n",
    "from sklearn.impute import SimpleImputer\n",
    "from sklearn.preprocessing import LabelEncoder\n",
    "from sklearn.ensemble import RandomForestRegressor\n",
    "\n",
    "import joblib\n",
    "\n",
    "from data_preprocessing import pipeline"
   ]
  },
  {
   "cell_type": "code",
   "execution_count": 19,
   "metadata": {},
   "outputs": [
    {
     "name": "stdout",
     "output_type": "stream",
     "text": [
      "<class 'pandas.core.frame.DataFrame'>\n",
      "RangeIndex: 19630 entries, 0 to 19629\n",
      "Data columns (total 71 columns):\n",
      " #   Column        Non-Null Count  Dtype  \n",
      "---  ------        --------------  -----  \n",
      " 0   주택관리번호        19630 non-null  int64  \n",
      " 1   공고번호          19630 non-null  int64  \n",
      " 2   주택명           19630 non-null  object \n",
      " 3   주택구분코드        19630 non-null  int64  \n",
      " 4   주택구분코드명       19630 non-null  object \n",
      " 5   주택상세구분코드      19630 non-null  int64  \n",
      " 6   주택상세구분코드명     19630 non-null  object \n",
      " 7   분양구분코드        19630 non-null  int64  \n",
      " 8   분양구분코드명       19630 non-null  object \n",
      " 9   공급지역코드        19630 non-null  int64  \n",
      " 10  공급지역명         19630 non-null  object \n",
      " 11  공급위치우편번호      19630 non-null  int64  \n",
      " 12  공급위치          19630 non-null  object \n",
      " 13  공급규모          19630 non-null  int64  \n",
      " 14  모집공고일         19630 non-null  object \n",
      " 15  청약접수시작일       19630 non-null  object \n",
      " 16  청약접수종료일       19630 non-null  object \n",
      " 17  특별공급접수시작일     18076 non-null  object \n",
      " 18  특별공급접수종료일     18076 non-null  object \n",
      " 19  해당지역1순위접수시작일  19630 non-null  object \n",
      " 20  해당지역1순위접수종료일  19630 non-null  object \n",
      " 21  경기지역1순위접수시작일  4158 non-null   object \n",
      " 22  경기지역1순위접수종료일  4158 non-null   object \n",
      " 23  기타지역1순위접수시작일  19630 non-null  object \n",
      " 24  기타지역1순위접수종료일  19630 non-null  object \n",
      " 25  해당지역2순위접수시작일  19630 non-null  object \n",
      " 26  해당지역2순위접수종료일  19630 non-null  object \n",
      " 27  경기지역2순위접수시작일  4158 non-null   object \n",
      " 28  경기지역2순위접수종료일  4158 non-null   object \n",
      " 29  기타지역2순위접수시작일  19630 non-null  object \n",
      " 30  기타지역2순위접수종료일  19630 non-null  object \n",
      " 31  당첨자발표일        19630 non-null  object \n",
      " 32  계약시작일         19630 non-null  object \n",
      " 33  계약종료일         19630 non-null  object \n",
      " 34  홈페이지주소        19046 non-null  object \n",
      " 35  건설업체명_시공사     19320 non-null  object \n",
      " 36  문의처           19498 non-null  object \n",
      " 37  사업주체명_시행사     19630 non-null  object \n",
      " 38  입주예정월         19630 non-null  object \n",
      " 39  투기과열지구        19630 non-null  object \n",
      " 40  조정대상지역        19630 non-null  object \n",
      " 41  분양가상한제        19630 non-null  object \n",
      " 42  정비사업          19630 non-null  object \n",
      " 43  공공주택지구        19630 non-null  object \n",
      " 44  대규모택지개발지구     19630 non-null  object \n",
      " 45  수도권내민영공공주택지구  19630 non-null  object \n",
      " 46  모집공고홈페이지주소    19630 non-null  object \n",
      " 47  신청자 30대 이하    19630 non-null  int64  \n",
      " 48  신청자 40대       19630 non-null  int64  \n",
      " 49  신청자 50대       19630 non-null  int64  \n",
      " 50  신청자 60대 이상    19630 non-null  int64  \n",
      " 51  당첨자 30대 이하    19630 non-null  int64  \n",
      " 52  당첨자 40대       19630 non-null  int64  \n",
      " 53  당첨자 50대       19630 non-null  int64  \n",
      " 54  당첨자 60대 이상    19630 non-null  int64  \n",
      " 55  모델번호          19630 non-null  int64  \n",
      " 56  주택형           19630 non-null  object \n",
      " 57  공급세대수         19630 non-null  int64  \n",
      " 58  순위            19630 non-null  int64  \n",
      " 59  거주코드          19630 non-null  int64  \n",
      " 60  거주지역          19630 non-null  object \n",
      " 61  접수건수          19630 non-null  int64  \n",
      " 62  경쟁률           8695 non-null   object \n",
      " 63  최저당첨가점        6899 non-null   float64\n",
      " 64  평균당첨가점        6899 non-null   float64\n",
      " 65  최고당첨가점        6899 non-null   float64\n",
      " 66  위도            18062 non-null  float64\n",
      " 67  경도            18062 non-null  float64\n",
      " 68  시도            19590 non-null  object \n",
      " 69  시군구           19590 non-null  object \n",
      " 70  읍면동           19590 non-null  object \n",
      "dtypes: float64(5), int64(21), object(45)\n",
      "memory usage: 10.6+ MB\n"
     ]
    }
   ],
   "source": [
    "# 로우 데이터 불러오기\n",
    "file_path = \"./storage/raw_data/병합_청약매물_목록_정보 (서울, 경기, 인천).csv\"\n",
    "df = pd.read_csv(file_path, encoding='cp949')\n",
    "\n",
    "df.info()"
   ]
  },
  {
   "cell_type": "markdown",
   "metadata": {},
   "source": [
    "### 데이터 전처리"
   ]
  },
  {
   "cell_type": "code",
   "execution_count": null,
   "metadata": {},
   "outputs": [],
   "source": [
    "# 로우 데이터 불러오기\n",
    "file_path = \"./storage/raw_data/병합_청약매물_목록_정보 (서울, 경기, 인천).csv\"\n",
    "df = pd.read_csv(file_path, encoding='cp949')\n",
    "\n",
    "# 데이터 전처리\n",
    "preprocessing_pipeline = pipeline()\n",
    "df = preprocessing_pipeline.transform(df)\n",
    "\n",
    "# 파일 저장\n",
    "file_version = \"250314-test\"\n",
    "output_file = f\"./storage/train_data/train-{file_version}.csv\"\n",
    "df.to_csv(output_file, index=False, encoding='cp949')"
   ]
  },
  {
   "cell_type": "markdown",
   "metadata": {},
   "source": [
    "### 모델 학습 및 평가"
   ]
  },
  {
   "cell_type": "code",
   "execution_count": 3,
   "metadata": {},
   "outputs": [],
   "source": [
    "# 전처리된 데이터 가져오기\n",
    "\n",
    "file_version = \"250312-01\"\n",
    "file_path = f\"./storage/train_data/train-{file_version}.csv\"\n",
    "df = pd.read_csv(file_path, encoding='cp949')"
   ]
  },
  {
   "cell_type": "code",
   "execution_count": 6,
   "metadata": {},
   "outputs": [],
   "source": [
    "# TODO: 여러 모델 학습 및 하이퍼파라미터 최적화\n",
    "\n",
    "model = RandomForestRegressor(\n",
    "    n_estimators=100,\n",
    "    max_depth=None,\n",
    "    random_state=42\n",
    ")\n",
    "\n",
    "# model.fit(x, y)"
   ]
  },
  {
   "cell_type": "markdown",
   "metadata": {},
   "source": [
    "### 모델 저장 "
   ]
  },
  {
   "cell_type": "code",
   "execution_count": 7,
   "metadata": {},
   "outputs": [
    {
     "data": {
      "text/plain": [
       "['./storage/trained_model/model_0.0.1.pkl']"
      ]
     },
     "execution_count": 7,
     "metadata": {},
     "output_type": "execute_result"
    }
   ],
   "source": [
    "# 모델 저장 및 로드\n",
    "\n",
    "version = '0.0.1'\n",
    "\n",
    "# 모델 저장\n",
    "joblib.dump(model, f\"./storage/trained_model/model_{version}.pkl\")"
   ]
  },
  {
   "cell_type": "code",
   "execution_count": 8,
   "metadata": {},
   "outputs": [],
   "source": [
    "# 모델 로드\n",
    "loaded_model = joblib.load(\"./storage/trained_model/model_0.0.1.pkl\")\n",
    "\n",
    "# 예측\n",
    "# X_test = np.array([[1, 2]])\n",
    "# prediction = loaded_model.predict(X_test)\n",
    "# print(\"Prediction:\", prediction)"
   ]
  }
 ],
 "metadata": {
  "kernelspec": {
<<<<<<< HEAD
   "display_name": "env",
=======
   "display_name": "project-env",
>>>>>>> 23a3d4c20028e13e6525c0deb128a6f276706a54
   "language": "python",
   "name": "python3"
  },
  "language_info": {
   "codemirror_mode": {
    "name": "ipython",
    "version": 3
   },
   "file_extension": ".py",
   "mimetype": "text/x-python",
   "name": "python",
   "nbconvert_exporter": "python",
   "pygments_lexer": "ipython3",
   "version": "3.11.11"
  }
 },
 "nbformat": 4,
 "nbformat_minor": 2
}
