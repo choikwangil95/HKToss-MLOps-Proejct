{
 "cells": [
  {
   "cell_type": "code",
   "execution_count": 15,
   "metadata": {},
   "outputs": [],
   "source": [
    "import pandas as pd\n",
    "import numpy as np\n",
    "\n",
    "from sklearn.ensemble import RandomForestRegressor\n",
    "from sklearn.model_selection import train_test_split\n",
    "from sklearn.metrics import mean_squared_error, r2_score\n",
    "\n",
    "import joblib\n",
    "\n",
    "from data_preprocessing import pipeline\n",
    "from feature_preprocessing import pipeline2"
   ]
  },
  {
   "cell_type": "markdown",
   "metadata": {},
   "source": [
    "### 데이터 전처리"
   ]
  },
  {
   "cell_type": "code",
   "execution_count": null,
   "metadata": {},
   "outputs": [
    {
     "name": "stderr",
     "output_type": "stream",
     "text": [
      "C:\\Users\\user\\AppData\\Local\\Temp\\ipykernel_18176\\4291326278.py:4: DtypeWarning: Columns (48) have mixed types. Specify dtype option on import or set low_memory=False.\n",
      "  df = pd.read_csv(file_path)\n",
      "c:\\Users\\user\\mid_project\\src\\data_preprocessing.py:122: DtypeWarning: Columns (36,48) have mixed types. Specify dtype option on import or set low_memory=False.\n",
      "  df_estate_price = pd.read_csv(\n",
      "c:\\Users\\user\\mid_project\\src\\data_preprocessing.py:223: SettingWithCopyWarning: \n",
      "A value is trying to be set on a copy of a slice from a DataFrame\n",
      "\n",
      "See the caveats in the documentation: https://pandas.pydata.org/pandas-docs/stable/user_guide/indexing.html#returning-a-view-versus-a-copy\n",
      "  df[['최저당첨가점','최고당첨가점', '평균당첨가점']].fillna(0, inplace=True)\n"
     ]
    }
   ],
   "source": [
    "# 로우 데이터 불러오기\n",
    "file_path = \"./storage/raw_data/병합_청약매물_목록_정보_픽스2.csv\"\n",
    "# df = pd.read_csv(file_path, encoding ='cp949')\n",
    "df = pd.read_csv(file_path)\n",
    "\n",
    "# 데이터 전처리````\n",
    "preprocessing_pipeline = pipeline()\n",
    "df = preprocessing_pipeline.transform(df)\n",
    "\n",
    "# 파일 저장\n",
    "file_version = \"250318-03-삭제예정\"\n",
    "output_file = f\"./storage/train_data/train-{file_version}.csv\"\n",
    "df.to_csv(output_file, index=False, encoding='cp949')"
   ]
  },
  {
   "cell_type": "code",
   "execution_count": 17,
   "metadata": {},
   "outputs": [
    {
     "name": "stdout",
     "output_type": "stream",
     "text": [
      "<class 'pandas.core.frame.DataFrame'>\n",
      "Index: 2981 entries, 44 to 17246\n",
      "Data columns (total 28 columns):\n",
      " #   Column        Non-Null Count  Dtype  \n",
      "---  ------        --------------  -----  \n",
      " 0   공급지역코드        2981 non-null   int64  \n",
      " 1   공급규모          2981 non-null   int64  \n",
      " 2   투기과열지구        2981 non-null   object \n",
      " 3   조정대상지역        2981 non-null   object \n",
      " 4   분양가상한제        2981 non-null   object \n",
      " 5   정비사업          2981 non-null   object \n",
      " 6   공공주택지구        2981 non-null   object \n",
      " 7   대규모택지개발지구     2981 non-null   object \n",
      " 8   수도권내민영공공주택지구  2981 non-null   object \n",
      " 9   공급세대수         2981 non-null   int64  \n",
      " 10  순위            2981 non-null   object \n",
      " 11  거주지역          2981 non-null   object \n",
      " 12  접수건수          2981 non-null   int64  \n",
      " 13  경쟁률           2981 non-null   float64\n",
      " 14  최저당첨가점        2981 non-null   float64\n",
      " 15  최고당첨가점        2981 non-null   float64\n",
      " 16  평균당첨가점        2981 non-null   float64\n",
      " 17  토픽 1          2981 non-null   float64\n",
      " 18  토픽 2          2981 non-null   float64\n",
      " 19  토픽 3          2981 non-null   float64\n",
      " 20  토픽 4          2981 non-null   float64\n",
      " 21  토픽 5          2981 non-null   float64\n",
      " 22  토픽 6          2981 non-null   float64\n",
      " 23  토픽 7          2981 non-null   float64\n",
      " 24  전용면적          2981 non-null   float64\n",
      " 25  공급금액(최고가 기준)  2981 non-null   float64\n",
      " 26  법정동코드         2981 non-null   float64\n",
      " 27  전용면적당 시세차익    2595 non-null   float64\n",
      "dtypes: float64(15), int64(4), object(9)\n",
      "memory usage: 675.4+ KB\n"
     ]
    }
   ],
   "source": [
    "df.info()"
   ]
  },
  {
   "cell_type": "markdown",
   "metadata": {},
   "source": [
    "### 모델 학습 및 평가"
   ]
  },
  {
   "cell_type": "code",
   "execution_count": 18,
   "metadata": {},
   "outputs": [],
   "source": [
    "# 전처리된 데이터 가져오기\n",
    "\n",
    "# file_version = \"250317-01\"\n",
    "# file_path = f\"./storage/train_data/t``ain-{file_version}.csv\"\n",
    "# df = pd.read_csv(file_path, encoding='cp949')\n",
    "\n",
    "df = pd.read_csv(\"C:/Users/user/mid_project/src/storage/train_data/train-250318-03-삭제예정.csv\", encoding = 'cp949')\n"
   ]
  },
  {
   "cell_type": "code",
   "execution_count": 19,
   "metadata": {},
   "outputs": [],
   "source": [
    "X = df.drop(columns=[\"최저당첨가점\"])\n",
    "Y = df[\"최저당첨가점\"]\n",
    "\n",
    "X_train, X_test, y_train, y_test = train_test_split(\n",
    "    X,  # 타겟(최저당첨가점) 제외\n",
    "    Y,  # 타겟\n",
    "    test_size=0.2,\n",
    "    random_state=42,\n",
    "    stratify=df[\"투기과열지구\"]  # 분포 맞추기 위해 미달여부로 stratify\n",
    ")\n",
    "\n",
    "# 분양가상한제, 투기과열지구, 조정대상지역 -> 고려해보기염"
   ]
  },
  {
   "cell_type": "code",
   "execution_count": 20,
   "metadata": {},
   "outputs": [],
   "source": [
    "feature_pipeline = pipeline2()\n",
    "\n",
    "# 학습 데이터(X_train)에 fit\n",
    "feature_pipeline.fit(X_train)\n",
    "\n",
    "# 학습 데이터(X_train)를 변환\n",
    "X_train_transformed = feature_pipeline.transform(X_train)\n",
    "\n",
    "# 테스트 데이터(X_test)를 변환\n",
    "X_test_transformed = feature_pipeline.transform(X_test)"
   ]
  },
  {
   "cell_type": "code",
   "execution_count": 21,
   "metadata": {},
   "outputs": [
    {
     "name": "stdout",
     "output_type": "stream",
     "text": [
      "<class 'pandas.core.frame.DataFrame'>\n",
      "Index: 2384 entries, 2881 to 1818\n",
      "Data columns (total 37 columns):\n",
      " #   Column          Non-Null Count  Dtype  \n",
      "---  ------          --------------  -----  \n",
      " 0   공급규모            2384 non-null   float64\n",
      " 1   공급세대수           2384 non-null   float64\n",
      " 2   접수건수            2384 non-null   float64\n",
      " 3   경쟁률             2384 non-null   float64\n",
      " 4   최고당첨가점          2384 non-null   float64\n",
      " 5   평균당첨가점          2384 non-null   float64\n",
      " 6   토픽 1            2384 non-null   float64\n",
      " 7   토픽 2            2384 non-null   float64\n",
      " 8   토픽 3            2384 non-null   float64\n",
      " 9   토픽 4            2384 non-null   float64\n",
      " 10  토픽 5            2384 non-null   float64\n",
      " 11  토픽 6            2384 non-null   float64\n",
      " 12  토픽 7            2384 non-null   float64\n",
      " 13  전용면적            2384 non-null   float64\n",
      " 14  공급금액(최고가 기준)    2384 non-null   float64\n",
      " 15  전용면적당 시세차익      2075 non-null   float64\n",
      " 16  투기과열지구_N        2384 non-null   bool   \n",
      " 17  투기과열지구_Y        2384 non-null   bool   \n",
      " 18  조정대상지역_N        2384 non-null   bool   \n",
      " 19  조정대상지역_Y        2384 non-null   bool   \n",
      " 20  분양가상한제_N        2384 non-null   bool   \n",
      " 21  분양가상한제_Y        2384 non-null   bool   \n",
      " 22  정비사업_N          2384 non-null   bool   \n",
      " 23  정비사업_Y          2384 non-null   bool   \n",
      " 24  공공주택지구_N        2384 non-null   bool   \n",
      " 25  공공주택지구_Y        2384 non-null   bool   \n",
      " 26  대규모택지개발지구_N     2384 non-null   bool   \n",
      " 27  대규모택지개발지구_Y     2384 non-null   bool   \n",
      " 28  수도권내민영공공주택지구_N  2384 non-null   bool   \n",
      " 29  수도권내민영공공주택지구_Y  2384 non-null   bool   \n",
      " 30  순위_1순위          2384 non-null   bool   \n",
      " 31  거주지역_기타지역       2384 non-null   bool   \n",
      " 32  거주지역_해당지역       2384 non-null   bool   \n",
      " 33  공급지역코드_100      2384 non-null   bool   \n",
      " 34  공급지역코드_400      2384 non-null   bool   \n",
      " 35  공급지역코드_410      2384 non-null   bool   \n",
      " 36  법정동코드_encoded   2384 non-null   int64  \n",
      "dtypes: bool(20), float64(16), int64(1)\n",
      "memory usage: 381.8 KB\n"
     ]
    }
   ],
   "source": [
    "X_train_transformed.info()"
   ]
  },
  {
   "cell_type": "code",
   "execution_count": 22,
   "metadata": {},
   "outputs": [
    {
     "name": "stdout",
     "output_type": "stream",
     "text": [
      "RMSE: 2.7122038854495996\n",
      "R^2 Score: 0.9671236072463428\n"
     ]
    }
   ],
   "source": [
    "# TODO: 여러 모델 학습 및 하이퍼파라미터 최적화\n",
    "\n",
    "model = RandomForestRegressor(\n",
    "    n_estimators=100,\n",
    "    max_depth=None,\n",
    "    random_state=42\n",
    ")\n",
    "\n",
    "# 모델 학습\n",
    "model.fit(X_train_transformed, y_train)\n",
    "\n",
    "# 예측\n",
    "y_pred = model.predict(X_test_transformed)\n",
    "\n",
    "# 평가 (RMSE와 R^2 계산)\n",
    "rmse = np.sqrt(mean_squared_error(y_test, y_pred))\n",
    "r2 = r2_score(y_test, y_pred)\n",
    "\n",
    "print(\"RMSE:\", rmse) # 낮을수록 좋음\n",
    "print(\"R^2 Score:\", r2) # 1에 가까울수록 좋음"
   ]
  },
  {
   "cell_type": "markdown",
   "metadata": {},
   "source": [
    "### 모델 저장 "
   ]
  },
  {
   "cell_type": "code",
   "execution_count": 14,
   "metadata": {},
   "outputs": [
    {
     "data": {
      "text/plain": [
       "['./storage/trained_model/model_0.0.2.pkl']"
      ]
     },
     "execution_count": 14,
     "metadata": {},
     "output_type": "execute_result"
    }
   ],
   "source": [
    "# 모델 저장 및 로드\n",
    "\n",
    "version = '0.0.2'\n",
    "\n",
    "# 모델 저장\n",
    "joblib.dump(model, f\"./storage/trained_model/model_{version}.pkl\")"
   ]
  },
  {
   "cell_type": "code",
   "execution_count": 8,
   "metadata": {},
   "outputs": [],
   "source": [
    "# 모델 로드\n",
    "loaded_model = joblib.load(\"./storage/trained_model/model_0.0.1.pkl\")\n",
    "\n",
    "# 예측\n",
    "# X_test = np.array([[1, 2]])\n",
    "# prediction = loaded_model.predict(X_test)\n",
    "# print(\"Prediction:\", prediction)"
   ]
  }
 ],
 "metadata": {
  "kernelspec": {
   "display_name": "project-env",
   "language": "python",
   "name": "python3"
  },
  "language_info": {
   "codemirror_mode": {
    "name": "ipython",
    "version": 3
   },
   "file_extension": ".py",
   "mimetype": "text/x-python",
   "name": "python",
   "nbconvert_exporter": "python",
   "pygments_lexer": "ipython3",
   "version": "3.11.11"
  }
 },
 "nbformat": 4,
 "nbformat_minor": 2
}
