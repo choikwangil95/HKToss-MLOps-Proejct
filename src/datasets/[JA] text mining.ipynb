{
 "cells": [
  {
   "cell_type": "code",
   "execution_count": 1,
   "metadata": {
    "vscode": {
     "languageId": "markdown"
    }
   },
   "outputs": [
    {
     "data": {
      "text/html": [
       "<div>\n",
       "<style scoped>\n",
       "    .dataframe tbody tr th:only-of-type {\n",
       "        vertical-align: middle;\n",
       "    }\n",
       "\n",
       "    .dataframe tbody tr th {\n",
       "        vertical-align: top;\n",
       "    }\n",
       "\n",
       "    .dataframe thead th {\n",
       "        text-align: right;\n",
       "    }\n",
       "</style>\n",
       "<table border=\"1\" class=\"dataframe\">\n",
       "  <thead>\n",
       "    <tr style=\"text-align: right;\">\n",
       "      <th></th>\n",
       "      <th>title</th>\n",
       "      <th>content</th>\n",
       "      <th>url</th>\n",
       "      <th>apartment</th>\n",
       "    </tr>\n",
       "  </thead>\n",
       "  <tbody>\n",
       "    <tr>\n",
       "      <th>0</th>\n",
       "      <td>대기업도 미분양 폭탄인데…'10만 청약' 몰린 대방 디에트르의 비결</td>\n",
       "      <td>이밖에 11월 경기 군포시 대야미지구에 분양한 ‘군포대야미 대방 디에트르 시그니처’...</td>\n",
       "      <td>https://realty.chosun.com/site/data/html_dir/2...</td>\n",
       "      <td>의왕 월암지구 대방 디에트르 레이크파크</td>\n",
       "    </tr>\n",
       "    <tr>\n",
       "      <th>1</th>\n",
       "      <td>“7인 가구에 무주택 15년 이상”…새해 첫 만점통장 ‘이곳’서 나왔다</td>\n",
       "      <td>13일 청약홈에 따르면 지난 8일 당첨자를 발표한 ‘의왕 월암지구 대방 디에트르 레...</td>\n",
       "      <td>https://www.mk.co.kr/article/11216596</td>\n",
       "      <td>의왕 월암지구 대방 디에트르 레이크파크</td>\n",
       "    </tr>\n",
       "    <tr>\n",
       "      <th>2</th>\n",
       "      <td>[이번주 분양일정]더팰리스트데시앙外 2천177가구 분양</td>\n",
       "      <td>경기 의왕시 청계동 ‘의왕청계2A1블록신혼희망타운(공공분양)’ 등에서 청약을 진행한...</td>\n",
       "      <td>http://www.kjdaily.com/article.php?aid=1736694...</td>\n",
       "      <td>의왕 월암지구 대방 디에트르 레이크파크</td>\n",
       "    </tr>\n",
       "    <tr>\n",
       "      <th>3</th>\n",
       "      <td>올해 첫 청약 통장 만점 나온 단지는…서울 아니고 이곳</td>\n",
       "      <td>11일 청약홈에 따르면 지난 8일 당첨자를 발표한 '의왕 월암지구 대방 디에트르 레...</td>\n",
       "      <td>https://www.sedaily.com/NewsView/2GNNIIBZDD</td>\n",
       "      <td>의왕 월암지구 대방 디에트르 레이크파크</td>\n",
       "    </tr>\n",
       "    <tr>\n",
       "      <th>4</th>\n",
       "      <td>\"지금 아니면 내집마련 못한다?\"...새해 첫 84점 만점통장 나왔다</td>\n",
       "      <td>11일 청약홈에 따르면 지난 8일 당첨자를 발표한 경기 의왕시 '의왕 월암지구 대방...</td>\n",
       "      <td>http://www.fnnews.com/news/202501101414229320</td>\n",
       "      <td>의왕 월암지구 대방 디에트르 레이크파크</td>\n",
       "    </tr>\n",
       "  </tbody>\n",
       "</table>\n",
       "</div>"
      ],
      "text/plain": [
       "                                      title  \\\n",
       "0    대기업도 미분양 폭탄인데…'10만 청약' 몰린 대방 디에트르의 비결    \n",
       "1  “7인 가구에 무주택 15년 이상”…새해 첫 만점통장 ‘이곳’서 나왔다    \n",
       "2           [이번주 분양일정]더팰리스트데시앙外 2천177가구 분양    \n",
       "3           올해 첫 청약 통장 만점 나온 단지는…서울 아니고 이곳    \n",
       "4   \"지금 아니면 내집마련 못한다?\"...새해 첫 84점 만점통장 나왔다    \n",
       "\n",
       "                                             content  \\\n",
       "0  이밖에 11월 경기 군포시 대야미지구에 분양한 ‘군포대야미 대방 디에트르 시그니처’...   \n",
       "1  13일 청약홈에 따르면 지난 8일 당첨자를 발표한 ‘의왕 월암지구 대방 디에트르 레...   \n",
       "2  경기 의왕시 청계동 ‘의왕청계2A1블록신혼희망타운(공공분양)’ 등에서 청약을 진행한...   \n",
       "3  11일 청약홈에 따르면 지난 8일 당첨자를 발표한 '의왕 월암지구 대방 디에트르 레...   \n",
       "4  11일 청약홈에 따르면 지난 8일 당첨자를 발표한 경기 의왕시 '의왕 월암지구 대방...   \n",
       "\n",
       "                                                 url              apartment  \n",
       "0  https://realty.chosun.com/site/data/html_dir/2...  의왕 월암지구 대방 디에트르 레이크파크  \n",
       "1              https://www.mk.co.kr/article/11216596  의왕 월암지구 대방 디에트르 레이크파크  \n",
       "2  http://www.kjdaily.com/article.php?aid=1736694...  의왕 월암지구 대방 디에트르 레이크파크  \n",
       "3        https://www.sedaily.com/NewsView/2GNNIIBZDD  의왕 월암지구 대방 디에트르 레이크파크  \n",
       "4      http://www.fnnews.com/news/202501101414229320  의왕 월암지구 대방 디에트르 레이크파크  "
      ]
     },
     "execution_count": 1,
     "metadata": {},
     "output_type": "execute_result"
    }
   ],
   "source": [
    "import pandas as pd\n",
    "\n",
    "df = pd.read_csv('/Users/JooAnLee/mid_project/src/datasets/수도권_아파트_청약_뉴스_크롤링.csv')\n",
    "\n",
    "df.head()"
   ]
  },
  {
   "cell_type": "code",
   "execution_count": 2,
   "metadata": {
    "vscode": {
     "languageId": "markdown"
    }
   },
   "outputs": [
    {
     "data": {
      "text/plain": [
       "'이밖에 11월 경기 군포시 대야미지구에 분양한 ‘군포대야미 대방 디에트르 시그니처’가 경쟁률 7.74대 1, 12월 의왕시 월암지구에 공급한 ‘의왕 월암지구 대방 디에트르 레이크파크’가 4.2대 1 경쟁률을 기록하는 등 성적을 보였다. 월암지구에서도 만점 청약통장이 등장했다. ■ 올해 7000가구 분양 예고... '"
      ]
     },
     "execution_count": 2,
     "metadata": {},
     "output_type": "execute_result"
    }
   ],
   "source": [
    "content_0 = df[df['apartment'] == '의왕 월암지구 대방 디에트르 레이크파크'].iloc[0]['content']\n",
    "content_0"
   ]
  },
  {
   "cell_type": "markdown",
   "metadata": {},
   "source": [
    "# 라이브러리 설치"
   ]
  },
  {
   "cell_type": "code",
   "execution_count": 3,
   "metadata": {
    "vscode": {
     "languageId": "markdown"
    }
   },
   "outputs": [
    {
     "name": "stdout",
     "output_type": "stream",
     "text": [
      "Requirement already satisfied: konlpy in /opt/anaconda3/envs/Jooan_Lee/lib/python3.11/site-packages (0.6.0)\n",
      "Requirement already satisfied: JPype1>=0.7.0 in /opt/anaconda3/envs/Jooan_Lee/lib/python3.11/site-packages (from konlpy) (1.5.2)\n",
      "Requirement already satisfied: lxml>=4.1.0 in /opt/anaconda3/envs/Jooan_Lee/lib/python3.11/site-packages (from konlpy) (5.3.1)\n",
      "Requirement already satisfied: numpy>=1.6 in /opt/anaconda3/envs/Jooan_Lee/lib/python3.11/site-packages (from konlpy) (2.1.3)\n",
      "Requirement already satisfied: packaging in /opt/anaconda3/envs/Jooan_Lee/lib/python3.11/site-packages (from JPype1>=0.7.0->konlpy) (24.2)\n",
      "zsh:1: command not found: apt-get\n"
     ]
    }
   ],
   "source": [
    "!pip install konlpy\n",
    "!apt-get install -y default-jdk"
   ]
  },
  {
   "cell_type": "code",
   "execution_count": 4,
   "metadata": {
    "vscode": {
     "languageId": "markdown"
    }
   },
   "outputs": [
    {
     "name": "stdout",
     "output_type": "stream",
     "text": [
      "Requirement already satisfied: soynlp in /opt/anaconda3/envs/Jooan_Lee/lib/python3.11/site-packages (0.0.493)\n",
      "Requirement already satisfied: numpy>=1.12.1 in /opt/anaconda3/envs/Jooan_Lee/lib/python3.11/site-packages (from soynlp) (2.1.3)\n",
      "Requirement already satisfied: psutil>=5.0.1 in /opt/anaconda3/envs/Jooan_Lee/lib/python3.11/site-packages (from soynlp) (5.9.0)\n",
      "Requirement already satisfied: scipy>=1.1.0 in /opt/anaconda3/envs/Jooan_Lee/lib/python3.11/site-packages (from soynlp) (1.15.2)\n",
      "Requirement already satisfied: scikit-learn>=0.20.0 in /opt/anaconda3/envs/Jooan_Lee/lib/python3.11/site-packages (from soynlp) (1.6.1)\n",
      "Requirement already satisfied: joblib>=1.2.0 in /opt/anaconda3/envs/Jooan_Lee/lib/python3.11/site-packages (from scikit-learn>=0.20.0->soynlp) (1.4.2)\n",
      "Requirement already satisfied: threadpoolctl>=3.1.0 in /opt/anaconda3/envs/Jooan_Lee/lib/python3.11/site-packages (from scikit-learn>=0.20.0->soynlp) (3.5.0)\n"
     ]
    }
   ],
   "source": [
    "!pip install soynlp\n",
    "\n",
    "import re\n",
    "from konlpy.tag import Okt\n",
    "from soynlp.word import WordExtractor"
   ]
  },
  {
   "cell_type": "code",
   "execution_count": 5,
   "metadata": {
    "vscode": {
     "languageId": "markdown"
    }
   },
   "outputs": [
    {
     "name": "stdout",
     "output_type": "stream",
     "text": [
      "Requirement already satisfied: soynlp==0.0.493 in /opt/anaconda3/envs/Jooan_Lee/lib/python3.11/site-packages (0.0.493)\n",
      "Requirement already satisfied: numpy>=1.12.1 in /opt/anaconda3/envs/Jooan_Lee/lib/python3.11/site-packages (from soynlp==0.0.493) (2.1.3)\n",
      "Requirement already satisfied: psutil>=5.0.1 in /opt/anaconda3/envs/Jooan_Lee/lib/python3.11/site-packages (from soynlp==0.0.493) (5.9.0)\n",
      "Requirement already satisfied: scipy>=1.1.0 in /opt/anaconda3/envs/Jooan_Lee/lib/python3.11/site-packages (from soynlp==0.0.493) (1.15.2)\n",
      "Requirement already satisfied: scikit-learn>=0.20.0 in /opt/anaconda3/envs/Jooan_Lee/lib/python3.11/site-packages (from soynlp==0.0.493) (1.6.1)\n",
      "Requirement already satisfied: joblib>=1.2.0 in /opt/anaconda3/envs/Jooan_Lee/lib/python3.11/site-packages (from scikit-learn>=0.20.0->soynlp==0.0.493) (1.4.2)\n",
      "Requirement already satisfied: threadpoolctl>=3.1.0 in /opt/anaconda3/envs/Jooan_Lee/lib/python3.11/site-packages (from scikit-learn>=0.20.0->soynlp==0.0.493) (3.5.0)\n",
      "Note: you may need to restart the kernel to use updated packages.\n"
     ]
    }
   ],
   "source": [
    "pip install soynlp==0.0.493"
   ]
  },
  {
   "cell_type": "code",
   "execution_count": 14,
   "metadata": {
    "vscode": {
     "languageId": "markdown"
    }
   },
   "outputs": [],
   "source": [
    "import matplotlib.pyplot as plt\n",
    "import seaborn as sns\n",
    "plt.rc('font', family='AppleGothic')\n",
    "plt.rcParams['axes.unicode_minus'] =False"
   ]
  },
  {
   "cell_type": "markdown",
   "metadata": {},
   "source": [
    "# 텍스트 전처리"
   ]
  },
  {
   "cell_type": "code",
   "execution_count": 8,
   "metadata": {},
   "outputs": [],
   "source": [
    "# SoyNLP로 고유명사 추출\n",
    "def extract_proper_nouns(content_0):\n",
    "    extractor = WordExtractor()\n",
    "    extractor.train([content_0])\n",
    "    word_scores = extractor.extract()\n",
    "    return [word for word, score in word_scores.items() if score.cohesion_forward > 0.3]"
   ]
  },
  {
   "cell_type": "code",
   "execution_count": 13,
   "metadata": {},
   "outputs": [
    {
     "name": "stdout",
     "output_type": "stream",
     "text": [
      "training was done. used memory 0.036 Gb0.035 Gb\n",
      "all cohesion probabilities was computed. # words = 0\n",
      "all branching entropies was computed # words = 8\n",
      "all accessor variety was computed # words = 8\n",
      "['청약', '레이크', '올해', '군포시', '통장', '공급', '11월', '경쟁률', '분양', '대야', '성적', '처가', '디에트르', '의왕시', '대방', '예고', '만점', '774대', '파크', '7000가구', '의왕', '경기', '가구', '42대', '등장', '군포', '지구', '기록', '12월']\n"
     ]
    }
   ],
   "source": [
    "from konlpy.tag import Okt\n",
    "import re\n",
    "\n",
    "okt = Okt()\n",
    "stopwords = ['곳', '외', '것', '도', '이', '명']\n",
    "\n",
    "def preprocess_korean(content_0):\n",
    "    # 1단계: 기본 전처리\n",
    "    text_clean = re.sub(r'[^가-힣0-9\\s]', '', content_0)\n",
    "    \n",
    "    # 2단계: SoyNLP 고유명사 추출\n",
    "    proper_nouns = extract_proper_nouns(text_clean)\n",
    "    \n",
    "    # 3단계: 숫자+한글 결합 단어 추출 (예: 84㎡, 7호선)\n",
    "    num_hangul = re.findall(r'\\d+[가-힣㎡]+', text_clean)\n",
    "    \n",
    "    # 4단계: Okt 명사 추출 (고유명사 반영)\n",
    "    okt_nouns = okt.nouns(text_clean)\n",
    "    \n",
    "    # 5단계: 통합 및 필터링\n",
    "    combined = list(set(proper_nouns + num_hangul + okt_nouns))\n",
    "    return [word for word in combined if word not in stopwords and len(word) > 1]\n",
    "\n",
    "result = preprocess_korean(content_0)\n",
    "print(result)"
   ]
  },
  {
   "cell_type": "markdown",
   "metadata": {},
   "source": [
    "# TF-IDF"
   ]
  },
  {
   "cell_type": "code",
   "execution_count": 15,
   "metadata": {},
   "outputs": [
    {
     "name": "stdout",
     "output_type": "stream",
     "text": [
      "\n",
      "상위 키워드:\n",
      "      키워드  TF-IDF 값\n",
      "0      파크  0.185695\n",
      "1      대야  0.185695\n",
      "2     12월  0.185695\n",
      "3     42대  0.185695\n",
      "4  7000가구  0.185695\n",
      "5    774대  0.185695\n",
      "6      가구  0.185695\n",
      "7      경기  0.185695\n",
      "8     경쟁률  0.185695\n",
      "9      공급  0.185695\n"
     ]
    }
   ],
   "source": [
    "import pandas as pd\n",
    "from sklearn.feature_extraction.text import TfidfVectorizer\n",
    "import matplotlib.pyplot as plt\n",
    "\n",
    "# 병합된 텍스트를 다시 하나의 문자열로 변환\n",
    "processed_text = ' '.join(result)\n",
    "\n",
    "# TF-IDF 벡터화기기 생성\n",
    "vectorizer = TfidfVectorizer(\n",
    "    max_features=1000,      # 상위 1000개 단어까지만 저장\n",
    "    use_idf=True            # ✅ IDF 활성화\n",
    ")\n",
    "\n",
    "# 벡터화 진행\n",
    "tfidf_matrix = vectorizer.fit_transform([processed_text])\n",
    "\n",
    "# 단어 목록 정렬\n",
    "feature_names = vectorizer.get_feature_names_out()\n",
    "tfidf_values = tfidf_matrix.toarray().flatten()\n",
    "\n",
    "# TF-IDF 값이 높은 상위 키워드 10개 추출\n",
    "top_n = 10\n",
    "sorted_indices = tfidf_values.argsort()[::-1][:top_n]\n",
    "top_keywords = [(feature_names[i], tfidf_values[i]) for i in sorted_indices]\n",
    "\n",
    "# 결과 출력 (표 형태)\n",
    "df = pd.DataFrame(top_keywords, columns=['키워드', 'TF-IDF 값'])\n",
    "print(\"\\n상위 키워드:\")\n",
    "print(df)"
   ]
  },
  {
   "cell_type": "code",
   "execution_count": null,
   "metadata": {},
   "outputs": [],
   "source": []
  }
 ],
 "metadata": {
  "kernelspec": {
   "display_name": "Jooan_Lee",
   "language": "python",
   "name": "python3"
  },
  "language_info": {
   "codemirror_mode": {
    "name": "ipython",
    "version": 3
   },
   "file_extension": ".py",
   "mimetype": "text/x-python",
   "name": "python",
   "nbconvert_exporter": "python",
   "pygments_lexer": "ipython3",
   "version": "3.11.11"
  }
 },
 "nbformat": 4,
 "nbformat_minor": 2
}
