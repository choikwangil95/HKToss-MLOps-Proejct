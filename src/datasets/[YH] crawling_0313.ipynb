{
 "cells": [
  {
   "cell_type": "markdown",
   "metadata": {},
   "source": [
    "### 청약 매물 기사 크롤링 함수"
   ]
  },
  {
   "cell_type": "code",
   "execution_count": 2,
   "metadata": {},
   "outputs": [],
   "source": [
    "import requests\n",
    "from bs4 import BeautifulSoup as bs\n",
    "import random\n",
    "import time\n",
    "from tqdm.notebook import tqdm"
   ]
  },
  {
   "cell_type": "markdown",
   "metadata": {},
   "source": [
    "1. 검색 URL 생성 함수 (아파트명 + 청약)"
   ]
  },
  {
   "cell_type": "code",
   "execution_count": 3,
   "metadata": {},
   "outputs": [],
   "source": [
    "import urllib.parse\n",
    "\n",
    "def generate_news_url(apartment_name: str) -> str:\n",
    "    \"\"\"아파트명 + 청약 검색 URL 생성\"\"\"\n",
    "    base_url = \"https://search.naver.com/search.naver\"\n",
    "    query = f'\"{apartment_name}\" 청약'  # 쌍따옴표 포함 검색\n",
    "    \n",
    "    params = {\n",
    "        \"where\": \"news\",\n",
    "        \"query\": query,\n",
    "        \"sm\": \"tab_opt\",\n",
    "        \"sort\": \"1\"  # 최신순 정렬\n",
    "    }\n",
    "    \n",
    "    return base_url + \"?\" + urllib.parse.urlencode(params, quote_via=urllib.parse.quote)"
   ]
  },
  {
   "cell_type": "markdown",
   "metadata": {},
   "source": [
    "2. 네이버 뉴스 전용 크롤링 함수"
   ]
  },
  {
   "cell_type": "code",
   "execution_count": 4,
   "metadata": {},
   "outputs": [],
   "source": [
    "import requests\n",
    "from bs4 import BeautifulSoup\n",
    "\n",
    "def crawl_naver_news(url: str, max_articles: int = 10) -> list:\n",
    "    \"\"\"네이버 뉴스 기사 전문 크롤링\"\"\"\n",
    "    headers = {\n",
    "        \"User-Agent\": \"Mozilla/5.0 (Windows NT 10.0; Win64; x64) AppleWebKit/537.36 (KHTML, like Gecko) Chrome/91.0.4472.124 Safari/537.36\"\n",
    "    }\n",
    "    \n",
    "    # 검색 결과 페이지 파싱\n",
    "    response = requests.get(url, headers=headers)\n",
    "    soup = BeautifulSoup(response.text, 'html.parser')\n",
    "    \n",
    "    # 네이버 뉴스 링크 필터링\n",
    "    news_links = []\n",
    "    for a in soup.select('a.info'):\n",
    "        if '네이버뉴스' in a.text and 'news.naver.com' in a['href']:\n",
    "            news_links.append(a['href'])\n",
    "            if len(news_links) >= max_articles:\n",
    "                break\n",
    "    \n",
    "    # 기사 본문 추출\n",
    "    articles = []\n",
    "    for article_url in news_links:\n",
    "        try:\n",
    "            article_res = requests.get(article_url, headers=headers, timeout=5)\n",
    "            article_soup = BeautifulSoup(article_res.text, 'html.parser')\n",
    "            \n",
    "            # 표준화된 선택자 사용\n",
    "            title = article_soup.select_one('#title_area').get_text(strip=True)\n",
    "            date = article_soup.select_one('.media_end_head_info_datestamp_time')['data-date-time']\n",
    "            content = article_soup.select_one('#newsct_article, #dic_area').get_text(strip=True)\n",
    "            \n",
    "            articles.append({\n",
    "                \"title\": title,\n",
    "                \"date\": date,\n",
    "                \"content\": content[:500] + \"...\",  # 500자 요약\n",
    "                \"url\": article_url\n",
    "            })\n",
    "            \n",
    "        except Exception as e:\n",
    "            print(f\"기사 처리 실패 ({article_url}): {str(e)}\")\n",
    "    \n",
    "    return articles"
   ]
  },
  {
   "cell_type": "markdown",
   "metadata": {},
   "source": [
    "3. 통합 실행"
   ]
  },
  {
   "cell_type": "code",
   "execution_count": 5,
   "metadata": {},
   "outputs": [
    {
     "name": "stdout",
     "output_type": "stream",
     "text": [
      "생성된 검색 URL: https://search.naver.com/search.naver?where=news&query=%22%EB%9E%98%EB%AF%B8%EC%95%88%20%EC%9B%90%EB%B2%A0%EC%9D%BC%EB%A6%AC%22%20%EC%B2%AD%EC%95%BD&sm=tab_opt&sort=1\n",
      "\n",
      "래미안 원베일리 관련 청약 뉴스 4건\n",
      "\n",
      "[1] 원베일리 전용 84㎡ 70억 원에 거래?…정부 규제 나올까\n",
      "작성일: 2025-03-07 09:13:55\n",
      "요약: ▲ 서초구 반포동 '래미안 원베일리' 아파트 모습현재 강남에선 서울 서초구 반포동 래미안 원베일리의 한강변 전용면적 84㎡가 70억 원에 매매가 됐느냐, 아니냐를 놓고 중개업계가 시끌시끌합니다.이 계약이 성사됐다면 지난해 8월 초 60억 원에 팔린 뒤 불과 7개월 만에 약 10억 원이 오른 것이기 때문입니다.3.3㎡당 가격이 2억 원이 넘는 역대 최고가입니다.현재 포털사이트에 올라온 원베일리 한강변 84㎡ 매물의 최고 시세는 72억 원에 달합니다.반포동의 한 중개업소 대표는 \"아직 실거래가 신고가 되지 않아 실제 계약 여부는 확인할 수 없지만 70억 원에 팔렸다는 말도 있고 1억 원 낮은 69억 원에 거래됐다는 설도 있다\"며 \"진짜 팔렸다면 한강 조망 아파트의 희소가치를 높게 본 것 같다\"고 말했습니다.최근 강남 '하이엔드급' 아파트 가격의 상승세가 거침없습니다.살 사람은 있는데 매물이 없어서 못팔고, 가격이 아무리 높아도 희소가치가 있으면 거래되는 시장입니다.반포의 대장주 아크로리...\n",
      "URL: https://n.news.naver.com/mnews/article/055/0001237786?sid=101\n",
      "\n",
      "[2] [서미숙의 집수다] 원베일리 전용 84㎡ 70억원에 거래?…정부 규제 나올까\n",
      "작성일: 2025-03-07 08:57:21\n",
      "요약: 강남 초고가 아파트 고공행진에 토허제 해제 단지도 \"5년 억눌렸던 가격 올려야\"2월 계약 신고 건수 3천603건, 1월 거래량 뛰어넘어…외곽도 급매 소진정부 시장 단속 나서…집값 더 뛰면 대출 규제 강화할 듯, 규제지역 재지정 가능성도(서울=연합뉴스) 서미숙 기자 = 현재 강남에선 서울 서초구 반포동 래미안 원베일리의 한강변 전용면적 84㎡가 70억원에 매매가 됐느냐, 아니냐를 놓고 중개업계가 시끌시끌하다.이 계약이 성사됐다면 지난해 8월 초 60억원에 팔린 뒤 불과 7개월 만에 약 10억원이 오른 것이기 때문이다. 3.3㎡당 가격이 2억원이 넘는 역대 최고가다.현재 포털사이트에 올라온 원베일리 한강변 84㎡ 매물의 최고 시세는 72억원에 달한다.반포동의 한 중개업소 대표는 \"아직 실거래가 신고가 되지 않아 실제 계약 여부는 확인할 수 없지만 70억원에 팔렸다는 말도 있고 1억원 낮은 69억원에 거래됐다는 설도 있다\"며 \"진짜 팔렸다면 한강 조망 아파트의 희소가치를 높게 본 것 같다...\n",
      "URL: https://n.news.naver.com/mnews/article/001/0015250942?sid=101\n",
      "\n",
      "[3] 월 3천만원 내는 초고가 월셋집 어디\n",
      "작성일: 2025-02-28 21:01:21\n",
      "요약: 일부 고소득층의 세테크 전략?서울 내 월세 1000만원을 넘는 초고가 월세 거래가 꾸준히 증가세다. 입지 좋은 인기 단지에서는 월 임대료만 수천만원짜리 거래도 이뤄지는 모습이다. 일부 고소득층을 중심으로 부동산 보유세(재산세+종합부동산세) 등의 세 부담을 줄이기 위해 전략적인 선택에 나서는 것으로 풀이된다.국토교통부 실거래가공개시스템에 따르면 지난해 서울에서 500만원 넘는 가격에 월세 거래를 체결한 건수는 총 1284건으로 집계됐다. 이 중 임대료가 월 1000만원 이상 초고가인 경우는 169건이다. 월 500만원 이상 고액 월세 거래가 가장 많았던 지역은 서초구(424건)다. 이어 강남구(408건), 용산구(204건), 성동구(91건), 송파구(49건), 마포구(23건)가 뒤를 이었다.또 올 들어 1월 1일~2월 19일(2월 20일 집계 기준) 약 한 달 반 동안 월 임대료 500만원 이상 임대차 거래는 총 85건에 달했다. 이 가운데 초고가 월세 계약으로 분류되는 월 임대료 1...\n",
      "URL: https://n.news.naver.com/mnews/article/024/0000095312?sid=101\n",
      "\n",
      "[4] 분양시장 주도하는 재개발·재건축…청약경쟁률 3배\n",
      "작성일: 2025-02-22 07:00:12\n",
      "요약: 작년 청약 경쟁률 상위 10곳 중 8곳, 정비사업 단지평균 경쟁률 28.75대 1로 일반 단지 7.98대 1 압도지난해 청약시장은 재건축·재개발 등 정비사업 아파트가 휩쓸었다.ⓒ뉴시스[데일리안 = 배수람 기자] 지난해 청약시장은 재건축·재개발 등 정비사업 아파트가 휩쓸었다. 업계는 이러한 정비사업 아파트의 인기를 똘똘한 한 채에 대한 선호도가 높아진 것으로 분석한다.정비사업 아파트는 대부분 주거 인프라가 잘 갖춰진 원도심에 위치해 입주 후 바로 편리한 생활이 가능한 데다 주변으로 주거 개선을 위한 개발이 이어져 미래가치가 높게 평가된다.22일 부동산R114 자료에 따르면 지난해 청약 경쟁률 상위 10곳 중 8곳이 정비사업 단지로 나타났다. 총 66곳 2만5383가구를 모집한 정비사업 아파트에는 72만9763건의 1순위 청약 통장이 몰려 평균 경쟁률이 28.75대 1에 달했다.반면 정비사업을 제외한 일반 아파트는 208곳, 9만7269가구를 모집해 77만5902건이 접수, 1순위 평균...\n",
      "URL: https://n.news.naver.com/mnews/article/119/0002926069?sid=101\n"
     ]
    }
   ],
   "source": [
    "if __name__ == \"__main__\":\n",
    "    # 아파트명 입력\n",
    "    apartment_name = \"래미안 원베일리\"\n",
    "    \n",
    "    # 1단계: 검색 URL 생성\n",
    "    search_url = generate_news_url(apartment_name)\n",
    "    print(f\"생성된 검색 URL: {search_url}\")\n",
    "    \n",
    "    # 2단계: 네이버 뉴스 기사 크롤링\n",
    "    news_data = crawl_naver_news(search_url)\n",
    "    \n",
    "    # 결과 출력\n",
    "    print(f\"\\n{apartment_name} 관련 청약 뉴스 {len(news_data)}건\")\n",
    "    for idx, article in enumerate(news_data, 1):\n",
    "        print(f\"\\n[{idx}] {article['title']}\")\n",
    "        print(f\"작성일: {article['date']}\")\n",
    "        print(f\"요약: {article['content']}\")\n",
    "        print(f\"URL: {article['url']}\")"
   ]
  },
  {
   "cell_type": "code",
   "execution_count": null,
   "metadata": {},
   "outputs": [],
   "source": []
  }
 ],
 "metadata": {
  "kernelspec": {
   "display_name": "Yeeun_Han",
   "language": "python",
   "name": "python3"
  },
  "language_info": {
   "codemirror_mode": {
    "name": "ipython",
    "version": 3
   },
   "file_extension": ".py",
   "mimetype": "text/x-python",
   "name": "python",
   "nbconvert_exporter": "python",
   "pygments_lexer": "ipython3",
   "version": "3.11.11"
  }
 },
 "nbformat": 4,
 "nbformat_minor": 2
}
