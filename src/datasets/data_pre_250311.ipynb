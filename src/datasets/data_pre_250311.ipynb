{
 "cells": [
  {
   "cell_type": "code",
   "execution_count": 2,
   "metadata": {},
   "outputs": [],
   "source": [
    "import pandas as pd\n",
    "import numpy as np\n",
    "\n",
    "from sklearn.impute import SimpleImputer\n",
    "from sklearn.preprocessing import LabelEncoder\n",
    "from sklearn.ensemble import RandomForestRegressor\n",
    "\n",
    "import joblib\n",
    "\n",
    "import re"
   ]
  },
  {
   "cell_type": "code",
   "execution_count": 12,
   "metadata": {},
   "outputs": [],
   "source": [
    "file_path = \"병합_청약매물_목록_정보.csv\"\n",
    "\n",
    "df = pd.read_csv(file_path, encoding='cp949')"
   ]
  },
  {
   "cell_type": "markdown",
   "metadata": {},
   "source": [
    "### 불필요 컬럼 제거"
   ]
  },
  {
   "cell_type": "code",
   "execution_count": 36,
   "metadata": {},
   "outputs": [],
   "source": [
    "def filter_unnecessary_columns(df):\n",
    "\n",
    "    # 민간주택만 필터링 (공공주택은 가점제 없음)\n",
    "    df = df[df['주택상세구분코드명'] != '국민']\n",
    "    \n",
    "    # 불필요 칼럼 확인\n",
    "    unnecessary_columns = []\n",
    "    \n",
    "    # Case 1) 칼럼 값이 하나라면 불필요 칼럼\n",
    "    for column in df.columns:\n",
    "        if len(df[column].unique()) == 1:\n",
    "            unnecessary_columns.append(column)\n",
    "    \n",
    "    # Case 2) 홈페이지 주소, 문의처 칼럼\n",
    "    for column in df.columns:\n",
    "        if column in ['홈페이지주소', '모집공고홈페이지주소', '문의처']:\n",
    "            unnecessary_columns.append(column)\n",
    "    \n",
    "    # Case 3) 특별공급 관련 칼럼\n",
    "    for column in df.columns:\n",
    "        if '특별공급' in column:\n",
    "            unnecessary_columns.append(column)\n",
    "    \n",
    "    # Case 4) 청약접수종료일을 제외한 나머지 일자 칼럼\n",
    "    for column in df.columns:\n",
    "        if column != '청약접수종료일':\n",
    "            if ('시작일' in column or '종료일' in column):\n",
    "                unnecessary_columns.append(column)\n",
    "    \n",
    "    # Case 5) 그 외 기타 칼럼\n",
    "    unnecessary_columns.extend([\"주택관리번호\", \"모델번호\", '주택관리번호', '공급위치우편번호', '모집공고일', '당첨자발표일', '입주예정월'])\n",
    "    \n",
    "    # 시공사랑 시행사는 불필요할것같아서 추가로 제거할게요\n",
    "    unnecessary_columns.extend(['건설업체명_시공사', '사업주체명_시행사'])\n",
    "    \n",
    "    # 중복된 칼럼 제거\n",
    "    unnecessary_columns = list(set(unnecessary_columns))\n",
    "    \n",
    "    # 불필요한 칼럼 삭제\n",
    "    df = df.drop(columns=unnecessary_columns)\n",
    "    \n",
    "    return df\n"
   ]
  },
  {
   "cell_type": "code",
   "execution_count": 37,
   "metadata": {},
   "outputs": [],
   "source": [
    "# 사용 예시\n",
    "# df = filter_unnecessary_columns(df)\n"
   ]
  },
  {
   "cell_type": "markdown",
   "metadata": {},
   "source": [
    "### 전처리"
   ]
  },
  {
   "cell_type": "code",
   "execution_count": 38,
   "metadata": {},
   "outputs": [],
   "source": [
    "def split_housing_type(df):\n",
    "    if '주택형' in df.columns:\n",
    "        # Extract the '전용면적' (before the '.') and remove leading zeros\n",
    "        df['전용면적'] = df['주택형'].apply(lambda x: int(x.split('.')[0].lstrip('0')))\n",
    "        \n",
    "        # Extract the '평면유형' (last character)\n",
    "        df['평면유형'] = df['주택형'].apply(lambda x: x[-1])\n",
    "        \n",
    "        # Drop the original '주택형' column\n",
    "        df = df.drop(columns=['주택형'])\n",
    "    \n",
    "    return df"
   ]
  },
  {
   "cell_type": "code",
   "execution_count": 39,
   "metadata": {},
   "outputs": [],
   "source": [
    "# 예시\n",
    "# df = split_housing_type(df)"
   ]
  },
  {
   "cell_type": "markdown",
   "metadata": {},
   "source": [
    "경쟁률 미달 처리"
   ]
  },
  {
   "cell_type": "code",
   "execution_count": 40,
   "metadata": {},
   "outputs": [],
   "source": [
    "def preprocessing_applicant_rate(df):\n",
    "\n",
    "    def process_rate(row):\n",
    "        # 미달인 경우 경쟁률 처리\n",
    "        if '△' in str(row['경쟁률']):\n",
    "            pattern = '[^0-9]'\n",
    "            shortage = int(re.sub(pattern, '', str(row['경쟁률'])))\n",
    "            \n",
    "            if row['접수건수'] == 0:\n",
    "                rate = 0\n",
    "            else:\n",
    "                rate = round((row['접수건수'] - shortage) / row['접수건수'], 2)\n",
    "        # 쉼표 제거 후 float으로 변환\n",
    "        else:\n",
    "            rate = float(str(row['경쟁률']).replace(',', ''))\n",
    "        \n",
    "        # 미달여부 판단\n",
    "        shortage_status = 'Y' if rate < 1 else 'N'\n",
    "        \n",
    "        return pd.Series({'경쟁률': rate, '미달여부': shortage_status})\n",
    "\n",
    "    df[['경쟁률', '미달여부']] = df.apply(process_rate, axis=1)\n",
    "    \n",
    "    return df\n"
   ]
  },
  {
   "cell_type": "code",
   "execution_count": 41,
   "metadata": {},
   "outputs": [],
   "source": [
    "# 사용예시\n",
    "# df = preprocessing_applicant_rate(df)"
   ]
  },
  {
   "cell_type": "markdown",
   "metadata": {},
   "source": [
    "경쟁률 NaN값 처리"
   ]
  },
  {
   "cell_type": "code",
   "execution_count": 42,
   "metadata": {},
   "outputs": [],
   "source": [
    "def fill_nan_with_zero(df):\n",
    "    df[\"경쟁률\"] = df[\"경쟁률\"].fillna(0)\n",
    "    return df"
   ]
  },
  {
   "cell_type": "code",
   "execution_count": 43,
   "metadata": {},
   "outputs": [],
   "source": [
    "# 예시\n",
    "# df = fill_nan_with_zero(df)"
   ]
  },
  {
   "cell_type": "markdown",
   "metadata": {},
   "source": [
    "공급금액 데이터 병합"
   ]
  },
  {
   "cell_type": "code",
   "execution_count": null,
   "metadata": {},
   "outputs": [
    {
     "name": "stdout",
     "output_type": "stream",
     "text": [
      "             공고번호        주택형  공급금액(최고가 기준)\n",
      "0      2024000706  075.9493A   664170000.0\n",
      "1      2024000706  075.9493A   664170000.0\n",
      "2      2024000706  075.9493A   664170000.0\n",
      "3      2024000706  075.9493A   664170000.0\n",
      "4      2024000706  075.9347B   591150000.0\n",
      "...           ...        ...           ...\n",
      "19625  2020000009   074.9100   456000000.0\n",
      "19626  2020000009   074.8900   456000000.0\n",
      "19627  2020000009   074.8900   456000000.0\n",
      "19628  2020000009   074.8900   456000000.0\n",
      "19629  2020000009   074.8900   456000000.0\n",
      "\n",
      "[19630 rows x 3 columns]\n",
      "0\n"
     ]
    }
   ],
   "source": [
    "def add_estate_price(df):\n",
    "    # 공급금액 데이터 불러오기\n",
    "    df_estate_price = pd.read_csv(\"청약매물_공급금액 (서울, 경기, 인천).csv\", encoding='cp949')\n",
    "    df_estate_price = df_estate_price[['공고번호', '주택형', '공급금액(최고가 기준)']]\n",
    "    \n",
    "    print(df_estate_price)\n",
    "\n",
    "    # 원본 데이터에 공급금액 칼럼 추가하기\n",
    "    df = pd.merge(df, df_estate_price, on=['공고번호', '주택형'], how='inner')\n",
    "\n",
    "    return df"
   ]
  },
  {
   "cell_type": "markdown",
   "metadata": {},
   "source": [
    "### 데이터 파이프 라인 준비"
   ]
  },
  {
   "cell_type": "markdown",
   "metadata": {},
   "source": [
    "1. 컬럼 전처리"
   ]
  },
  {
   "cell_type": "code",
   "execution_count": 44,
   "metadata": {},
   "outputs": [],
   "source": [
    "from sklearn.pipeline import Pipeline\n",
    "from sklearn.preprocessing import FunctionTransformer, StandardScaler\n",
    "\n",
    "# FunctionTransformer로 함수 변환\n",
    "filter_transformer = FunctionTransformer(filter_unnecessary_columns)\n",
    "split_transformer = FunctionTransformer(split_housing_type)\n",
    "rate_transformer = FunctionTransformer(preprocessing_applicant_rate)\n",
    "nan_transformer = FunctionTransformer(fill_nan_with_zero)\n",
    "\n",
    "# 파이프라인 구성\n",
    "preprocessing_pipeline = Pipeline([\n",
    "    (\"filter\", filter_transformer),\n",
    "    (\"split\", split_transformer),\n",
    "    (\"rate\", rate_transformer),\n",
    "    (\"nan\", nan_transformer)\n",
    "])\n"
   ]
  },
  {
   "cell_type": "code",
   "execution_count": 45,
   "metadata": {},
   "outputs": [],
   "source": [
    "df = preprocessing_pipeline.transform(df)\n"
   ]
  },
  {
   "cell_type": "code",
   "execution_count": null,
   "metadata": {},
   "outputs": [
    {
     "data": {
      "text/plain": [
       "공고번호                0\n",
       "주택명                 0\n",
       "공급지역코드              0\n",
       "공급지역명               0\n",
       "공급위치                0\n",
       "공급규모                0\n",
       "청약접수종료일             0\n",
       "투기과열지구              0\n",
       "조정대상지역              0\n",
       "분양가상한제              0\n",
       "정비사업                0\n",
       "공공주택지구              0\n",
       "대규모택지개발지구           0\n",
       "수도권내민영공공주택지구        0\n",
       "신청자 30대 이하          0\n",
       "신청자 40대             0\n",
       "신청자 50대             0\n",
       "신청자 60대 이상          0\n",
       "당첨자 30대 이하          0\n",
       "당첨자 40대             0\n",
       "당첨자 50대             0\n",
       "당첨자 60대 이상          0\n",
       "공급세대수               0\n",
       "순위                  0\n",
       "거주코드                0\n",
       "거주지역                0\n",
       "접수건수                0\n",
       "경쟁률                 0\n",
       "최저당첨가점          25902\n",
       "평균당첨가점          25902\n",
       "최고당첨가점          25902\n",
       "전용면적                0\n",
       "평면유형                0\n",
       "미달여부                0\n",
       "dtype: int64"
      ]
     },
     "execution_count": 48,
     "metadata": {},
     "output_type": "execute_result"
    }
   ],
   "source": [
    "df.isnull().sum()"
   ]
  },
  {
   "cell_type": "code",
   "execution_count": 49,
   "metadata": {},
   "outputs": [
    {
     "name": "stdout",
     "output_type": "stream",
     "text": [
      "<class 'pandas.core.frame.DataFrame'>\n",
      "Index: 36848 entries, 0 to 38317\n",
      "Data columns (total 34 columns):\n",
      " #   Column        Non-Null Count  Dtype  \n",
      "---  ------        --------------  -----  \n",
      " 0   공고번호          36848 non-null  int64  \n",
      " 1   주택명           36848 non-null  object \n",
      " 2   공급지역코드        36848 non-null  int64  \n",
      " 3   공급지역명         36848 non-null  object \n",
      " 4   공급위치          36848 non-null  object \n",
      " 5   공급규모          36848 non-null  int64  \n",
      " 6   청약접수종료일       36848 non-null  object \n",
      " 7   투기과열지구        36848 non-null  object \n",
      " 8   조정대상지역        36848 non-null  object \n",
      " 9   분양가상한제        36848 non-null  object \n",
      " 10  정비사업          36848 non-null  object \n",
      " 11  공공주택지구        36848 non-null  object \n",
      " 12  대규모택지개발지구     36848 non-null  object \n",
      " 13  수도권내민영공공주택지구  36848 non-null  object \n",
      " 14  신청자 30대 이하    36848 non-null  int64  \n",
      " 15  신청자 40대       36848 non-null  int64  \n",
      " 16  신청자 50대       36848 non-null  int64  \n",
      " 17  신청자 60대 이상    36848 non-null  int64  \n",
      " 18  당첨자 30대 이하    36848 non-null  int64  \n",
      " 19  당첨자 40대       36848 non-null  int64  \n",
      " 20  당첨자 50대       36848 non-null  int64  \n",
      " 21  당첨자 60대 이상    36848 non-null  int64  \n",
      " 22  공급세대수         36848 non-null  int64  \n",
      " 23  순위            36848 non-null  int64  \n",
      " 24  거주코드          36848 non-null  int64  \n",
      " 25  거주지역          36848 non-null  object \n",
      " 26  접수건수          36848 non-null  int64  \n",
      " 27  경쟁률           36848 non-null  float64\n",
      " 28  최저당첨가점        10946 non-null  float64\n",
      " 29  평균당첨가점        10946 non-null  float64\n",
      " 30  최고당첨가점        10946 non-null  float64\n",
      " 31  전용면적          36848 non-null  int64  \n",
      " 32  평면유형          36848 non-null  object \n",
      " 33  미달여부          36848 non-null  object \n",
      "dtypes: float64(4), int64(16), object(14)\n",
      "memory usage: 9.8+ MB\n"
     ]
    }
   ],
   "source": [
    "df.info()"
   ]
  },
  {
   "cell_type": "code",
   "execution_count": 50,
   "metadata": {},
   "outputs": [],
   "source": [
    "df.to_csv('train-0311.csv', index=False, encoding='cp949')"
   ]
  },
  {
   "cell_type": "code",
   "execution_count": null,
   "metadata": {},
   "outputs": [],
   "source": []
  }
 ],
 "metadata": {
  "kernelspec": {
   "display_name": "venv",
   "language": "python",
   "name": "python3"
  },
  "language_info": {
   "codemirror_mode": {
    "name": "ipython",
    "version": 3
   },
   "file_extension": ".py",
   "mimetype": "text/x-python",
   "name": "python",
   "nbconvert_exporter": "python",
   "pygments_lexer": "ipython3",
   "version": "3.11.11"
  }
 },
 "nbformat": 4,
 "nbformat_minor": 2
}
