{
 "cells": [
  {
   "cell_type": "code",
   "execution_count": null,
   "metadata": {},
   "outputs": [],
   "source": [
    "import pandas as pd\n",
    "import re\n",
    "import requests\n",
    "import os\n",
    "\n",
    "from dotenv import load_dotenv\n",
    "\n",
    "#.env 파일 로드\n",
    "load_dotenv()\n",
    "kakao_api_key = os.getenv(\"kakao_api_key\")\n"
   ]
  },
  {
   "cell_type": "markdown",
   "metadata": {},
   "source": [
    "### 위도, 경도, 행정구역 컬럼 추가"
   ]
  },
  {
   "cell_type": "code",
   "execution_count": 6,
   "metadata": {},
   "outputs": [],
   "source": [
    "def pre_col_gen(df):\n",
    "    # 중복된 '공고번호' 제거 (첫 번째 항목만 남김)\n",
    "    df_copy = df.reset_index(drop=True).drop_duplicates(subset=\"공고번호\", keep='first', ignore_index=True)\n",
    "    \n",
    "    # '정제_공급위치' 열 생성 후 간단한 전처리\n",
    "    df_copy[\"정제_공급위치\"] = df_copy[\"공급위치\"].apply(lambda address: re.sub(r'\\([^)]*\\)', '', address).replace('블록', '').replace('일원', '').replace('공동', '').replace('일반', '').replace('  ', ' ').strip())\n",
    "    \n",
    "    # 필요한 열만 선택\n",
    "    df_copy = df_copy[[\"공고번호\", \"정제_공급위치\"]]\n",
    "    \n",
    "    return df_copy\n",
    "\n",
    "def process_address_data(df):\n",
    "    # 카카오맵 API 사용해서 위도 경도 추출\n",
    "    kakao_api_url = \"https://dapi.kakao.com/v2/local/search/address.json\"\n",
    "    headers = {\"Authorization\": f\"KakaoAK {kakao_api_key}\"}\n",
    "\n",
    "    def get_lat_lon_kakao(address):\n",
    "        try:\n",
    "            response = requests.get(kakao_api_url, headers=headers, params={\"query\": address})\n",
    "            if response.status_code == 200:\n",
    "                result = response.json()\n",
    "                if result['documents']:\n",
    "                    lat = result['documents'][0]['y']\n",
    "                    lon = result['documents'][0]['x']\n",
    "                    return lat, lon\n",
    "            return None, None\n",
    "        except Exception as e:\n",
    "            print(f\"Error fetching data for address {address}: {e}\")\n",
    "            return None, None\n",
    "\n",
    "    df['위도'], df['경도'] = zip(*df['정제_공급위치'].apply(lambda x: get_lat_lon_kakao(x)))\n",
    "\n",
    "    return df\n",
    "\n",
    "def process_address(df):\n",
    "    \n",
    "    def split_and_update_address(address):\n",
    "        parts = address.split(' ')\n",
    "        \n",
    "        if len(parts) >= 3:\n",
    "            sido = parts[0]\n",
    "            sigungu = parts[1]\n",
    "            eupmyeondong = parts[2]\n",
    "            updated_address = f\"{sido} {sigungu} {eupmyeondong}\"\n",
    "            return sido, sigungu, eupmyeondong, updated_address\n",
    "        else:\n",
    "            return None, None, None, address\n",
    "    \n",
    "    # 주소 분리 및 업데이트\n",
    "    df[['시도', '시군구', '읍면동', '정제_공급위치_업데이트']] = df['정제_공급위치'].apply(lambda x: pd.Series(split_and_update_address(x)))\n",
    "    \n",
    "    # 기존 정제_공급위치 열을 업데이트함\n",
    "    df['정제_공급위치'] = df['정제_공급위치_업데이트']\n",
    "    \n",
    "    # 불필요한 열 제거\n",
    "    df = df.drop(columns=['정제_공급위치_업데이트'])\n",
    "    \n",
    "    return df\n",
    "\n",
    "\n",
    "def lat_lon_pipeline(df):\n",
    "    df_copy = pre_col_gen(df)\n",
    "\n",
    "    # Kakao API로 위도와 경도 가져오기\n",
    "    df_copy = process_address_data(df_copy)\n",
    "    \n",
    "    # 주소 분리 및 업데이트 \n",
    "    df_copy = process_address(df_copy)\n",
    "\n",
    "    # 위도와 경도가 None인 행만 선택하여 다시 처리\n",
    "    df_none = df_copy[(df_copy['위도'].isnull()) & (df_copy['경도'].isnull())].copy()\n",
    "    \n",
    "    if not df_none.empty:\n",
    "        df_none_processed = process_address_data(df_none)\n",
    "        df_copy.loc[df_none.index, ['위도', '경도']] = df_none_processed[['위도', '경도']]\n",
    "    \n",
    "    df_copy.drop(\"정제_공급위치\", axis=1, inplace=True)\n",
    "    \n",
    "    return df_copy\n"
   ]
  },
  {
   "cell_type": "code",
   "execution_count": null,
   "metadata": {},
   "outputs": [],
   "source": [
    "df = pd.read_csv(\"train-250314-test.csv\", encoding='cp949')\n",
    "df_copy = lat_lon_pipeline(df)\n",
    "df_merged = pd.merge(df, df_copy, on='공고번호', how='left')"
   ]
  },
  {
   "cell_type": "code",
   "execution_count": 11,
   "metadata": {},
   "outputs": [],
   "source": [
    "df_merged.to_csv('병합_청약매물_목록_정보 (서울, 경기, 인천).csv', index=False, encoding='cp949')"
   ]
  },
  {
   "cell_type": "code",
   "execution_count": 10,
   "metadata": {},
   "outputs": [
    {
     "name": "stdout",
     "output_type": "stream",
     "text": [
      "<class 'pandas.core.frame.DataFrame'>\n",
      "RangeIndex: 18860 entries, 0 to 18859\n",
      "Data columns (total 41 columns):\n",
      " #   Column        Non-Null Count  Dtype  \n",
      "---  ------        --------------  -----  \n",
      " 0   공고번호          18860 non-null  int64  \n",
      " 1   주택명           18860 non-null  object \n",
      " 2   공급지역코드        18860 non-null  int64  \n",
      " 3   공급지역명         18860 non-null  object \n",
      " 4   공급위치우편번호      18860 non-null  int64  \n",
      " 5   공급위치          18860 non-null  object \n",
      " 6   공급규모          18860 non-null  int64  \n",
      " 7   청약접수종료일       18860 non-null  object \n",
      " 8   투기과열지구        18860 non-null  object \n",
      " 9   조정대상지역        18860 non-null  object \n",
      " 10  분양가상한제        18860 non-null  object \n",
      " 11  정비사업          18860 non-null  object \n",
      " 12  공공주택지구        18860 non-null  object \n",
      " 13  대규모택지개발지구     18860 non-null  object \n",
      " 14  수도권내민영공공주택지구  18860 non-null  object \n",
      " 15  신청자 30대 이하    18860 non-null  int64  \n",
      " 16  신청자 40대       18860 non-null  int64  \n",
      " 17  신청자 50대       18860 non-null  int64  \n",
      " 18  신청자 60대 이상    18860 non-null  int64  \n",
      " 19  당첨자 30대 이하    18860 non-null  int64  \n",
      " 20  당첨자 40대       18860 non-null  int64  \n",
      " 21  당첨자 50대       18860 non-null  int64  \n",
      " 22  당첨자 60대 이상    18860 non-null  int64  \n",
      " 23  주택형           18860 non-null  object \n",
      " 24  공급세대수         18860 non-null  int64  \n",
      " 25  순위            18860 non-null  int64  \n",
      " 26  거주코드          18860 non-null  int64  \n",
      " 27  거주지역          18860 non-null  object \n",
      " 28  접수건수          18860 non-null  int64  \n",
      " 29  경쟁률           18860 non-null  float64\n",
      " 30  최저당첨가점        6896 non-null   float64\n",
      " 31  평균당첨가점        6896 non-null   float64\n",
      " 32  최고당첨가점        6896 non-null   float64\n",
      " 33  전용면적          18860 non-null  int64  \n",
      " 34  평면유형          18860 non-null  object \n",
      " 35  미달여부          18860 non-null  object \n",
      " 36  위도            17410 non-null  object \n",
      " 37  경도            17410 non-null  object \n",
      " 38  시도            18820 non-null  object \n",
      " 39  시군구           18820 non-null  object \n",
      " 40  읍면동           18820 non-null  object \n",
      "dtypes: float64(4), int64(17), object(20)\n",
      "memory usage: 5.9+ MB\n"
     ]
    }
   ],
   "source": [
    "df_merged.info()"
   ]
  },
  {
   "cell_type": "code",
   "execution_count": null,
   "metadata": {},
   "outputs": [],
   "source": []
  }
 ],
 "metadata": {
  "kernelspec": {
   "display_name": "base",
   "language": "python",
   "name": "python3"
  },
  "language_info": {
   "codemirror_mode": {
    "name": "ipython",
    "version": 3
   },
   "file_extension": ".py",
   "mimetype": "text/x-python",
   "name": "python",
   "nbconvert_exporter": "python",
   "pygments_lexer": "ipython3",
   "version": "3.12.7"
  }
 },
 "nbformat": 4,
 "nbformat_minor": 2
}
