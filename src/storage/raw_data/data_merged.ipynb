{
 "cells": [
  {
   "cell_type": "markdown",
   "metadata": {},
   "source": [
    "### 전체 데이터 불러오기"
   ]
  },
  {
   "cell_type": "code",
   "execution_count": null,
   "metadata": {},
   "outputs": [],
   "source": [
    "import pandas as pd\n",
    "import numpy as np"
   ]
  },
  {
   "cell_type": "code",
   "execution_count": null,
   "metadata": {},
   "outputs": [],
   "source": [
    "# 청약매물 목록 정보\n",
    "df_estate_list = pd.read_csv('../datasets/한국부동산원_청약홈_APT 분양정보_20250225.csv', encoding='cp949')\n",
    "\n",
    "# 청약 신청자, 당첨자 정보\n",
    "df_applicant_list = pd.read_csv('../datasets/한국부동산원_지역별 청약 신청자 정보_20250131.csv', encoding='cp949')\n",
    "df_winner_list = pd.read_csv('../datasets/한국부동산원_지역별 청약 당첨자 정보_20250131.csv', encoding='cp949')\n",
    "\n",
    "# 청약 당첨가점, 경쟁률 정보\n",
    "df_estate_winner_score_list = pd.read_csv('../datasets/한국부동산원_청약홈_APT 가점정보_20250225.csv', encoding='cp949')\n",
    "df_estate_competitition_rate_list = pd.read_csv('../datasets/한국부동산원_청약홈_APT 경쟁률_20250225.csv', encoding='cp949')"
   ]
  },
  {
   "cell_type": "markdown",
   "metadata": {},
   "source": [
    "### 병합 1) 청약 매물 목록 정보 + 신청자, 당첨자 정보"
   ]
  },
  {
   "cell_type": "code",
   "execution_count": null,
   "metadata": {},
   "outputs": [],
   "source": [
    "# 청약매물 목록 정보에서 청약접수시작월, 당첨자발표월 컬럼 추가\n",
    "\n",
    "df_estate_list['청약접수시작월'] = pd.to_datetime(df_estate_list['청약접수시작일'], format='%Y-%m-%d').dt.strftime('%Y-%m')\n",
    "df_estate_list['당첨자발표월'] = pd.to_datetime(df_estate_list['당첨자발표일'], format='%Y-%m-%d').dt.strftime('%Y-%m')\n",
    "df_estate_list[['공급지역명', '청약접수시작월', '당첨자발표월']].head()"
   ]
  },
  {
   "cell_type": "code",
   "execution_count": null,
   "metadata": {},
   "outputs": [],
   "source": [
    "# 청약 신청자 정보 확인\n",
    "\n",
    "df_applicant_list.head()"
   ]
  },
  {
   "cell_type": "code",
   "execution_count": null,
   "metadata": {},
   "outputs": [],
   "source": [
    "# 청약 신청자 정보 칼럼 가공\n",
    "\n",
    "df_applicant_list['연월'] = pd.to_datetime(df_applicant_list['연월']).dt.strftime('%Y-%m')\n",
    "\n",
    "# 신청자 접두사 추가\n",
    "df_applicant_list = df_applicant_list.rename(columns={\n",
    "    '30대 이하': '신청자 30대 이하',\n",
    "    '40대': '신청자 40대',\n",
    "    '50대': '신청자 50대',\n",
    "    '60대 이상': '신청자 60대 이상'\n",
    "})\n",
    "\n",
    "df_applicant_list.head()"
   ]
  },
  {
   "cell_type": "code",
   "execution_count": null,
   "metadata": {},
   "outputs": [],
   "source": [
    "# 청약 목록 데이터프레임에 연월과 시도에 따라 신청자 데이터 병합\n",
    "\n",
    "df_estate_list = pd.merge(\n",
    "    df_estate_list, \n",
    "    df_applicant_list,\n",
    "    left_on=['공급지역명', '청약접수시작월'], \n",
    "    right_on=['시도', '연월'],\n",
    "    how='inner',\n",
    ")\n",
    "\n",
    "df_estate_list.drop(columns=['청약접수시작월','연월', '시도'], inplace=True)\n",
    "\n",
    "df_estate_list.head()"
   ]
  },
  {
   "cell_type": "code",
   "execution_count": null,
   "metadata": {},
   "outputs": [],
   "source": [
    "# 청약 당첨자 정보 확인\n",
    "\n",
    "df_winner_list.head()"
   ]
  },
  {
   "cell_type": "code",
   "execution_count": null,
   "metadata": {},
   "outputs": [],
   "source": [
    "# 청약 당첨자 정보 칼럼 가공\n",
    "\n",
    "df_winner_list['연월'] = pd.to_datetime(df_winner_list['연월']).dt.strftime('%Y-%m')\n",
    "\n",
    "#  당첨자 접두사 추가\n",
    "df_winner_list = df_winner_list.rename(columns={\n",
    "    '30대 이하': '당첨자 30대 이하',\n",
    "    '40대': '당첨자 40대',\n",
    "    '50대': '당첨자 50대',\n",
    "    '60대 이상': '당첨자 60대 이상'\n",
    "})\n",
    "\n",
    "df_winner_list.head()"
   ]
  },
  {
   "cell_type": "code",
   "execution_count": null,
   "metadata": {},
   "outputs": [],
   "source": [
    "# 청약 목록 데이터프레임에 연월과 시도에 따라 당첨자 데이터 병합\n",
    "\n",
    "df_estate_list = pd.merge(\n",
    "    df_estate_list, \n",
    "    df_winner_list,\n",
    "    left_on=['공급지역명', '당첨자발표월'], \n",
    "    right_on=['시도', '연월'],\n",
    "    how='inner',\n",
    ")\n",
    "\n",
    "df_estate_list.drop(columns=['당첨자발표월','연월', '시도'], inplace=True)\n",
    "\n",
    "df_estate_list.head()"
   ]
  },
  {
   "cell_type": "markdown",
   "metadata": {},
   "source": [
    "### 병합 2) 청약 매물 목록 정보 + 당첨가점, 경쟁률 정보"
   ]
  },
  {
   "cell_type": "code",
   "execution_count": null,
   "metadata": {},
   "outputs": [],
   "source": [
    "# 당첨가점 데이터 확인\n",
    "\n",
    "df_estate_winner_score_list"
   ]
  },
  {
   "cell_type": "code",
   "execution_count": null,
   "metadata": {},
   "outputs": [],
   "source": [
    "# 경쟁률 데이터 확인\n",
    "\n",
    "df_estate_competitition_rate_list"
   ]
  },
  {
   "cell_type": "code",
   "execution_count": null,
   "metadata": {},
   "outputs": [],
   "source": [
    "# 경쟁률 데이터에 당첨가점 데이터 병합\n",
    "\n",
    "def apply_score(row, score_column):\n",
    "    rank = row['순위']\n",
    "\n",
    "    # 2순위 인 경우 nan값으로 채운다\n",
    "    if rank == 2:\n",
    "        return np.nan\n",
    "\n",
    "    # 조건에 맞는 데이터 필터링\n",
    "    matched_rows = df_estate_winner_score_list[\n",
    "        (df_estate_winner_score_list['공고번호'] == row['공고번호']) &\n",
    "        (df_estate_winner_score_list['모델번호'] == row['모델번호']) &\n",
    "        (df_estate_winner_score_list['주택형'] == row['주택형'])\n",
    "    ]\n",
    "\n",
    "    # 조건에 맞는 행이 없을 경우 nan값으로 채운다\n",
    "    if matched_rows.empty:\n",
    "        return np.nan \n",
    "\n",
    "    # 존재하면 첫번째 행의 값 리턴\n",
    "    return matched_rows.iloc[0][score_column]\n",
    "\n",
    "score_column_list = ['최저당첨가점', '평균당첨가점', '최고당첨가점']\n",
    "\n",
    "for score_column in score_column_list:\n",
    "    df_estate_competitition_rate_list[score_column] = df_estate_competitition_rate_list.apply(apply_score, args=(score_column,),  axis=1)\n",
    "\n",
    "df_estate_competitition_rate_list"
   ]
  },
  {
   "cell_type": "code",
   "execution_count": null,
   "metadata": {},
   "outputs": [],
   "source": [
    "# 청약 매물 목록 데이터에 청약 매물 항목별 경쟁률, 당첨가점 병합\n",
    "\n",
    "df_estate_list= pd.merge(\n",
    "    df_estate_list, \n",
    "    df_estate_competitition_rate_list, \n",
    "    on=['주택관리번호', '공고번호'], \n",
    "    how='inner'\n",
    ").reset_index(drop=True)\n",
    "\n",
    "df_estate_list"
   ]
  },
  {
   "cell_type": "markdown",
   "metadata": {},
   "source": [
    "### 3) 병합 데이터 저장"
   ]
  },
  {
   "cell_type": "code",
   "execution_count": null,
   "metadata": {},
   "outputs": [],
   "source": [
    "df_estate_list.to_csv('병합_청약매물_목록_정보.csv', index=False, encoding='cp949')"
   ]
  },
  {
   "cell_type": "code",
   "execution_count": null,
   "metadata": {},
   "outputs": [],
   "source": [
    "df_estate_list_merged = pd.read_csv('병합_청약매물_목록_정보.csv', encoding='cp949')\n",
    "df_estate_list_merged = df_estate_list_merged[df_estate_list_merged['공급지역명'].isin(['서울', '경기', '인천'])].reset_index(drop=True)\n",
    "df_estate_list_merged"
   ]
  },
  {
   "cell_type": "markdown",
   "metadata": {},
   "source": [
    "### 4) 공급금액 크롤링 후 추가"
   ]
  },
  {
   "cell_type": "code",
   "execution_count": null,
   "metadata": {},
   "outputs": [],
   "source": [
    "import requests\n",
    "from bs4 import BeautifulSoup\n",
    "import time"
   ]
  },
  {
   "cell_type": "code",
   "execution_count": null,
   "metadata": {},
   "outputs": [],
   "source": [
    "# 청약 매물 공급금액 정보 가져오기\n",
    "\n",
    "def get_estate_price(estate_id):\n",
    "    query = f'houseManageNo={estate_id}&pblancNo={estate_id}'\n",
    "    URL = f'https://www.applyhome.co.kr/ai/aia/selectAPTLttotPblancDetail.do?{query}'\n",
    "\n",
    "    headers = {\n",
    "        'User-Agent': 'Mozilla/5.0 (Windows NT 10.0; Win64; x64) AppleWebKit/537.36 (KHTML, like Gecko) Chrome/58.0.3029.110 Safari/537.3'\n",
    "    }\n",
    "\n",
    "    response = requests.get(URL, headers=headers)\n",
    "    response.content\n",
    "\n",
    "    # BeautifulSoup으로 HTML 파싱\n",
    "    soup = BeautifulSoup(response.content, 'lxml')\n",
    "\n",
    "    # 공급금액 존재하는 테이블 찾기\n",
    "    table = soup.findAll('table')[-2]\n",
    "\n",
    "    # DataFrame 생성\n",
    "    df = pd.read_html(str(table), converters={0:str, 1:str, 2:str})[0] # converters: 각 컬럼의 데이터를 문자열로 변환\n",
    "\n",
    "    return df\n",
    "\n",
    "df_estate_price = get_estate_price(2020000009)\n",
    "df_estate_price"
   ]
  },
  {
   "cell_type": "code",
   "execution_count": null,
   "metadata": {},
   "outputs": [],
   "source": [
    "# 청약 매물 목록 데이터에 공급금액(최고가 기준) 컬럼 추가\n",
    "\n",
    "# 청약 매물 목록 id 가져오기\n",
    "estate_ids = df_estate_list_merged['공고번호'].unique().tolist()\n",
    "estate_ids\n",
    "\n",
    "# 빈 문자열 존재하여 제거\n",
    "df_estate_list_merged['주택형'] = df_estate_list_merged['주택형'].str.strip()\n",
    "\n",
    "for estate_id in estate_ids:\n",
    "    try:\n",
    "        # 청약 매물 공급금액 정보 가져오기\n",
    "        df_estate_price = get_estate_price(estate_id)\n",
    "\n",
    "        # 청약 매물 목록 데이터에 공급금액(최고가 기준) 컬럼 추가\n",
    "        for index in range(len(df_estate_price)):\n",
    "            estate_type = str(df_estate_price.loc[index, '주택형']).strip()\n",
    "            estate_price = float(df_estate_price.loc[index, '공급금액(최고가 기준)']) * 10000\n",
    "\n",
    "            mask = (df_estate_list_merged['공고번호'] == estate_id) & (df_estate_list_merged['주택형'] == estate_type)\n",
    "            df_estate_list_merged.loc[mask, '공급금액(최고가 기준)'] = estate_price\n",
    "    except:\n",
    "        print(f'{estate_id} 데이터를 가져오는데 실패했습니다.')\n",
    "\n",
    "df_estate_list_merged"
   ]
  },
  {
   "cell_type": "code",
   "execution_count": null,
   "metadata": {},
   "outputs": [],
   "source": [
    "df_estate_list_merged['공급금액(최고가 기준)'].isna().sum()"
   ]
  },
  {
   "cell_type": "code",
   "execution_count": null,
   "metadata": {},
   "outputs": [],
   "source": [
    "df_estate_list_merged.columns"
   ]
  },
  {
   "cell_type": "code",
   "execution_count": null,
   "metadata": {},
   "outputs": [],
   "source": [
    "df_estate_list_merged.to_csv('청약매물_공급금액 (서울, 경기, 인천).csv', index=False, encoding='cp949')"
   ]
  }
 ],
 "metadata": {
  "kernelspec": {
   "display_name": "venv",
   "language": "python",
   "name": "python3"
  },
  "language_info": {
   "codemirror_mode": {
    "name": "ipython",
    "version": 3
   },
   "file_extension": ".py",
   "mimetype": "text/x-python",
   "name": "python",
   "nbconvert_exporter": "python",
   "pygments_lexer": "ipython3",
   "version": "3.11.11"
  }
 },
 "nbformat": 4,
 "nbformat_minor": 2
}
